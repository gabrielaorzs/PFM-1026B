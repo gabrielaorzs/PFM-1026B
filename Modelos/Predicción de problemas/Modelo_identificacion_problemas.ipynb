{
 "cells": [
  {
   "cell_type": "markdown",
   "id": "55d19dd9",
   "metadata": {},
   "source": [
    "Hipótesis principal: Los comentarios de los clientes contienen suficiente información textual que puede ser utilizada para predecir de manera precisa las categorías de satisfacción o problemas específicos, como la calidad de las instalaciones, el servicio al cliente, etc."
   ]
  },
  {
   "cell_type": "code",
   "execution_count": null,
   "id": "bc77c5e8",
   "metadata": {},
   "outputs": [],
   "source": []
  },
  {
   "cell_type": "code",
   "execution_count": 105,
   "id": "57c0659f",
   "metadata": {},
   "outputs": [
    {
     "data": {
      "text/html": [
       "<div>\n",
       "<style scoped>\n",
       "    .dataframe tbody tr th:only-of-type {\n",
       "        vertical-align: middle;\n",
       "    }\n",
       "\n",
       "    .dataframe tbody tr th {\n",
       "        vertical-align: top;\n",
       "    }\n",
       "\n",
       "    .dataframe thead th {\n",
       "        text-align: right;\n",
       "    }\n",
       "</style>\n",
       "<table border=\"1\" class=\"dataframe\">\n",
       "  <thead>\n",
       "    <tr style=\"text-align: right;\">\n",
       "      <th></th>\n",
       "      <th>Unnamed: 0.1</th>\n",
       "      <th>Unnamed: 0</th>\n",
       "      <th>Translated_Review</th>\n",
       "      <th>Rating</th>\n",
       "      <th>Sentimiento</th>\n",
       "      <th>Sentimiento_VADER</th>\n",
       "      <th>SENTIMIENTO_CALCULADO</th>\n",
       "    </tr>\n",
       "  </thead>\n",
       "  <tbody>\n",
       "    <tr>\n",
       "      <th>0</th>\n",
       "      <td>0</td>\n",
       "      <td>0</td>\n",
       "      <td>bonito hotel, aparcamiento caro, consiguió una...</td>\n",
       "      <td>4</td>\n",
       "      <td>POSITIVO</td>\n",
       "      <td>NEGATIVO</td>\n",
       "      <td>POSITIVO</td>\n",
       "    </tr>\n",
       "    <tr>\n",
       "      <th>1</th>\n",
       "      <td>1</td>\n",
       "      <td>1</td>\n",
       "      <td>ok, nada de cargo especial, miembro diamante h...</td>\n",
       "      <td>2</td>\n",
       "      <td>POSITIVO</td>\n",
       "      <td>NEGATIVO</td>\n",
       "      <td>NEUTRAL</td>\n",
       "    </tr>\n",
       "    <tr>\n",
       "      <th>2</th>\n",
       "      <td>2</td>\n",
       "      <td>2</td>\n",
       "      <td>Bonitas habitaciones, no un hotel de 4* con ex...</td>\n",
       "      <td>3</td>\n",
       "      <td>NEGATIVO</td>\n",
       "      <td>NEGATIVO</td>\n",
       "      <td>NEGATIVO</td>\n",
       "    </tr>\n",
       "    <tr>\n",
       "      <th>3</th>\n",
       "      <td>3</td>\n",
       "      <td>3</td>\n",
       "      <td>Único, estancia estupenda, tiempo maravilloso ...</td>\n",
       "      <td>5</td>\n",
       "      <td>NEUTRAL</td>\n",
       "      <td>NEGATIVO</td>\n",
       "      <td>POSITIVO</td>\n",
       "    </tr>\n",
       "    <tr>\n",
       "      <th>4</th>\n",
       "      <td>4</td>\n",
       "      <td>4</td>\n",
       "      <td>estancia estupenda estancia estupenda, fue inc...</td>\n",
       "      <td>5</td>\n",
       "      <td>NEUTRAL</td>\n",
       "      <td>NEGATIVO</td>\n",
       "      <td>POSITIVO</td>\n",
       "    </tr>\n",
       "    <tr>\n",
       "      <th>...</th>\n",
       "      <td>...</td>\n",
       "      <td>...</td>\n",
       "      <td>...</td>\n",
       "      <td>...</td>\n",
       "      <td>...</td>\n",
       "      <td>...</td>\n",
       "      <td>...</td>\n",
       "    </tr>\n",
       "    <tr>\n",
       "      <th>13127</th>\n",
       "      <td>13127</td>\n",
       "      <td>13127</td>\n",
       "      <td>Los viajeros caribeños más agradables y experi...</td>\n",
       "      <td>5</td>\n",
       "      <td>POSITIVO</td>\n",
       "      <td>NEGATIVO</td>\n",
       "      <td>POSITIVO</td>\n",
       "    </tr>\n",
       "    <tr>\n",
       "      <th>13128</th>\n",
       "      <td>13128</td>\n",
       "      <td>13128</td>\n",
       "      <td>maravilloso club de vacaciones diamante bahia ...</td>\n",
       "      <td>5</td>\n",
       "      <td>POSITIVO</td>\n",
       "      <td>NEGATIVO</td>\n",
       "      <td>POSITIVO</td>\n",
       "    </tr>\n",
       "    <tr>\n",
       "      <th>13129</th>\n",
       "      <td>13129</td>\n",
       "      <td>13129</td>\n",
       "      <td>No me molesté en quedarme en la puerta, me que...</td>\n",
       "      <td>1</td>\n",
       "      <td>NEGATIVO</td>\n",
       "      <td>NEGATIVO</td>\n",
       "      <td>NEGATIVO</td>\n",
       "    </tr>\n",
       "    <tr>\n",
       "      <th>13130</th>\n",
       "      <td>13130</td>\n",
       "      <td>13130</td>\n",
       "      <td>escribió el encabezado, breve. comida repugnan...</td>\n",
       "      <td>1</td>\n",
       "      <td>NEUTRAL</td>\n",
       "      <td>NEUTRAL</td>\n",
       "      <td>NEGATIVO</td>\n",
       "    </tr>\n",
       "    <tr>\n",
       "      <th>13131</th>\n",
       "      <td>13131</td>\n",
       "      <td>13131</td>\n",
       "      <td>excelente piscina, clima increíble, estadía fa...</td>\n",
       "      <td>3</td>\n",
       "      <td>POSITIVO</td>\n",
       "      <td>POSITIVO</td>\n",
       "      <td>POSITIVO</td>\n",
       "    </tr>\n",
       "  </tbody>\n",
       "</table>\n",
       "<p>13132 rows × 7 columns</p>\n",
       "</div>"
      ],
      "text/plain": [
       "       Unnamed: 0.1  Unnamed: 0   \n",
       "0                 0           0  \\\n",
       "1                 1           1   \n",
       "2                 2           2   \n",
       "3                 3           3   \n",
       "4                 4           4   \n",
       "...             ...         ...   \n",
       "13127         13127       13127   \n",
       "13128         13128       13128   \n",
       "13129         13129       13129   \n",
       "13130         13130       13130   \n",
       "13131         13131       13131   \n",
       "\n",
       "                                       Translated_Review  Rating Sentimiento   \n",
       "0      bonito hotel, aparcamiento caro, consiguió una...       4    POSITIVO  \\\n",
       "1      ok, nada de cargo especial, miembro diamante h...       2    POSITIVO   \n",
       "2      Bonitas habitaciones, no un hotel de 4* con ex...       3    NEGATIVO   \n",
       "3      Único, estancia estupenda, tiempo maravilloso ...       5     NEUTRAL   \n",
       "4      estancia estupenda estancia estupenda, fue inc...       5     NEUTRAL   \n",
       "...                                                  ...     ...         ...   \n",
       "13127  Los viajeros caribeños más agradables y experi...       5    POSITIVO   \n",
       "13128  maravilloso club de vacaciones diamante bahia ...       5    POSITIVO   \n",
       "13129  No me molesté en quedarme en la puerta, me que...       1    NEGATIVO   \n",
       "13130  escribió el encabezado, breve. comida repugnan...       1     NEUTRAL   \n",
       "13131  excelente piscina, clima increíble, estadía fa...       3    POSITIVO   \n",
       "\n",
       "      Sentimiento_VADER SENTIMIENTO_CALCULADO  \n",
       "0              NEGATIVO              POSITIVO  \n",
       "1              NEGATIVO               NEUTRAL  \n",
       "2              NEGATIVO              NEGATIVO  \n",
       "3              NEGATIVO              POSITIVO  \n",
       "4              NEGATIVO              POSITIVO  \n",
       "...                 ...                   ...  \n",
       "13127          NEGATIVO              POSITIVO  \n",
       "13128          NEGATIVO              POSITIVO  \n",
       "13129          NEGATIVO              NEGATIVO  \n",
       "13130           NEUTRAL              NEGATIVO  \n",
       "13131          POSITIVO              POSITIVO  \n",
       "\n",
       "[13132 rows x 7 columns]"
      ]
     },
     "execution_count": 105,
     "metadata": {},
     "output_type": "execute_result"
    }
   ],
   "source": [
    "#Etiquetar los comentarios\n",
    "\n",
    "import pandas as pd\n",
    "\n",
    "df_sentimientos_hotel=pd.read_csv('.\\CHATBOT\\hotel_sentimientos_general.csv')\n",
    "df_sentimientos_hotel"
   ]
  },
  {
   "cell_type": "code",
   "execution_count": null,
   "id": "b15201ee",
   "metadata": {},
   "outputs": [],
   "source": []
  },
  {
   "cell_type": "code",
   "execution_count": 7,
   "id": "150de619",
   "metadata": {},
   "outputs": [
    {
     "data": {
      "text/html": [
       "<div>\n",
       "<style scoped>\n",
       "    .dataframe tbody tr th:only-of-type {\n",
       "        vertical-align: middle;\n",
       "    }\n",
       "\n",
       "    .dataframe tbody tr th {\n",
       "        vertical-align: top;\n",
       "    }\n",
       "\n",
       "    .dataframe thead th {\n",
       "        text-align: right;\n",
       "    }\n",
       "</style>\n",
       "<table border=\"1\" class=\"dataframe\">\n",
       "  <thead>\n",
       "    <tr style=\"text-align: right;\">\n",
       "      <th></th>\n",
       "      <th>Unnamed: 0.1</th>\n",
       "      <th>Unnamed: 0</th>\n",
       "      <th>Translated_Review</th>\n",
       "      <th>Rating</th>\n",
       "      <th>Sentimiento</th>\n",
       "      <th>Sentimiento_VADER</th>\n",
       "      <th>SENTIMIENTO_CALCULADO</th>\n",
       "    </tr>\n",
       "  </thead>\n",
       "  <tbody>\n",
       "    <tr>\n",
       "      <th>2</th>\n",
       "      <td>2</td>\n",
       "      <td>2</td>\n",
       "      <td>Bonitas habitaciones, no un hotel de 4* con ex...</td>\n",
       "      <td>3</td>\n",
       "      <td>NEGATIVO</td>\n",
       "      <td>NEGATIVO</td>\n",
       "      <td>NEGATIVO</td>\n",
       "    </tr>\n",
       "    <tr>\n",
       "      <th>15</th>\n",
       "      <td>15</td>\n",
       "      <td>15</td>\n",
       "      <td>horrible servicio al cliente estancia en el ho...</td>\n",
       "      <td>1</td>\n",
       "      <td>NEGATIVO</td>\n",
       "      <td>NEGATIVO</td>\n",
       "      <td>NEGATIVO</td>\n",
       "    </tr>\n",
       "    <tr>\n",
       "      <th>19</th>\n",
       "      <td>19</td>\n",
       "      <td>19</td>\n",
       "      <td>hmmmmm, dice que hay muchas esperanzas en el h...</td>\n",
       "      <td>3</td>\n",
       "      <td>NEGATIVO</td>\n",
       "      <td>POSITIVO</td>\n",
       "      <td>NEGATIVO</td>\n",
       "    </tr>\n",
       "    <tr>\n",
       "      <th>32</th>\n",
       "      <td>32</td>\n",
       "      <td>32</td>\n",
       "      <td>Ruido, aire acondicionado: estándar, estadía o...</td>\n",
       "      <td>1</td>\n",
       "      <td>NEUTRAL</td>\n",
       "      <td>NEGATIVO</td>\n",
       "      <td>NEGATIVO</td>\n",
       "    </tr>\n",
       "    <tr>\n",
       "      <th>40</th>\n",
       "      <td>40</td>\n",
       "      <td>40</td>\n",
       "      <td>Mala elección, cable caliente del hotel reserv...</td>\n",
       "      <td>1</td>\n",
       "      <td>NEUTRAL</td>\n",
       "      <td>NEGATIVO</td>\n",
       "      <td>NEGATIVO</td>\n",
       "    </tr>\n",
       "    <tr>\n",
       "      <th>...</th>\n",
       "      <td>...</td>\n",
       "      <td>...</td>\n",
       "      <td>...</td>\n",
       "      <td>...</td>\n",
       "      <td>...</td>\n",
       "      <td>...</td>\n",
       "      <td>...</td>\n",
       "    </tr>\n",
       "    <tr>\n",
       "      <th>13070</th>\n",
       "      <td>13070</td>\n",
       "      <td>13070</td>\n",
       "      <td>Malo, poco acogedor, mal servicio, habitación ...</td>\n",
       "      <td>1</td>\n",
       "      <td>NEUTRAL</td>\n",
       "      <td>NEGATIVO</td>\n",
       "      <td>NEGATIVO</td>\n",
       "    </tr>\n",
       "    <tr>\n",
       "      <th>13101</th>\n",
       "      <td>13101</td>\n",
       "      <td>13101</td>\n",
       "      <td>buen hotel con un presupuesto pequeño nos hosp...</td>\n",
       "      <td>4</td>\n",
       "      <td>NEGATIVO</td>\n",
       "      <td>NEGATIVO</td>\n",
       "      <td>NEGATIVO</td>\n",
       "    </tr>\n",
       "    <tr>\n",
       "      <th>13116</th>\n",
       "      <td>13116</td>\n",
       "      <td>13116</td>\n",
       "      <td>no es el secreto mejor guardado, promedio mejo...</td>\n",
       "      <td>2</td>\n",
       "      <td>NEGATIVO</td>\n",
       "      <td>NEGATIVO</td>\n",
       "      <td>NEGATIVO</td>\n",
       "    </tr>\n",
       "    <tr>\n",
       "      <th>13129</th>\n",
       "      <td>13129</td>\n",
       "      <td>13129</td>\n",
       "      <td>No me molesté en quedarme en la puerta, me que...</td>\n",
       "      <td>1</td>\n",
       "      <td>NEGATIVO</td>\n",
       "      <td>NEGATIVO</td>\n",
       "      <td>NEGATIVO</td>\n",
       "    </tr>\n",
       "    <tr>\n",
       "      <th>13130</th>\n",
       "      <td>13130</td>\n",
       "      <td>13130</td>\n",
       "      <td>escribió el encabezado, breve. comida repugnan...</td>\n",
       "      <td>1</td>\n",
       "      <td>NEUTRAL</td>\n",
       "      <td>NEUTRAL</td>\n",
       "      <td>NEGATIVO</td>\n",
       "    </tr>\n",
       "  </tbody>\n",
       "</table>\n",
       "<p>1534 rows × 7 columns</p>\n",
       "</div>"
      ],
      "text/plain": [
       "       Unnamed: 0.1  Unnamed: 0   \n",
       "2                 2           2  \\\n",
       "15               15          15   \n",
       "19               19          19   \n",
       "32               32          32   \n",
       "40               40          40   \n",
       "...             ...         ...   \n",
       "13070         13070       13070   \n",
       "13101         13101       13101   \n",
       "13116         13116       13116   \n",
       "13129         13129       13129   \n",
       "13130         13130       13130   \n",
       "\n",
       "                                       Translated_Review  Rating Sentimiento   \n",
       "2      Bonitas habitaciones, no un hotel de 4* con ex...       3    NEGATIVO  \\\n",
       "15     horrible servicio al cliente estancia en el ho...       1    NEGATIVO   \n",
       "19     hmmmmm, dice que hay muchas esperanzas en el h...       3    NEGATIVO   \n",
       "32     Ruido, aire acondicionado: estándar, estadía o...       1     NEUTRAL   \n",
       "40     Mala elección, cable caliente del hotel reserv...       1     NEUTRAL   \n",
       "...                                                  ...     ...         ...   \n",
       "13070  Malo, poco acogedor, mal servicio, habitación ...       1     NEUTRAL   \n",
       "13101  buen hotel con un presupuesto pequeño nos hosp...       4    NEGATIVO   \n",
       "13116  no es el secreto mejor guardado, promedio mejo...       2    NEGATIVO   \n",
       "13129  No me molesté en quedarme en la puerta, me que...       1    NEGATIVO   \n",
       "13130  escribió el encabezado, breve. comida repugnan...       1     NEUTRAL   \n",
       "\n",
       "      Sentimiento_VADER SENTIMIENTO_CALCULADO  \n",
       "2              NEGATIVO              NEGATIVO  \n",
       "15             NEGATIVO              NEGATIVO  \n",
       "19             POSITIVO              NEGATIVO  \n",
       "32             NEGATIVO              NEGATIVO  \n",
       "40             NEGATIVO              NEGATIVO  \n",
       "...                 ...                   ...  \n",
       "13070          NEGATIVO              NEGATIVO  \n",
       "13101          NEGATIVO              NEGATIVO  \n",
       "13116          NEGATIVO              NEGATIVO  \n",
       "13129          NEGATIVO              NEGATIVO  \n",
       "13130           NEUTRAL              NEGATIVO  \n",
       "\n",
       "[1534 rows x 7 columns]"
      ]
     },
     "execution_count": 7,
     "metadata": {},
     "output_type": "execute_result"
    }
   ],
   "source": [
    "#filtar los comentarios negativos para identificar el problema\n",
    "\n",
    "df_comentarios_negativos=df_sentimientos_hotel[df_sentimientos_hotel['SENTIMIENTO_CALCULADO']=='NEGATIVO']\n",
    "df_comentarios_negativos"
   ]
  },
  {
   "cell_type": "code",
   "execution_count": 109,
   "id": "7e5d084c",
   "metadata": {},
   "outputs": [
    {
     "data": {
      "text/html": [
       "<div>\n",
       "<style scoped>\n",
       "    .dataframe tbody tr th:only-of-type {\n",
       "        vertical-align: middle;\n",
       "    }\n",
       "\n",
       "    .dataframe tbody tr th {\n",
       "        vertical-align: top;\n",
       "    }\n",
       "\n",
       "    .dataframe thead th {\n",
       "        text-align: right;\n",
       "    }\n",
       "</style>\n",
       "<table border=\"1\" class=\"dataframe\">\n",
       "  <thead>\n",
       "    <tr style=\"text-align: right;\">\n",
       "      <th></th>\n",
       "      <th>Unnamed: 0</th>\n",
       "      <th>Nombre Hotel</th>\n",
       "      <th>Comentario</th>\n",
       "      <th>Sentimiento</th>\n",
       "      <th>Sentimiento_VADER</th>\n",
       "    </tr>\n",
       "  </thead>\n",
       "  <tbody>\n",
       "    <tr>\n",
       "      <th>0</th>\n",
       "      <td>0</td>\n",
       "      <td>affinia</td>\n",
       "      <td>Después de una estancia de una semana reciente...</td>\n",
       "      <td>NEUTRAL</td>\n",
       "      <td>POSITIVO</td>\n",
       "    </tr>\n",
       "    <tr>\n",
       "      <th>1</th>\n",
       "      <td>1</td>\n",
       "      <td>affinia</td>\n",
       "      <td>Aunque demasiado caro en mi opinión, el hotel ...</td>\n",
       "      <td>NEUTRAL</td>\n",
       "      <td>POSITIVO</td>\n",
       "    </tr>\n",
       "    <tr>\n",
       "      <th>2</th>\n",
       "      <td>2</td>\n",
       "      <td>affinia</td>\n",
       "      <td>Me alojé en el Affina Chicago para celebrar mi...</td>\n",
       "      <td>NEUTRAL</td>\n",
       "      <td>POSITIVO</td>\n",
       "    </tr>\n",
       "    <tr>\n",
       "      <th>3</th>\n",
       "      <td>3</td>\n",
       "      <td>affinia</td>\n",
       "      <td>ESTE HOTEL ES FANTÁSTICO. Me alojé allí en mi ...</td>\n",
       "      <td>NEUTRAL</td>\n",
       "      <td>POSITIVO</td>\n",
       "    </tr>\n",
       "    <tr>\n",
       "      <th>4</th>\n",
       "      <td>4</td>\n",
       "      <td>affinia</td>\n",
       "      <td>El Affinia Chicago es un lugar maravilloso don...</td>\n",
       "      <td>NEUTRAL</td>\n",
       "      <td>POSITIVO</td>\n",
       "    </tr>\n",
       "    <tr>\n",
       "      <th>...</th>\n",
       "      <td>...</td>\n",
       "      <td>...</td>\n",
       "      <td>...</td>\n",
       "      <td>...</td>\n",
       "      <td>...</td>\n",
       "    </tr>\n",
       "    <tr>\n",
       "      <th>795</th>\n",
       "      <td>795</td>\n",
       "      <td>talbott</td>\n",
       "      <td>Me alojé en The Talbott por 3 noches por negoc...</td>\n",
       "      <td>NEUTRAL</td>\n",
       "      <td>POSITIVO</td>\n",
       "    </tr>\n",
       "    <tr>\n",
       "      <th>796</th>\n",
       "      <td>796</td>\n",
       "      <td>talbott</td>\n",
       "      <td>Nos encantó el Talbott. La ubicación era fabul...</td>\n",
       "      <td>NEUTRAL</td>\n",
       "      <td>POSITIVO</td>\n",
       "    </tr>\n",
       "    <tr>\n",
       "      <th>797</th>\n",
       "      <td>797</td>\n",
       "      <td>talbott</td>\n",
       "      <td>Puedo decir fácilmente que este es uno de los ...</td>\n",
       "      <td>NEGATIVO</td>\n",
       "      <td>POSITIVO</td>\n",
       "    </tr>\n",
       "    <tr>\n",
       "      <th>798</th>\n",
       "      <td>798</td>\n",
       "      <td>talbott</td>\n",
       "      <td>Este es un gran hallazgo para el centro de Chi...</td>\n",
       "      <td>POSITIVO</td>\n",
       "      <td>POSITIVO</td>\n",
       "    </tr>\n",
       "    <tr>\n",
       "      <th>799</th>\n",
       "      <td>799</td>\n",
       "      <td>talbott</td>\n",
       "      <td>Chicago es una de nuestras ciudades favoritas ...</td>\n",
       "      <td>NEUTRAL</td>\n",
       "      <td>NEUTRAL</td>\n",
       "    </tr>\n",
       "  </tbody>\n",
       "</table>\n",
       "<p>800 rows × 5 columns</p>\n",
       "</div>"
      ],
      "text/plain": [
       "     Unnamed: 0 Nombre Hotel   \n",
       "0             0      affinia  \\\n",
       "1             1      affinia   \n",
       "2             2      affinia   \n",
       "3             3      affinia   \n",
       "4             4      affinia   \n",
       "..          ...          ...   \n",
       "795         795      talbott   \n",
       "796         796      talbott   \n",
       "797         797      talbott   \n",
       "798         798      talbott   \n",
       "799         799      talbott   \n",
       "\n",
       "                                            Comentario Sentimiento   \n",
       "0    Después de una estancia de una semana reciente...     NEUTRAL  \\\n",
       "1    Aunque demasiado caro en mi opinión, el hotel ...     NEUTRAL   \n",
       "2    Me alojé en el Affina Chicago para celebrar mi...     NEUTRAL   \n",
       "3    ESTE HOTEL ES FANTÁSTICO. Me alojé allí en mi ...     NEUTRAL   \n",
       "4    El Affinia Chicago es un lugar maravilloso don...     NEUTRAL   \n",
       "..                                                 ...         ...   \n",
       "795  Me alojé en The Talbott por 3 noches por negoc...     NEUTRAL   \n",
       "796  Nos encantó el Talbott. La ubicación era fabul...     NEUTRAL   \n",
       "797  Puedo decir fácilmente que este es uno de los ...    NEGATIVO   \n",
       "798  Este es un gran hallazgo para el centro de Chi...    POSITIVO   \n",
       "799  Chicago es una de nuestras ciudades favoritas ...     NEUTRAL   \n",
       "\n",
       "    Sentimiento_VADER  \n",
       "0            POSITIVO  \n",
       "1            POSITIVO  \n",
       "2            POSITIVO  \n",
       "3            POSITIVO  \n",
       "4            POSITIVO  \n",
       "..                ...  \n",
       "795          POSITIVO  \n",
       "796          POSITIVO  \n",
       "797          POSITIVO  \n",
       "798          POSITIVO  \n",
       "799           NEUTRAL  \n",
       "\n",
       "[800 rows x 5 columns]"
      ]
     },
     "execution_count": 109,
     "metadata": {},
     "output_type": "execute_result"
    }
   ],
   "source": [
    "\n",
    "#Carga de los csv del top 3 de hoteles con sentimientos negativos:     Fairmont,    Hyatt,    Homewood\n",
    "\n",
    "df_sentimientos_competencia=pd.read_csv('.\\df_hoteles_Competencia.csv')\n",
    "df_sentimientos_competencia"
   ]
  },
  {
   "cell_type": "code",
   "execution_count": 78,
   "id": "6c40fcc2",
   "metadata": {},
   "outputs": [
    {
     "data": {
      "text/html": [
       "<div>\n",
       "<style scoped>\n",
       "    .dataframe tbody tr th:only-of-type {\n",
       "        vertical-align: middle;\n",
       "    }\n",
       "\n",
       "    .dataframe tbody tr th {\n",
       "        vertical-align: top;\n",
       "    }\n",
       "\n",
       "    .dataframe thead th {\n",
       "        text-align: right;\n",
       "    }\n",
       "</style>\n",
       "<table border=\"1\" class=\"dataframe\">\n",
       "  <thead>\n",
       "    <tr style=\"text-align: right;\">\n",
       "      <th></th>\n",
       "      <th>Unnamed: 0</th>\n",
       "      <th>Nombre Hotel</th>\n",
       "      <th>Comentario</th>\n",
       "      <th>Sentimiento</th>\n",
       "      <th>Sentimiento_VADER</th>\n",
       "    </tr>\n",
       "  </thead>\n",
       "  <tbody>\n",
       "    <tr>\n",
       "      <th>0</th>\n",
       "      <td>0</td>\n",
       "      <td>affinia</td>\n",
       "      <td>Después de una estancia de una semana reciente...</td>\n",
       "      <td>NEUTRAL</td>\n",
       "      <td>POSITIVO</td>\n",
       "    </tr>\n",
       "    <tr>\n",
       "      <th>1</th>\n",
       "      <td>1</td>\n",
       "      <td>affinia</td>\n",
       "      <td>Aunque demasiado caro en mi opinión, el hotel ...</td>\n",
       "      <td>NEUTRAL</td>\n",
       "      <td>POSITIVO</td>\n",
       "    </tr>\n",
       "    <tr>\n",
       "      <th>2</th>\n",
       "      <td>2</td>\n",
       "      <td>affinia</td>\n",
       "      <td>Me alojé en el Affina Chicago para celebrar mi...</td>\n",
       "      <td>NEUTRAL</td>\n",
       "      <td>POSITIVO</td>\n",
       "    </tr>\n",
       "    <tr>\n",
       "      <th>3</th>\n",
       "      <td>3</td>\n",
       "      <td>affinia</td>\n",
       "      <td>ESTE HOTEL ES FANTÁSTICO. Me alojé allí en mi ...</td>\n",
       "      <td>NEUTRAL</td>\n",
       "      <td>POSITIVO</td>\n",
       "    </tr>\n",
       "    <tr>\n",
       "      <th>4</th>\n",
       "      <td>4</td>\n",
       "      <td>affinia</td>\n",
       "      <td>El Affinia Chicago es un lugar maravilloso don...</td>\n",
       "      <td>NEUTRAL</td>\n",
       "      <td>POSITIVO</td>\n",
       "    </tr>\n",
       "    <tr>\n",
       "      <th>...</th>\n",
       "      <td>...</td>\n",
       "      <td>...</td>\n",
       "      <td>...</td>\n",
       "      <td>...</td>\n",
       "      <td>...</td>\n",
       "    </tr>\n",
       "    <tr>\n",
       "      <th>792</th>\n",
       "      <td>792</td>\n",
       "      <td>talbott</td>\n",
       "      <td>Cualquier viajero fiel a su hotel favorito ha ...</td>\n",
       "      <td>NEUTRAL</td>\n",
       "      <td>POSITIVO</td>\n",
       "    </tr>\n",
       "    <tr>\n",
       "      <th>795</th>\n",
       "      <td>795</td>\n",
       "      <td>talbott</td>\n",
       "      <td>Me alojé en The Talbott por 3 noches por negoc...</td>\n",
       "      <td>NEUTRAL</td>\n",
       "      <td>POSITIVO</td>\n",
       "    </tr>\n",
       "    <tr>\n",
       "      <th>796</th>\n",
       "      <td>796</td>\n",
       "      <td>talbott</td>\n",
       "      <td>Nos encantó el Talbott. La ubicación era fabul...</td>\n",
       "      <td>NEUTRAL</td>\n",
       "      <td>POSITIVO</td>\n",
       "    </tr>\n",
       "    <tr>\n",
       "      <th>797</th>\n",
       "      <td>797</td>\n",
       "      <td>talbott</td>\n",
       "      <td>Puedo decir fácilmente que este es uno de los ...</td>\n",
       "      <td>NEGATIVO</td>\n",
       "      <td>POSITIVO</td>\n",
       "    </tr>\n",
       "    <tr>\n",
       "      <th>798</th>\n",
       "      <td>798</td>\n",
       "      <td>talbott</td>\n",
       "      <td>Este es un gran hallazgo para el centro de Chi...</td>\n",
       "      <td>POSITIVO</td>\n",
       "      <td>POSITIVO</td>\n",
       "    </tr>\n",
       "  </tbody>\n",
       "</table>\n",
       "<p>479 rows × 5 columns</p>\n",
       "</div>"
      ],
      "text/plain": [
       "     Unnamed: 0 Nombre Hotel   \n",
       "0             0      affinia  \\\n",
       "1             1      affinia   \n",
       "2             2      affinia   \n",
       "3             3      affinia   \n",
       "4             4      affinia   \n",
       "..          ...          ...   \n",
       "792         792      talbott   \n",
       "795         795      talbott   \n",
       "796         796      talbott   \n",
       "797         797      talbott   \n",
       "798         798      talbott   \n",
       "\n",
       "                                            Comentario Sentimiento   \n",
       "0    Después de una estancia de una semana reciente...     NEUTRAL  \\\n",
       "1    Aunque demasiado caro en mi opinión, el hotel ...     NEUTRAL   \n",
       "2    Me alojé en el Affina Chicago para celebrar mi...     NEUTRAL   \n",
       "3    ESTE HOTEL ES FANTÁSTICO. Me alojé allí en mi ...     NEUTRAL   \n",
       "4    El Affinia Chicago es un lugar maravilloso don...     NEUTRAL   \n",
       "..                                                 ...         ...   \n",
       "792  Cualquier viajero fiel a su hotel favorito ha ...     NEUTRAL   \n",
       "795  Me alojé en The Talbott por 3 noches por negoc...     NEUTRAL   \n",
       "796  Nos encantó el Talbott. La ubicación era fabul...     NEUTRAL   \n",
       "797  Puedo decir fácilmente que este es uno de los ...    NEGATIVO   \n",
       "798  Este es un gran hallazgo para el centro de Chi...    POSITIVO   \n",
       "\n",
       "    Sentimiento_VADER  \n",
       "0            POSITIVO  \n",
       "1            POSITIVO  \n",
       "2            POSITIVO  \n",
       "3            POSITIVO  \n",
       "4            POSITIVO  \n",
       "..                ...  \n",
       "792          POSITIVO  \n",
       "795          POSITIVO  \n",
       "796          POSITIVO  \n",
       "797          POSITIVO  \n",
       "798          POSITIVO  \n",
       "\n",
       "[479 rows x 5 columns]"
      ]
     },
     "execution_count": 78,
     "metadata": {},
     "output_type": "execute_result"
    }
   ],
   "source": [
    "df_sentimientos_competencia_positivos=df_sentimientos_competencia[df_sentimientos_competencia['Sentimiento_VADER']=='POSITIVO']\n",
    "df_sentimientos_competencia_positivos"
   ]
  },
  {
   "cell_type": "code",
   "execution_count": 93,
   "id": "8c103194",
   "metadata": {},
   "outputs": [
    {
     "data": {
      "text/html": [
       "<div>\n",
       "<style scoped>\n",
       "    .dataframe tbody tr th:only-of-type {\n",
       "        vertical-align: middle;\n",
       "    }\n",
       "\n",
       "    .dataframe tbody tr th {\n",
       "        vertical-align: top;\n",
       "    }\n",
       "\n",
       "    .dataframe thead th {\n",
       "        text-align: right;\n",
       "    }\n",
       "</style>\n",
       "<table border=\"1\" class=\"dataframe\">\n",
       "  <thead>\n",
       "    <tr style=\"text-align: right;\">\n",
       "      <th></th>\n",
       "      <th>Unnamed: 0</th>\n",
       "      <th>Nombre Hotel</th>\n",
       "      <th>Comentario</th>\n",
       "      <th>Sentimiento</th>\n",
       "      <th>Sentimiento_VADER</th>\n",
       "      <th>Categoria_Satisfaccion</th>\n",
       "    </tr>\n",
       "  </thead>\n",
       "  <tbody>\n",
       "    <tr>\n",
       "      <th>340</th>\n",
       "      <td>340</td>\n",
       "      <td>sofitel</td>\n",
       "      <td>Necesitaba un lugar donde quedarme para una co...</td>\n",
       "      <td>NEGATIVO</td>\n",
       "      <td>POSITIVO</td>\n",
       "      <td>Precios y valor</td>\n",
       "    </tr>\n",
       "    <tr>\n",
       "      <th>342</th>\n",
       "      <td>342</td>\n",
       "      <td>sofitel</td>\n",
       "      <td>Me alojé en Sofitel con mi marido durante un f...</td>\n",
       "      <td>NEUTRAL</td>\n",
       "      <td>POSITIVO</td>\n",
       "      <td>Calidad de las instalaciones</td>\n",
       "    </tr>\n",
       "    <tr>\n",
       "      <th>343</th>\n",
       "      <td>343</td>\n",
       "      <td>sofitel</td>\n",
       "      <td>Mi marido y yo nos alojamos en el Sofitel Chic...</td>\n",
       "      <td>NEUTRAL</td>\n",
       "      <td>POSITIVO</td>\n",
       "      <td>Precios y valor</td>\n",
       "    </tr>\n",
       "    <tr>\n",
       "      <th>344</th>\n",
       "      <td>344</td>\n",
       "      <td>sofitel</td>\n",
       "      <td>Alojarme en el Sofitel fue una de las experien...</td>\n",
       "      <td>NEUTRAL</td>\n",
       "      <td>POSITIVO</td>\n",
       "      <td>Calidad del servicio</td>\n",
       "    </tr>\n",
       "    <tr>\n",
       "      <th>345</th>\n",
       "      <td>345</td>\n",
       "      <td>sofitel</td>\n",
       "      <td>Después de llegar al hotel Sofitel Chicago Wat...</td>\n",
       "      <td>NEUTRAL</td>\n",
       "      <td>POSITIVO</td>\n",
       "      <td>No clasificado</td>\n",
       "    </tr>\n",
       "    <tr>\n",
       "      <th>347</th>\n",
       "      <td>347</td>\n",
       "      <td>sofitel</td>\n",
       "      <td>El Sofitel Chicago Water Tower, aunque en teor...</td>\n",
       "      <td>POSITIVO</td>\n",
       "      <td>POSITIVO</td>\n",
       "      <td>Calidad del servicio</td>\n",
       "    </tr>\n",
       "    <tr>\n",
       "      <th>350</th>\n",
       "      <td>350</td>\n",
       "      <td>sofitel</td>\n",
       "      <td>Me alojé en este hotel por 2 noches. Tenía gra...</td>\n",
       "      <td>NEUTRAL</td>\n",
       "      <td>POSITIVO</td>\n",
       "      <td>Precios y valor</td>\n",
       "    </tr>\n",
       "    <tr>\n",
       "      <th>355</th>\n",
       "      <td>355</td>\n",
       "      <td>sofitel</td>\n",
       "      <td>Hace poco me alojé en el hotel Sofitel (Chicag...</td>\n",
       "      <td>POSITIVO</td>\n",
       "      <td>POSITIVO</td>\n",
       "      <td>Precios y valor</td>\n",
       "    </tr>\n",
       "    <tr>\n",
       "      <th>359</th>\n",
       "      <td>359</td>\n",
       "      <td>sofitel</td>\n",
       "      <td>Estaba aquí por negocios, así que necesitaba d...</td>\n",
       "      <td>NEUTRAL</td>\n",
       "      <td>POSITIVO</td>\n",
       "      <td>Calidad del servicio</td>\n",
       "    </tr>\n",
       "    <tr>\n",
       "      <th>380</th>\n",
       "      <td>380</td>\n",
       "      <td>talbott</td>\n",
       "      <td>Recientemente me alojé en el Hotel Talbott en ...</td>\n",
       "      <td>NEUTRAL</td>\n",
       "      <td>POSITIVO</td>\n",
       "      <td>Calidad del servicio</td>\n",
       "    </tr>\n",
       "    <tr>\n",
       "      <th>381</th>\n",
       "      <td>381</td>\n",
       "      <td>talbott</td>\n",
       "      <td>\"Con clase\", \"Decente\" y \"Serena\". Estas palab...</td>\n",
       "      <td>NEUTRAL</td>\n",
       "      <td>POSITIVO</td>\n",
       "      <td>Calidad del servicio</td>\n",
       "    </tr>\n",
       "    <tr>\n",
       "      <th>382</th>\n",
       "      <td>382</td>\n",
       "      <td>talbott</td>\n",
       "      <td>¡El Hotel Talbott es fantástico! Me quedé allí...</td>\n",
       "      <td>NEUTRAL</td>\n",
       "      <td>POSITIVO</td>\n",
       "      <td>Calidad de las instalaciones</td>\n",
       "    </tr>\n",
       "    <tr>\n",
       "      <th>383</th>\n",
       "      <td>383</td>\n",
       "      <td>talbott</td>\n",
       "      <td>Este hotel era todo lo que estábamos buscando....</td>\n",
       "      <td>NEUTRAL</td>\n",
       "      <td>POSITIVO</td>\n",
       "      <td>Calidad del servicio</td>\n",
       "    </tr>\n",
       "    <tr>\n",
       "      <th>384</th>\n",
       "      <td>384</td>\n",
       "      <td>talbott</td>\n",
       "      <td>Mi marido y yo decidimos planear una escapada ...</td>\n",
       "      <td>NEUTRAL</td>\n",
       "      <td>POSITIVO</td>\n",
       "      <td>Calidad del servicio</td>\n",
       "    </tr>\n",
       "    <tr>\n",
       "      <th>385</th>\n",
       "      <td>385</td>\n",
       "      <td>talbott</td>\n",
       "      <td>Este es el mejor hotel para alojarse cuando vi...</td>\n",
       "      <td>NEUTRAL</td>\n",
       "      <td>POSITIVO</td>\n",
       "      <td>Calidad del servicio</td>\n",
       "    </tr>\n",
       "    <tr>\n",
       "      <th>386</th>\n",
       "      <td>386</td>\n",
       "      <td>talbott</td>\n",
       "      <td>Mi estadía en el Talbott fue una experiencia m...</td>\n",
       "      <td>NEUTRAL</td>\n",
       "      <td>POSITIVO</td>\n",
       "      <td>Calidad del servicio</td>\n",
       "    </tr>\n",
       "    <tr>\n",
       "      <th>387</th>\n",
       "      <td>387</td>\n",
       "      <td>talbott</td>\n",
       "      <td>¡Gran hotel! El personal es amable, cortés y p...</td>\n",
       "      <td>NEUTRAL</td>\n",
       "      <td>POSITIVO</td>\n",
       "      <td>Calidad del servicio</td>\n",
       "    </tr>\n",
       "    <tr>\n",
       "      <th>388</th>\n",
       "      <td>388</td>\n",
       "      <td>talbott</td>\n",
       "      <td>Realmente me encantó mi estancia en el Talbott...</td>\n",
       "      <td>NEUTRAL</td>\n",
       "      <td>POSITIVO</td>\n",
       "      <td>Calidad del servicio</td>\n",
       "    </tr>\n",
       "    <tr>\n",
       "      <th>389</th>\n",
       "      <td>389</td>\n",
       "      <td>talbott</td>\n",
       "      <td>Este hotel fue un auténtico sueño en el que al...</td>\n",
       "      <td>NEUTRAL</td>\n",
       "      <td>POSITIVO</td>\n",
       "      <td>Precios y valor</td>\n",
       "    </tr>\n",
       "    <tr>\n",
       "      <th>390</th>\n",
       "      <td>390</td>\n",
       "      <td>talbott</td>\n",
       "      <td>Muy lujoso y vale la pena el dinero. Si busca ...</td>\n",
       "      <td>NEUTRAL</td>\n",
       "      <td>POSITIVO</td>\n",
       "      <td>Calidad del servicio</td>\n",
       "    </tr>\n",
       "    <tr>\n",
       "      <th>391</th>\n",
       "      <td>391</td>\n",
       "      <td>talbott</td>\n",
       "      <td>Estaba visitando a unos familiares en Chicago ...</td>\n",
       "      <td>POSITIVO</td>\n",
       "      <td>POSITIVO</td>\n",
       "      <td>Calidad del servicio</td>\n",
       "    </tr>\n",
       "    <tr>\n",
       "      <th>392</th>\n",
       "      <td>392</td>\n",
       "      <td>talbott</td>\n",
       "      <td>El hotel Talbot es un lugar elegante para llev...</td>\n",
       "      <td>NEUTRAL</td>\n",
       "      <td>POSITIVO</td>\n",
       "      <td>No clasificado</td>\n",
       "    </tr>\n",
       "    <tr>\n",
       "      <th>393</th>\n",
       "      <td>393</td>\n",
       "      <td>talbott</td>\n",
       "      <td>El ambiente en el Talbott Hotel es muy acogedo...</td>\n",
       "      <td>POSITIVO</td>\n",
       "      <td>POSITIVO</td>\n",
       "      <td>Calidad del servicio</td>\n",
       "    </tr>\n",
       "    <tr>\n",
       "      <th>394</th>\n",
       "      <td>394</td>\n",
       "      <td>talbott</td>\n",
       "      <td>Al principio, mi esposo y yo estábamos muy emo...</td>\n",
       "      <td>POSITIVO</td>\n",
       "      <td>POSITIVO</td>\n",
       "      <td>Calidad de las instalaciones</td>\n",
       "    </tr>\n",
       "    <tr>\n",
       "      <th>395</th>\n",
       "      <td>395</td>\n",
       "      <td>talbott</td>\n",
       "      <td>Las tarifas en The Talbott Hotel eran más bara...</td>\n",
       "      <td>POSITIVO</td>\n",
       "      <td>POSITIVO</td>\n",
       "      <td>Calidad del servicio</td>\n",
       "    </tr>\n",
       "    <tr>\n",
       "      <th>397</th>\n",
       "      <td>397</td>\n",
       "      <td>talbott</td>\n",
       "      <td>Personal agradable y servicio de limpieza. Des...</td>\n",
       "      <td>NEUTRAL</td>\n",
       "      <td>POSITIVO</td>\n",
       "      <td>Calidad del servicio</td>\n",
       "    </tr>\n",
       "    <tr>\n",
       "      <th>399</th>\n",
       "      <td>399</td>\n",
       "      <td>talbott</td>\n",
       "      <td>Excelente personal y servicio al cliente, muy ...</td>\n",
       "      <td>NEUTRAL</td>\n",
       "      <td>POSITIVO</td>\n",
       "      <td>Calidad del servicio</td>\n",
       "    </tr>\n",
       "    <tr>\n",
       "      <th>741</th>\n",
       "      <td>741</td>\n",
       "      <td>sofitel</td>\n",
       "      <td>Retiré mi Lexus y me lo devolvieron con el esp...</td>\n",
       "      <td>NEUTRAL</td>\n",
       "      <td>POSITIVO</td>\n",
       "      <td>No clasificado</td>\n",
       "    </tr>\n",
       "    <tr>\n",
       "      <th>742</th>\n",
       "      <td>742</td>\n",
       "      <td>sofitel</td>\n",
       "      <td>Tuve la ceremonia de mi boda y la recepción en...</td>\n",
       "      <td>POSITIVO</td>\n",
       "      <td>POSITIVO</td>\n",
       "      <td>Calidad del servicio</td>\n",
       "    </tr>\n",
       "    <tr>\n",
       "      <th>743</th>\n",
       "      <td>743</td>\n",
       "      <td>sofitel</td>\n",
       "      <td>Leí las críticas en Trip Advisor sobre esta pr...</td>\n",
       "      <td>NEUTRAL</td>\n",
       "      <td>POSITIVO</td>\n",
       "      <td>Calidad del servicio</td>\n",
       "    </tr>\n",
       "    <tr>\n",
       "      <th>745</th>\n",
       "      <td>745</td>\n",
       "      <td>sofitel</td>\n",
       "      <td>Acabo de regresar de una visita de 10 días a C...</td>\n",
       "      <td>NEUTRAL</td>\n",
       "      <td>POSITIVO</td>\n",
       "      <td>Precios y valor</td>\n",
       "    </tr>\n",
       "    <tr>\n",
       "      <th>747</th>\n",
       "      <td>747</td>\n",
       "      <td>sofitel</td>\n",
       "      <td>Este fue uno de los mejores hoteles en los que...</td>\n",
       "      <td>NEUTRAL</td>\n",
       "      <td>POSITIVO</td>\n",
       "      <td>Calidad del servicio</td>\n",
       "    </tr>\n",
       "    <tr>\n",
       "      <th>748</th>\n",
       "      <td>748</td>\n",
       "      <td>sofitel</td>\n",
       "      <td>Me alojé aquí como un regalo para mí mientras ...</td>\n",
       "      <td>NEUTRAL</td>\n",
       "      <td>POSITIVO</td>\n",
       "      <td>Calidad del servicio</td>\n",
       "    </tr>\n",
       "    <tr>\n",
       "      <th>749</th>\n",
       "      <td>749</td>\n",
       "      <td>sofitel</td>\n",
       "      <td>nuestra estancia fue absolutamente perfecta. E...</td>\n",
       "      <td>NEUTRAL</td>\n",
       "      <td>POSITIVO</td>\n",
       "      <td>Calidad del servicio</td>\n",
       "    </tr>\n",
       "    <tr>\n",
       "      <th>750</th>\n",
       "      <td>750</td>\n",
       "      <td>sofitel</td>\n",
       "      <td>Una arquitectura sorprendente es sólo el comie...</td>\n",
       "      <td>POSITIVO</td>\n",
       "      <td>POSITIVO</td>\n",
       "      <td>Calidad del servicio</td>\n",
       "    </tr>\n",
       "    <tr>\n",
       "      <th>751</th>\n",
       "      <td>751</td>\n",
       "      <td>sofitel</td>\n",
       "      <td>¡Excelente servicio! Habitaciones limpias y es...</td>\n",
       "      <td>NEUTRAL</td>\n",
       "      <td>POSITIVO</td>\n",
       "      <td>Calidad del servicio</td>\n",
       "    </tr>\n",
       "    <tr>\n",
       "      <th>753</th>\n",
       "      <td>753</td>\n",
       "      <td>sofitel</td>\n",
       "      <td>Llegué al Sofitel por motivos de ocio y negoci...</td>\n",
       "      <td>POSITIVO</td>\n",
       "      <td>POSITIVO</td>\n",
       "      <td>Calidad del servicio</td>\n",
       "    </tr>\n",
       "    <tr>\n",
       "      <th>754</th>\n",
       "      <td>754</td>\n",
       "      <td>sofitel</td>\n",
       "      <td>Me alojé cuatro noches para asistir a una conf...</td>\n",
       "      <td>NEUTRAL</td>\n",
       "      <td>POSITIVO</td>\n",
       "      <td>No clasificado</td>\n",
       "    </tr>\n",
       "    <tr>\n",
       "      <th>755</th>\n",
       "      <td>755</td>\n",
       "      <td>sofitel</td>\n",
       "      <td>Después de deliberar un poco, reservé el Sofit...</td>\n",
       "      <td>NEUTRAL</td>\n",
       "      <td>POSITIVO</td>\n",
       "      <td>Calidad de las instalaciones</td>\n",
       "    </tr>\n",
       "    <tr>\n",
       "      <th>756</th>\n",
       "      <td>756</td>\n",
       "      <td>sofitel</td>\n",
       "      <td>No conseguimos la habitación que nos prometier...</td>\n",
       "      <td>NEUTRAL</td>\n",
       "      <td>POSITIVO</td>\n",
       "      <td>No clasificado</td>\n",
       "    </tr>\n",
       "    <tr>\n",
       "      <th>757</th>\n",
       "      <td>757</td>\n",
       "      <td>sofitel</td>\n",
       "      <td>Acabamos de regresar de pasar 3 noches en el S...</td>\n",
       "      <td>POSITIVO</td>\n",
       "      <td>POSITIVO</td>\n",
       "      <td>Calidad del servicio</td>\n",
       "    </tr>\n",
       "    <tr>\n",
       "      <th>758</th>\n",
       "      <td>758</td>\n",
       "      <td>sofitel</td>\n",
       "      <td>Hermosamente decorado, con personal profesiona...</td>\n",
       "      <td>NEUTRAL</td>\n",
       "      <td>POSITIVO</td>\n",
       "      <td>Calidad del servicio</td>\n",
       "    </tr>\n",
       "    <tr>\n",
       "      <th>759</th>\n",
       "      <td>759</td>\n",
       "      <td>sofitel</td>\n",
       "      <td>Excelentes camas, habitaciones limpias, baño e...</td>\n",
       "      <td>NEUTRAL</td>\n",
       "      <td>POSITIVO</td>\n",
       "      <td>Calidad del servicio</td>\n",
       "    </tr>\n",
       "    <tr>\n",
       "      <th>780</th>\n",
       "      <td>780</td>\n",
       "      <td>talbott</td>\n",
       "      <td>Muy pintoresco y romántico, pero masculino. Me...</td>\n",
       "      <td>NEUTRAL</td>\n",
       "      <td>POSITIVO</td>\n",
       "      <td>No clasificado</td>\n",
       "    </tr>\n",
       "    <tr>\n",
       "      <th>783</th>\n",
       "      <td>783</td>\n",
       "      <td>talbott</td>\n",
       "      <td>Mientras nos alejábamos en un taxi rumbo al ae...</td>\n",
       "      <td>NEUTRAL</td>\n",
       "      <td>POSITIVO</td>\n",
       "      <td>Calidad del servicio</td>\n",
       "    </tr>\n",
       "    <tr>\n",
       "      <th>785</th>\n",
       "      <td>785</td>\n",
       "      <td>talbott</td>\n",
       "      <td>Nos encantó nuestra estancia en el Talbott. Es...</td>\n",
       "      <td>NEGATIVO</td>\n",
       "      <td>POSITIVO</td>\n",
       "      <td>Calidad del servicio</td>\n",
       "    </tr>\n",
       "    <tr>\n",
       "      <th>786</th>\n",
       "      <td>786</td>\n",
       "      <td>talbott</td>\n",
       "      <td>Este es un gran hotel, pero de ninguna manera ...</td>\n",
       "      <td>POSITIVO</td>\n",
       "      <td>POSITIVO</td>\n",
       "      <td>Calidad de las instalaciones</td>\n",
       "    </tr>\n",
       "    <tr>\n",
       "      <th>788</th>\n",
       "      <td>788</td>\n",
       "      <td>talbott</td>\n",
       "      <td>Nos alojamos aquí por todas las excelentes crí...</td>\n",
       "      <td>NEUTRAL</td>\n",
       "      <td>POSITIVO</td>\n",
       "      <td>Precios y valor</td>\n",
       "    </tr>\n",
       "    <tr>\n",
       "      <th>790</th>\n",
       "      <td>790</td>\n",
       "      <td>talbott</td>\n",
       "      <td>Si la ubicación es lo único que importa, quéda...</td>\n",
       "      <td>NEUTRAL</td>\n",
       "      <td>POSITIVO</td>\n",
       "      <td>Precios y valor</td>\n",
       "    </tr>\n",
       "    <tr>\n",
       "      <th>791</th>\n",
       "      <td>791</td>\n",
       "      <td>talbott</td>\n",
       "      <td>Estoy sentado en el hotel mientras corrijo est...</td>\n",
       "      <td>NEUTRAL</td>\n",
       "      <td>POSITIVO</td>\n",
       "      <td>Calidad de las instalaciones</td>\n",
       "    </tr>\n",
       "    <tr>\n",
       "      <th>792</th>\n",
       "      <td>792</td>\n",
       "      <td>talbott</td>\n",
       "      <td>Cualquier viajero fiel a su hotel favorito ha ...</td>\n",
       "      <td>NEUTRAL</td>\n",
       "      <td>POSITIVO</td>\n",
       "      <td>Precios y valor</td>\n",
       "    </tr>\n",
       "    <tr>\n",
       "      <th>795</th>\n",
       "      <td>795</td>\n",
       "      <td>talbott</td>\n",
       "      <td>Me alojé en The Talbott por 3 noches por negoc...</td>\n",
       "      <td>NEUTRAL</td>\n",
       "      <td>POSITIVO</td>\n",
       "      <td>Calidad del servicio</td>\n",
       "    </tr>\n",
       "    <tr>\n",
       "      <th>796</th>\n",
       "      <td>796</td>\n",
       "      <td>talbott</td>\n",
       "      <td>Nos encantó el Talbott. La ubicación era fabul...</td>\n",
       "      <td>NEUTRAL</td>\n",
       "      <td>POSITIVO</td>\n",
       "      <td>No clasificado</td>\n",
       "    </tr>\n",
       "    <tr>\n",
       "      <th>797</th>\n",
       "      <td>797</td>\n",
       "      <td>talbott</td>\n",
       "      <td>Puedo decir fácilmente que este es uno de los ...</td>\n",
       "      <td>NEGATIVO</td>\n",
       "      <td>POSITIVO</td>\n",
       "      <td>Calidad del servicio</td>\n",
       "    </tr>\n",
       "    <tr>\n",
       "      <th>798</th>\n",
       "      <td>798</td>\n",
       "      <td>talbott</td>\n",
       "      <td>Este es un gran hallazgo para el centro de Chi...</td>\n",
       "      <td>POSITIVO</td>\n",
       "      <td>POSITIVO</td>\n",
       "      <td>Precios y valor</td>\n",
       "    </tr>\n",
       "  </tbody>\n",
       "</table>\n",
       "</div>"
      ],
      "text/plain": [
       "     Unnamed: 0 Nombre Hotel   \n",
       "340         340      sofitel  \\\n",
       "342         342      sofitel   \n",
       "343         343      sofitel   \n",
       "344         344      sofitel   \n",
       "345         345      sofitel   \n",
       "347         347      sofitel   \n",
       "350         350      sofitel   \n",
       "355         355      sofitel   \n",
       "359         359      sofitel   \n",
       "380         380      talbott   \n",
       "381         381      talbott   \n",
       "382         382      talbott   \n",
       "383         383      talbott   \n",
       "384         384      talbott   \n",
       "385         385      talbott   \n",
       "386         386      talbott   \n",
       "387         387      talbott   \n",
       "388         388      talbott   \n",
       "389         389      talbott   \n",
       "390         390      talbott   \n",
       "391         391      talbott   \n",
       "392         392      talbott   \n",
       "393         393      talbott   \n",
       "394         394      talbott   \n",
       "395         395      talbott   \n",
       "397         397      talbott   \n",
       "399         399      talbott   \n",
       "741         741      sofitel   \n",
       "742         742      sofitel   \n",
       "743         743      sofitel   \n",
       "745         745      sofitel   \n",
       "747         747      sofitel   \n",
       "748         748      sofitel   \n",
       "749         749      sofitel   \n",
       "750         750      sofitel   \n",
       "751         751      sofitel   \n",
       "753         753      sofitel   \n",
       "754         754      sofitel   \n",
       "755         755      sofitel   \n",
       "756         756      sofitel   \n",
       "757         757      sofitel   \n",
       "758         758      sofitel   \n",
       "759         759      sofitel   \n",
       "780         780      talbott   \n",
       "783         783      talbott   \n",
       "785         785      talbott   \n",
       "786         786      talbott   \n",
       "788         788      talbott   \n",
       "790         790      talbott   \n",
       "791         791      talbott   \n",
       "792         792      talbott   \n",
       "795         795      talbott   \n",
       "796         796      talbott   \n",
       "797         797      talbott   \n",
       "798         798      talbott   \n",
       "\n",
       "                                            Comentario Sentimiento   \n",
       "340  Necesitaba un lugar donde quedarme para una co...    NEGATIVO  \\\n",
       "342  Me alojé en Sofitel con mi marido durante un f...     NEUTRAL   \n",
       "343  Mi marido y yo nos alojamos en el Sofitel Chic...     NEUTRAL   \n",
       "344  Alojarme en el Sofitel fue una de las experien...     NEUTRAL   \n",
       "345  Después de llegar al hotel Sofitel Chicago Wat...     NEUTRAL   \n",
       "347  El Sofitel Chicago Water Tower, aunque en teor...    POSITIVO   \n",
       "350  Me alojé en este hotel por 2 noches. Tenía gra...     NEUTRAL   \n",
       "355  Hace poco me alojé en el hotel Sofitel (Chicag...    POSITIVO   \n",
       "359  Estaba aquí por negocios, así que necesitaba d...     NEUTRAL   \n",
       "380  Recientemente me alojé en el Hotel Talbott en ...     NEUTRAL   \n",
       "381  \"Con clase\", \"Decente\" y \"Serena\". Estas palab...     NEUTRAL   \n",
       "382  ¡El Hotel Talbott es fantástico! Me quedé allí...     NEUTRAL   \n",
       "383  Este hotel era todo lo que estábamos buscando....     NEUTRAL   \n",
       "384  Mi marido y yo decidimos planear una escapada ...     NEUTRAL   \n",
       "385  Este es el mejor hotel para alojarse cuando vi...     NEUTRAL   \n",
       "386  Mi estadía en el Talbott fue una experiencia m...     NEUTRAL   \n",
       "387  ¡Gran hotel! El personal es amable, cortés y p...     NEUTRAL   \n",
       "388  Realmente me encantó mi estancia en el Talbott...     NEUTRAL   \n",
       "389  Este hotel fue un auténtico sueño en el que al...     NEUTRAL   \n",
       "390  Muy lujoso y vale la pena el dinero. Si busca ...     NEUTRAL   \n",
       "391  Estaba visitando a unos familiares en Chicago ...    POSITIVO   \n",
       "392  El hotel Talbot es un lugar elegante para llev...     NEUTRAL   \n",
       "393  El ambiente en el Talbott Hotel es muy acogedo...    POSITIVO   \n",
       "394  Al principio, mi esposo y yo estábamos muy emo...    POSITIVO   \n",
       "395  Las tarifas en The Talbott Hotel eran más bara...    POSITIVO   \n",
       "397  Personal agradable y servicio de limpieza. Des...     NEUTRAL   \n",
       "399  Excelente personal y servicio al cliente, muy ...     NEUTRAL   \n",
       "741  Retiré mi Lexus y me lo devolvieron con el esp...     NEUTRAL   \n",
       "742  Tuve la ceremonia de mi boda y la recepción en...    POSITIVO   \n",
       "743  Leí las críticas en Trip Advisor sobre esta pr...     NEUTRAL   \n",
       "745  Acabo de regresar de una visita de 10 días a C...     NEUTRAL   \n",
       "747  Este fue uno de los mejores hoteles en los que...     NEUTRAL   \n",
       "748  Me alojé aquí como un regalo para mí mientras ...     NEUTRAL   \n",
       "749  nuestra estancia fue absolutamente perfecta. E...     NEUTRAL   \n",
       "750  Una arquitectura sorprendente es sólo el comie...    POSITIVO   \n",
       "751  ¡Excelente servicio! Habitaciones limpias y es...     NEUTRAL   \n",
       "753  Llegué al Sofitel por motivos de ocio y negoci...    POSITIVO   \n",
       "754  Me alojé cuatro noches para asistir a una conf...     NEUTRAL   \n",
       "755  Después de deliberar un poco, reservé el Sofit...     NEUTRAL   \n",
       "756  No conseguimos la habitación que nos prometier...     NEUTRAL   \n",
       "757  Acabamos de regresar de pasar 3 noches en el S...    POSITIVO   \n",
       "758  Hermosamente decorado, con personal profesiona...     NEUTRAL   \n",
       "759  Excelentes camas, habitaciones limpias, baño e...     NEUTRAL   \n",
       "780  Muy pintoresco y romántico, pero masculino. Me...     NEUTRAL   \n",
       "783  Mientras nos alejábamos en un taxi rumbo al ae...     NEUTRAL   \n",
       "785  Nos encantó nuestra estancia en el Talbott. Es...    NEGATIVO   \n",
       "786  Este es un gran hotel, pero de ninguna manera ...    POSITIVO   \n",
       "788  Nos alojamos aquí por todas las excelentes crí...     NEUTRAL   \n",
       "790  Si la ubicación es lo único que importa, quéda...     NEUTRAL   \n",
       "791  Estoy sentado en el hotel mientras corrijo est...     NEUTRAL   \n",
       "792  Cualquier viajero fiel a su hotel favorito ha ...     NEUTRAL   \n",
       "795  Me alojé en The Talbott por 3 noches por negoc...     NEUTRAL   \n",
       "796  Nos encantó el Talbott. La ubicación era fabul...     NEUTRAL   \n",
       "797  Puedo decir fácilmente que este es uno de los ...    NEGATIVO   \n",
       "798  Este es un gran hallazgo para el centro de Chi...    POSITIVO   \n",
       "\n",
       "    Sentimiento_VADER        Categoria_Satisfaccion  \n",
       "340          POSITIVO               Precios y valor  \n",
       "342          POSITIVO  Calidad de las instalaciones  \n",
       "343          POSITIVO               Precios y valor  \n",
       "344          POSITIVO          Calidad del servicio  \n",
       "345          POSITIVO                No clasificado  \n",
       "347          POSITIVO          Calidad del servicio  \n",
       "350          POSITIVO               Precios y valor  \n",
       "355          POSITIVO               Precios y valor  \n",
       "359          POSITIVO          Calidad del servicio  \n",
       "380          POSITIVO          Calidad del servicio  \n",
       "381          POSITIVO          Calidad del servicio  \n",
       "382          POSITIVO  Calidad de las instalaciones  \n",
       "383          POSITIVO          Calidad del servicio  \n",
       "384          POSITIVO          Calidad del servicio  \n",
       "385          POSITIVO          Calidad del servicio  \n",
       "386          POSITIVO          Calidad del servicio  \n",
       "387          POSITIVO          Calidad del servicio  \n",
       "388          POSITIVO          Calidad del servicio  \n",
       "389          POSITIVO               Precios y valor  \n",
       "390          POSITIVO          Calidad del servicio  \n",
       "391          POSITIVO          Calidad del servicio  \n",
       "392          POSITIVO                No clasificado  \n",
       "393          POSITIVO          Calidad del servicio  \n",
       "394          POSITIVO  Calidad de las instalaciones  \n",
       "395          POSITIVO          Calidad del servicio  \n",
       "397          POSITIVO          Calidad del servicio  \n",
       "399          POSITIVO          Calidad del servicio  \n",
       "741          POSITIVO                No clasificado  \n",
       "742          POSITIVO          Calidad del servicio  \n",
       "743          POSITIVO          Calidad del servicio  \n",
       "745          POSITIVO               Precios y valor  \n",
       "747          POSITIVO          Calidad del servicio  \n",
       "748          POSITIVO          Calidad del servicio  \n",
       "749          POSITIVO          Calidad del servicio  \n",
       "750          POSITIVO          Calidad del servicio  \n",
       "751          POSITIVO          Calidad del servicio  \n",
       "753          POSITIVO          Calidad del servicio  \n",
       "754          POSITIVO                No clasificado  \n",
       "755          POSITIVO  Calidad de las instalaciones  \n",
       "756          POSITIVO                No clasificado  \n",
       "757          POSITIVO          Calidad del servicio  \n",
       "758          POSITIVO          Calidad del servicio  \n",
       "759          POSITIVO          Calidad del servicio  \n",
       "780          POSITIVO                No clasificado  \n",
       "783          POSITIVO          Calidad del servicio  \n",
       "785          POSITIVO          Calidad del servicio  \n",
       "786          POSITIVO  Calidad de las instalaciones  \n",
       "788          POSITIVO               Precios y valor  \n",
       "790          POSITIVO               Precios y valor  \n",
       "791          POSITIVO  Calidad de las instalaciones  \n",
       "792          POSITIVO               Precios y valor  \n",
       "795          POSITIVO          Calidad del servicio  \n",
       "796          POSITIVO                No clasificado  \n",
       "797          POSITIVO          Calidad del servicio  \n",
       "798          POSITIVO               Precios y valor  "
      ]
     },
     "execution_count": 93,
     "metadata": {},
     "output_type": "execute_result"
    }
   ],
   "source": [
    "df_sentimientos_competencia_positivostop=df_sentimientos_competencia_positivos[(df_sentimientos_competencia_positivos['Nombre Hotel']=='knickerboxer')|(df_sentimientos_competencia_positivos['Nombre Hotel']=='talbott')|(df_sentimientos_competencia_positivos['Nombre Hotel']=='sofitel')]\n",
    "df_sentimientos_competencia_positivostop"
   ]
  },
  {
   "cell_type": "code",
   "execution_count": 79,
   "id": "b5811a99",
   "metadata": {},
   "outputs": [
    {
     "data": {
      "text/html": [
       "<div>\n",
       "<style scoped>\n",
       "    .dataframe tbody tr th:only-of-type {\n",
       "        vertical-align: middle;\n",
       "    }\n",
       "\n",
       "    .dataframe tbody tr th {\n",
       "        vertical-align: top;\n",
       "    }\n",
       "\n",
       "    .dataframe thead th {\n",
       "        text-align: right;\n",
       "    }\n",
       "</style>\n",
       "<table border=\"1\" class=\"dataframe\">\n",
       "  <thead>\n",
       "    <tr style=\"text-align: right;\">\n",
       "      <th></th>\n",
       "      <th>Unnamed: 0</th>\n",
       "      <th>Nombre Hotel</th>\n",
       "      <th>Comentario</th>\n",
       "      <th>Sentimiento</th>\n",
       "      <th>Sentimiento_VADER</th>\n",
       "    </tr>\n",
       "  </thead>\n",
       "  <tbody>\n",
       "    <tr>\n",
       "      <th>12</th>\n",
       "      <td>12</td>\n",
       "      <td>affinia</td>\n",
       "      <td>Recientemente me alojé en el hotel Affinia en ...</td>\n",
       "      <td>POSITIVO</td>\n",
       "      <td>NEGATIVO</td>\n",
       "    </tr>\n",
       "    <tr>\n",
       "      <th>22</th>\n",
       "      <td>22</td>\n",
       "      <td>allegro</td>\n",
       "      <td>Recientemente visité Chicago. Me alojé en el H...</td>\n",
       "      <td>POSITIVO</td>\n",
       "      <td>NEGATIVO</td>\n",
       "    </tr>\n",
       "    <tr>\n",
       "      <th>28</th>\n",
       "      <td>28</td>\n",
       "      <td>allegro</td>\n",
       "      <td>Me he alojado en el Allegro durante dos días. ...</td>\n",
       "      <td>NEUTRAL</td>\n",
       "      <td>NEGATIVO</td>\n",
       "    </tr>\n",
       "    <tr>\n",
       "      <th>30</th>\n",
       "      <td>30</td>\n",
       "      <td>allegro</td>\n",
       "      <td>Su sitio web me cautivó lo suficiente como par...</td>\n",
       "      <td>NEUTRAL</td>\n",
       "      <td>NEGATIVO</td>\n",
       "    </tr>\n",
       "    <tr>\n",
       "      <th>33</th>\n",
       "      <td>33</td>\n",
       "      <td>allegro</td>\n",
       "      <td>Quedé muy insatisfecho con mi estancia en el A...</td>\n",
       "      <td>NEUTRAL</td>\n",
       "      <td>NEGATIVO</td>\n",
       "    </tr>\n",
       "    <tr>\n",
       "      <th>...</th>\n",
       "      <td>...</td>\n",
       "      <td>...</td>\n",
       "      <td>...</td>\n",
       "      <td>...</td>\n",
       "      <td>...</td>\n",
       "    </tr>\n",
       "    <tr>\n",
       "      <th>782</th>\n",
       "      <td>782</td>\n",
       "      <td>talbott</td>\n",
       "      <td>No soy muy quejoso, como puedes ver al revisar...</td>\n",
       "      <td>NEUTRAL</td>\n",
       "      <td>NEGATIVO</td>\n",
       "    </tr>\n",
       "    <tr>\n",
       "      <th>784</th>\n",
       "      <td>784</td>\n",
       "      <td>talbott</td>\n",
       "      <td>El Talbott Hotel en sí está un poco desgastado...</td>\n",
       "      <td>NEGATIVO</td>\n",
       "      <td>NEGATIVO</td>\n",
       "    </tr>\n",
       "    <tr>\n",
       "      <th>787</th>\n",
       "      <td>787</td>\n",
       "      <td>talbott</td>\n",
       "      <td>Ubicación, ubicación, ubicación. ¡Qué gran hal...</td>\n",
       "      <td>NEUTRAL</td>\n",
       "      <td>NEGATIVO</td>\n",
       "    </tr>\n",
       "    <tr>\n",
       "      <th>789</th>\n",
       "      <td>789</td>\n",
       "      <td>talbott</td>\n",
       "      <td>Había solicitado una habitación tranquila con ...</td>\n",
       "      <td>POSITIVO</td>\n",
       "      <td>NEGATIVO</td>\n",
       "    </tr>\n",
       "    <tr>\n",
       "      <th>794</th>\n",
       "      <td>794</td>\n",
       "      <td>talbott</td>\n",
       "      <td>Encontré este hotel en el folleto \"Pequeños ho...</td>\n",
       "      <td>NEUTRAL</td>\n",
       "      <td>NEGATIVO</td>\n",
       "    </tr>\n",
       "  </tbody>\n",
       "</table>\n",
       "<p>229 rows × 5 columns</p>\n",
       "</div>"
      ],
      "text/plain": [
       "     Unnamed: 0 Nombre Hotel   \n",
       "12           12      affinia  \\\n",
       "22           22      allegro   \n",
       "28           28      allegro   \n",
       "30           30      allegro   \n",
       "33           33      allegro   \n",
       "..          ...          ...   \n",
       "782         782      talbott   \n",
       "784         784      talbott   \n",
       "787         787      talbott   \n",
       "789         789      talbott   \n",
       "794         794      talbott   \n",
       "\n",
       "                                            Comentario Sentimiento   \n",
       "12   Recientemente me alojé en el hotel Affinia en ...    POSITIVO  \\\n",
       "22   Recientemente visité Chicago. Me alojé en el H...    POSITIVO   \n",
       "28   Me he alojado en el Allegro durante dos días. ...     NEUTRAL   \n",
       "30   Su sitio web me cautivó lo suficiente como par...     NEUTRAL   \n",
       "33   Quedé muy insatisfecho con mi estancia en el A...     NEUTRAL   \n",
       "..                                                 ...         ...   \n",
       "782  No soy muy quejoso, como puedes ver al revisar...     NEUTRAL   \n",
       "784  El Talbott Hotel en sí está un poco desgastado...    NEGATIVO   \n",
       "787  Ubicación, ubicación, ubicación. ¡Qué gran hal...     NEUTRAL   \n",
       "789  Había solicitado una habitación tranquila con ...    POSITIVO   \n",
       "794  Encontré este hotel en el folleto \"Pequeños ho...     NEUTRAL   \n",
       "\n",
       "    Sentimiento_VADER  \n",
       "12           NEGATIVO  \n",
       "22           NEGATIVO  \n",
       "28           NEGATIVO  \n",
       "30           NEGATIVO  \n",
       "33           NEGATIVO  \n",
       "..                ...  \n",
       "782          NEGATIVO  \n",
       "784          NEGATIVO  \n",
       "787          NEGATIVO  \n",
       "789          NEGATIVO  \n",
       "794          NEGATIVO  \n",
       "\n",
       "[229 rows x 5 columns]"
      ]
     },
     "execution_count": 79,
     "metadata": {},
     "output_type": "execute_result"
    }
   ],
   "source": [
    "df_sentimientos_competencia_negativos=df_sentimientos_competencia[df_sentimientos_competencia['Sentimiento_VADER']=='NEGATIVO']\n",
    "df_sentimientos_competencia_negativos"
   ]
  },
  {
   "cell_type": "code",
   "execution_count": 94,
   "id": "a06c1865",
   "metadata": {},
   "outputs": [
    {
     "data": {
      "text/html": [
       "<div>\n",
       "<style scoped>\n",
       "    .dataframe tbody tr th:only-of-type {\n",
       "        vertical-align: middle;\n",
       "    }\n",
       "\n",
       "    .dataframe tbody tr th {\n",
       "        vertical-align: top;\n",
       "    }\n",
       "\n",
       "    .dataframe thead th {\n",
       "        text-align: right;\n",
       "    }\n",
       "</style>\n",
       "<table border=\"1\" class=\"dataframe\">\n",
       "  <thead>\n",
       "    <tr style=\"text-align: right;\">\n",
       "      <th></th>\n",
       "      <th>Unnamed: 0</th>\n",
       "      <th>Nombre Hotel</th>\n",
       "      <th>Comentario</th>\n",
       "      <th>Sentimiento</th>\n",
       "      <th>Sentimiento_VADER</th>\n",
       "      <th>Categoria_Satisfaccion</th>\n",
       "    </tr>\n",
       "  </thead>\n",
       "  <tbody>\n",
       "    <tr>\n",
       "      <th>100</th>\n",
       "      <td>100</td>\n",
       "      <td>fairmont</td>\n",
       "      <td>Reservamos un paquete American Girl Place en e...</td>\n",
       "      <td>NEUTRAL</td>\n",
       "      <td>POSITIVO</td>\n",
       "      <td>Calidad de las instalaciones</td>\n",
       "    </tr>\n",
       "    <tr>\n",
       "      <th>101</th>\n",
       "      <td>101</td>\n",
       "      <td>fairmont</td>\n",
       "      <td>Me alojé recientemente en el Fairmont Chicago ...</td>\n",
       "      <td>NEUTRAL</td>\n",
       "      <td>POSITIVO</td>\n",
       "      <td>Calidad del servicio</td>\n",
       "    </tr>\n",
       "    <tr>\n",
       "      <th>103</th>\n",
       "      <td>103</td>\n",
       "      <td>fairmont</td>\n",
       "      <td>El Fairmont Chicago Millennium Park tiene que ...</td>\n",
       "      <td>POSITIVO</td>\n",
       "      <td>POSITIVO</td>\n",
       "      <td>Precios y valor</td>\n",
       "    </tr>\n",
       "    <tr>\n",
       "      <th>106</th>\n",
       "      <td>106</td>\n",
       "      <td>fairmont</td>\n",
       "      <td>Mi estancia en el Fairmont Chicago Millennium ...</td>\n",
       "      <td>NEUTRAL</td>\n",
       "      <td>POSITIVO</td>\n",
       "      <td>Calidad del servicio</td>\n",
       "    </tr>\n",
       "    <tr>\n",
       "      <th>112</th>\n",
       "      <td>112</td>\n",
       "      <td>fairmont</td>\n",
       "      <td>¡Mi experiencia con el hotel Fairmont Chicago ...</td>\n",
       "      <td>NEGATIVO</td>\n",
       "      <td>POSITIVO</td>\n",
       "      <td>Calidad del servicio</td>\n",
       "    </tr>\n",
       "    <tr>\n",
       "      <th>114</th>\n",
       "      <td>114</td>\n",
       "      <td>fairmont</td>\n",
       "      <td>Me hospedé en el Fairmont Chicago Millennium P...</td>\n",
       "      <td>NEUTRAL</td>\n",
       "      <td>POSITIVO</td>\n",
       "      <td>Calidad del servicio</td>\n",
       "    </tr>\n",
       "    <tr>\n",
       "      <th>115</th>\n",
       "      <td>115</td>\n",
       "      <td>fairmont</td>\n",
       "      <td>Siempre que decidí quedarme en el Fairmont Chi...</td>\n",
       "      <td>POSITIVO</td>\n",
       "      <td>POSITIVO</td>\n",
       "      <td>Calidad del servicio</td>\n",
       "    </tr>\n",
       "    <tr>\n",
       "      <th>117</th>\n",
       "      <td>117</td>\n",
       "      <td>fairmont</td>\n",
       "      <td>Recientemente me alojé en el hotel Fairmont Ch...</td>\n",
       "      <td>POSITIVO</td>\n",
       "      <td>POSITIVO</td>\n",
       "      <td>Calidad del servicio</td>\n",
       "    </tr>\n",
       "    <tr>\n",
       "      <th>163</th>\n",
       "      <td>163</td>\n",
       "      <td>homewood</td>\n",
       "      <td>Me alojé en el Homewood Suites en el centro de...</td>\n",
       "      <td>NEUTRAL</td>\n",
       "      <td>POSITIVO</td>\n",
       "      <td>Calidad del servicio</td>\n",
       "    </tr>\n",
       "    <tr>\n",
       "      <th>166</th>\n",
       "      <td>166</td>\n",
       "      <td>homewood</td>\n",
       "      <td>Fui al Homewood Suites en Chicago, que forma p...</td>\n",
       "      <td>POSITIVO</td>\n",
       "      <td>POSITIVO</td>\n",
       "      <td>Calidad del servicio</td>\n",
       "    </tr>\n",
       "    <tr>\n",
       "      <th>168</th>\n",
       "      <td>168</td>\n",
       "      <td>homewood</td>\n",
       "      <td>Mi estancia en el Hilton fue como vivir en el ...</td>\n",
       "      <td>NEUTRAL</td>\n",
       "      <td>POSITIVO</td>\n",
       "      <td>Precios y valor</td>\n",
       "    </tr>\n",
       "    <tr>\n",
       "      <th>169</th>\n",
       "      <td>169</td>\n",
       "      <td>homewood</td>\n",
       "      <td>Al entrar en Homewood Suites, fui recibido por...</td>\n",
       "      <td>NEUTRAL</td>\n",
       "      <td>POSITIVO</td>\n",
       "      <td>Precios y valor</td>\n",
       "    </tr>\n",
       "    <tr>\n",
       "      <th>171</th>\n",
       "      <td>171</td>\n",
       "      <td>homewood</td>\n",
       "      <td>El Homewood Suites by Hilton, en el centro de ...</td>\n",
       "      <td>NEUTRAL</td>\n",
       "      <td>POSITIVO</td>\n",
       "      <td>Precios y valor</td>\n",
       "    </tr>\n",
       "    <tr>\n",
       "      <th>172</th>\n",
       "      <td>172</td>\n",
       "      <td>homewood</td>\n",
       "      <td>Recientemente me alojé en el Homewood Suites b...</td>\n",
       "      <td>POSITIVO</td>\n",
       "      <td>POSITIVO</td>\n",
       "      <td>Calidad del servicio</td>\n",
       "    </tr>\n",
       "    <tr>\n",
       "      <th>174</th>\n",
       "      <td>174</td>\n",
       "      <td>homewood</td>\n",
       "      <td>Dios mío, este tiene que ser uno de los peores...</td>\n",
       "      <td>POSITIVO</td>\n",
       "      <td>POSITIVO</td>\n",
       "      <td>Calidad del servicio</td>\n",
       "    </tr>\n",
       "    <tr>\n",
       "      <th>176</th>\n",
       "      <td>176</td>\n",
       "      <td>homewood</td>\n",
       "      <td>¡El Homewood Suites es uno de mis hoteles favo...</td>\n",
       "      <td>NEUTRAL</td>\n",
       "      <td>POSITIVO</td>\n",
       "      <td>Calidad del servicio</td>\n",
       "    </tr>\n",
       "    <tr>\n",
       "      <th>178</th>\n",
       "      <td>178</td>\n",
       "      <td>homewood</td>\n",
       "      <td>Después de considerar varios hoteles en el áre...</td>\n",
       "      <td>POSITIVO</td>\n",
       "      <td>POSITIVO</td>\n",
       "      <td>Calidad del servicio</td>\n",
       "    </tr>\n",
       "    <tr>\n",
       "      <th>180</th>\n",
       "      <td>180</td>\n",
       "      <td>hyatt</td>\n",
       "      <td>El hotel Hyatt Regency de Chicago fue el peor ...</td>\n",
       "      <td>NEUTRAL</td>\n",
       "      <td>POSITIVO</td>\n",
       "      <td>Calidad del servicio</td>\n",
       "    </tr>\n",
       "    <tr>\n",
       "      <th>181</th>\n",
       "      <td>181</td>\n",
       "      <td>hyatt</td>\n",
       "      <td>Durante mi reciente estadía en el Hyatt Regenc...</td>\n",
       "      <td>POSITIVO</td>\n",
       "      <td>POSITIVO</td>\n",
       "      <td>Calidad de las instalaciones</td>\n",
       "    </tr>\n",
       "    <tr>\n",
       "      <th>185</th>\n",
       "      <td>185</td>\n",
       "      <td>hyatt</td>\n",
       "      <td>Cuando revisé por primera vez el sitio web y l...</td>\n",
       "      <td>NEUTRAL</td>\n",
       "      <td>POSITIVO</td>\n",
       "      <td>Calidad del servicio</td>\n",
       "    </tr>\n",
       "    <tr>\n",
       "      <th>187</th>\n",
       "      <td>187</td>\n",
       "      <td>hyatt</td>\n",
       "      <td>El Hyatt Regency Chicago parecía un buen lugar...</td>\n",
       "      <td>NEUTRAL</td>\n",
       "      <td>POSITIVO</td>\n",
       "      <td>Calidad del servicio</td>\n",
       "    </tr>\n",
       "    <tr>\n",
       "      <th>190</th>\n",
       "      <td>190</td>\n",
       "      <td>hyatt</td>\n",
       "      <td>Recientemente me alojé en el hotel Hyatt Regen...</td>\n",
       "      <td>NEUTRAL</td>\n",
       "      <td>POSITIVO</td>\n",
       "      <td>Calidad del servicio</td>\n",
       "    </tr>\n",
       "    <tr>\n",
       "      <th>191</th>\n",
       "      <td>191</td>\n",
       "      <td>hyatt</td>\n",
       "      <td>Mi esposa y yo fuimos a Chicago para disfrutar...</td>\n",
       "      <td>NEUTRAL</td>\n",
       "      <td>POSITIVO</td>\n",
       "      <td>Experiencia general</td>\n",
       "    </tr>\n",
       "    <tr>\n",
       "      <th>192</th>\n",
       "      <td>192</td>\n",
       "      <td>hyatt</td>\n",
       "      <td>Hotel Hyatt Regency: buen centro de Chicago. L...</td>\n",
       "      <td>NEUTRAL</td>\n",
       "      <td>POSITIVO</td>\n",
       "      <td>Precios y valor</td>\n",
       "    </tr>\n",
       "    <tr>\n",
       "      <th>194</th>\n",
       "      <td>194</td>\n",
       "      <td>hyatt</td>\n",
       "      <td>Mi esposa y yo nos hospedamos en el Hyatt Rege...</td>\n",
       "      <td>NEGATIVO</td>\n",
       "      <td>POSITIVO</td>\n",
       "      <td>Calidad del servicio</td>\n",
       "    </tr>\n",
       "    <tr>\n",
       "      <th>196</th>\n",
       "      <td>196</td>\n",
       "      <td>hyatt</td>\n",
       "      <td>Decidimos gastar un poco más para alojarnos en...</td>\n",
       "      <td>POSITIVO</td>\n",
       "      <td>POSITIVO</td>\n",
       "      <td>Calidad del servicio</td>\n",
       "    </tr>\n",
       "    <tr>\n",
       "      <th>198</th>\n",
       "      <td>198</td>\n",
       "      <td>hyatt</td>\n",
       "      <td>Hace poco me alojé en el Hyatt Regency en Chic...</td>\n",
       "      <td>NEUTRAL</td>\n",
       "      <td>POSITIVO</td>\n",
       "      <td>Calidad del servicio</td>\n",
       "    </tr>\n",
       "    <tr>\n",
       "      <th>501</th>\n",
       "      <td>501</td>\n",
       "      <td>fairmont</td>\n",
       "      <td>Los hoteles Fairmont son generalmente mi opció...</td>\n",
       "      <td>POSITIVO</td>\n",
       "      <td>POSITIVO</td>\n",
       "      <td>Precios y valor</td>\n",
       "    </tr>\n",
       "    <tr>\n",
       "      <th>504</th>\n",
       "      <td>504</td>\n",
       "      <td>fairmont</td>\n",
       "      <td>Tenía muchas ganas de quedarme aquí para mi bo...</td>\n",
       "      <td>NEUTRAL</td>\n",
       "      <td>POSITIVO</td>\n",
       "      <td>Calidad del servicio</td>\n",
       "    </tr>\n",
       "    <tr>\n",
       "      <th>505</th>\n",
       "      <td>505</td>\n",
       "      <td>fairmont</td>\n",
       "      <td>Hermoso hotel, pero no tiene mucho que ofrecer...</td>\n",
       "      <td>NEUTRAL</td>\n",
       "      <td>POSITIVO</td>\n",
       "      <td>Precios y valor</td>\n",
       "    </tr>\n",
       "    <tr>\n",
       "      <th>507</th>\n",
       "      <td>507</td>\n",
       "      <td>fairmont</td>\n",
       "      <td>El hotel está bien ubicado, pero el servicio e...</td>\n",
       "      <td>NEUTRAL</td>\n",
       "      <td>POSITIVO</td>\n",
       "      <td>Precios y valor</td>\n",
       "    </tr>\n",
       "    <tr>\n",
       "      <th>508</th>\n",
       "      <td>508</td>\n",
       "      <td>fairmont</td>\n",
       "      <td>Nos alojamos en el Fairmont dos sábados seguid...</td>\n",
       "      <td>NEUTRAL</td>\n",
       "      <td>POSITIVO</td>\n",
       "      <td>Precios y valor</td>\n",
       "    </tr>\n",
       "    <tr>\n",
       "      <th>509</th>\n",
       "      <td>509</td>\n",
       "      <td>fairmont</td>\n",
       "      <td>Para ser un supuesto hotel de 4 estrellas, akk...</td>\n",
       "      <td>POSITIVO</td>\n",
       "      <td>POSITIVO</td>\n",
       "      <td>No clasificado</td>\n",
       "    </tr>\n",
       "    <tr>\n",
       "      <th>512</th>\n",
       "      <td>512</td>\n",
       "      <td>fairmont</td>\n",
       "      <td>El inodoro del baño perdía agua por todo el ba...</td>\n",
       "      <td>NEUTRAL</td>\n",
       "      <td>POSITIVO</td>\n",
       "      <td>Calidad de las instalaciones</td>\n",
       "    </tr>\n",
       "    <tr>\n",
       "      <th>514</th>\n",
       "      <td>514</td>\n",
       "      <td>fairmont</td>\n",
       "      <td>Esta vez me decepcionó mucho el hotel. Parece ...</td>\n",
       "      <td>NEUTRAL</td>\n",
       "      <td>POSITIVO</td>\n",
       "      <td>Calidad del servicio</td>\n",
       "    </tr>\n",
       "    <tr>\n",
       "      <th>516</th>\n",
       "      <td>516</td>\n",
       "      <td>fairmont</td>\n",
       "      <td>Me alojé en el Chicago Fairmont por cuatro noc...</td>\n",
       "      <td>NEUTRAL</td>\n",
       "      <td>POSITIVO</td>\n",
       "      <td>Precios y valor</td>\n",
       "    </tr>\n",
       "    <tr>\n",
       "      <th>519</th>\n",
       "      <td>519</td>\n",
       "      <td>fairmont</td>\n",
       "      <td>No hay botones allí cuando los necesitas, pers...</td>\n",
       "      <td>NEUTRAL</td>\n",
       "      <td>POSITIVO</td>\n",
       "      <td>No clasificado</td>\n",
       "    </tr>\n",
       "    <tr>\n",
       "      <th>561</th>\n",
       "      <td>561</td>\n",
       "      <td>homewood</td>\n",
       "      <td>Al entrar al hotel por primera vez, nos recibi...</td>\n",
       "      <td>NEUTRAL</td>\n",
       "      <td>POSITIVO</td>\n",
       "      <td>Calidad del servicio</td>\n",
       "    </tr>\n",
       "    <tr>\n",
       "      <th>562</th>\n",
       "      <td>562</td>\n",
       "      <td>homewood</td>\n",
       "      <td>ADVERTENCIA: ¡¡¡ALERTA DE ENVENENAMIENTO ALIME...</td>\n",
       "      <td>NEUTRAL</td>\n",
       "      <td>POSITIVO</td>\n",
       "      <td>No clasificado</td>\n",
       "    </tr>\n",
       "    <tr>\n",
       "      <th>563</th>\n",
       "      <td>563</td>\n",
       "      <td>homewood</td>\n",
       "      <td>Ubicación ideal justo en el corazón del lado n...</td>\n",
       "      <td>POSITIVO</td>\n",
       "      <td>POSITIVO</td>\n",
       "      <td>Calidad del servicio</td>\n",
       "    </tr>\n",
       "    <tr>\n",
       "      <th>565</th>\n",
       "      <td>565</td>\n",
       "      <td>homewood</td>\n",
       "      <td>Este hotel lleva el nombre de Hilton y, aunque...</td>\n",
       "      <td>POSITIVO</td>\n",
       "      <td>POSITIVO</td>\n",
       "      <td>Calidad de las instalaciones</td>\n",
       "    </tr>\n",
       "    <tr>\n",
       "      <th>567</th>\n",
       "      <td>567</td>\n",
       "      <td>homewood</td>\n",
       "      <td>Aunque las críticas de este hotel son muy buen...</td>\n",
       "      <td>NEUTRAL</td>\n",
       "      <td>POSITIVO</td>\n",
       "      <td>Calidad del servicio</td>\n",
       "    </tr>\n",
       "    <tr>\n",
       "      <th>573</th>\n",
       "      <td>573</td>\n",
       "      <td>homewood</td>\n",
       "      <td>El vestíbulo del Homewood está justo al final ...</td>\n",
       "      <td>NEUTRAL</td>\n",
       "      <td>POSITIVO</td>\n",
       "      <td>No clasificado</td>\n",
       "    </tr>\n",
       "    <tr>\n",
       "      <th>574</th>\n",
       "      <td>574</td>\n",
       "      <td>homewood</td>\n",
       "      <td>Reservé este hotel para que mi familia de 4 pe...</td>\n",
       "      <td>POSITIVO</td>\n",
       "      <td>POSITIVO</td>\n",
       "      <td>Calidad del servicio</td>\n",
       "    </tr>\n",
       "    <tr>\n",
       "      <th>575</th>\n",
       "      <td>575</td>\n",
       "      <td>homewood</td>\n",
       "      <td>Reservé este hotel en Priceline para el 13/4 y...</td>\n",
       "      <td>NEUTRAL</td>\n",
       "      <td>POSITIVO</td>\n",
       "      <td>Calidad del servicio</td>\n",
       "    </tr>\n",
       "    <tr>\n",
       "      <th>577</th>\n",
       "      <td>577</td>\n",
       "      <td>homewood</td>\n",
       "      <td>Después de leer buenas críticas, reservé una e...</td>\n",
       "      <td>NEUTRAL</td>\n",
       "      <td>POSITIVO</td>\n",
       "      <td>Calidad del servicio</td>\n",
       "    </tr>\n",
       "    <tr>\n",
       "      <th>578</th>\n",
       "      <td>578</td>\n",
       "      <td>homewood</td>\n",
       "      <td>Este hotel tenía una excelente ubicación, pero...</td>\n",
       "      <td>NEUTRAL</td>\n",
       "      <td>POSITIVO</td>\n",
       "      <td>Precios y valor</td>\n",
       "    </tr>\n",
       "    <tr>\n",
       "      <th>580</th>\n",
       "      <td>580</td>\n",
       "      <td>hyatt</td>\n",
       "      <td>Nuestro viaje fue nuestro viaje anual de anive...</td>\n",
       "      <td>NEUTRAL</td>\n",
       "      <td>POSITIVO</td>\n",
       "      <td>Calidad del servicio</td>\n",
       "    </tr>\n",
       "    <tr>\n",
       "      <th>583</th>\n",
       "      <td>583</td>\n",
       "      <td>hyatt</td>\n",
       "      <td>Mis expectativas no eran altas porque reservé ...</td>\n",
       "      <td>NEUTRAL</td>\n",
       "      <td>POSITIVO</td>\n",
       "      <td>Precios y valor</td>\n",
       "    </tr>\n",
       "    <tr>\n",
       "      <th>584</th>\n",
       "      <td>584</td>\n",
       "      <td>hyatt</td>\n",
       "      <td>Gracias a Dios conseguí este hotel a través de...</td>\n",
       "      <td>POSITIVO</td>\n",
       "      <td>POSITIVO</td>\n",
       "      <td>Precios y valor</td>\n",
       "    </tr>\n",
       "    <tr>\n",
       "      <th>585</th>\n",
       "      <td>585</td>\n",
       "      <td>hyatt</td>\n",
       "      <td>Las colas en el mostrador de facturación eran ...</td>\n",
       "      <td>NEUTRAL</td>\n",
       "      <td>POSITIVO</td>\n",
       "      <td>Precios y valor</td>\n",
       "    </tr>\n",
       "    <tr>\n",
       "      <th>590</th>\n",
       "      <td>590</td>\n",
       "      <td>hyatt</td>\n",
       "      <td>La habitación era muy espaciosa y tenía una de...</td>\n",
       "      <td>POSITIVO</td>\n",
       "      <td>POSITIVO</td>\n",
       "      <td>Calidad de las instalaciones</td>\n",
       "    </tr>\n",
       "    <tr>\n",
       "      <th>591</th>\n",
       "      <td>591</td>\n",
       "      <td>hyatt</td>\n",
       "      <td>Mi familia y yo nos hospedamos en el Hyatt en ...</td>\n",
       "      <td>NEUTRAL</td>\n",
       "      <td>POSITIVO</td>\n",
       "      <td>Precios y valor</td>\n",
       "    </tr>\n",
       "    <tr>\n",
       "      <th>595</th>\n",
       "      <td>595</td>\n",
       "      <td>hyatt</td>\n",
       "      <td>Viajo a menudo por negocios y este hotel ocupa...</td>\n",
       "      <td>NEGATIVO</td>\n",
       "      <td>POSITIVO</td>\n",
       "      <td>Precios y valor</td>\n",
       "    </tr>\n",
       "    <tr>\n",
       "      <th>597</th>\n",
       "      <td>597</td>\n",
       "      <td>hyatt</td>\n",
       "      <td>Permaneciendo aquí actualmente. Había aspirado...</td>\n",
       "      <td>NEUTRAL</td>\n",
       "      <td>POSITIVO</td>\n",
       "      <td>Calidad del servicio</td>\n",
       "    </tr>\n",
       "    <tr>\n",
       "      <th>599</th>\n",
       "      <td>599</td>\n",
       "      <td>hyatt</td>\n",
       "      <td>Tuvimos un problema con el servicio de limpiez...</td>\n",
       "      <td>POSITIVO</td>\n",
       "      <td>POSITIVO</td>\n",
       "      <td>Calidad del servicio</td>\n",
       "    </tr>\n",
       "  </tbody>\n",
       "</table>\n",
       "</div>"
      ],
      "text/plain": [
       "     Unnamed: 0 Nombre Hotel   \n",
       "100         100     fairmont  \\\n",
       "101         101     fairmont   \n",
       "103         103     fairmont   \n",
       "106         106     fairmont   \n",
       "112         112     fairmont   \n",
       "114         114     fairmont   \n",
       "115         115     fairmont   \n",
       "117         117     fairmont   \n",
       "163         163     homewood   \n",
       "166         166     homewood   \n",
       "168         168     homewood   \n",
       "169         169     homewood   \n",
       "171         171     homewood   \n",
       "172         172     homewood   \n",
       "174         174     homewood   \n",
       "176         176     homewood   \n",
       "178         178     homewood   \n",
       "180         180        hyatt   \n",
       "181         181        hyatt   \n",
       "185         185        hyatt   \n",
       "187         187        hyatt   \n",
       "190         190        hyatt   \n",
       "191         191        hyatt   \n",
       "192         192        hyatt   \n",
       "194         194        hyatt   \n",
       "196         196        hyatt   \n",
       "198         198        hyatt   \n",
       "501         501     fairmont   \n",
       "504         504     fairmont   \n",
       "505         505     fairmont   \n",
       "507         507     fairmont   \n",
       "508         508     fairmont   \n",
       "509         509     fairmont   \n",
       "512         512     fairmont   \n",
       "514         514     fairmont   \n",
       "516         516     fairmont   \n",
       "519         519     fairmont   \n",
       "561         561     homewood   \n",
       "562         562     homewood   \n",
       "563         563     homewood   \n",
       "565         565     homewood   \n",
       "567         567     homewood   \n",
       "573         573     homewood   \n",
       "574         574     homewood   \n",
       "575         575     homewood   \n",
       "577         577     homewood   \n",
       "578         578     homewood   \n",
       "580         580        hyatt   \n",
       "583         583        hyatt   \n",
       "584         584        hyatt   \n",
       "585         585        hyatt   \n",
       "590         590        hyatt   \n",
       "591         591        hyatt   \n",
       "595         595        hyatt   \n",
       "597         597        hyatt   \n",
       "599         599        hyatt   \n",
       "\n",
       "                                            Comentario Sentimiento   \n",
       "100  Reservamos un paquete American Girl Place en e...     NEUTRAL  \\\n",
       "101  Me alojé recientemente en el Fairmont Chicago ...     NEUTRAL   \n",
       "103  El Fairmont Chicago Millennium Park tiene que ...    POSITIVO   \n",
       "106  Mi estancia en el Fairmont Chicago Millennium ...     NEUTRAL   \n",
       "112  ¡Mi experiencia con el hotel Fairmont Chicago ...    NEGATIVO   \n",
       "114  Me hospedé en el Fairmont Chicago Millennium P...     NEUTRAL   \n",
       "115  Siempre que decidí quedarme en el Fairmont Chi...    POSITIVO   \n",
       "117  Recientemente me alojé en el hotel Fairmont Ch...    POSITIVO   \n",
       "163  Me alojé en el Homewood Suites en el centro de...     NEUTRAL   \n",
       "166  Fui al Homewood Suites en Chicago, que forma p...    POSITIVO   \n",
       "168  Mi estancia en el Hilton fue como vivir en el ...     NEUTRAL   \n",
       "169  Al entrar en Homewood Suites, fui recibido por...     NEUTRAL   \n",
       "171  El Homewood Suites by Hilton, en el centro de ...     NEUTRAL   \n",
       "172  Recientemente me alojé en el Homewood Suites b...    POSITIVO   \n",
       "174  Dios mío, este tiene que ser uno de los peores...    POSITIVO   \n",
       "176  ¡El Homewood Suites es uno de mis hoteles favo...     NEUTRAL   \n",
       "178  Después de considerar varios hoteles en el áre...    POSITIVO   \n",
       "180  El hotel Hyatt Regency de Chicago fue el peor ...     NEUTRAL   \n",
       "181  Durante mi reciente estadía en el Hyatt Regenc...    POSITIVO   \n",
       "185  Cuando revisé por primera vez el sitio web y l...     NEUTRAL   \n",
       "187  El Hyatt Regency Chicago parecía un buen lugar...     NEUTRAL   \n",
       "190  Recientemente me alojé en el hotel Hyatt Regen...     NEUTRAL   \n",
       "191  Mi esposa y yo fuimos a Chicago para disfrutar...     NEUTRAL   \n",
       "192  Hotel Hyatt Regency: buen centro de Chicago. L...     NEUTRAL   \n",
       "194  Mi esposa y yo nos hospedamos en el Hyatt Rege...    NEGATIVO   \n",
       "196  Decidimos gastar un poco más para alojarnos en...    POSITIVO   \n",
       "198  Hace poco me alojé en el Hyatt Regency en Chic...     NEUTRAL   \n",
       "501  Los hoteles Fairmont son generalmente mi opció...    POSITIVO   \n",
       "504  Tenía muchas ganas de quedarme aquí para mi bo...     NEUTRAL   \n",
       "505  Hermoso hotel, pero no tiene mucho que ofrecer...     NEUTRAL   \n",
       "507  El hotel está bien ubicado, pero el servicio e...     NEUTRAL   \n",
       "508  Nos alojamos en el Fairmont dos sábados seguid...     NEUTRAL   \n",
       "509  Para ser un supuesto hotel de 4 estrellas, akk...    POSITIVO   \n",
       "512  El inodoro del baño perdía agua por todo el ba...     NEUTRAL   \n",
       "514  Esta vez me decepcionó mucho el hotel. Parece ...     NEUTRAL   \n",
       "516  Me alojé en el Chicago Fairmont por cuatro noc...     NEUTRAL   \n",
       "519  No hay botones allí cuando los necesitas, pers...     NEUTRAL   \n",
       "561  Al entrar al hotel por primera vez, nos recibi...     NEUTRAL   \n",
       "562  ADVERTENCIA: ¡¡¡ALERTA DE ENVENENAMIENTO ALIME...     NEUTRAL   \n",
       "563  Ubicación ideal justo en el corazón del lado n...    POSITIVO   \n",
       "565  Este hotel lleva el nombre de Hilton y, aunque...    POSITIVO   \n",
       "567  Aunque las críticas de este hotel son muy buen...     NEUTRAL   \n",
       "573  El vestíbulo del Homewood está justo al final ...     NEUTRAL   \n",
       "574  Reservé este hotel para que mi familia de 4 pe...    POSITIVO   \n",
       "575  Reservé este hotel en Priceline para el 13/4 y...     NEUTRAL   \n",
       "577  Después de leer buenas críticas, reservé una e...     NEUTRAL   \n",
       "578  Este hotel tenía una excelente ubicación, pero...     NEUTRAL   \n",
       "580  Nuestro viaje fue nuestro viaje anual de anive...     NEUTRAL   \n",
       "583  Mis expectativas no eran altas porque reservé ...     NEUTRAL   \n",
       "584  Gracias a Dios conseguí este hotel a través de...    POSITIVO   \n",
       "585  Las colas en el mostrador de facturación eran ...     NEUTRAL   \n",
       "590  La habitación era muy espaciosa y tenía una de...    POSITIVO   \n",
       "591  Mi familia y yo nos hospedamos en el Hyatt en ...     NEUTRAL   \n",
       "595  Viajo a menudo por negocios y este hotel ocupa...    NEGATIVO   \n",
       "597  Permaneciendo aquí actualmente. Había aspirado...     NEUTRAL   \n",
       "599  Tuvimos un problema con el servicio de limpiez...    POSITIVO   \n",
       "\n",
       "    Sentimiento_VADER        Categoria_Satisfaccion  \n",
       "100          POSITIVO  Calidad de las instalaciones  \n",
       "101          POSITIVO          Calidad del servicio  \n",
       "103          POSITIVO               Precios y valor  \n",
       "106          POSITIVO          Calidad del servicio  \n",
       "112          POSITIVO          Calidad del servicio  \n",
       "114          POSITIVO          Calidad del servicio  \n",
       "115          POSITIVO          Calidad del servicio  \n",
       "117          POSITIVO          Calidad del servicio  \n",
       "163          POSITIVO          Calidad del servicio  \n",
       "166          POSITIVO          Calidad del servicio  \n",
       "168          POSITIVO               Precios y valor  \n",
       "169          POSITIVO               Precios y valor  \n",
       "171          POSITIVO               Precios y valor  \n",
       "172          POSITIVO          Calidad del servicio  \n",
       "174          POSITIVO          Calidad del servicio  \n",
       "176          POSITIVO          Calidad del servicio  \n",
       "178          POSITIVO          Calidad del servicio  \n",
       "180          POSITIVO          Calidad del servicio  \n",
       "181          POSITIVO  Calidad de las instalaciones  \n",
       "185          POSITIVO          Calidad del servicio  \n",
       "187          POSITIVO          Calidad del servicio  \n",
       "190          POSITIVO          Calidad del servicio  \n",
       "191          POSITIVO           Experiencia general  \n",
       "192          POSITIVO               Precios y valor  \n",
       "194          POSITIVO          Calidad del servicio  \n",
       "196          POSITIVO          Calidad del servicio  \n",
       "198          POSITIVO          Calidad del servicio  \n",
       "501          POSITIVO               Precios y valor  \n",
       "504          POSITIVO          Calidad del servicio  \n",
       "505          POSITIVO               Precios y valor  \n",
       "507          POSITIVO               Precios y valor  \n",
       "508          POSITIVO               Precios y valor  \n",
       "509          POSITIVO                No clasificado  \n",
       "512          POSITIVO  Calidad de las instalaciones  \n",
       "514          POSITIVO          Calidad del servicio  \n",
       "516          POSITIVO               Precios y valor  \n",
       "519          POSITIVO                No clasificado  \n",
       "561          POSITIVO          Calidad del servicio  \n",
       "562          POSITIVO                No clasificado  \n",
       "563          POSITIVO          Calidad del servicio  \n",
       "565          POSITIVO  Calidad de las instalaciones  \n",
       "567          POSITIVO          Calidad del servicio  \n",
       "573          POSITIVO                No clasificado  \n",
       "574          POSITIVO          Calidad del servicio  \n",
       "575          POSITIVO          Calidad del servicio  \n",
       "577          POSITIVO          Calidad del servicio  \n",
       "578          POSITIVO               Precios y valor  \n",
       "580          POSITIVO          Calidad del servicio  \n",
       "583          POSITIVO               Precios y valor  \n",
       "584          POSITIVO               Precios y valor  \n",
       "585          POSITIVO               Precios y valor  \n",
       "590          POSITIVO  Calidad de las instalaciones  \n",
       "591          POSITIVO               Precios y valor  \n",
       "595          POSITIVO               Precios y valor  \n",
       "597          POSITIVO          Calidad del servicio  \n",
       "599          POSITIVO          Calidad del servicio  "
      ]
     },
     "execution_count": 94,
     "metadata": {},
     "output_type": "execute_result"
    }
   ],
   "source": [
    "df_sentimientos_competencia_negativostop=df_sentimientos_competencia_positivos[(df_sentimientos_competencia_positivos['Nombre Hotel']=='homewood')|(df_sentimientos_competencia_positivos['Nombre Hotel']=='fairmont')|(df_sentimientos_competencia_positivos['Nombre Hotel']=='hyatt')]\n",
    "df_sentimientos_competencia_negativostop"
   ]
  },
  {
   "cell_type": "code",
   "execution_count": 61,
   "id": "87d179e5",
   "metadata": {},
   "outputs": [
    {
     "name": "stderr",
     "output_type": "stream",
     "text": [
      "[nltk_data] Downloading package stopwords to\n",
      "[nltk_data]     e:\\Users\\1077730\\AppData\\Roaming\\nltk_data...\n",
      "[nltk_data]   Package stopwords is already up-to-date!\n"
     ]
    }
   ],
   "source": [
    "import nltk\n",
    "from nltk.corpus import stopwords\n",
    "\n",
    "# Descargar los recursos necesarios de NLTK (esto solo se necesita una vez)\n",
    "nltk.download('stopwords')\n",
    "\n",
    "# Definir las categorías de problemas y palabras clave\n",
    "categorias_problemas = {\n",
    "    'Precio y costos adicionales': [\n",
    "        'caro', 'tarifa', 'costo', 'elevado', 'precio', 'presupuesto', 'económico', 'costoso', 'gasto', \n",
    "        'inversión', 'incremento', 'subida', 'alza', 'aumento', 'desembolso', 'desembolso', 'cantidad', \n",
    "        'nivel', 'monto', 'característica', 'propiedad', 'importe', 'grado', 'escalón', 'tasa', 'pago', \n",
    "        'especie', 'coste', 'concepto', 'plus', 'cupo', 'clase', 'derecho', 'cuantía', 'cuota', 'chance', \n",
    "        'impuesto', 'precio', 'tiquete', 'grava', 'desglose', 'valla', 'impresión', 'adición', 'deuda', \n",
    "        'coste', 'oferta', 'estimación', 'costo', 'valor', 'coste', 'impuesto', 'tasa', 'inflación', 'caída', \n",
    "        'preocupación', 'billete', 'cambio', 'interés', 'duda', 'descuento', 'gobierno', 'moneda', 'resto', \n",
    "        'distribución', 'compra', 'futuro', 'asociación', 'parte', 'regulación', 'decreto', 'financiación', \n",
    "        'subvención', 'planificación', 'periodo', 'economía', 'sistema', 'actuación', 'costo', 'barra', 'tienda', \n",
    "        'inmueble', 'financiamiento', 'inversión', 'dinero', 'valoración', 'tarifa', 'distribución', 'prueba', \n",
    "        'aplicación', 'importación', 'precio', 'retiro', 'curso', 'alma', 'grano', 'cultura', 'razón', 'carro', \n",
    "        'metodología', 'precio','ticket','elevado','carísimo'\n",
    "    ],\n",
    "    'Calidad de las instalaciones': [\n",
    "        'habitación', 'instalación', 'limpieza', 'mantenimiento', 'condiciones', 'estado', 'aseo', 'aseado', \n",
    "        'higiene', 'confort', 'infraestructura', 'mejora', 'servicios', 'servicios', 'ambientación', 'instalación', \n",
    "        'edificio', 'hospitalidad', 'mobiliario', 'hospedaje', 'comodidad', 'apariencia', 'materiales', 'estructura', \n",
    "        'hoteles', 'vivienda', 'diseño', 'construcción', 'decoración', 'comodidades', 'hogar', 'residencia', 'acabados', \n",
    "        'lugar', 'inmueble', 'casa', 'estudio', 'vivienda', 'cómoda', 'cuidadoso', 'domicilio', 'detalle', 'operativo', \n",
    "        'respeto', 'especialización', 'bien', 'calidad', 'planta', 'tamaño', 'familia', 'altura', 'trabajo', 'recinto', \n",
    "        'problema', 'alivio', 'clima', 'proceso', 'oficina', 'sistema', 'juego', 'cuerpo', 'tela', 'edad', 'grupo', 'abuso', \n",
    "        'usuario', 'estación', 'ataque', 'perro', 'concepto', 'título', 'fecha', 'rojo', 'zona', 'reserva', 'enfermedad', \n",
    "        'núcleo', 'realidad', 'deber', 'compra', 'relación', 'minuto', 'problema', 'boca', 'comunidad', 'norma', 'fuerza', \n",
    "        'riesgo', 'cultura', 'tendencia', 'patrón', 'tradición', 'filosofía', 'opción', 'naturaleza', 'representación', \n",
    "        'fondo', 'fondo','aire','acondicionado','ruido'\n",
    "    ],\n",
    "    'Servicio al cliente': [\n",
    "        'servicio', 'personal', 'atención', 'amabilidad', 'respuesta', 'trato', 'recepción', 'ayuda', 'cliente', \n",
    "        'información', 'soporte', 'disposición', 'satisfacción', 'cortesía', 'consultoría', 'asistencia', 'calidad', \n",
    "        'recomendación', 'cordialidad', 'profesionalismo', 'hospitalidad', 'amistad', 'tacto', 'asesoría', 'utilización', \n",
    "        'necesidad', 'bienvenida', 'preparación', 'respuesta', 'servidor', 'atmósfera', 'oportunidad', 'uso', 'asistente', \n",
    "        'integridad', 'precaución', 'información', 'paciencia', 'vocación', 'voto', 'cuestión', 'dedicación', 'actitud', \n",
    "        'problema', 'presencia', 'asistente', 'retiro', 'entrega', 'grosero', 'grosera', 'rudo', 'groseros', 'bruscamente', \n",
    "        'altanero', 'servicio', 'cliente', 'plazo', 'disposición', 'práctica', 'servicio', 'prestigio', 'prueba', 'entrenamiento', \n",
    "        'especialidad', 'garantía', 'personalidad', 'país', 'riesgo', 'búsqueda', 'pasado', 'posibilidad', 'capítulo', 'profesional', \n",
    "        'tratamiento', 'lugar', 'solución', 'actitud', 'familia', 'especie', 'compañía', 'modelo', 'firma', 'materia', 'desarrollo', \n",
    "        'centro', 'vida', 'crecimiento', 'casa', 'empresa', 'visión', 'economía', 'movimiento', 'esquema', 'comunicación', 'parte', \n",
    "        'comité', 'comunidad', 'dirección', 'esfuerzo', 'momento', 'gobierno', 'término', 'relación', 'ciudad', 'educación', 'empresa'\n",
    "    ],\n",
    "   'Experiencia general': [\n",
    "        'experiencia', 'estancia', 'comida', 'visita', 'viaje', 'impresiones', 'opinión', 'satisfacción', 'comentario', \n",
    "        'momento', 'estudio', 'reacción', 'recuerdo', 'instante', 'contemplación', 'comunicación', 'tarea', 'hábito', \n",
    "        'desarrollo', 'condición', 'impacto', 'presente', 'concepto', 'institución', 'ver', 'formación', 'compromiso', \n",
    "        'pasión', 'carácter', 'especie','general']\n",
    "}\n",
    "\n",
    "\n",
    "# Obtener palabras vacías (stop words) para español\n",
    "stop_words = set(stopwords.words('spanish'))\n",
    "\n",
    "import nltk\n",
    "from collections import defaultdict\n",
    "\n",
    "def etiquetar_problema_nltk(comentario, categorias_problemas, stop_words):\n",
    "    tokens = nltk.word_tokenize(comentario.lower())\n",
    "    categoria_count = defaultdict(int)\n",
    "\n",
    "    for categoria, palabras_clave in categorias_problemas.items():\n",
    "        for palabra_clave in palabras_clave:\n",
    "            if palabra_clave in tokens and palabra_clave not in stop_words:\n",
    "                categoria_count[categoria] += 1\n",
    "\n",
    "    # Encontrar la categoría con el recuento máximo\n",
    "    if categoria_count:\n",
    "        categoria_max = max(categoria_count, key=categoria_count.get)\n",
    "        return categoria_max\n",
    "    else:\n",
    "        return 'Experiencia general'\n",
    "\n",
    "\n"
   ]
  },
  {
   "cell_type": "code",
   "execution_count": null,
   "id": "11095f4e",
   "metadata": {},
   "outputs": [],
   "source": []
  },
  {
   "cell_type": "code",
   "execution_count": 62,
   "id": "1588c6dd",
   "metadata": {},
   "outputs": [
    {
     "name": "stderr",
     "output_type": "stream",
     "text": [
      "[nltk_data] Downloading package punkt to\n",
      "[nltk_data]     e:\\Users\\1077730\\AppData\\Roaming\\nltk_data...\n",
      "[nltk_data]   Package punkt is already up-to-date!\n"
     ]
    },
    {
     "data": {
      "text/plain": [
       "True"
      ]
     },
     "execution_count": 62,
     "metadata": {},
     "output_type": "execute_result"
    }
   ],
   "source": [
    "import nltk\n",
    "nltk.download('punkt')\n"
   ]
  },
  {
   "cell_type": "code",
   "execution_count": 117,
   "id": "ed7030bd",
   "metadata": {},
   "outputs": [],
   "source": [
    "import nltk\n",
    "from collections import defaultdict\n",
    "\n",
    "def etiquetar_problema_nltk(comentario, categorias_problemas, stop_words):\n",
    "    tokens = nltk.word_tokenize(comentario.lower())\n",
    "    categoria_count = defaultdict(int)\n",
    "\n",
    "    for categoria, palabras_clave in categorias_problemas.items():\n",
    "        for palabra_clave in palabras_clave:\n",
    "            if palabra_clave in tokens and palabra_clave not in stop_words:\n",
    "                categoria_count[categoria] += 1\n",
    "\n",
    "    if categoria_count:\n",
    "        categoria_max = max(categoria_count, key=categoria_count.get)\n",
    "        return categoria_max\n",
    "    else:\n",
    "        return 'Experiencia general'\n",
    "\n",
    "# Aplicar la función etiquetar_problema_nltk al DataFrame usando lambda para pasar argumentos adicionales\n",
    "df_sentimientos_competencia['Categoria_Problema'] = df_sentimientos_competencia['Comentario'].apply(lambda x: etiquetar_problema_nltk(x, categorias_problemas, stop_words))\n",
    "\n"
   ]
  },
  {
   "cell_type": "code",
   "execution_count": 65,
   "id": "fc8e5e03",
   "metadata": {},
   "outputs": [
    {
     "data": {
      "text/html": [
       "<div>\n",
       "<style scoped>\n",
       "    .dataframe tbody tr th:only-of-type {\n",
       "        vertical-align: middle;\n",
       "    }\n",
       "\n",
       "    .dataframe tbody tr th {\n",
       "        vertical-align: top;\n",
       "    }\n",
       "\n",
       "    .dataframe thead th {\n",
       "        text-align: right;\n",
       "    }\n",
       "</style>\n",
       "<table border=\"1\" class=\"dataframe\">\n",
       "  <thead>\n",
       "    <tr style=\"text-align: right;\">\n",
       "      <th></th>\n",
       "      <th>Unnamed: 0.1</th>\n",
       "      <th>Unnamed: 0</th>\n",
       "      <th>Translated_Review</th>\n",
       "      <th>Rating</th>\n",
       "      <th>Sentimiento</th>\n",
       "      <th>Sentimiento_VADER</th>\n",
       "      <th>SENTIMIENTO_CALCULADO</th>\n",
       "      <th>Categoria_Problema</th>\n",
       "    </tr>\n",
       "  </thead>\n",
       "  <tbody>\n",
       "    <tr>\n",
       "      <th>2</th>\n",
       "      <td>2</td>\n",
       "      <td>2</td>\n",
       "      <td>Bonitas habitaciones, no un hotel de 4* con ex...</td>\n",
       "      <td>3</td>\n",
       "      <td>NEGATIVO</td>\n",
       "      <td>NEGATIVO</td>\n",
       "      <td>NEGATIVO</td>\n",
       "      <td>Precio y costos adicionales</td>\n",
       "    </tr>\n",
       "    <tr>\n",
       "      <th>15</th>\n",
       "      <td>15</td>\n",
       "      <td>15</td>\n",
       "      <td>horrible servicio al cliente estancia en el ho...</td>\n",
       "      <td>1</td>\n",
       "      <td>NEGATIVO</td>\n",
       "      <td>NEGATIVO</td>\n",
       "      <td>NEGATIVO</td>\n",
       "      <td>Servicio al cliente</td>\n",
       "    </tr>\n",
       "    <tr>\n",
       "      <th>19</th>\n",
       "      <td>19</td>\n",
       "      <td>19</td>\n",
       "      <td>hmmmmm, dice que hay muchas esperanzas en el h...</td>\n",
       "      <td>3</td>\n",
       "      <td>NEGATIVO</td>\n",
       "      <td>POSITIVO</td>\n",
       "      <td>NEGATIVO</td>\n",
       "      <td>Servicio al cliente</td>\n",
       "    </tr>\n",
       "    <tr>\n",
       "      <th>32</th>\n",
       "      <td>32</td>\n",
       "      <td>32</td>\n",
       "      <td>Ruido, aire acondicionado: estándar, estadía o...</td>\n",
       "      <td>1</td>\n",
       "      <td>NEUTRAL</td>\n",
       "      <td>NEGATIVO</td>\n",
       "      <td>NEGATIVO</td>\n",
       "      <td>Calidad de las instalaciones</td>\n",
       "    </tr>\n",
       "    <tr>\n",
       "      <th>40</th>\n",
       "      <td>40</td>\n",
       "      <td>40</td>\n",
       "      <td>Mala elección, cable caliente del hotel reserv...</td>\n",
       "      <td>1</td>\n",
       "      <td>NEUTRAL</td>\n",
       "      <td>NEGATIVO</td>\n",
       "      <td>NEGATIVO</td>\n",
       "      <td>Calidad de las instalaciones</td>\n",
       "    </tr>\n",
       "    <tr>\n",
       "      <th>...</th>\n",
       "      <td>...</td>\n",
       "      <td>...</td>\n",
       "      <td>...</td>\n",
       "      <td>...</td>\n",
       "      <td>...</td>\n",
       "      <td>...</td>\n",
       "      <td>...</td>\n",
       "      <td>...</td>\n",
       "    </tr>\n",
       "    <tr>\n",
       "      <th>13070</th>\n",
       "      <td>13070</td>\n",
       "      <td>13070</td>\n",
       "      <td>Malo, poco acogedor, mal servicio, habitación ...</td>\n",
       "      <td>1</td>\n",
       "      <td>NEUTRAL</td>\n",
       "      <td>NEGATIVO</td>\n",
       "      <td>NEGATIVO</td>\n",
       "      <td>Precio y costos adicionales</td>\n",
       "    </tr>\n",
       "    <tr>\n",
       "      <th>13101</th>\n",
       "      <td>13101</td>\n",
       "      <td>13101</td>\n",
       "      <td>buen hotel con un presupuesto pequeño nos hosp...</td>\n",
       "      <td>4</td>\n",
       "      <td>NEGATIVO</td>\n",
       "      <td>NEGATIVO</td>\n",
       "      <td>NEGATIVO</td>\n",
       "      <td>Precio y costos adicionales</td>\n",
       "    </tr>\n",
       "    <tr>\n",
       "      <th>13116</th>\n",
       "      <td>13116</td>\n",
       "      <td>13116</td>\n",
       "      <td>no es el secreto mejor guardado, promedio mejo...</td>\n",
       "      <td>2</td>\n",
       "      <td>NEGATIVO</td>\n",
       "      <td>NEGATIVO</td>\n",
       "      <td>NEGATIVO</td>\n",
       "      <td>Precio y costos adicionales</td>\n",
       "    </tr>\n",
       "    <tr>\n",
       "      <th>13129</th>\n",
       "      <td>13129</td>\n",
       "      <td>13129</td>\n",
       "      <td>No me molesté en quedarme en la puerta, me que...</td>\n",
       "      <td>1</td>\n",
       "      <td>NEGATIVO</td>\n",
       "      <td>NEGATIVO</td>\n",
       "      <td>NEGATIVO</td>\n",
       "      <td>Servicio al cliente</td>\n",
       "    </tr>\n",
       "    <tr>\n",
       "      <th>13130</th>\n",
       "      <td>13130</td>\n",
       "      <td>13130</td>\n",
       "      <td>escribió el encabezado, breve. comida repugnan...</td>\n",
       "      <td>1</td>\n",
       "      <td>NEUTRAL</td>\n",
       "      <td>NEUTRAL</td>\n",
       "      <td>NEGATIVO</td>\n",
       "      <td>Calidad de las instalaciones</td>\n",
       "    </tr>\n",
       "  </tbody>\n",
       "</table>\n",
       "<p>1534 rows × 8 columns</p>\n",
       "</div>"
      ],
      "text/plain": [
       "       Unnamed: 0.1  Unnamed: 0   \n",
       "2                 2           2  \\\n",
       "15               15          15   \n",
       "19               19          19   \n",
       "32               32          32   \n",
       "40               40          40   \n",
       "...             ...         ...   \n",
       "13070         13070       13070   \n",
       "13101         13101       13101   \n",
       "13116         13116       13116   \n",
       "13129         13129       13129   \n",
       "13130         13130       13130   \n",
       "\n",
       "                                       Translated_Review  Rating Sentimiento   \n",
       "2      Bonitas habitaciones, no un hotel de 4* con ex...       3    NEGATIVO  \\\n",
       "15     horrible servicio al cliente estancia en el ho...       1    NEGATIVO   \n",
       "19     hmmmmm, dice que hay muchas esperanzas en el h...       3    NEGATIVO   \n",
       "32     Ruido, aire acondicionado: estándar, estadía o...       1     NEUTRAL   \n",
       "40     Mala elección, cable caliente del hotel reserv...       1     NEUTRAL   \n",
       "...                                                  ...     ...         ...   \n",
       "13070  Malo, poco acogedor, mal servicio, habitación ...       1     NEUTRAL   \n",
       "13101  buen hotel con un presupuesto pequeño nos hosp...       4    NEGATIVO   \n",
       "13116  no es el secreto mejor guardado, promedio mejo...       2    NEGATIVO   \n",
       "13129  No me molesté en quedarme en la puerta, me que...       1    NEGATIVO   \n",
       "13130  escribió el encabezado, breve. comida repugnan...       1     NEUTRAL   \n",
       "\n",
       "      Sentimiento_VADER SENTIMIENTO_CALCULADO            Categoria_Problema  \n",
       "2              NEGATIVO              NEGATIVO   Precio y costos adicionales  \n",
       "15             NEGATIVO              NEGATIVO           Servicio al cliente  \n",
       "19             POSITIVO              NEGATIVO           Servicio al cliente  \n",
       "32             NEGATIVO              NEGATIVO  Calidad de las instalaciones  \n",
       "40             NEGATIVO              NEGATIVO  Calidad de las instalaciones  \n",
       "...                 ...                   ...                           ...  \n",
       "13070          NEGATIVO              NEGATIVO   Precio y costos adicionales  \n",
       "13101          NEGATIVO              NEGATIVO   Precio y costos adicionales  \n",
       "13116          NEGATIVO              NEGATIVO   Precio y costos adicionales  \n",
       "13129          NEGATIVO              NEGATIVO           Servicio al cliente  \n",
       "13130           NEUTRAL              NEGATIVO  Calidad de las instalaciones  \n",
       "\n",
       "[1534 rows x 8 columns]"
      ]
     },
     "execution_count": 65,
     "metadata": {},
     "output_type": "execute_result"
    }
   ],
   "source": [
    "df_comentarios_negativos"
   ]
  },
  {
   "cell_type": "code",
   "execution_count": 96,
   "id": "f01b131f",
   "metadata": {},
   "outputs": [
    {
     "name": "stderr",
     "output_type": "stream",
     "text": [
      "e:\\Users\\1077730\\AppData\\Local\\Temp\\ipykernel_24372\\1296745121.py:1: SettingWithCopyWarning:\n",
      "\n",
      "\n",
      "A value is trying to be set on a copy of a slice from a DataFrame.\n",
      "Try using .loc[row_indexer,col_indexer] = value instead\n",
      "\n",
      "See the caveats in the documentation: https://pandas.pydata.org/pandas-docs/stable/user_guide/indexing.html#returning-a-view-versus-a-copy\n",
      "\n"
     ]
    },
    {
     "data": {
      "text/html": [
       "<div>\n",
       "<style scoped>\n",
       "    .dataframe tbody tr th:only-of-type {\n",
       "        vertical-align: middle;\n",
       "    }\n",
       "\n",
       "    .dataframe tbody tr th {\n",
       "        vertical-align: top;\n",
       "    }\n",
       "\n",
       "    .dataframe thead th {\n",
       "        text-align: right;\n",
       "    }\n",
       "</style>\n",
       "<table border=\"1\" class=\"dataframe\">\n",
       "  <thead>\n",
       "    <tr style=\"text-align: right;\">\n",
       "      <th></th>\n",
       "      <th>Unnamed: 0</th>\n",
       "      <th>Nombre Hotel</th>\n",
       "      <th>Comentario</th>\n",
       "      <th>Sentimiento</th>\n",
       "      <th>Sentimiento_VADER</th>\n",
       "      <th>Categoria_Satisfaccion</th>\n",
       "      <th>Categoria_Problema</th>\n",
       "    </tr>\n",
       "  </thead>\n",
       "  <tbody>\n",
       "    <tr>\n",
       "      <th>100</th>\n",
       "      <td>100</td>\n",
       "      <td>fairmont</td>\n",
       "      <td>Reservamos un paquete American Girl Place en e...</td>\n",
       "      <td>NEUTRAL</td>\n",
       "      <td>POSITIVO</td>\n",
       "      <td>Calidad de las instalaciones</td>\n",
       "      <td>Calidad de las instalaciones</td>\n",
       "    </tr>\n",
       "    <tr>\n",
       "      <th>101</th>\n",
       "      <td>101</td>\n",
       "      <td>fairmont</td>\n",
       "      <td>Me alojé recientemente en el Fairmont Chicago ...</td>\n",
       "      <td>NEUTRAL</td>\n",
       "      <td>POSITIVO</td>\n",
       "      <td>Calidad del servicio</td>\n",
       "      <td>Servicio al cliente</td>\n",
       "    </tr>\n",
       "    <tr>\n",
       "      <th>103</th>\n",
       "      <td>103</td>\n",
       "      <td>fairmont</td>\n",
       "      <td>El Fairmont Chicago Millennium Park tiene que ...</td>\n",
       "      <td>POSITIVO</td>\n",
       "      <td>POSITIVO</td>\n",
       "      <td>Precios y valor</td>\n",
       "      <td>Precio y costos adicionales</td>\n",
       "    </tr>\n",
       "    <tr>\n",
       "      <th>106</th>\n",
       "      <td>106</td>\n",
       "      <td>fairmont</td>\n",
       "      <td>Mi estancia en el Fairmont Chicago Millennium ...</td>\n",
       "      <td>NEUTRAL</td>\n",
       "      <td>POSITIVO</td>\n",
       "      <td>Calidad del servicio</td>\n",
       "      <td>Servicio al cliente</td>\n",
       "    </tr>\n",
       "    <tr>\n",
       "      <th>112</th>\n",
       "      <td>112</td>\n",
       "      <td>fairmont</td>\n",
       "      <td>¡Mi experiencia con el hotel Fairmont Chicago ...</td>\n",
       "      <td>NEGATIVO</td>\n",
       "      <td>POSITIVO</td>\n",
       "      <td>Calidad del servicio</td>\n",
       "      <td>Servicio al cliente</td>\n",
       "    </tr>\n",
       "    <tr>\n",
       "      <th>114</th>\n",
       "      <td>114</td>\n",
       "      <td>fairmont</td>\n",
       "      <td>Me hospedé en el Fairmont Chicago Millennium P...</td>\n",
       "      <td>NEUTRAL</td>\n",
       "      <td>POSITIVO</td>\n",
       "      <td>Calidad del servicio</td>\n",
       "      <td>Servicio al cliente</td>\n",
       "    </tr>\n",
       "    <tr>\n",
       "      <th>115</th>\n",
       "      <td>115</td>\n",
       "      <td>fairmont</td>\n",
       "      <td>Siempre que decidí quedarme en el Fairmont Chi...</td>\n",
       "      <td>POSITIVO</td>\n",
       "      <td>POSITIVO</td>\n",
       "      <td>Calidad del servicio</td>\n",
       "      <td>Calidad de las instalaciones</td>\n",
       "    </tr>\n",
       "    <tr>\n",
       "      <th>117</th>\n",
       "      <td>117</td>\n",
       "      <td>fairmont</td>\n",
       "      <td>Recientemente me alojé en el hotel Fairmont Ch...</td>\n",
       "      <td>POSITIVO</td>\n",
       "      <td>POSITIVO</td>\n",
       "      <td>Calidad del servicio</td>\n",
       "      <td>Servicio al cliente</td>\n",
       "    </tr>\n",
       "    <tr>\n",
       "      <th>163</th>\n",
       "      <td>163</td>\n",
       "      <td>homewood</td>\n",
       "      <td>Me alojé en el Homewood Suites en el centro de...</td>\n",
       "      <td>NEUTRAL</td>\n",
       "      <td>POSITIVO</td>\n",
       "      <td>Calidad del servicio</td>\n",
       "      <td>Experiencia general</td>\n",
       "    </tr>\n",
       "    <tr>\n",
       "      <th>166</th>\n",
       "      <td>166</td>\n",
       "      <td>homewood</td>\n",
       "      <td>Fui al Homewood Suites en Chicago, que forma p...</td>\n",
       "      <td>POSITIVO</td>\n",
       "      <td>POSITIVO</td>\n",
       "      <td>Calidad del servicio</td>\n",
       "      <td>Servicio al cliente</td>\n",
       "    </tr>\n",
       "    <tr>\n",
       "      <th>168</th>\n",
       "      <td>168</td>\n",
       "      <td>homewood</td>\n",
       "      <td>Mi estancia en el Hilton fue como vivir en el ...</td>\n",
       "      <td>NEUTRAL</td>\n",
       "      <td>POSITIVO</td>\n",
       "      <td>Precios y valor</td>\n",
       "      <td>Servicio al cliente</td>\n",
       "    </tr>\n",
       "    <tr>\n",
       "      <th>169</th>\n",
       "      <td>169</td>\n",
       "      <td>homewood</td>\n",
       "      <td>Al entrar en Homewood Suites, fui recibido por...</td>\n",
       "      <td>NEUTRAL</td>\n",
       "      <td>POSITIVO</td>\n",
       "      <td>Precios y valor</td>\n",
       "      <td>Precio y costos adicionales</td>\n",
       "    </tr>\n",
       "    <tr>\n",
       "      <th>171</th>\n",
       "      <td>171</td>\n",
       "      <td>homewood</td>\n",
       "      <td>El Homewood Suites by Hilton, en el centro de ...</td>\n",
       "      <td>NEUTRAL</td>\n",
       "      <td>POSITIVO</td>\n",
       "      <td>Precios y valor</td>\n",
       "      <td>Servicio al cliente</td>\n",
       "    </tr>\n",
       "    <tr>\n",
       "      <th>172</th>\n",
       "      <td>172</td>\n",
       "      <td>homewood</td>\n",
       "      <td>Recientemente me alojé en el Homewood Suites b...</td>\n",
       "      <td>POSITIVO</td>\n",
       "      <td>POSITIVO</td>\n",
       "      <td>Calidad del servicio</td>\n",
       "      <td>Calidad de las instalaciones</td>\n",
       "    </tr>\n",
       "    <tr>\n",
       "      <th>174</th>\n",
       "      <td>174</td>\n",
       "      <td>homewood</td>\n",
       "      <td>Dios mío, este tiene que ser uno de los peores...</td>\n",
       "      <td>POSITIVO</td>\n",
       "      <td>POSITIVO</td>\n",
       "      <td>Calidad del servicio</td>\n",
       "      <td>Servicio al cliente</td>\n",
       "    </tr>\n",
       "    <tr>\n",
       "      <th>176</th>\n",
       "      <td>176</td>\n",
       "      <td>homewood</td>\n",
       "      <td>¡El Homewood Suites es uno de mis hoteles favo...</td>\n",
       "      <td>NEUTRAL</td>\n",
       "      <td>POSITIVO</td>\n",
       "      <td>Calidad del servicio</td>\n",
       "      <td>Calidad de las instalaciones</td>\n",
       "    </tr>\n",
       "    <tr>\n",
       "      <th>178</th>\n",
       "      <td>178</td>\n",
       "      <td>homewood</td>\n",
       "      <td>Después de considerar varios hoteles en el áre...</td>\n",
       "      <td>POSITIVO</td>\n",
       "      <td>POSITIVO</td>\n",
       "      <td>Calidad del servicio</td>\n",
       "      <td>Servicio al cliente</td>\n",
       "    </tr>\n",
       "    <tr>\n",
       "      <th>180</th>\n",
       "      <td>180</td>\n",
       "      <td>hyatt</td>\n",
       "      <td>El hotel Hyatt Regency de Chicago fue el peor ...</td>\n",
       "      <td>NEUTRAL</td>\n",
       "      <td>POSITIVO</td>\n",
       "      <td>Calidad del servicio</td>\n",
       "      <td>Calidad de las instalaciones</td>\n",
       "    </tr>\n",
       "    <tr>\n",
       "      <th>181</th>\n",
       "      <td>181</td>\n",
       "      <td>hyatt</td>\n",
       "      <td>Durante mi reciente estadía en el Hyatt Regenc...</td>\n",
       "      <td>POSITIVO</td>\n",
       "      <td>POSITIVO</td>\n",
       "      <td>Calidad de las instalaciones</td>\n",
       "      <td>Servicio al cliente</td>\n",
       "    </tr>\n",
       "    <tr>\n",
       "      <th>185</th>\n",
       "      <td>185</td>\n",
       "      <td>hyatt</td>\n",
       "      <td>Cuando revisé por primera vez el sitio web y l...</td>\n",
       "      <td>NEUTRAL</td>\n",
       "      <td>POSITIVO</td>\n",
       "      <td>Calidad del servicio</td>\n",
       "      <td>Servicio al cliente</td>\n",
       "    </tr>\n",
       "    <tr>\n",
       "      <th>187</th>\n",
       "      <td>187</td>\n",
       "      <td>hyatt</td>\n",
       "      <td>El Hyatt Regency Chicago parecía un buen lugar...</td>\n",
       "      <td>NEUTRAL</td>\n",
       "      <td>POSITIVO</td>\n",
       "      <td>Calidad del servicio</td>\n",
       "      <td>Servicio al cliente</td>\n",
       "    </tr>\n",
       "    <tr>\n",
       "      <th>190</th>\n",
       "      <td>190</td>\n",
       "      <td>hyatt</td>\n",
       "      <td>Recientemente me alojé en el hotel Hyatt Regen...</td>\n",
       "      <td>NEUTRAL</td>\n",
       "      <td>POSITIVO</td>\n",
       "      <td>Calidad del servicio</td>\n",
       "      <td>Calidad de las instalaciones</td>\n",
       "    </tr>\n",
       "    <tr>\n",
       "      <th>191</th>\n",
       "      <td>191</td>\n",
       "      <td>hyatt</td>\n",
       "      <td>Mi esposa y yo fuimos a Chicago para disfrutar...</td>\n",
       "      <td>NEUTRAL</td>\n",
       "      <td>POSITIVO</td>\n",
       "      <td>Experiencia general</td>\n",
       "      <td>Calidad de las instalaciones</td>\n",
       "    </tr>\n",
       "    <tr>\n",
       "      <th>192</th>\n",
       "      <td>192</td>\n",
       "      <td>hyatt</td>\n",
       "      <td>Hotel Hyatt Regency: buen centro de Chicago. L...</td>\n",
       "      <td>NEUTRAL</td>\n",
       "      <td>POSITIVO</td>\n",
       "      <td>Precios y valor</td>\n",
       "      <td>Precio y costos adicionales</td>\n",
       "    </tr>\n",
       "    <tr>\n",
       "      <th>194</th>\n",
       "      <td>194</td>\n",
       "      <td>hyatt</td>\n",
       "      <td>Mi esposa y yo nos hospedamos en el Hyatt Rege...</td>\n",
       "      <td>NEGATIVO</td>\n",
       "      <td>POSITIVO</td>\n",
       "      <td>Calidad del servicio</td>\n",
       "      <td>Servicio al cliente</td>\n",
       "    </tr>\n",
       "    <tr>\n",
       "      <th>196</th>\n",
       "      <td>196</td>\n",
       "      <td>hyatt</td>\n",
       "      <td>Decidimos gastar un poco más para alojarnos en...</td>\n",
       "      <td>POSITIVO</td>\n",
       "      <td>POSITIVO</td>\n",
       "      <td>Calidad del servicio</td>\n",
       "      <td>Calidad de las instalaciones</td>\n",
       "    </tr>\n",
       "    <tr>\n",
       "      <th>198</th>\n",
       "      <td>198</td>\n",
       "      <td>hyatt</td>\n",
       "      <td>Hace poco me alojé en el Hyatt Regency en Chic...</td>\n",
       "      <td>NEUTRAL</td>\n",
       "      <td>POSITIVO</td>\n",
       "      <td>Calidad del servicio</td>\n",
       "      <td>Calidad de las instalaciones</td>\n",
       "    </tr>\n",
       "    <tr>\n",
       "      <th>501</th>\n",
       "      <td>501</td>\n",
       "      <td>fairmont</td>\n",
       "      <td>Los hoteles Fairmont son generalmente mi opció...</td>\n",
       "      <td>POSITIVO</td>\n",
       "      <td>POSITIVO</td>\n",
       "      <td>Precios y valor</td>\n",
       "      <td>Calidad de las instalaciones</td>\n",
       "    </tr>\n",
       "    <tr>\n",
       "      <th>504</th>\n",
       "      <td>504</td>\n",
       "      <td>fairmont</td>\n",
       "      <td>Tenía muchas ganas de quedarme aquí para mi bo...</td>\n",
       "      <td>NEUTRAL</td>\n",
       "      <td>POSITIVO</td>\n",
       "      <td>Calidad del servicio</td>\n",
       "      <td>Calidad de las instalaciones</td>\n",
       "    </tr>\n",
       "    <tr>\n",
       "      <th>505</th>\n",
       "      <td>505</td>\n",
       "      <td>fairmont</td>\n",
       "      <td>Hermoso hotel, pero no tiene mucho que ofrecer...</td>\n",
       "      <td>NEUTRAL</td>\n",
       "      <td>POSITIVO</td>\n",
       "      <td>Precios y valor</td>\n",
       "      <td>Precio y costos adicionales</td>\n",
       "    </tr>\n",
       "    <tr>\n",
       "      <th>507</th>\n",
       "      <td>507</td>\n",
       "      <td>fairmont</td>\n",
       "      <td>El hotel está bien ubicado, pero el servicio e...</td>\n",
       "      <td>NEUTRAL</td>\n",
       "      <td>POSITIVO</td>\n",
       "      <td>Precios y valor</td>\n",
       "      <td>Servicio al cliente</td>\n",
       "    </tr>\n",
       "    <tr>\n",
       "      <th>508</th>\n",
       "      <td>508</td>\n",
       "      <td>fairmont</td>\n",
       "      <td>Nos alojamos en el Fairmont dos sábados seguid...</td>\n",
       "      <td>NEUTRAL</td>\n",
       "      <td>POSITIVO</td>\n",
       "      <td>Precios y valor</td>\n",
       "      <td>Precio y costos adicionales</td>\n",
       "    </tr>\n",
       "    <tr>\n",
       "      <th>509</th>\n",
       "      <td>509</td>\n",
       "      <td>fairmont</td>\n",
       "      <td>Para ser un supuesto hotel de 4 estrellas, akk...</td>\n",
       "      <td>POSITIVO</td>\n",
       "      <td>POSITIVO</td>\n",
       "      <td>No clasificado</td>\n",
       "      <td>Calidad de las instalaciones</td>\n",
       "    </tr>\n",
       "    <tr>\n",
       "      <th>512</th>\n",
       "      <td>512</td>\n",
       "      <td>fairmont</td>\n",
       "      <td>El inodoro del baño perdía agua por todo el ba...</td>\n",
       "      <td>NEUTRAL</td>\n",
       "      <td>POSITIVO</td>\n",
       "      <td>Calidad de las instalaciones</td>\n",
       "      <td>Calidad de las instalaciones</td>\n",
       "    </tr>\n",
       "    <tr>\n",
       "      <th>514</th>\n",
       "      <td>514</td>\n",
       "      <td>fairmont</td>\n",
       "      <td>Esta vez me decepcionó mucho el hotel. Parece ...</td>\n",
       "      <td>NEUTRAL</td>\n",
       "      <td>POSITIVO</td>\n",
       "      <td>Calidad del servicio</td>\n",
       "      <td>Calidad de las instalaciones</td>\n",
       "    </tr>\n",
       "    <tr>\n",
       "      <th>516</th>\n",
       "      <td>516</td>\n",
       "      <td>fairmont</td>\n",
       "      <td>Me alojé en el Chicago Fairmont por cuatro noc...</td>\n",
       "      <td>NEUTRAL</td>\n",
       "      <td>POSITIVO</td>\n",
       "      <td>Precios y valor</td>\n",
       "      <td>Calidad de las instalaciones</td>\n",
       "    </tr>\n",
       "    <tr>\n",
       "      <th>519</th>\n",
       "      <td>519</td>\n",
       "      <td>fairmont</td>\n",
       "      <td>No hay botones allí cuando los necesitas, pers...</td>\n",
       "      <td>NEUTRAL</td>\n",
       "      <td>POSITIVO</td>\n",
       "      <td>No clasificado</td>\n",
       "      <td>Servicio al cliente</td>\n",
       "    </tr>\n",
       "    <tr>\n",
       "      <th>561</th>\n",
       "      <td>561</td>\n",
       "      <td>homewood</td>\n",
       "      <td>Al entrar al hotel por primera vez, nos recibi...</td>\n",
       "      <td>NEUTRAL</td>\n",
       "      <td>POSITIVO</td>\n",
       "      <td>Calidad del servicio</td>\n",
       "      <td>Servicio al cliente</td>\n",
       "    </tr>\n",
       "    <tr>\n",
       "      <th>562</th>\n",
       "      <td>562</td>\n",
       "      <td>homewood</td>\n",
       "      <td>ADVERTENCIA: ¡¡¡ALERTA DE ENVENENAMIENTO ALIME...</td>\n",
       "      <td>NEUTRAL</td>\n",
       "      <td>POSITIVO</td>\n",
       "      <td>No clasificado</td>\n",
       "      <td>Calidad de las instalaciones</td>\n",
       "    </tr>\n",
       "    <tr>\n",
       "      <th>563</th>\n",
       "      <td>563</td>\n",
       "      <td>homewood</td>\n",
       "      <td>Ubicación ideal justo en el corazón del lado n...</td>\n",
       "      <td>POSITIVO</td>\n",
       "      <td>POSITIVO</td>\n",
       "      <td>Calidad del servicio</td>\n",
       "      <td>Servicio al cliente</td>\n",
       "    </tr>\n",
       "    <tr>\n",
       "      <th>565</th>\n",
       "      <td>565</td>\n",
       "      <td>homewood</td>\n",
       "      <td>Este hotel lleva el nombre de Hilton y, aunque...</td>\n",
       "      <td>POSITIVO</td>\n",
       "      <td>POSITIVO</td>\n",
       "      <td>Calidad de las instalaciones</td>\n",
       "      <td>Calidad de las instalaciones</td>\n",
       "    </tr>\n",
       "    <tr>\n",
       "      <th>567</th>\n",
       "      <td>567</td>\n",
       "      <td>homewood</td>\n",
       "      <td>Aunque las críticas de este hotel son muy buen...</td>\n",
       "      <td>NEUTRAL</td>\n",
       "      <td>POSITIVO</td>\n",
       "      <td>Calidad del servicio</td>\n",
       "      <td>Servicio al cliente</td>\n",
       "    </tr>\n",
       "    <tr>\n",
       "      <th>573</th>\n",
       "      <td>573</td>\n",
       "      <td>homewood</td>\n",
       "      <td>El vestíbulo del Homewood está justo al final ...</td>\n",
       "      <td>NEUTRAL</td>\n",
       "      <td>POSITIVO</td>\n",
       "      <td>No clasificado</td>\n",
       "      <td>Calidad de las instalaciones</td>\n",
       "    </tr>\n",
       "    <tr>\n",
       "      <th>574</th>\n",
       "      <td>574</td>\n",
       "      <td>homewood</td>\n",
       "      <td>Reservé este hotel para que mi familia de 4 pe...</td>\n",
       "      <td>POSITIVO</td>\n",
       "      <td>POSITIVO</td>\n",
       "      <td>Calidad del servicio</td>\n",
       "      <td>Calidad de las instalaciones</td>\n",
       "    </tr>\n",
       "    <tr>\n",
       "      <th>575</th>\n",
       "      <td>575</td>\n",
       "      <td>homewood</td>\n",
       "      <td>Reservé este hotel en Priceline para el 13/4 y...</td>\n",
       "      <td>NEUTRAL</td>\n",
       "      <td>POSITIVO</td>\n",
       "      <td>Calidad del servicio</td>\n",
       "      <td>Calidad de las instalaciones</td>\n",
       "    </tr>\n",
       "    <tr>\n",
       "      <th>577</th>\n",
       "      <td>577</td>\n",
       "      <td>homewood</td>\n",
       "      <td>Después de leer buenas críticas, reservé una e...</td>\n",
       "      <td>NEUTRAL</td>\n",
       "      <td>POSITIVO</td>\n",
       "      <td>Calidad del servicio</td>\n",
       "      <td>Servicio al cliente</td>\n",
       "    </tr>\n",
       "    <tr>\n",
       "      <th>578</th>\n",
       "      <td>578</td>\n",
       "      <td>homewood</td>\n",
       "      <td>Este hotel tenía una excelente ubicación, pero...</td>\n",
       "      <td>NEUTRAL</td>\n",
       "      <td>POSITIVO</td>\n",
       "      <td>Precios y valor</td>\n",
       "      <td>Calidad de las instalaciones</td>\n",
       "    </tr>\n",
       "    <tr>\n",
       "      <th>580</th>\n",
       "      <td>580</td>\n",
       "      <td>hyatt</td>\n",
       "      <td>Nuestro viaje fue nuestro viaje anual de anive...</td>\n",
       "      <td>NEUTRAL</td>\n",
       "      <td>POSITIVO</td>\n",
       "      <td>Calidad del servicio</td>\n",
       "      <td>Calidad de las instalaciones</td>\n",
       "    </tr>\n",
       "    <tr>\n",
       "      <th>583</th>\n",
       "      <td>583</td>\n",
       "      <td>hyatt</td>\n",
       "      <td>Mis expectativas no eran altas porque reservé ...</td>\n",
       "      <td>NEUTRAL</td>\n",
       "      <td>POSITIVO</td>\n",
       "      <td>Precios y valor</td>\n",
       "      <td>Precio y costos adicionales</td>\n",
       "    </tr>\n",
       "    <tr>\n",
       "      <th>584</th>\n",
       "      <td>584</td>\n",
       "      <td>hyatt</td>\n",
       "      <td>Gracias a Dios conseguí este hotel a través de...</td>\n",
       "      <td>POSITIVO</td>\n",
       "      <td>POSITIVO</td>\n",
       "      <td>Precios y valor</td>\n",
       "      <td>Servicio al cliente</td>\n",
       "    </tr>\n",
       "    <tr>\n",
       "      <th>585</th>\n",
       "      <td>585</td>\n",
       "      <td>hyatt</td>\n",
       "      <td>Las colas en el mostrador de facturación eran ...</td>\n",
       "      <td>NEUTRAL</td>\n",
       "      <td>POSITIVO</td>\n",
       "      <td>Precios y valor</td>\n",
       "      <td>Precio y costos adicionales</td>\n",
       "    </tr>\n",
       "    <tr>\n",
       "      <th>590</th>\n",
       "      <td>590</td>\n",
       "      <td>hyatt</td>\n",
       "      <td>La habitación era muy espaciosa y tenía una de...</td>\n",
       "      <td>POSITIVO</td>\n",
       "      <td>POSITIVO</td>\n",
       "      <td>Calidad de las instalaciones</td>\n",
       "      <td>Calidad de las instalaciones</td>\n",
       "    </tr>\n",
       "    <tr>\n",
       "      <th>591</th>\n",
       "      <td>591</td>\n",
       "      <td>hyatt</td>\n",
       "      <td>Mi familia y yo nos hospedamos en el Hyatt en ...</td>\n",
       "      <td>NEUTRAL</td>\n",
       "      <td>POSITIVO</td>\n",
       "      <td>Precios y valor</td>\n",
       "      <td>Servicio al cliente</td>\n",
       "    </tr>\n",
       "    <tr>\n",
       "      <th>595</th>\n",
       "      <td>595</td>\n",
       "      <td>hyatt</td>\n",
       "      <td>Viajo a menudo por negocios y este hotel ocupa...</td>\n",
       "      <td>NEGATIVO</td>\n",
       "      <td>POSITIVO</td>\n",
       "      <td>Precios y valor</td>\n",
       "      <td>Servicio al cliente</td>\n",
       "    </tr>\n",
       "    <tr>\n",
       "      <th>597</th>\n",
       "      <td>597</td>\n",
       "      <td>hyatt</td>\n",
       "      <td>Permaneciendo aquí actualmente. Había aspirado...</td>\n",
       "      <td>NEUTRAL</td>\n",
       "      <td>POSITIVO</td>\n",
       "      <td>Calidad del servicio</td>\n",
       "      <td>Servicio al cliente</td>\n",
       "    </tr>\n",
       "    <tr>\n",
       "      <th>599</th>\n",
       "      <td>599</td>\n",
       "      <td>hyatt</td>\n",
       "      <td>Tuvimos un problema con el servicio de limpiez...</td>\n",
       "      <td>POSITIVO</td>\n",
       "      <td>POSITIVO</td>\n",
       "      <td>Calidad del servicio</td>\n",
       "      <td>Servicio al cliente</td>\n",
       "    </tr>\n",
       "  </tbody>\n",
       "</table>\n",
       "</div>"
      ],
      "text/plain": [
       "     Unnamed: 0 Nombre Hotel   \n",
       "100         100     fairmont  \\\n",
       "101         101     fairmont   \n",
       "103         103     fairmont   \n",
       "106         106     fairmont   \n",
       "112         112     fairmont   \n",
       "114         114     fairmont   \n",
       "115         115     fairmont   \n",
       "117         117     fairmont   \n",
       "163         163     homewood   \n",
       "166         166     homewood   \n",
       "168         168     homewood   \n",
       "169         169     homewood   \n",
       "171         171     homewood   \n",
       "172         172     homewood   \n",
       "174         174     homewood   \n",
       "176         176     homewood   \n",
       "178         178     homewood   \n",
       "180         180        hyatt   \n",
       "181         181        hyatt   \n",
       "185         185        hyatt   \n",
       "187         187        hyatt   \n",
       "190         190        hyatt   \n",
       "191         191        hyatt   \n",
       "192         192        hyatt   \n",
       "194         194        hyatt   \n",
       "196         196        hyatt   \n",
       "198         198        hyatt   \n",
       "501         501     fairmont   \n",
       "504         504     fairmont   \n",
       "505         505     fairmont   \n",
       "507         507     fairmont   \n",
       "508         508     fairmont   \n",
       "509         509     fairmont   \n",
       "512         512     fairmont   \n",
       "514         514     fairmont   \n",
       "516         516     fairmont   \n",
       "519         519     fairmont   \n",
       "561         561     homewood   \n",
       "562         562     homewood   \n",
       "563         563     homewood   \n",
       "565         565     homewood   \n",
       "567         567     homewood   \n",
       "573         573     homewood   \n",
       "574         574     homewood   \n",
       "575         575     homewood   \n",
       "577         577     homewood   \n",
       "578         578     homewood   \n",
       "580         580        hyatt   \n",
       "583         583        hyatt   \n",
       "584         584        hyatt   \n",
       "585         585        hyatt   \n",
       "590         590        hyatt   \n",
       "591         591        hyatt   \n",
       "595         595        hyatt   \n",
       "597         597        hyatt   \n",
       "599         599        hyatt   \n",
       "\n",
       "                                            Comentario Sentimiento   \n",
       "100  Reservamos un paquete American Girl Place en e...     NEUTRAL  \\\n",
       "101  Me alojé recientemente en el Fairmont Chicago ...     NEUTRAL   \n",
       "103  El Fairmont Chicago Millennium Park tiene que ...    POSITIVO   \n",
       "106  Mi estancia en el Fairmont Chicago Millennium ...     NEUTRAL   \n",
       "112  ¡Mi experiencia con el hotel Fairmont Chicago ...    NEGATIVO   \n",
       "114  Me hospedé en el Fairmont Chicago Millennium P...     NEUTRAL   \n",
       "115  Siempre que decidí quedarme en el Fairmont Chi...    POSITIVO   \n",
       "117  Recientemente me alojé en el hotel Fairmont Ch...    POSITIVO   \n",
       "163  Me alojé en el Homewood Suites en el centro de...     NEUTRAL   \n",
       "166  Fui al Homewood Suites en Chicago, que forma p...    POSITIVO   \n",
       "168  Mi estancia en el Hilton fue como vivir en el ...     NEUTRAL   \n",
       "169  Al entrar en Homewood Suites, fui recibido por...     NEUTRAL   \n",
       "171  El Homewood Suites by Hilton, en el centro de ...     NEUTRAL   \n",
       "172  Recientemente me alojé en el Homewood Suites b...    POSITIVO   \n",
       "174  Dios mío, este tiene que ser uno de los peores...    POSITIVO   \n",
       "176  ¡El Homewood Suites es uno de mis hoteles favo...     NEUTRAL   \n",
       "178  Después de considerar varios hoteles en el áre...    POSITIVO   \n",
       "180  El hotel Hyatt Regency de Chicago fue el peor ...     NEUTRAL   \n",
       "181  Durante mi reciente estadía en el Hyatt Regenc...    POSITIVO   \n",
       "185  Cuando revisé por primera vez el sitio web y l...     NEUTRAL   \n",
       "187  El Hyatt Regency Chicago parecía un buen lugar...     NEUTRAL   \n",
       "190  Recientemente me alojé en el hotel Hyatt Regen...     NEUTRAL   \n",
       "191  Mi esposa y yo fuimos a Chicago para disfrutar...     NEUTRAL   \n",
       "192  Hotel Hyatt Regency: buen centro de Chicago. L...     NEUTRAL   \n",
       "194  Mi esposa y yo nos hospedamos en el Hyatt Rege...    NEGATIVO   \n",
       "196  Decidimos gastar un poco más para alojarnos en...    POSITIVO   \n",
       "198  Hace poco me alojé en el Hyatt Regency en Chic...     NEUTRAL   \n",
       "501  Los hoteles Fairmont son generalmente mi opció...    POSITIVO   \n",
       "504  Tenía muchas ganas de quedarme aquí para mi bo...     NEUTRAL   \n",
       "505  Hermoso hotel, pero no tiene mucho que ofrecer...     NEUTRAL   \n",
       "507  El hotel está bien ubicado, pero el servicio e...     NEUTRAL   \n",
       "508  Nos alojamos en el Fairmont dos sábados seguid...     NEUTRAL   \n",
       "509  Para ser un supuesto hotel de 4 estrellas, akk...    POSITIVO   \n",
       "512  El inodoro del baño perdía agua por todo el ba...     NEUTRAL   \n",
       "514  Esta vez me decepcionó mucho el hotel. Parece ...     NEUTRAL   \n",
       "516  Me alojé en el Chicago Fairmont por cuatro noc...     NEUTRAL   \n",
       "519  No hay botones allí cuando los necesitas, pers...     NEUTRAL   \n",
       "561  Al entrar al hotel por primera vez, nos recibi...     NEUTRAL   \n",
       "562  ADVERTENCIA: ¡¡¡ALERTA DE ENVENENAMIENTO ALIME...     NEUTRAL   \n",
       "563  Ubicación ideal justo en el corazón del lado n...    POSITIVO   \n",
       "565  Este hotel lleva el nombre de Hilton y, aunque...    POSITIVO   \n",
       "567  Aunque las críticas de este hotel son muy buen...     NEUTRAL   \n",
       "573  El vestíbulo del Homewood está justo al final ...     NEUTRAL   \n",
       "574  Reservé este hotel para que mi familia de 4 pe...    POSITIVO   \n",
       "575  Reservé este hotel en Priceline para el 13/4 y...     NEUTRAL   \n",
       "577  Después de leer buenas críticas, reservé una e...     NEUTRAL   \n",
       "578  Este hotel tenía una excelente ubicación, pero...     NEUTRAL   \n",
       "580  Nuestro viaje fue nuestro viaje anual de anive...     NEUTRAL   \n",
       "583  Mis expectativas no eran altas porque reservé ...     NEUTRAL   \n",
       "584  Gracias a Dios conseguí este hotel a través de...    POSITIVO   \n",
       "585  Las colas en el mostrador de facturación eran ...     NEUTRAL   \n",
       "590  La habitación era muy espaciosa y tenía una de...    POSITIVO   \n",
       "591  Mi familia y yo nos hospedamos en el Hyatt en ...     NEUTRAL   \n",
       "595  Viajo a menudo por negocios y este hotel ocupa...    NEGATIVO   \n",
       "597  Permaneciendo aquí actualmente. Había aspirado...     NEUTRAL   \n",
       "599  Tuvimos un problema con el servicio de limpiez...    POSITIVO   \n",
       "\n",
       "    Sentimiento_VADER        Categoria_Satisfaccion   \n",
       "100          POSITIVO  Calidad de las instalaciones  \\\n",
       "101          POSITIVO          Calidad del servicio   \n",
       "103          POSITIVO               Precios y valor   \n",
       "106          POSITIVO          Calidad del servicio   \n",
       "112          POSITIVO          Calidad del servicio   \n",
       "114          POSITIVO          Calidad del servicio   \n",
       "115          POSITIVO          Calidad del servicio   \n",
       "117          POSITIVO          Calidad del servicio   \n",
       "163          POSITIVO          Calidad del servicio   \n",
       "166          POSITIVO          Calidad del servicio   \n",
       "168          POSITIVO               Precios y valor   \n",
       "169          POSITIVO               Precios y valor   \n",
       "171          POSITIVO               Precios y valor   \n",
       "172          POSITIVO          Calidad del servicio   \n",
       "174          POSITIVO          Calidad del servicio   \n",
       "176          POSITIVO          Calidad del servicio   \n",
       "178          POSITIVO          Calidad del servicio   \n",
       "180          POSITIVO          Calidad del servicio   \n",
       "181          POSITIVO  Calidad de las instalaciones   \n",
       "185          POSITIVO          Calidad del servicio   \n",
       "187          POSITIVO          Calidad del servicio   \n",
       "190          POSITIVO          Calidad del servicio   \n",
       "191          POSITIVO           Experiencia general   \n",
       "192          POSITIVO               Precios y valor   \n",
       "194          POSITIVO          Calidad del servicio   \n",
       "196          POSITIVO          Calidad del servicio   \n",
       "198          POSITIVO          Calidad del servicio   \n",
       "501          POSITIVO               Precios y valor   \n",
       "504          POSITIVO          Calidad del servicio   \n",
       "505          POSITIVO               Precios y valor   \n",
       "507          POSITIVO               Precios y valor   \n",
       "508          POSITIVO               Precios y valor   \n",
       "509          POSITIVO                No clasificado   \n",
       "512          POSITIVO  Calidad de las instalaciones   \n",
       "514          POSITIVO          Calidad del servicio   \n",
       "516          POSITIVO               Precios y valor   \n",
       "519          POSITIVO                No clasificado   \n",
       "561          POSITIVO          Calidad del servicio   \n",
       "562          POSITIVO                No clasificado   \n",
       "563          POSITIVO          Calidad del servicio   \n",
       "565          POSITIVO  Calidad de las instalaciones   \n",
       "567          POSITIVO          Calidad del servicio   \n",
       "573          POSITIVO                No clasificado   \n",
       "574          POSITIVO          Calidad del servicio   \n",
       "575          POSITIVO          Calidad del servicio   \n",
       "577          POSITIVO          Calidad del servicio   \n",
       "578          POSITIVO               Precios y valor   \n",
       "580          POSITIVO          Calidad del servicio   \n",
       "583          POSITIVO               Precios y valor   \n",
       "584          POSITIVO               Precios y valor   \n",
       "585          POSITIVO               Precios y valor   \n",
       "590          POSITIVO  Calidad de las instalaciones   \n",
       "591          POSITIVO               Precios y valor   \n",
       "595          POSITIVO               Precios y valor   \n",
       "597          POSITIVO          Calidad del servicio   \n",
       "599          POSITIVO          Calidad del servicio   \n",
       "\n",
       "               Categoria_Problema  \n",
       "100  Calidad de las instalaciones  \n",
       "101           Servicio al cliente  \n",
       "103   Precio y costos adicionales  \n",
       "106           Servicio al cliente  \n",
       "112           Servicio al cliente  \n",
       "114           Servicio al cliente  \n",
       "115  Calidad de las instalaciones  \n",
       "117           Servicio al cliente  \n",
       "163           Experiencia general  \n",
       "166           Servicio al cliente  \n",
       "168           Servicio al cliente  \n",
       "169   Precio y costos adicionales  \n",
       "171           Servicio al cliente  \n",
       "172  Calidad de las instalaciones  \n",
       "174           Servicio al cliente  \n",
       "176  Calidad de las instalaciones  \n",
       "178           Servicio al cliente  \n",
       "180  Calidad de las instalaciones  \n",
       "181           Servicio al cliente  \n",
       "185           Servicio al cliente  \n",
       "187           Servicio al cliente  \n",
       "190  Calidad de las instalaciones  \n",
       "191  Calidad de las instalaciones  \n",
       "192   Precio y costos adicionales  \n",
       "194           Servicio al cliente  \n",
       "196  Calidad de las instalaciones  \n",
       "198  Calidad de las instalaciones  \n",
       "501  Calidad de las instalaciones  \n",
       "504  Calidad de las instalaciones  \n",
       "505   Precio y costos adicionales  \n",
       "507           Servicio al cliente  \n",
       "508   Precio y costos adicionales  \n",
       "509  Calidad de las instalaciones  \n",
       "512  Calidad de las instalaciones  \n",
       "514  Calidad de las instalaciones  \n",
       "516  Calidad de las instalaciones  \n",
       "519           Servicio al cliente  \n",
       "561           Servicio al cliente  \n",
       "562  Calidad de las instalaciones  \n",
       "563           Servicio al cliente  \n",
       "565  Calidad de las instalaciones  \n",
       "567           Servicio al cliente  \n",
       "573  Calidad de las instalaciones  \n",
       "574  Calidad de las instalaciones  \n",
       "575  Calidad de las instalaciones  \n",
       "577           Servicio al cliente  \n",
       "578  Calidad de las instalaciones  \n",
       "580  Calidad de las instalaciones  \n",
       "583   Precio y costos adicionales  \n",
       "584           Servicio al cliente  \n",
       "585   Precio y costos adicionales  \n",
       "590  Calidad de las instalaciones  \n",
       "591           Servicio al cliente  \n",
       "595           Servicio al cliente  \n",
       "597           Servicio al cliente  \n",
       "599           Servicio al cliente  "
      ]
     },
     "execution_count": 96,
     "metadata": {},
     "output_type": "execute_result"
    }
   ],
   "source": [
    "df_sentimientos_competencia_negativostop['Categoria_Problema'] = df_sentimientos_competencia_negativostop['Comentario'].apply(lambda x: etiquetar_problema_nltk(x, categorias_problemas, stop_words))\n",
    "df_sentimientos_competencia_negativostop"
   ]
  },
  {
   "cell_type": "code",
   "execution_count": null,
   "id": "47081494",
   "metadata": {},
   "outputs": [],
   "source": []
  },
  {
   "cell_type": "code",
   "execution_count": null,
   "id": "48379055",
   "metadata": {},
   "outputs": [],
   "source": []
  },
  {
   "cell_type": "code",
   "execution_count": null,
   "id": "d2f3fb12",
   "metadata": {},
   "outputs": [],
   "source": []
  },
  {
   "cell_type": "code",
   "execution_count": 45,
   "id": "83dede07",
   "metadata": {},
   "outputs": [],
   "source": [
    "import csv\n",
    "\n",
    "with open('df_comentarios_negativos.csv', 'w', newline='', encoding='utf-8') as csvfile:\n",
    "    writer = csv.writer(csvfile)\n",
    "    writer.writerow(df_comentarios_negativos.columns)  # Escribir encabezados\n",
    "    writer.writerows(df_comentarios_negativos.values.tolist())  # Escribir filas\n"
   ]
  },
  {
   "cell_type": "code",
   "execution_count": 83,
   "id": "abe28cbb",
   "metadata": {},
   "outputs": [
    {
     "data": {
      "application/vnd.plotly.v1+json": {
       "config": {
        "plotlyServerURL": "https://plot.ly"
       },
       "data": [
        {
         "domain": {
          "x": [
           0,
           1
          ],
          "y": [
           0,
           1
          ]
         },
         "hovertemplate": "Categoria_Problema=%{label}<br>Count=%{value}<extra></extra>",
         "labels": [
          "Calidad de las instalaciones",
          "Servicio al cliente",
          "Precio y costos adicionales",
          "Experiencia general"
         ],
         "legendgroup": "",
         "name": "",
         "showlegend": true,
         "type": "pie",
         "values": [
          679,
          569,
          250,
          36
         ]
        }
       ],
       "layout": {
        "legend": {
         "tracegroupgap": 0
        },
        "piecolorway": [
         "rgb(141,211,199)",
         "rgb(255,255,179)",
         "rgb(190,186,218)",
         "rgb(251,128,114)",
         "rgb(128,177,211)",
         "rgb(253,180,98)",
         "rgb(179,222,105)",
         "rgb(252,205,229)",
         "rgb(217,217,217)",
         "rgb(188,128,189)",
         "rgb(204,235,197)",
         "rgb(255,237,111)"
        ],
        "template": {
         "data": {
          "bar": [
           {
            "error_x": {
             "color": "#2a3f5f"
            },
            "error_y": {
             "color": "#2a3f5f"
            },
            "marker": {
             "line": {
              "color": "#E5ECF6",
              "width": 0.5
             },
             "pattern": {
              "fillmode": "overlay",
              "size": 10,
              "solidity": 0.2
             }
            },
            "type": "bar"
           }
          ],
          "barpolar": [
           {
            "marker": {
             "line": {
              "color": "#E5ECF6",
              "width": 0.5
             },
             "pattern": {
              "fillmode": "overlay",
              "size": 10,
              "solidity": 0.2
             }
            },
            "type": "barpolar"
           }
          ],
          "carpet": [
           {
            "aaxis": {
             "endlinecolor": "#2a3f5f",
             "gridcolor": "white",
             "linecolor": "white",
             "minorgridcolor": "white",
             "startlinecolor": "#2a3f5f"
            },
            "baxis": {
             "endlinecolor": "#2a3f5f",
             "gridcolor": "white",
             "linecolor": "white",
             "minorgridcolor": "white",
             "startlinecolor": "#2a3f5f"
            },
            "type": "carpet"
           }
          ],
          "choropleth": [
           {
            "colorbar": {
             "outlinewidth": 0,
             "ticks": ""
            },
            "type": "choropleth"
           }
          ],
          "contour": [
           {
            "colorbar": {
             "outlinewidth": 0,
             "ticks": ""
            },
            "colorscale": [
             [
              0,
              "#0d0887"
             ],
             [
              0.1111111111111111,
              "#46039f"
             ],
             [
              0.2222222222222222,
              "#7201a8"
             ],
             [
              0.3333333333333333,
              "#9c179e"
             ],
             [
              0.4444444444444444,
              "#bd3786"
             ],
             [
              0.5555555555555556,
              "#d8576b"
             ],
             [
              0.6666666666666666,
              "#ed7953"
             ],
             [
              0.7777777777777778,
              "#fb9f3a"
             ],
             [
              0.8888888888888888,
              "#fdca26"
             ],
             [
              1,
              "#f0f921"
             ]
            ],
            "type": "contour"
           }
          ],
          "contourcarpet": [
           {
            "colorbar": {
             "outlinewidth": 0,
             "ticks": ""
            },
            "type": "contourcarpet"
           }
          ],
          "heatmap": [
           {
            "colorbar": {
             "outlinewidth": 0,
             "ticks": ""
            },
            "colorscale": [
             [
              0,
              "#0d0887"
             ],
             [
              0.1111111111111111,
              "#46039f"
             ],
             [
              0.2222222222222222,
              "#7201a8"
             ],
             [
              0.3333333333333333,
              "#9c179e"
             ],
             [
              0.4444444444444444,
              "#bd3786"
             ],
             [
              0.5555555555555556,
              "#d8576b"
             ],
             [
              0.6666666666666666,
              "#ed7953"
             ],
             [
              0.7777777777777778,
              "#fb9f3a"
             ],
             [
              0.8888888888888888,
              "#fdca26"
             ],
             [
              1,
              "#f0f921"
             ]
            ],
            "type": "heatmap"
           }
          ],
          "heatmapgl": [
           {
            "colorbar": {
             "outlinewidth": 0,
             "ticks": ""
            },
            "colorscale": [
             [
              0,
              "#0d0887"
             ],
             [
              0.1111111111111111,
              "#46039f"
             ],
             [
              0.2222222222222222,
              "#7201a8"
             ],
             [
              0.3333333333333333,
              "#9c179e"
             ],
             [
              0.4444444444444444,
              "#bd3786"
             ],
             [
              0.5555555555555556,
              "#d8576b"
             ],
             [
              0.6666666666666666,
              "#ed7953"
             ],
             [
              0.7777777777777778,
              "#fb9f3a"
             ],
             [
              0.8888888888888888,
              "#fdca26"
             ],
             [
              1,
              "#f0f921"
             ]
            ],
            "type": "heatmapgl"
           }
          ],
          "histogram": [
           {
            "marker": {
             "pattern": {
              "fillmode": "overlay",
              "size": 10,
              "solidity": 0.2
             }
            },
            "type": "histogram"
           }
          ],
          "histogram2d": [
           {
            "colorbar": {
             "outlinewidth": 0,
             "ticks": ""
            },
            "colorscale": [
             [
              0,
              "#0d0887"
             ],
             [
              0.1111111111111111,
              "#46039f"
             ],
             [
              0.2222222222222222,
              "#7201a8"
             ],
             [
              0.3333333333333333,
              "#9c179e"
             ],
             [
              0.4444444444444444,
              "#bd3786"
             ],
             [
              0.5555555555555556,
              "#d8576b"
             ],
             [
              0.6666666666666666,
              "#ed7953"
             ],
             [
              0.7777777777777778,
              "#fb9f3a"
             ],
             [
              0.8888888888888888,
              "#fdca26"
             ],
             [
              1,
              "#f0f921"
             ]
            ],
            "type": "histogram2d"
           }
          ],
          "histogram2dcontour": [
           {
            "colorbar": {
             "outlinewidth": 0,
             "ticks": ""
            },
            "colorscale": [
             [
              0,
              "#0d0887"
             ],
             [
              0.1111111111111111,
              "#46039f"
             ],
             [
              0.2222222222222222,
              "#7201a8"
             ],
             [
              0.3333333333333333,
              "#9c179e"
             ],
             [
              0.4444444444444444,
              "#bd3786"
             ],
             [
              0.5555555555555556,
              "#d8576b"
             ],
             [
              0.6666666666666666,
              "#ed7953"
             ],
             [
              0.7777777777777778,
              "#fb9f3a"
             ],
             [
              0.8888888888888888,
              "#fdca26"
             ],
             [
              1,
              "#f0f921"
             ]
            ],
            "type": "histogram2dcontour"
           }
          ],
          "mesh3d": [
           {
            "colorbar": {
             "outlinewidth": 0,
             "ticks": ""
            },
            "type": "mesh3d"
           }
          ],
          "parcoords": [
           {
            "line": {
             "colorbar": {
              "outlinewidth": 0,
              "ticks": ""
             }
            },
            "type": "parcoords"
           }
          ],
          "pie": [
           {
            "automargin": true,
            "type": "pie"
           }
          ],
          "scatter": [
           {
            "fillpattern": {
             "fillmode": "overlay",
             "size": 10,
             "solidity": 0.2
            },
            "type": "scatter"
           }
          ],
          "scatter3d": [
           {
            "line": {
             "colorbar": {
              "outlinewidth": 0,
              "ticks": ""
             }
            },
            "marker": {
             "colorbar": {
              "outlinewidth": 0,
              "ticks": ""
             }
            },
            "type": "scatter3d"
           }
          ],
          "scattercarpet": [
           {
            "marker": {
             "colorbar": {
              "outlinewidth": 0,
              "ticks": ""
             }
            },
            "type": "scattercarpet"
           }
          ],
          "scattergeo": [
           {
            "marker": {
             "colorbar": {
              "outlinewidth": 0,
              "ticks": ""
             }
            },
            "type": "scattergeo"
           }
          ],
          "scattergl": [
           {
            "marker": {
             "colorbar": {
              "outlinewidth": 0,
              "ticks": ""
             }
            },
            "type": "scattergl"
           }
          ],
          "scattermapbox": [
           {
            "marker": {
             "colorbar": {
              "outlinewidth": 0,
              "ticks": ""
             }
            },
            "type": "scattermapbox"
           }
          ],
          "scatterpolar": [
           {
            "marker": {
             "colorbar": {
              "outlinewidth": 0,
              "ticks": ""
             }
            },
            "type": "scatterpolar"
           }
          ],
          "scatterpolargl": [
           {
            "marker": {
             "colorbar": {
              "outlinewidth": 0,
              "ticks": ""
             }
            },
            "type": "scatterpolargl"
           }
          ],
          "scatterternary": [
           {
            "marker": {
             "colorbar": {
              "outlinewidth": 0,
              "ticks": ""
             }
            },
            "type": "scatterternary"
           }
          ],
          "surface": [
           {
            "colorbar": {
             "outlinewidth": 0,
             "ticks": ""
            },
            "colorscale": [
             [
              0,
              "#0d0887"
             ],
             [
              0.1111111111111111,
              "#46039f"
             ],
             [
              0.2222222222222222,
              "#7201a8"
             ],
             [
              0.3333333333333333,
              "#9c179e"
             ],
             [
              0.4444444444444444,
              "#bd3786"
             ],
             [
              0.5555555555555556,
              "#d8576b"
             ],
             [
              0.6666666666666666,
              "#ed7953"
             ],
             [
              0.7777777777777778,
              "#fb9f3a"
             ],
             [
              0.8888888888888888,
              "#fdca26"
             ],
             [
              1,
              "#f0f921"
             ]
            ],
            "type": "surface"
           }
          ],
          "table": [
           {
            "cells": {
             "fill": {
              "color": "#EBF0F8"
             },
             "line": {
              "color": "white"
             }
            },
            "header": {
             "fill": {
              "color": "#C8D4E3"
             },
             "line": {
              "color": "white"
             }
            },
            "type": "table"
           }
          ]
         },
         "layout": {
          "annotationdefaults": {
           "arrowcolor": "#2a3f5f",
           "arrowhead": 0,
           "arrowwidth": 1
          },
          "autotypenumbers": "strict",
          "coloraxis": {
           "colorbar": {
            "outlinewidth": 0,
            "ticks": ""
           }
          },
          "colorscale": {
           "diverging": [
            [
             0,
             "#8e0152"
            ],
            [
             0.1,
             "#c51b7d"
            ],
            [
             0.2,
             "#de77ae"
            ],
            [
             0.3,
             "#f1b6da"
            ],
            [
             0.4,
             "#fde0ef"
            ],
            [
             0.5,
             "#f7f7f7"
            ],
            [
             0.6,
             "#e6f5d0"
            ],
            [
             0.7,
             "#b8e186"
            ],
            [
             0.8,
             "#7fbc41"
            ],
            [
             0.9,
             "#4d9221"
            ],
            [
             1,
             "#276419"
            ]
           ],
           "sequential": [
            [
             0,
             "#0d0887"
            ],
            [
             0.1111111111111111,
             "#46039f"
            ],
            [
             0.2222222222222222,
             "#7201a8"
            ],
            [
             0.3333333333333333,
             "#9c179e"
            ],
            [
             0.4444444444444444,
             "#bd3786"
            ],
            [
             0.5555555555555556,
             "#d8576b"
            ],
            [
             0.6666666666666666,
             "#ed7953"
            ],
            [
             0.7777777777777778,
             "#fb9f3a"
            ],
            [
             0.8888888888888888,
             "#fdca26"
            ],
            [
             1,
             "#f0f921"
            ]
           ],
           "sequentialminus": [
            [
             0,
             "#0d0887"
            ],
            [
             0.1111111111111111,
             "#46039f"
            ],
            [
             0.2222222222222222,
             "#7201a8"
            ],
            [
             0.3333333333333333,
             "#9c179e"
            ],
            [
             0.4444444444444444,
             "#bd3786"
            ],
            [
             0.5555555555555556,
             "#d8576b"
            ],
            [
             0.6666666666666666,
             "#ed7953"
            ],
            [
             0.7777777777777778,
             "#fb9f3a"
            ],
            [
             0.8888888888888888,
             "#fdca26"
            ],
            [
             1,
             "#f0f921"
            ]
           ]
          },
          "colorway": [
           "#636efa",
           "#EF553B",
           "#00cc96",
           "#ab63fa",
           "#FFA15A",
           "#19d3f3",
           "#FF6692",
           "#B6E880",
           "#FF97FF",
           "#FECB52"
          ],
          "font": {
           "color": "#2a3f5f"
          },
          "geo": {
           "bgcolor": "white",
           "lakecolor": "white",
           "landcolor": "#E5ECF6",
           "showlakes": true,
           "showland": true,
           "subunitcolor": "white"
          },
          "hoverlabel": {
           "align": "left"
          },
          "hovermode": "closest",
          "mapbox": {
           "style": "light"
          },
          "paper_bgcolor": "white",
          "plot_bgcolor": "#E5ECF6",
          "polar": {
           "angularaxis": {
            "gridcolor": "white",
            "linecolor": "white",
            "ticks": ""
           },
           "bgcolor": "#E5ECF6",
           "radialaxis": {
            "gridcolor": "white",
            "linecolor": "white",
            "ticks": ""
           }
          },
          "scene": {
           "xaxis": {
            "backgroundcolor": "#E5ECF6",
            "gridcolor": "white",
            "gridwidth": 2,
            "linecolor": "white",
            "showbackground": true,
            "ticks": "",
            "zerolinecolor": "white"
           },
           "yaxis": {
            "backgroundcolor": "#E5ECF6",
            "gridcolor": "white",
            "gridwidth": 2,
            "linecolor": "white",
            "showbackground": true,
            "ticks": "",
            "zerolinecolor": "white"
           },
           "zaxis": {
            "backgroundcolor": "#E5ECF6",
            "gridcolor": "white",
            "gridwidth": 2,
            "linecolor": "white",
            "showbackground": true,
            "ticks": "",
            "zerolinecolor": "white"
           }
          },
          "shapedefaults": {
           "line": {
            "color": "#2a3f5f"
           }
          },
          "ternary": {
           "aaxis": {
            "gridcolor": "white",
            "linecolor": "white",
            "ticks": ""
           },
           "baxis": {
            "gridcolor": "white",
            "linecolor": "white",
            "ticks": ""
           },
           "bgcolor": "#E5ECF6",
           "caxis": {
            "gridcolor": "white",
            "linecolor": "white",
            "ticks": ""
           }
          },
          "title": {
           "x": 0.05
          },
          "xaxis": {
           "automargin": true,
           "gridcolor": "white",
           "linecolor": "white",
           "ticks": "",
           "title": {
            "standoff": 15
           },
           "zerolinecolor": "white",
           "zerolinewidth": 2
          },
          "yaxis": {
           "automargin": true,
           "gridcolor": "white",
           "linecolor": "white",
           "ticks": "",
           "title": {
            "standoff": 15
           },
           "zerolinecolor": "white",
           "zerolinewidth": 2
          }
         }
        },
        "title": {
         "text": "Distribución de Problemas en Comentarios Negativos en nuestro hotel"
        }
       }
      },
      "text/html": [
       "<div>                            <div id=\"7f1957b7-e311-4d47-9496-c78950d97dd7\" class=\"plotly-graph-div\" style=\"height:525px; width:100%;\"></div>            <script type=\"text/javascript\">                require([\"plotly\"], function(Plotly) {                    window.PLOTLYENV=window.PLOTLYENV || {};                                    if (document.getElementById(\"7f1957b7-e311-4d47-9496-c78950d97dd7\")) {                    Plotly.newPlot(                        \"7f1957b7-e311-4d47-9496-c78950d97dd7\",                        [{\"domain\":{\"x\":[0.0,1.0],\"y\":[0.0,1.0]},\"hovertemplate\":\"Categoria_Problema=%{label}\\u003cbr\\u003eCount=%{value}\\u003cextra\\u003e\\u003c\\u002fextra\\u003e\",\"labels\":[\"Calidad de las instalaciones\",\"Servicio al cliente\",\"Precio y costos adicionales\",\"Experiencia general\"],\"legendgroup\":\"\",\"name\":\"\",\"showlegend\":true,\"values\":[679,569,250,36],\"type\":\"pie\"}],                        {\"template\":{\"data\":{\"histogram2dcontour\":[{\"type\":\"histogram2dcontour\",\"colorbar\":{\"outlinewidth\":0,\"ticks\":\"\"},\"colorscale\":[[0.0,\"#0d0887\"],[0.1111111111111111,\"#46039f\"],[0.2222222222222222,\"#7201a8\"],[0.3333333333333333,\"#9c179e\"],[0.4444444444444444,\"#bd3786\"],[0.5555555555555556,\"#d8576b\"],[0.6666666666666666,\"#ed7953\"],[0.7777777777777778,\"#fb9f3a\"],[0.8888888888888888,\"#fdca26\"],[1.0,\"#f0f921\"]]}],\"choropleth\":[{\"type\":\"choropleth\",\"colorbar\":{\"outlinewidth\":0,\"ticks\":\"\"}}],\"histogram2d\":[{\"type\":\"histogram2d\",\"colorbar\":{\"outlinewidth\":0,\"ticks\":\"\"},\"colorscale\":[[0.0,\"#0d0887\"],[0.1111111111111111,\"#46039f\"],[0.2222222222222222,\"#7201a8\"],[0.3333333333333333,\"#9c179e\"],[0.4444444444444444,\"#bd3786\"],[0.5555555555555556,\"#d8576b\"],[0.6666666666666666,\"#ed7953\"],[0.7777777777777778,\"#fb9f3a\"],[0.8888888888888888,\"#fdca26\"],[1.0,\"#f0f921\"]]}],\"heatmap\":[{\"type\":\"heatmap\",\"colorbar\":{\"outlinewidth\":0,\"ticks\":\"\"},\"colorscale\":[[0.0,\"#0d0887\"],[0.1111111111111111,\"#46039f\"],[0.2222222222222222,\"#7201a8\"],[0.3333333333333333,\"#9c179e\"],[0.4444444444444444,\"#bd3786\"],[0.5555555555555556,\"#d8576b\"],[0.6666666666666666,\"#ed7953\"],[0.7777777777777778,\"#fb9f3a\"],[0.8888888888888888,\"#fdca26\"],[1.0,\"#f0f921\"]]}],\"heatmapgl\":[{\"type\":\"heatmapgl\",\"colorbar\":{\"outlinewidth\":0,\"ticks\":\"\"},\"colorscale\":[[0.0,\"#0d0887\"],[0.1111111111111111,\"#46039f\"],[0.2222222222222222,\"#7201a8\"],[0.3333333333333333,\"#9c179e\"],[0.4444444444444444,\"#bd3786\"],[0.5555555555555556,\"#d8576b\"],[0.6666666666666666,\"#ed7953\"],[0.7777777777777778,\"#fb9f3a\"],[0.8888888888888888,\"#fdca26\"],[1.0,\"#f0f921\"]]}],\"contourcarpet\":[{\"type\":\"contourcarpet\",\"colorbar\":{\"outlinewidth\":0,\"ticks\":\"\"}}],\"contour\":[{\"type\":\"contour\",\"colorbar\":{\"outlinewidth\":0,\"ticks\":\"\"},\"colorscale\":[[0.0,\"#0d0887\"],[0.1111111111111111,\"#46039f\"],[0.2222222222222222,\"#7201a8\"],[0.3333333333333333,\"#9c179e\"],[0.4444444444444444,\"#bd3786\"],[0.5555555555555556,\"#d8576b\"],[0.6666666666666666,\"#ed7953\"],[0.7777777777777778,\"#fb9f3a\"],[0.8888888888888888,\"#fdca26\"],[1.0,\"#f0f921\"]]}],\"surface\":[{\"type\":\"surface\",\"colorbar\":{\"outlinewidth\":0,\"ticks\":\"\"},\"colorscale\":[[0.0,\"#0d0887\"],[0.1111111111111111,\"#46039f\"],[0.2222222222222222,\"#7201a8\"],[0.3333333333333333,\"#9c179e\"],[0.4444444444444444,\"#bd3786\"],[0.5555555555555556,\"#d8576b\"],[0.6666666666666666,\"#ed7953\"],[0.7777777777777778,\"#fb9f3a\"],[0.8888888888888888,\"#fdca26\"],[1.0,\"#f0f921\"]]}],\"mesh3d\":[{\"type\":\"mesh3d\",\"colorbar\":{\"outlinewidth\":0,\"ticks\":\"\"}}],\"scatter\":[{\"fillpattern\":{\"fillmode\":\"overlay\",\"size\":10,\"solidity\":0.2},\"type\":\"scatter\"}],\"parcoords\":[{\"type\":\"parcoords\",\"line\":{\"colorbar\":{\"outlinewidth\":0,\"ticks\":\"\"}}}],\"scatterpolargl\":[{\"type\":\"scatterpolargl\",\"marker\":{\"colorbar\":{\"outlinewidth\":0,\"ticks\":\"\"}}}],\"bar\":[{\"error_x\":{\"color\":\"#2a3f5f\"},\"error_y\":{\"color\":\"#2a3f5f\"},\"marker\":{\"line\":{\"color\":\"#E5ECF6\",\"width\":0.5},\"pattern\":{\"fillmode\":\"overlay\",\"size\":10,\"solidity\":0.2}},\"type\":\"bar\"}],\"scattergeo\":[{\"type\":\"scattergeo\",\"marker\":{\"colorbar\":{\"outlinewidth\":0,\"ticks\":\"\"}}}],\"scatterpolar\":[{\"type\":\"scatterpolar\",\"marker\":{\"colorbar\":{\"outlinewidth\":0,\"ticks\":\"\"}}}],\"histogram\":[{\"marker\":{\"pattern\":{\"fillmode\":\"overlay\",\"size\":10,\"solidity\":0.2}},\"type\":\"histogram\"}],\"scattergl\":[{\"type\":\"scattergl\",\"marker\":{\"colorbar\":{\"outlinewidth\":0,\"ticks\":\"\"}}}],\"scatter3d\":[{\"type\":\"scatter3d\",\"line\":{\"colorbar\":{\"outlinewidth\":0,\"ticks\":\"\"}},\"marker\":{\"colorbar\":{\"outlinewidth\":0,\"ticks\":\"\"}}}],\"scattermapbox\":[{\"type\":\"scattermapbox\",\"marker\":{\"colorbar\":{\"outlinewidth\":0,\"ticks\":\"\"}}}],\"scatterternary\":[{\"type\":\"scatterternary\",\"marker\":{\"colorbar\":{\"outlinewidth\":0,\"ticks\":\"\"}}}],\"scattercarpet\":[{\"type\":\"scattercarpet\",\"marker\":{\"colorbar\":{\"outlinewidth\":0,\"ticks\":\"\"}}}],\"carpet\":[{\"aaxis\":{\"endlinecolor\":\"#2a3f5f\",\"gridcolor\":\"white\",\"linecolor\":\"white\",\"minorgridcolor\":\"white\",\"startlinecolor\":\"#2a3f5f\"},\"baxis\":{\"endlinecolor\":\"#2a3f5f\",\"gridcolor\":\"white\",\"linecolor\":\"white\",\"minorgridcolor\":\"white\",\"startlinecolor\":\"#2a3f5f\"},\"type\":\"carpet\"}],\"table\":[{\"cells\":{\"fill\":{\"color\":\"#EBF0F8\"},\"line\":{\"color\":\"white\"}},\"header\":{\"fill\":{\"color\":\"#C8D4E3\"},\"line\":{\"color\":\"white\"}},\"type\":\"table\"}],\"barpolar\":[{\"marker\":{\"line\":{\"color\":\"#E5ECF6\",\"width\":0.5},\"pattern\":{\"fillmode\":\"overlay\",\"size\":10,\"solidity\":0.2}},\"type\":\"barpolar\"}],\"pie\":[{\"automargin\":true,\"type\":\"pie\"}]},\"layout\":{\"autotypenumbers\":\"strict\",\"colorway\":[\"#636efa\",\"#EF553B\",\"#00cc96\",\"#ab63fa\",\"#FFA15A\",\"#19d3f3\",\"#FF6692\",\"#B6E880\",\"#FF97FF\",\"#FECB52\"],\"font\":{\"color\":\"#2a3f5f\"},\"hovermode\":\"closest\",\"hoverlabel\":{\"align\":\"left\"},\"paper_bgcolor\":\"white\",\"plot_bgcolor\":\"#E5ECF6\",\"polar\":{\"bgcolor\":\"#E5ECF6\",\"angularaxis\":{\"gridcolor\":\"white\",\"linecolor\":\"white\",\"ticks\":\"\"},\"radialaxis\":{\"gridcolor\":\"white\",\"linecolor\":\"white\",\"ticks\":\"\"}},\"ternary\":{\"bgcolor\":\"#E5ECF6\",\"aaxis\":{\"gridcolor\":\"white\",\"linecolor\":\"white\",\"ticks\":\"\"},\"baxis\":{\"gridcolor\":\"white\",\"linecolor\":\"white\",\"ticks\":\"\"},\"caxis\":{\"gridcolor\":\"white\",\"linecolor\":\"white\",\"ticks\":\"\"}},\"coloraxis\":{\"colorbar\":{\"outlinewidth\":0,\"ticks\":\"\"}},\"colorscale\":{\"sequential\":[[0.0,\"#0d0887\"],[0.1111111111111111,\"#46039f\"],[0.2222222222222222,\"#7201a8\"],[0.3333333333333333,\"#9c179e\"],[0.4444444444444444,\"#bd3786\"],[0.5555555555555556,\"#d8576b\"],[0.6666666666666666,\"#ed7953\"],[0.7777777777777778,\"#fb9f3a\"],[0.8888888888888888,\"#fdca26\"],[1.0,\"#f0f921\"]],\"sequentialminus\":[[0.0,\"#0d0887\"],[0.1111111111111111,\"#46039f\"],[0.2222222222222222,\"#7201a8\"],[0.3333333333333333,\"#9c179e\"],[0.4444444444444444,\"#bd3786\"],[0.5555555555555556,\"#d8576b\"],[0.6666666666666666,\"#ed7953\"],[0.7777777777777778,\"#fb9f3a\"],[0.8888888888888888,\"#fdca26\"],[1.0,\"#f0f921\"]],\"diverging\":[[0,\"#8e0152\"],[0.1,\"#c51b7d\"],[0.2,\"#de77ae\"],[0.3,\"#f1b6da\"],[0.4,\"#fde0ef\"],[0.5,\"#f7f7f7\"],[0.6,\"#e6f5d0\"],[0.7,\"#b8e186\"],[0.8,\"#7fbc41\"],[0.9,\"#4d9221\"],[1,\"#276419\"]]},\"xaxis\":{\"gridcolor\":\"white\",\"linecolor\":\"white\",\"ticks\":\"\",\"title\":{\"standoff\":15},\"zerolinecolor\":\"white\",\"automargin\":true,\"zerolinewidth\":2},\"yaxis\":{\"gridcolor\":\"white\",\"linecolor\":\"white\",\"ticks\":\"\",\"title\":{\"standoff\":15},\"zerolinecolor\":\"white\",\"automargin\":true,\"zerolinewidth\":2},\"scene\":{\"xaxis\":{\"backgroundcolor\":\"#E5ECF6\",\"gridcolor\":\"white\",\"linecolor\":\"white\",\"showbackground\":true,\"ticks\":\"\",\"zerolinecolor\":\"white\",\"gridwidth\":2},\"yaxis\":{\"backgroundcolor\":\"#E5ECF6\",\"gridcolor\":\"white\",\"linecolor\":\"white\",\"showbackground\":true,\"ticks\":\"\",\"zerolinecolor\":\"white\",\"gridwidth\":2},\"zaxis\":{\"backgroundcolor\":\"#E5ECF6\",\"gridcolor\":\"white\",\"linecolor\":\"white\",\"showbackground\":true,\"ticks\":\"\",\"zerolinecolor\":\"white\",\"gridwidth\":2}},\"shapedefaults\":{\"line\":{\"color\":\"#2a3f5f\"}},\"annotationdefaults\":{\"arrowcolor\":\"#2a3f5f\",\"arrowhead\":0,\"arrowwidth\":1},\"geo\":{\"bgcolor\":\"white\",\"landcolor\":\"#E5ECF6\",\"subunitcolor\":\"white\",\"showland\":true,\"showlakes\":true,\"lakecolor\":\"white\"},\"title\":{\"x\":0.05},\"mapbox\":{\"style\":\"light\"}}},\"legend\":{\"tracegroupgap\":0},\"title\":{\"text\":\"Distribuci\\u00f3n de Problemas en Comentarios Negativos en nuestro hotel\"},\"piecolorway\":[\"rgb(141,211,199)\",\"rgb(255,255,179)\",\"rgb(190,186,218)\",\"rgb(251,128,114)\",\"rgb(128,177,211)\",\"rgb(253,180,98)\",\"rgb(179,222,105)\",\"rgb(252,205,229)\",\"rgb(217,217,217)\",\"rgb(188,128,189)\",\"rgb(204,235,197)\",\"rgb(255,237,111)\"]},                        {\"responsive\": true}                    ).then(function(){\n",
       "                            \n",
       "var gd = document.getElementById('7f1957b7-e311-4d47-9496-c78950d97dd7');\n",
       "var x = new MutationObserver(function (mutations, observer) {{\n",
       "        var display = window.getComputedStyle(gd).display;\n",
       "        if (!display || display === 'none') {{\n",
       "            console.log([gd, 'removed!']);\n",
       "            Plotly.purge(gd);\n",
       "            observer.disconnect();\n",
       "        }}\n",
       "}});\n",
       "\n",
       "// Listen for the removal of the full notebook cells\n",
       "var notebookContainer = gd.closest('#notebook-container');\n",
       "if (notebookContainer) {{\n",
       "    x.observe(notebookContainer, {childList: true});\n",
       "}}\n",
       "\n",
       "// Listen for the clearing of the current output cell\n",
       "var outputEl = gd.closest('.output');\n",
       "if (outputEl) {{\n",
       "    x.observe(outputEl, {childList: true});\n",
       "}}\n",
       "\n",
       "                        })                };                });            </script>        </div>"
      ]
     },
     "metadata": {},
     "output_type": "display_data"
    }
   ],
   "source": [
    "import plotly.express as px\n",
    "import pandas as pd\n",
    "\n",
    "# Supongamos que ya tienes df_comentarios_negativos con la columna Categoria_Problema\n",
    "\n",
    "# Contar la cantidad de ocurrencias de cada categoría\n",
    "categoria_counts = df_comentarios_negativos['Categoria_Problema'].value_counts().reset_index()\n",
    "categoria_counts.columns = ['Categoria_Problema', 'Count']\n",
    "\n",
    "# Ordenar por cuenta descendente (opcional)\n",
    "categoria_counts = categoria_counts.sort_values(by='Count', ascending=False)\n",
    "\n",
    "# Crear el gráfico de pastel interactivo con plotly\n",
    "fig = px.pie(categoria_counts, values='Count', names='Categoria_Problema',\n",
    "             title='Distribución de Problemas en Comentarios Negativos en nuestro hotel',\n",
    "             color_discrete_sequence=px.colors.qualitative.Set3)\n",
    "\n",
    "# Mostrar el gráfico\n",
    "fig.show()\n"
   ]
  },
  {
   "cell_type": "code",
   "execution_count": 97,
   "id": "34668792",
   "metadata": {},
   "outputs": [
    {
     "data": {
      "application/vnd.plotly.v1+json": {
       "config": {
        "plotlyServerURL": "https://plot.ly"
       },
       "data": [
        {
         "domain": {
          "x": [
           0,
           1
          ],
          "y": [
           0,
           1
          ]
         },
         "hovertemplate": "Categoria_Problema=%{label}<br>Count=%{value}<extra></extra>",
         "labels": [
          "Servicio al cliente",
          "Calidad de las instalaciones",
          "Precio y costos adicionales",
          "Experiencia general"
         ],
         "legendgroup": "",
         "name": "",
         "showlegend": true,
         "type": "pie",
         "values": [
          25,
          23,
          7,
          1
         ]
        }
       ],
       "layout": {
        "legend": {
         "tracegroupgap": 0
        },
        "piecolorway": [
         "rgb(141,211,199)",
         "rgb(255,255,179)",
         "rgb(190,186,218)",
         "rgb(251,128,114)",
         "rgb(128,177,211)",
         "rgb(253,180,98)",
         "rgb(179,222,105)",
         "rgb(252,205,229)",
         "rgb(217,217,217)",
         "rgb(188,128,189)",
         "rgb(204,235,197)",
         "rgb(255,237,111)"
        ],
        "template": {
         "data": {
          "bar": [
           {
            "error_x": {
             "color": "#2a3f5f"
            },
            "error_y": {
             "color": "#2a3f5f"
            },
            "marker": {
             "line": {
              "color": "#E5ECF6",
              "width": 0.5
             },
             "pattern": {
              "fillmode": "overlay",
              "size": 10,
              "solidity": 0.2
             }
            },
            "type": "bar"
           }
          ],
          "barpolar": [
           {
            "marker": {
             "line": {
              "color": "#E5ECF6",
              "width": 0.5
             },
             "pattern": {
              "fillmode": "overlay",
              "size": 10,
              "solidity": 0.2
             }
            },
            "type": "barpolar"
           }
          ],
          "carpet": [
           {
            "aaxis": {
             "endlinecolor": "#2a3f5f",
             "gridcolor": "white",
             "linecolor": "white",
             "minorgridcolor": "white",
             "startlinecolor": "#2a3f5f"
            },
            "baxis": {
             "endlinecolor": "#2a3f5f",
             "gridcolor": "white",
             "linecolor": "white",
             "minorgridcolor": "white",
             "startlinecolor": "#2a3f5f"
            },
            "type": "carpet"
           }
          ],
          "choropleth": [
           {
            "colorbar": {
             "outlinewidth": 0,
             "ticks": ""
            },
            "type": "choropleth"
           }
          ],
          "contour": [
           {
            "colorbar": {
             "outlinewidth": 0,
             "ticks": ""
            },
            "colorscale": [
             [
              0,
              "#0d0887"
             ],
             [
              0.1111111111111111,
              "#46039f"
             ],
             [
              0.2222222222222222,
              "#7201a8"
             ],
             [
              0.3333333333333333,
              "#9c179e"
             ],
             [
              0.4444444444444444,
              "#bd3786"
             ],
             [
              0.5555555555555556,
              "#d8576b"
             ],
             [
              0.6666666666666666,
              "#ed7953"
             ],
             [
              0.7777777777777778,
              "#fb9f3a"
             ],
             [
              0.8888888888888888,
              "#fdca26"
             ],
             [
              1,
              "#f0f921"
             ]
            ],
            "type": "contour"
           }
          ],
          "contourcarpet": [
           {
            "colorbar": {
             "outlinewidth": 0,
             "ticks": ""
            },
            "type": "contourcarpet"
           }
          ],
          "heatmap": [
           {
            "colorbar": {
             "outlinewidth": 0,
             "ticks": ""
            },
            "colorscale": [
             [
              0,
              "#0d0887"
             ],
             [
              0.1111111111111111,
              "#46039f"
             ],
             [
              0.2222222222222222,
              "#7201a8"
             ],
             [
              0.3333333333333333,
              "#9c179e"
             ],
             [
              0.4444444444444444,
              "#bd3786"
             ],
             [
              0.5555555555555556,
              "#d8576b"
             ],
             [
              0.6666666666666666,
              "#ed7953"
             ],
             [
              0.7777777777777778,
              "#fb9f3a"
             ],
             [
              0.8888888888888888,
              "#fdca26"
             ],
             [
              1,
              "#f0f921"
             ]
            ],
            "type": "heatmap"
           }
          ],
          "heatmapgl": [
           {
            "colorbar": {
             "outlinewidth": 0,
             "ticks": ""
            },
            "colorscale": [
             [
              0,
              "#0d0887"
             ],
             [
              0.1111111111111111,
              "#46039f"
             ],
             [
              0.2222222222222222,
              "#7201a8"
             ],
             [
              0.3333333333333333,
              "#9c179e"
             ],
             [
              0.4444444444444444,
              "#bd3786"
             ],
             [
              0.5555555555555556,
              "#d8576b"
             ],
             [
              0.6666666666666666,
              "#ed7953"
             ],
             [
              0.7777777777777778,
              "#fb9f3a"
             ],
             [
              0.8888888888888888,
              "#fdca26"
             ],
             [
              1,
              "#f0f921"
             ]
            ],
            "type": "heatmapgl"
           }
          ],
          "histogram": [
           {
            "marker": {
             "pattern": {
              "fillmode": "overlay",
              "size": 10,
              "solidity": 0.2
             }
            },
            "type": "histogram"
           }
          ],
          "histogram2d": [
           {
            "colorbar": {
             "outlinewidth": 0,
             "ticks": ""
            },
            "colorscale": [
             [
              0,
              "#0d0887"
             ],
             [
              0.1111111111111111,
              "#46039f"
             ],
             [
              0.2222222222222222,
              "#7201a8"
             ],
             [
              0.3333333333333333,
              "#9c179e"
             ],
             [
              0.4444444444444444,
              "#bd3786"
             ],
             [
              0.5555555555555556,
              "#d8576b"
             ],
             [
              0.6666666666666666,
              "#ed7953"
             ],
             [
              0.7777777777777778,
              "#fb9f3a"
             ],
             [
              0.8888888888888888,
              "#fdca26"
             ],
             [
              1,
              "#f0f921"
             ]
            ],
            "type": "histogram2d"
           }
          ],
          "histogram2dcontour": [
           {
            "colorbar": {
             "outlinewidth": 0,
             "ticks": ""
            },
            "colorscale": [
             [
              0,
              "#0d0887"
             ],
             [
              0.1111111111111111,
              "#46039f"
             ],
             [
              0.2222222222222222,
              "#7201a8"
             ],
             [
              0.3333333333333333,
              "#9c179e"
             ],
             [
              0.4444444444444444,
              "#bd3786"
             ],
             [
              0.5555555555555556,
              "#d8576b"
             ],
             [
              0.6666666666666666,
              "#ed7953"
             ],
             [
              0.7777777777777778,
              "#fb9f3a"
             ],
             [
              0.8888888888888888,
              "#fdca26"
             ],
             [
              1,
              "#f0f921"
             ]
            ],
            "type": "histogram2dcontour"
           }
          ],
          "mesh3d": [
           {
            "colorbar": {
             "outlinewidth": 0,
             "ticks": ""
            },
            "type": "mesh3d"
           }
          ],
          "parcoords": [
           {
            "line": {
             "colorbar": {
              "outlinewidth": 0,
              "ticks": ""
             }
            },
            "type": "parcoords"
           }
          ],
          "pie": [
           {
            "automargin": true,
            "type": "pie"
           }
          ],
          "scatter": [
           {
            "fillpattern": {
             "fillmode": "overlay",
             "size": 10,
             "solidity": 0.2
            },
            "type": "scatter"
           }
          ],
          "scatter3d": [
           {
            "line": {
             "colorbar": {
              "outlinewidth": 0,
              "ticks": ""
             }
            },
            "marker": {
             "colorbar": {
              "outlinewidth": 0,
              "ticks": ""
             }
            },
            "type": "scatter3d"
           }
          ],
          "scattercarpet": [
           {
            "marker": {
             "colorbar": {
              "outlinewidth": 0,
              "ticks": ""
             }
            },
            "type": "scattercarpet"
           }
          ],
          "scattergeo": [
           {
            "marker": {
             "colorbar": {
              "outlinewidth": 0,
              "ticks": ""
             }
            },
            "type": "scattergeo"
           }
          ],
          "scattergl": [
           {
            "marker": {
             "colorbar": {
              "outlinewidth": 0,
              "ticks": ""
             }
            },
            "type": "scattergl"
           }
          ],
          "scattermapbox": [
           {
            "marker": {
             "colorbar": {
              "outlinewidth": 0,
              "ticks": ""
             }
            },
            "type": "scattermapbox"
           }
          ],
          "scatterpolar": [
           {
            "marker": {
             "colorbar": {
              "outlinewidth": 0,
              "ticks": ""
             }
            },
            "type": "scatterpolar"
           }
          ],
          "scatterpolargl": [
           {
            "marker": {
             "colorbar": {
              "outlinewidth": 0,
              "ticks": ""
             }
            },
            "type": "scatterpolargl"
           }
          ],
          "scatterternary": [
           {
            "marker": {
             "colorbar": {
              "outlinewidth": 0,
              "ticks": ""
             }
            },
            "type": "scatterternary"
           }
          ],
          "surface": [
           {
            "colorbar": {
             "outlinewidth": 0,
             "ticks": ""
            },
            "colorscale": [
             [
              0,
              "#0d0887"
             ],
             [
              0.1111111111111111,
              "#46039f"
             ],
             [
              0.2222222222222222,
              "#7201a8"
             ],
             [
              0.3333333333333333,
              "#9c179e"
             ],
             [
              0.4444444444444444,
              "#bd3786"
             ],
             [
              0.5555555555555556,
              "#d8576b"
             ],
             [
              0.6666666666666666,
              "#ed7953"
             ],
             [
              0.7777777777777778,
              "#fb9f3a"
             ],
             [
              0.8888888888888888,
              "#fdca26"
             ],
             [
              1,
              "#f0f921"
             ]
            ],
            "type": "surface"
           }
          ],
          "table": [
           {
            "cells": {
             "fill": {
              "color": "#EBF0F8"
             },
             "line": {
              "color": "white"
             }
            },
            "header": {
             "fill": {
              "color": "#C8D4E3"
             },
             "line": {
              "color": "white"
             }
            },
            "type": "table"
           }
          ]
         },
         "layout": {
          "annotationdefaults": {
           "arrowcolor": "#2a3f5f",
           "arrowhead": 0,
           "arrowwidth": 1
          },
          "autotypenumbers": "strict",
          "coloraxis": {
           "colorbar": {
            "outlinewidth": 0,
            "ticks": ""
           }
          },
          "colorscale": {
           "diverging": [
            [
             0,
             "#8e0152"
            ],
            [
             0.1,
             "#c51b7d"
            ],
            [
             0.2,
             "#de77ae"
            ],
            [
             0.3,
             "#f1b6da"
            ],
            [
             0.4,
             "#fde0ef"
            ],
            [
             0.5,
             "#f7f7f7"
            ],
            [
             0.6,
             "#e6f5d0"
            ],
            [
             0.7,
             "#b8e186"
            ],
            [
             0.8,
             "#7fbc41"
            ],
            [
             0.9,
             "#4d9221"
            ],
            [
             1,
             "#276419"
            ]
           ],
           "sequential": [
            [
             0,
             "#0d0887"
            ],
            [
             0.1111111111111111,
             "#46039f"
            ],
            [
             0.2222222222222222,
             "#7201a8"
            ],
            [
             0.3333333333333333,
             "#9c179e"
            ],
            [
             0.4444444444444444,
             "#bd3786"
            ],
            [
             0.5555555555555556,
             "#d8576b"
            ],
            [
             0.6666666666666666,
             "#ed7953"
            ],
            [
             0.7777777777777778,
             "#fb9f3a"
            ],
            [
             0.8888888888888888,
             "#fdca26"
            ],
            [
             1,
             "#f0f921"
            ]
           ],
           "sequentialminus": [
            [
             0,
             "#0d0887"
            ],
            [
             0.1111111111111111,
             "#46039f"
            ],
            [
             0.2222222222222222,
             "#7201a8"
            ],
            [
             0.3333333333333333,
             "#9c179e"
            ],
            [
             0.4444444444444444,
             "#bd3786"
            ],
            [
             0.5555555555555556,
             "#d8576b"
            ],
            [
             0.6666666666666666,
             "#ed7953"
            ],
            [
             0.7777777777777778,
             "#fb9f3a"
            ],
            [
             0.8888888888888888,
             "#fdca26"
            ],
            [
             1,
             "#f0f921"
            ]
           ]
          },
          "colorway": [
           "#636efa",
           "#EF553B",
           "#00cc96",
           "#ab63fa",
           "#FFA15A",
           "#19d3f3",
           "#FF6692",
           "#B6E880",
           "#FF97FF",
           "#FECB52"
          ],
          "font": {
           "color": "#2a3f5f"
          },
          "geo": {
           "bgcolor": "white",
           "lakecolor": "white",
           "landcolor": "#E5ECF6",
           "showlakes": true,
           "showland": true,
           "subunitcolor": "white"
          },
          "hoverlabel": {
           "align": "left"
          },
          "hovermode": "closest",
          "mapbox": {
           "style": "light"
          },
          "paper_bgcolor": "white",
          "plot_bgcolor": "#E5ECF6",
          "polar": {
           "angularaxis": {
            "gridcolor": "white",
            "linecolor": "white",
            "ticks": ""
           },
           "bgcolor": "#E5ECF6",
           "radialaxis": {
            "gridcolor": "white",
            "linecolor": "white",
            "ticks": ""
           }
          },
          "scene": {
           "xaxis": {
            "backgroundcolor": "#E5ECF6",
            "gridcolor": "white",
            "gridwidth": 2,
            "linecolor": "white",
            "showbackground": true,
            "ticks": "",
            "zerolinecolor": "white"
           },
           "yaxis": {
            "backgroundcolor": "#E5ECF6",
            "gridcolor": "white",
            "gridwidth": 2,
            "linecolor": "white",
            "showbackground": true,
            "ticks": "",
            "zerolinecolor": "white"
           },
           "zaxis": {
            "backgroundcolor": "#E5ECF6",
            "gridcolor": "white",
            "gridwidth": 2,
            "linecolor": "white",
            "showbackground": true,
            "ticks": "",
            "zerolinecolor": "white"
           }
          },
          "shapedefaults": {
           "line": {
            "color": "#2a3f5f"
           }
          },
          "ternary": {
           "aaxis": {
            "gridcolor": "white",
            "linecolor": "white",
            "ticks": ""
           },
           "baxis": {
            "gridcolor": "white",
            "linecolor": "white",
            "ticks": ""
           },
           "bgcolor": "#E5ECF6",
           "caxis": {
            "gridcolor": "white",
            "linecolor": "white",
            "ticks": ""
           }
          },
          "title": {
           "x": 0.05
          },
          "xaxis": {
           "automargin": true,
           "gridcolor": "white",
           "linecolor": "white",
           "ticks": "",
           "title": {
            "standoff": 15
           },
           "zerolinecolor": "white",
           "zerolinewidth": 2
          },
          "yaxis": {
           "automargin": true,
           "gridcolor": "white",
           "linecolor": "white",
           "ticks": "",
           "title": {
            "standoff": 15
           },
           "zerolinecolor": "white",
           "zerolinewidth": 2
          }
         }
        },
        "title": {
         "text": "Distribución de Problemas en Comentarios Negativos en los competidores"
        }
       }
      },
      "text/html": [
       "<div>                            <div id=\"583fb453-375a-44a1-9be3-d21dfdbda968\" class=\"plotly-graph-div\" style=\"height:525px; width:100%;\"></div>            <script type=\"text/javascript\">                require([\"plotly\"], function(Plotly) {                    window.PLOTLYENV=window.PLOTLYENV || {};                                    if (document.getElementById(\"583fb453-375a-44a1-9be3-d21dfdbda968\")) {                    Plotly.newPlot(                        \"583fb453-375a-44a1-9be3-d21dfdbda968\",                        [{\"domain\":{\"x\":[0.0,1.0],\"y\":[0.0,1.0]},\"hovertemplate\":\"Categoria_Problema=%{label}\\u003cbr\\u003eCount=%{value}\\u003cextra\\u003e\\u003c\\u002fextra\\u003e\",\"labels\":[\"Servicio al cliente\",\"Calidad de las instalaciones\",\"Precio y costos adicionales\",\"Experiencia general\"],\"legendgroup\":\"\",\"name\":\"\",\"showlegend\":true,\"values\":[25,23,7,1],\"type\":\"pie\"}],                        {\"template\":{\"data\":{\"histogram2dcontour\":[{\"type\":\"histogram2dcontour\",\"colorbar\":{\"outlinewidth\":0,\"ticks\":\"\"},\"colorscale\":[[0.0,\"#0d0887\"],[0.1111111111111111,\"#46039f\"],[0.2222222222222222,\"#7201a8\"],[0.3333333333333333,\"#9c179e\"],[0.4444444444444444,\"#bd3786\"],[0.5555555555555556,\"#d8576b\"],[0.6666666666666666,\"#ed7953\"],[0.7777777777777778,\"#fb9f3a\"],[0.8888888888888888,\"#fdca26\"],[1.0,\"#f0f921\"]]}],\"choropleth\":[{\"type\":\"choropleth\",\"colorbar\":{\"outlinewidth\":0,\"ticks\":\"\"}}],\"histogram2d\":[{\"type\":\"histogram2d\",\"colorbar\":{\"outlinewidth\":0,\"ticks\":\"\"},\"colorscale\":[[0.0,\"#0d0887\"],[0.1111111111111111,\"#46039f\"],[0.2222222222222222,\"#7201a8\"],[0.3333333333333333,\"#9c179e\"],[0.4444444444444444,\"#bd3786\"],[0.5555555555555556,\"#d8576b\"],[0.6666666666666666,\"#ed7953\"],[0.7777777777777778,\"#fb9f3a\"],[0.8888888888888888,\"#fdca26\"],[1.0,\"#f0f921\"]]}],\"heatmap\":[{\"type\":\"heatmap\",\"colorbar\":{\"outlinewidth\":0,\"ticks\":\"\"},\"colorscale\":[[0.0,\"#0d0887\"],[0.1111111111111111,\"#46039f\"],[0.2222222222222222,\"#7201a8\"],[0.3333333333333333,\"#9c179e\"],[0.4444444444444444,\"#bd3786\"],[0.5555555555555556,\"#d8576b\"],[0.6666666666666666,\"#ed7953\"],[0.7777777777777778,\"#fb9f3a\"],[0.8888888888888888,\"#fdca26\"],[1.0,\"#f0f921\"]]}],\"heatmapgl\":[{\"type\":\"heatmapgl\",\"colorbar\":{\"outlinewidth\":0,\"ticks\":\"\"},\"colorscale\":[[0.0,\"#0d0887\"],[0.1111111111111111,\"#46039f\"],[0.2222222222222222,\"#7201a8\"],[0.3333333333333333,\"#9c179e\"],[0.4444444444444444,\"#bd3786\"],[0.5555555555555556,\"#d8576b\"],[0.6666666666666666,\"#ed7953\"],[0.7777777777777778,\"#fb9f3a\"],[0.8888888888888888,\"#fdca26\"],[1.0,\"#f0f921\"]]}],\"contourcarpet\":[{\"type\":\"contourcarpet\",\"colorbar\":{\"outlinewidth\":0,\"ticks\":\"\"}}],\"contour\":[{\"type\":\"contour\",\"colorbar\":{\"outlinewidth\":0,\"ticks\":\"\"},\"colorscale\":[[0.0,\"#0d0887\"],[0.1111111111111111,\"#46039f\"],[0.2222222222222222,\"#7201a8\"],[0.3333333333333333,\"#9c179e\"],[0.4444444444444444,\"#bd3786\"],[0.5555555555555556,\"#d8576b\"],[0.6666666666666666,\"#ed7953\"],[0.7777777777777778,\"#fb9f3a\"],[0.8888888888888888,\"#fdca26\"],[1.0,\"#f0f921\"]]}],\"surface\":[{\"type\":\"surface\",\"colorbar\":{\"outlinewidth\":0,\"ticks\":\"\"},\"colorscale\":[[0.0,\"#0d0887\"],[0.1111111111111111,\"#46039f\"],[0.2222222222222222,\"#7201a8\"],[0.3333333333333333,\"#9c179e\"],[0.4444444444444444,\"#bd3786\"],[0.5555555555555556,\"#d8576b\"],[0.6666666666666666,\"#ed7953\"],[0.7777777777777778,\"#fb9f3a\"],[0.8888888888888888,\"#fdca26\"],[1.0,\"#f0f921\"]]}],\"mesh3d\":[{\"type\":\"mesh3d\",\"colorbar\":{\"outlinewidth\":0,\"ticks\":\"\"}}],\"scatter\":[{\"fillpattern\":{\"fillmode\":\"overlay\",\"size\":10,\"solidity\":0.2},\"type\":\"scatter\"}],\"parcoords\":[{\"type\":\"parcoords\",\"line\":{\"colorbar\":{\"outlinewidth\":0,\"ticks\":\"\"}}}],\"scatterpolargl\":[{\"type\":\"scatterpolargl\",\"marker\":{\"colorbar\":{\"outlinewidth\":0,\"ticks\":\"\"}}}],\"bar\":[{\"error_x\":{\"color\":\"#2a3f5f\"},\"error_y\":{\"color\":\"#2a3f5f\"},\"marker\":{\"line\":{\"color\":\"#E5ECF6\",\"width\":0.5},\"pattern\":{\"fillmode\":\"overlay\",\"size\":10,\"solidity\":0.2}},\"type\":\"bar\"}],\"scattergeo\":[{\"type\":\"scattergeo\",\"marker\":{\"colorbar\":{\"outlinewidth\":0,\"ticks\":\"\"}}}],\"scatterpolar\":[{\"type\":\"scatterpolar\",\"marker\":{\"colorbar\":{\"outlinewidth\":0,\"ticks\":\"\"}}}],\"histogram\":[{\"marker\":{\"pattern\":{\"fillmode\":\"overlay\",\"size\":10,\"solidity\":0.2}},\"type\":\"histogram\"}],\"scattergl\":[{\"type\":\"scattergl\",\"marker\":{\"colorbar\":{\"outlinewidth\":0,\"ticks\":\"\"}}}],\"scatter3d\":[{\"type\":\"scatter3d\",\"line\":{\"colorbar\":{\"outlinewidth\":0,\"ticks\":\"\"}},\"marker\":{\"colorbar\":{\"outlinewidth\":0,\"ticks\":\"\"}}}],\"scattermapbox\":[{\"type\":\"scattermapbox\",\"marker\":{\"colorbar\":{\"outlinewidth\":0,\"ticks\":\"\"}}}],\"scatterternary\":[{\"type\":\"scatterternary\",\"marker\":{\"colorbar\":{\"outlinewidth\":0,\"ticks\":\"\"}}}],\"scattercarpet\":[{\"type\":\"scattercarpet\",\"marker\":{\"colorbar\":{\"outlinewidth\":0,\"ticks\":\"\"}}}],\"carpet\":[{\"aaxis\":{\"endlinecolor\":\"#2a3f5f\",\"gridcolor\":\"white\",\"linecolor\":\"white\",\"minorgridcolor\":\"white\",\"startlinecolor\":\"#2a3f5f\"},\"baxis\":{\"endlinecolor\":\"#2a3f5f\",\"gridcolor\":\"white\",\"linecolor\":\"white\",\"minorgridcolor\":\"white\",\"startlinecolor\":\"#2a3f5f\"},\"type\":\"carpet\"}],\"table\":[{\"cells\":{\"fill\":{\"color\":\"#EBF0F8\"},\"line\":{\"color\":\"white\"}},\"header\":{\"fill\":{\"color\":\"#C8D4E3\"},\"line\":{\"color\":\"white\"}},\"type\":\"table\"}],\"barpolar\":[{\"marker\":{\"line\":{\"color\":\"#E5ECF6\",\"width\":0.5},\"pattern\":{\"fillmode\":\"overlay\",\"size\":10,\"solidity\":0.2}},\"type\":\"barpolar\"}],\"pie\":[{\"automargin\":true,\"type\":\"pie\"}]},\"layout\":{\"autotypenumbers\":\"strict\",\"colorway\":[\"#636efa\",\"#EF553B\",\"#00cc96\",\"#ab63fa\",\"#FFA15A\",\"#19d3f3\",\"#FF6692\",\"#B6E880\",\"#FF97FF\",\"#FECB52\"],\"font\":{\"color\":\"#2a3f5f\"},\"hovermode\":\"closest\",\"hoverlabel\":{\"align\":\"left\"},\"paper_bgcolor\":\"white\",\"plot_bgcolor\":\"#E5ECF6\",\"polar\":{\"bgcolor\":\"#E5ECF6\",\"angularaxis\":{\"gridcolor\":\"white\",\"linecolor\":\"white\",\"ticks\":\"\"},\"radialaxis\":{\"gridcolor\":\"white\",\"linecolor\":\"white\",\"ticks\":\"\"}},\"ternary\":{\"bgcolor\":\"#E5ECF6\",\"aaxis\":{\"gridcolor\":\"white\",\"linecolor\":\"white\",\"ticks\":\"\"},\"baxis\":{\"gridcolor\":\"white\",\"linecolor\":\"white\",\"ticks\":\"\"},\"caxis\":{\"gridcolor\":\"white\",\"linecolor\":\"white\",\"ticks\":\"\"}},\"coloraxis\":{\"colorbar\":{\"outlinewidth\":0,\"ticks\":\"\"}},\"colorscale\":{\"sequential\":[[0.0,\"#0d0887\"],[0.1111111111111111,\"#46039f\"],[0.2222222222222222,\"#7201a8\"],[0.3333333333333333,\"#9c179e\"],[0.4444444444444444,\"#bd3786\"],[0.5555555555555556,\"#d8576b\"],[0.6666666666666666,\"#ed7953\"],[0.7777777777777778,\"#fb9f3a\"],[0.8888888888888888,\"#fdca26\"],[1.0,\"#f0f921\"]],\"sequentialminus\":[[0.0,\"#0d0887\"],[0.1111111111111111,\"#46039f\"],[0.2222222222222222,\"#7201a8\"],[0.3333333333333333,\"#9c179e\"],[0.4444444444444444,\"#bd3786\"],[0.5555555555555556,\"#d8576b\"],[0.6666666666666666,\"#ed7953\"],[0.7777777777777778,\"#fb9f3a\"],[0.8888888888888888,\"#fdca26\"],[1.0,\"#f0f921\"]],\"diverging\":[[0,\"#8e0152\"],[0.1,\"#c51b7d\"],[0.2,\"#de77ae\"],[0.3,\"#f1b6da\"],[0.4,\"#fde0ef\"],[0.5,\"#f7f7f7\"],[0.6,\"#e6f5d0\"],[0.7,\"#b8e186\"],[0.8,\"#7fbc41\"],[0.9,\"#4d9221\"],[1,\"#276419\"]]},\"xaxis\":{\"gridcolor\":\"white\",\"linecolor\":\"white\",\"ticks\":\"\",\"title\":{\"standoff\":15},\"zerolinecolor\":\"white\",\"automargin\":true,\"zerolinewidth\":2},\"yaxis\":{\"gridcolor\":\"white\",\"linecolor\":\"white\",\"ticks\":\"\",\"title\":{\"standoff\":15},\"zerolinecolor\":\"white\",\"automargin\":true,\"zerolinewidth\":2},\"scene\":{\"xaxis\":{\"backgroundcolor\":\"#E5ECF6\",\"gridcolor\":\"white\",\"linecolor\":\"white\",\"showbackground\":true,\"ticks\":\"\",\"zerolinecolor\":\"white\",\"gridwidth\":2},\"yaxis\":{\"backgroundcolor\":\"#E5ECF6\",\"gridcolor\":\"white\",\"linecolor\":\"white\",\"showbackground\":true,\"ticks\":\"\",\"zerolinecolor\":\"white\",\"gridwidth\":2},\"zaxis\":{\"backgroundcolor\":\"#E5ECF6\",\"gridcolor\":\"white\",\"linecolor\":\"white\",\"showbackground\":true,\"ticks\":\"\",\"zerolinecolor\":\"white\",\"gridwidth\":2}},\"shapedefaults\":{\"line\":{\"color\":\"#2a3f5f\"}},\"annotationdefaults\":{\"arrowcolor\":\"#2a3f5f\",\"arrowhead\":0,\"arrowwidth\":1},\"geo\":{\"bgcolor\":\"white\",\"landcolor\":\"#E5ECF6\",\"subunitcolor\":\"white\",\"showland\":true,\"showlakes\":true,\"lakecolor\":\"white\"},\"title\":{\"x\":0.05},\"mapbox\":{\"style\":\"light\"}}},\"legend\":{\"tracegroupgap\":0},\"title\":{\"text\":\"Distribuci\\u00f3n de Problemas en Comentarios Negativos en los competidores\"},\"piecolorway\":[\"rgb(141,211,199)\",\"rgb(255,255,179)\",\"rgb(190,186,218)\",\"rgb(251,128,114)\",\"rgb(128,177,211)\",\"rgb(253,180,98)\",\"rgb(179,222,105)\",\"rgb(252,205,229)\",\"rgb(217,217,217)\",\"rgb(188,128,189)\",\"rgb(204,235,197)\",\"rgb(255,237,111)\"]},                        {\"responsive\": true}                    ).then(function(){\n",
       "                            \n",
       "var gd = document.getElementById('583fb453-375a-44a1-9be3-d21dfdbda968');\n",
       "var x = new MutationObserver(function (mutations, observer) {{\n",
       "        var display = window.getComputedStyle(gd).display;\n",
       "        if (!display || display === 'none') {{\n",
       "            console.log([gd, 'removed!']);\n",
       "            Plotly.purge(gd);\n",
       "            observer.disconnect();\n",
       "        }}\n",
       "}});\n",
       "\n",
       "// Listen for the removal of the full notebook cells\n",
       "var notebookContainer = gd.closest('#notebook-container');\n",
       "if (notebookContainer) {{\n",
       "    x.observe(notebookContainer, {childList: true});\n",
       "}}\n",
       "\n",
       "// Listen for the clearing of the current output cell\n",
       "var outputEl = gd.closest('.output');\n",
       "if (outputEl) {{\n",
       "    x.observe(outputEl, {childList: true});\n",
       "}}\n",
       "\n",
       "                        })                };                });            </script>        </div>"
      ]
     },
     "metadata": {},
     "output_type": "display_data"
    }
   ],
   "source": [
    "categoria_counts = df_sentimientos_competencia_negativostop['Categoria_Problema'].value_counts().reset_index()\n",
    "categoria_counts.columns = ['Categoria_Problema', 'Count']\n",
    "\n",
    "# Ordenar por cuenta descendente (opcional)\n",
    "categoria_counts = categoria_counts.sort_values(by='Count', ascending=False)\n",
    "\n",
    "# Crear el gráfico de pastel interactivo con plotly\n",
    "fig = px.pie(categoria_counts, values='Count', names='Categoria_Problema',\n",
    "             title='Distribución de Problemas en Comentarios Negativos en los competidores',\n",
    "             color_discrete_sequence=px.colors.qualitative.Set3)\n",
    "\n",
    "# Mostrar el gráfico\n",
    "fig.show()\n"
   ]
  },
  {
   "cell_type": "code",
   "execution_count": null,
   "id": "99be47f4",
   "metadata": {},
   "outputs": [],
   "source": []
  },
  {
   "cell_type": "code",
   "execution_count": 67,
   "id": "821e602c",
   "metadata": {},
   "outputs": [
    {
     "data": {
      "text/html": [
       "<div>\n",
       "<style scoped>\n",
       "    .dataframe tbody tr th:only-of-type {\n",
       "        vertical-align: middle;\n",
       "    }\n",
       "\n",
       "    .dataframe tbody tr th {\n",
       "        vertical-align: top;\n",
       "    }\n",
       "\n",
       "    .dataframe thead th {\n",
       "        text-align: right;\n",
       "    }\n",
       "</style>\n",
       "<table border=\"1\" class=\"dataframe\">\n",
       "  <thead>\n",
       "    <tr style=\"text-align: right;\">\n",
       "      <th></th>\n",
       "      <th>Unnamed: 0.1</th>\n",
       "      <th>Unnamed: 0</th>\n",
       "      <th>Translated_Review</th>\n",
       "      <th>Rating</th>\n",
       "      <th>Sentimiento</th>\n",
       "      <th>Sentimiento_VADER</th>\n",
       "      <th>SENTIMIENTO_CALCULADO</th>\n",
       "    </tr>\n",
       "  </thead>\n",
       "  <tbody>\n",
       "    <tr>\n",
       "      <th>0</th>\n",
       "      <td>0</td>\n",
       "      <td>0</td>\n",
       "      <td>bonito hotel, aparcamiento caro, consiguió una...</td>\n",
       "      <td>4</td>\n",
       "      <td>POSITIVO</td>\n",
       "      <td>NEGATIVO</td>\n",
       "      <td>POSITIVO</td>\n",
       "    </tr>\n",
       "    <tr>\n",
       "      <th>3</th>\n",
       "      <td>3</td>\n",
       "      <td>3</td>\n",
       "      <td>Único, estancia estupenda, tiempo maravilloso ...</td>\n",
       "      <td>5</td>\n",
       "      <td>NEUTRAL</td>\n",
       "      <td>NEGATIVO</td>\n",
       "      <td>POSITIVO</td>\n",
       "    </tr>\n",
       "    <tr>\n",
       "      <th>4</th>\n",
       "      <td>4</td>\n",
       "      <td>4</td>\n",
       "      <td>estancia estupenda estancia estupenda, fue inc...</td>\n",
       "      <td>5</td>\n",
       "      <td>NEUTRAL</td>\n",
       "      <td>NEGATIVO</td>\n",
       "      <td>POSITIVO</td>\n",
       "    </tr>\n",
       "    <tr>\n",
       "      <th>5</th>\n",
       "      <td>5</td>\n",
       "      <td>5</td>\n",
       "      <td>amor personal de mónaco esposo se quedó en el ...</td>\n",
       "      <td>5</td>\n",
       "      <td>POSITIVO</td>\n",
       "      <td>POSITIVO</td>\n",
       "      <td>POSITIVO</td>\n",
       "    </tr>\n",
       "    <tr>\n",
       "      <th>6</th>\n",
       "      <td>6</td>\n",
       "      <td>6</td>\n",
       "      <td>Estancia acogedora en una ciudad lluviosa. Mi ...</td>\n",
       "      <td>5</td>\n",
       "      <td>NEUTRAL</td>\n",
       "      <td>NEGATIVO</td>\n",
       "      <td>POSITIVO</td>\n",
       "    </tr>\n",
       "    <tr>\n",
       "      <th>...</th>\n",
       "      <td>...</td>\n",
       "      <td>...</td>\n",
       "      <td>...</td>\n",
       "      <td>...</td>\n",
       "      <td>...</td>\n",
       "      <td>...</td>\n",
       "      <td>...</td>\n",
       "    </tr>\n",
       "    <tr>\n",
       "      <th>13125</th>\n",
       "      <td>13125</td>\n",
       "      <td>13125</td>\n",
       "      <td>Novia impresionada, buen ambiente, lugar a un ...</td>\n",
       "      <td>5</td>\n",
       "      <td>NEUTRAL</td>\n",
       "      <td>NEGATIVO</td>\n",
       "      <td>POSITIVO</td>\n",
       "    </tr>\n",
       "    <tr>\n",
       "      <th>13126</th>\n",
       "      <td>13126</td>\n",
       "      <td>13126</td>\n",
       "      <td>buena relación calidad-precio recién devuelta ...</td>\n",
       "      <td>5</td>\n",
       "      <td>NEGATIVO</td>\n",
       "      <td>NEGATIVO</td>\n",
       "      <td>POSITIVO</td>\n",
       "    </tr>\n",
       "    <tr>\n",
       "      <th>13127</th>\n",
       "      <td>13127</td>\n",
       "      <td>13127</td>\n",
       "      <td>Los viajeros caribeños más agradables y experi...</td>\n",
       "      <td>5</td>\n",
       "      <td>POSITIVO</td>\n",
       "      <td>NEGATIVO</td>\n",
       "      <td>POSITIVO</td>\n",
       "    </tr>\n",
       "    <tr>\n",
       "      <th>13128</th>\n",
       "      <td>13128</td>\n",
       "      <td>13128</td>\n",
       "      <td>maravilloso club de vacaciones diamante bahia ...</td>\n",
       "      <td>5</td>\n",
       "      <td>POSITIVO</td>\n",
       "      <td>NEGATIVO</td>\n",
       "      <td>POSITIVO</td>\n",
       "    </tr>\n",
       "    <tr>\n",
       "      <th>13131</th>\n",
       "      <td>13131</td>\n",
       "      <td>13131</td>\n",
       "      <td>excelente piscina, clima increíble, estadía fa...</td>\n",
       "      <td>3</td>\n",
       "      <td>POSITIVO</td>\n",
       "      <td>POSITIVO</td>\n",
       "      <td>POSITIVO</td>\n",
       "    </tr>\n",
       "  </tbody>\n",
       "</table>\n",
       "<p>7417 rows × 7 columns</p>\n",
       "</div>"
      ],
      "text/plain": [
       "       Unnamed: 0.1  Unnamed: 0   \n",
       "0                 0           0  \\\n",
       "3                 3           3   \n",
       "4                 4           4   \n",
       "5                 5           5   \n",
       "6                 6           6   \n",
       "...             ...         ...   \n",
       "13125         13125       13125   \n",
       "13126         13126       13126   \n",
       "13127         13127       13127   \n",
       "13128         13128       13128   \n",
       "13131         13131       13131   \n",
       "\n",
       "                                       Translated_Review  Rating Sentimiento   \n",
       "0      bonito hotel, aparcamiento caro, consiguió una...       4    POSITIVO  \\\n",
       "3      Único, estancia estupenda, tiempo maravilloso ...       5     NEUTRAL   \n",
       "4      estancia estupenda estancia estupenda, fue inc...       5     NEUTRAL   \n",
       "5      amor personal de mónaco esposo se quedó en el ...       5    POSITIVO   \n",
       "6      Estancia acogedora en una ciudad lluviosa. Mi ...       5     NEUTRAL   \n",
       "...                                                  ...     ...         ...   \n",
       "13125  Novia impresionada, buen ambiente, lugar a un ...       5     NEUTRAL   \n",
       "13126  buena relación calidad-precio recién devuelta ...       5    NEGATIVO   \n",
       "13127  Los viajeros caribeños más agradables y experi...       5    POSITIVO   \n",
       "13128  maravilloso club de vacaciones diamante bahia ...       5    POSITIVO   \n",
       "13131  excelente piscina, clima increíble, estadía fa...       3    POSITIVO   \n",
       "\n",
       "      Sentimiento_VADER SENTIMIENTO_CALCULADO  \n",
       "0              NEGATIVO              POSITIVO  \n",
       "3              NEGATIVO              POSITIVO  \n",
       "4              NEGATIVO              POSITIVO  \n",
       "5              POSITIVO              POSITIVO  \n",
       "6              NEGATIVO              POSITIVO  \n",
       "...                 ...                   ...  \n",
       "13125          NEGATIVO              POSITIVO  \n",
       "13126          NEGATIVO              POSITIVO  \n",
       "13127          NEGATIVO              POSITIVO  \n",
       "13128          NEGATIVO              POSITIVO  \n",
       "13131          POSITIVO              POSITIVO  \n",
       "\n",
       "[7417 rows x 7 columns]"
      ]
     },
     "execution_count": 67,
     "metadata": {},
     "output_type": "execute_result"
    }
   ],
   "source": [
    "#Evaluación de la satisfacción del cliente\n",
    "df_comentarios_positivos=df_sentimientos_hotel[df_sentimientos_hotel['SENTIMIENTO_CALCULADO']=='POSITIVO']\n",
    "df_comentarios_positivos"
   ]
  },
  {
   "cell_type": "code",
   "execution_count": 70,
   "id": "c154a73a",
   "metadata": {},
   "outputs": [
    {
     "name": "stderr",
     "output_type": "stream",
     "text": [
      "[nltk_data] Downloading package stopwords to\n",
      "[nltk_data]     e:\\Users\\1077730\\AppData\\Roaming\\nltk_data...\n",
      "[nltk_data]   Package stopwords is already up-to-date!\n"
     ]
    }
   ],
   "source": [
    "import nltk\n",
    "from nltk.corpus import stopwords\n",
    "\n",
    "# Descargar los recursos necesarios de NLTK (esto solo se necesita una vez)\n",
    "nltk.download('stopwords')\n",
    "\n",
    "\n",
    "categorias_satisfaccion = {\n",
    "    'Calidad del servicio': [\n",
    "        'servicio', 'atención', 'amabilidad', 'respuesta', 'trato', 'recepción', 'ayuda', 'cliente',\n",
    "        'información', 'satisfacción', 'cordialidad', 'profesionalismo', 'hospitalidad', 'cortesía',\n",
    "        'asesoría', 'asistencia', 'calidad', 'recomendación', 'integridad', 'paciencia', 'dedicación',\n",
    "        'actitud', 'prestigio', 'garantía', 'compañía', 'solución', 'experiencia', 'estancia', 'momento',\n",
    "        'viaje', 'opinión', 'satisfacción', 'comentario', 'experiencia'\n",
    "    ],\n",
    "    'Calidad de las instalaciones': [\n",
    "        'instalación', 'limpieza', 'mantenimiento', 'condiciones', 'estado', 'aseo', 'higiene', 'confort',\n",
    "        'infraestructura', 'servicios', 'ambientación', 'edificio', 'hospitalidad', 'mobiliario', 'comodidad',\n",
    "        'apariencia', 'materiales', 'estructura', 'diseño', 'construcción', 'decoración', 'comodidades', 'residencia',\n",
    "        'acabados', 'vivienda', 'casa', 'domicilio', 'detalle', 'calidad', 'planta', 'espacio', 'seguridad', 'oferta',\n",
    "        'higiene','iluminacion','ruido'\n",
    "    ],\n",
    "    'Experiencia general': [\n",
    "        'experiencia', 'estancia', 'visita', 'viaje', 'impresiones', 'opinión', 'satisfacción', 'comentario',\n",
    "        'momento', 'estudio', 'reacción', 'recuerdo', 'instante', 'contemplación', 'comunicación', 'tarea',\n",
    "        'hábito', 'desarrollo', 'condición', 'impacto', 'presente', 'concepto', 'institución', 'ver',\n",
    "        'formación', 'compromiso', 'pasión', 'carácter', 'comentario', 'instante'\n",
    "    ],\n",
    "    'Precios y valor': [\n",
    "        'precio', 'tarifa', 'costo', 'elevado', 'presupuesto', 'económico', 'costoso', 'gasto',\n",
    "        'inversión', 'incremento', 'subida', 'alza', 'aumento', 'desembolso', 'desembolso', 'cantidad',\n",
    "        'nivel', 'monto', 'característica', 'propiedad', 'importe', 'grado', 'escalón', 'tasa', 'pago',\n",
    "        'especie', 'coste', 'concepto', 'plus', 'cupo', 'clase', 'derecho', 'cuantía', 'cuota', 'chance',\n",
    "        'impuesto', 'precio', 'tiquete', 'grava', 'desglose', 'valla', 'impresión', 'adición', 'deuda',\n",
    "        'coste', 'oferta', 'estimación', 'costo', 'valor', 'coste', 'impuesto', 'tasa', 'inflación', 'caída',\n",
    "        'preocupación', 'billete', 'cambio', 'interés', 'duda', 'descuento', 'gobierno', 'moneda', 'resto',\n",
    "        'distribución', 'compra', 'futuro', 'asociación', 'parte', 'regulación', 'decreto', 'financiación',\n",
    "        'subvención', 'planificación', 'periodo', 'economía', 'sistema', 'actuación', 'costo', 'barra', 'tienda',\n",
    "        'inmueble', 'financiamiento', 'inversión', 'dinero', 'valoración', 'tarifa', 'distribución', 'prueba',\n",
    "        'aplicación', 'importación', 'precio', 'retiro', 'curso', 'alma', 'grano', 'cultura', 'razón', 'carro',\n",
    "        'metodología', 'precio','ticket','elevado','carísimo'\n",
    "    ]\n",
    "}\n",
    "\n",
    "\n",
    "\n",
    "\n",
    "\n"
   ]
  },
  {
   "cell_type": "code",
   "execution_count": 68,
   "id": "cb0a6e30",
   "metadata": {},
   "outputs": [],
   "source": [
    "import nltk\n",
    "from collections import defaultdict\n",
    "\n",
    "stop_words = set(nltk.corpus.stopwords.words('spanish'))\n",
    "\n",
    "def etiquetar_satisfaccion_nltk(comentario):\n",
    "    tokens = nltk.word_tokenize(comentario.lower())\n",
    "    categoria_count = defaultdict(int)\n",
    "\n",
    "    for categoria, palabras_clave in categorias_satisfaccion.items():\n",
    "        for palabra_clave in palabras_clave:\n",
    "            if palabra_clave in tokens and palabra_clave not in stop_words:\n",
    "                categoria_count[categoria] += 1\n",
    "\n",
    "    if categoria_count:\n",
    "        categoria_max = max(categoria_count, key=categoria_count.get)\n",
    "        return categoria_max\n",
    "    else:\n",
    "        return 'No clasificado'\n"
   ]
  },
  {
   "cell_type": "code",
   "execution_count": 71,
   "id": "3bea637c",
   "metadata": {},
   "outputs": [
    {
     "name": "stderr",
     "output_type": "stream",
     "text": [
      "e:\\Users\\1077730\\AppData\\Local\\Temp\\ipykernel_24372\\4234158082.py:1: SettingWithCopyWarning:\n",
      "\n",
      "\n",
      "A value is trying to be set on a copy of a slice from a DataFrame.\n",
      "Try using .loc[row_indexer,col_indexer] = value instead\n",
      "\n",
      "See the caveats in the documentation: https://pandas.pydata.org/pandas-docs/stable/user_guide/indexing.html#returning-a-view-versus-a-copy\n",
      "\n"
     ]
    },
    {
     "data": {
      "text/html": [
       "<div>\n",
       "<style scoped>\n",
       "    .dataframe tbody tr th:only-of-type {\n",
       "        vertical-align: middle;\n",
       "    }\n",
       "\n",
       "    .dataframe tbody tr th {\n",
       "        vertical-align: top;\n",
       "    }\n",
       "\n",
       "    .dataframe thead th {\n",
       "        text-align: right;\n",
       "    }\n",
       "</style>\n",
       "<table border=\"1\" class=\"dataframe\">\n",
       "  <thead>\n",
       "    <tr style=\"text-align: right;\">\n",
       "      <th></th>\n",
       "      <th>Unnamed: 0.1</th>\n",
       "      <th>Unnamed: 0</th>\n",
       "      <th>Translated_Review</th>\n",
       "      <th>Rating</th>\n",
       "      <th>Sentimiento</th>\n",
       "      <th>Sentimiento_VADER</th>\n",
       "      <th>SENTIMIENTO_CALCULADO</th>\n",
       "      <th>Categoria_Satisfaccion</th>\n",
       "    </tr>\n",
       "  </thead>\n",
       "  <tbody>\n",
       "    <tr>\n",
       "      <th>0</th>\n",
       "      <td>0</td>\n",
       "      <td>0</td>\n",
       "      <td>bonito hotel, aparcamiento caro, consiguió una...</td>\n",
       "      <td>4</td>\n",
       "      <td>POSITIVO</td>\n",
       "      <td>NEGATIVO</td>\n",
       "      <td>POSITIVO</td>\n",
       "      <td>Calidad del servicio</td>\n",
       "    </tr>\n",
       "    <tr>\n",
       "      <th>3</th>\n",
       "      <td>3</td>\n",
       "      <td>3</td>\n",
       "      <td>Único, estancia estupenda, tiempo maravilloso ...</td>\n",
       "      <td>5</td>\n",
       "      <td>NEUTRAL</td>\n",
       "      <td>NEGATIVO</td>\n",
       "      <td>POSITIVO</td>\n",
       "      <td>Calidad del servicio</td>\n",
       "    </tr>\n",
       "    <tr>\n",
       "      <th>4</th>\n",
       "      <td>4</td>\n",
       "      <td>4</td>\n",
       "      <td>estancia estupenda estancia estupenda, fue inc...</td>\n",
       "      <td>5</td>\n",
       "      <td>NEUTRAL</td>\n",
       "      <td>NEGATIVO</td>\n",
       "      <td>POSITIVO</td>\n",
       "      <td>Precios y valor</td>\n",
       "    </tr>\n",
       "    <tr>\n",
       "      <th>5</th>\n",
       "      <td>5</td>\n",
       "      <td>5</td>\n",
       "      <td>amor personal de mónaco esposo se quedó en el ...</td>\n",
       "      <td>5</td>\n",
       "      <td>POSITIVO</td>\n",
       "      <td>POSITIVO</td>\n",
       "      <td>POSITIVO</td>\n",
       "      <td>Calidad del servicio</td>\n",
       "    </tr>\n",
       "    <tr>\n",
       "      <th>6</th>\n",
       "      <td>6</td>\n",
       "      <td>6</td>\n",
       "      <td>Estancia acogedora en una ciudad lluviosa. Mi ...</td>\n",
       "      <td>5</td>\n",
       "      <td>NEUTRAL</td>\n",
       "      <td>NEGATIVO</td>\n",
       "      <td>POSITIVO</td>\n",
       "      <td>Calidad del servicio</td>\n",
       "    </tr>\n",
       "    <tr>\n",
       "      <th>...</th>\n",
       "      <td>...</td>\n",
       "      <td>...</td>\n",
       "      <td>...</td>\n",
       "      <td>...</td>\n",
       "      <td>...</td>\n",
       "      <td>...</td>\n",
       "      <td>...</td>\n",
       "      <td>...</td>\n",
       "    </tr>\n",
       "    <tr>\n",
       "      <th>13125</th>\n",
       "      <td>13125</td>\n",
       "      <td>13125</td>\n",
       "      <td>Novia impresionada, buen ambiente, lugar a un ...</td>\n",
       "      <td>5</td>\n",
       "      <td>NEUTRAL</td>\n",
       "      <td>NEGATIVO</td>\n",
       "      <td>POSITIVO</td>\n",
       "      <td>Precios y valor</td>\n",
       "    </tr>\n",
       "    <tr>\n",
       "      <th>13126</th>\n",
       "      <td>13126</td>\n",
       "      <td>13126</td>\n",
       "      <td>buena relación calidad-precio recién devuelta ...</td>\n",
       "      <td>5</td>\n",
       "      <td>NEGATIVO</td>\n",
       "      <td>NEGATIVO</td>\n",
       "      <td>POSITIVO</td>\n",
       "      <td>Precios y valor</td>\n",
       "    </tr>\n",
       "    <tr>\n",
       "      <th>13127</th>\n",
       "      <td>13127</td>\n",
       "      <td>13127</td>\n",
       "      <td>Los viajeros caribeños más agradables y experi...</td>\n",
       "      <td>5</td>\n",
       "      <td>POSITIVO</td>\n",
       "      <td>NEGATIVO</td>\n",
       "      <td>POSITIVO</td>\n",
       "      <td>Calidad del servicio</td>\n",
       "    </tr>\n",
       "    <tr>\n",
       "      <th>13128</th>\n",
       "      <td>13128</td>\n",
       "      <td>13128</td>\n",
       "      <td>maravilloso club de vacaciones diamante bahia ...</td>\n",
       "      <td>5</td>\n",
       "      <td>POSITIVO</td>\n",
       "      <td>NEGATIVO</td>\n",
       "      <td>POSITIVO</td>\n",
       "      <td>Calidad del servicio</td>\n",
       "    </tr>\n",
       "    <tr>\n",
       "      <th>13131</th>\n",
       "      <td>13131</td>\n",
       "      <td>13131</td>\n",
       "      <td>excelente piscina, clima increíble, estadía fa...</td>\n",
       "      <td>3</td>\n",
       "      <td>POSITIVO</td>\n",
       "      <td>POSITIVO</td>\n",
       "      <td>POSITIVO</td>\n",
       "      <td>Precios y valor</td>\n",
       "    </tr>\n",
       "  </tbody>\n",
       "</table>\n",
       "<p>7417 rows × 8 columns</p>\n",
       "</div>"
      ],
      "text/plain": [
       "       Unnamed: 0.1  Unnamed: 0   \n",
       "0                 0           0  \\\n",
       "3                 3           3   \n",
       "4                 4           4   \n",
       "5                 5           5   \n",
       "6                 6           6   \n",
       "...             ...         ...   \n",
       "13125         13125       13125   \n",
       "13126         13126       13126   \n",
       "13127         13127       13127   \n",
       "13128         13128       13128   \n",
       "13131         13131       13131   \n",
       "\n",
       "                                       Translated_Review  Rating Sentimiento   \n",
       "0      bonito hotel, aparcamiento caro, consiguió una...       4    POSITIVO  \\\n",
       "3      Único, estancia estupenda, tiempo maravilloso ...       5     NEUTRAL   \n",
       "4      estancia estupenda estancia estupenda, fue inc...       5     NEUTRAL   \n",
       "5      amor personal de mónaco esposo se quedó en el ...       5    POSITIVO   \n",
       "6      Estancia acogedora en una ciudad lluviosa. Mi ...       5     NEUTRAL   \n",
       "...                                                  ...     ...         ...   \n",
       "13125  Novia impresionada, buen ambiente, lugar a un ...       5     NEUTRAL   \n",
       "13126  buena relación calidad-precio recién devuelta ...       5    NEGATIVO   \n",
       "13127  Los viajeros caribeños más agradables y experi...       5    POSITIVO   \n",
       "13128  maravilloso club de vacaciones diamante bahia ...       5    POSITIVO   \n",
       "13131  excelente piscina, clima increíble, estadía fa...       3    POSITIVO   \n",
       "\n",
       "      Sentimiento_VADER SENTIMIENTO_CALCULADO Categoria_Satisfaccion  \n",
       "0              NEGATIVO              POSITIVO   Calidad del servicio  \n",
       "3              NEGATIVO              POSITIVO   Calidad del servicio  \n",
       "4              NEGATIVO              POSITIVO        Precios y valor  \n",
       "5              POSITIVO              POSITIVO   Calidad del servicio  \n",
       "6              NEGATIVO              POSITIVO   Calidad del servicio  \n",
       "...                 ...                   ...                    ...  \n",
       "13125          NEGATIVO              POSITIVO        Precios y valor  \n",
       "13126          NEGATIVO              POSITIVO        Precios y valor  \n",
       "13127          NEGATIVO              POSITIVO   Calidad del servicio  \n",
       "13128          NEGATIVO              POSITIVO   Calidad del servicio  \n",
       "13131          POSITIVO              POSITIVO        Precios y valor  \n",
       "\n",
       "[7417 rows x 8 columns]"
      ]
     },
     "execution_count": 71,
     "metadata": {},
     "output_type": "execute_result"
    }
   ],
   "source": [
    "df_comentarios_positivos['Categoria_Satisfaccion'] = df_comentarios_positivos['Translated_Review'].apply(etiquetar_satisfaccion_nltk)\n",
    "df_comentarios_positivos"
   ]
  },
  {
   "cell_type": "code",
   "execution_count": 98,
   "id": "88837599",
   "metadata": {},
   "outputs": [
    {
     "name": "stderr",
     "output_type": "stream",
     "text": [
      "e:\\Users\\1077730\\AppData\\Local\\Temp\\ipykernel_24372\\1824423407.py:1: SettingWithCopyWarning:\n",
      "\n",
      "\n",
      "A value is trying to be set on a copy of a slice from a DataFrame.\n",
      "Try using .loc[row_indexer,col_indexer] = value instead\n",
      "\n",
      "See the caveats in the documentation: https://pandas.pydata.org/pandas-docs/stable/user_guide/indexing.html#returning-a-view-versus-a-copy\n",
      "\n"
     ]
    },
    {
     "data": {
      "text/html": [
       "<div>\n",
       "<style scoped>\n",
       "    .dataframe tbody tr th:only-of-type {\n",
       "        vertical-align: middle;\n",
       "    }\n",
       "\n",
       "    .dataframe tbody tr th {\n",
       "        vertical-align: top;\n",
       "    }\n",
       "\n",
       "    .dataframe thead th {\n",
       "        text-align: right;\n",
       "    }\n",
       "</style>\n",
       "<table border=\"1\" class=\"dataframe\">\n",
       "  <thead>\n",
       "    <tr style=\"text-align: right;\">\n",
       "      <th></th>\n",
       "      <th>Unnamed: 0</th>\n",
       "      <th>Nombre Hotel</th>\n",
       "      <th>Comentario</th>\n",
       "      <th>Sentimiento</th>\n",
       "      <th>Sentimiento_VADER</th>\n",
       "      <th>Categoria_Satisfaccion</th>\n",
       "    </tr>\n",
       "  </thead>\n",
       "  <tbody>\n",
       "    <tr>\n",
       "      <th>340</th>\n",
       "      <td>340</td>\n",
       "      <td>sofitel</td>\n",
       "      <td>Necesitaba un lugar donde quedarme para una co...</td>\n",
       "      <td>NEGATIVO</td>\n",
       "      <td>POSITIVO</td>\n",
       "      <td>Precios y valor</td>\n",
       "    </tr>\n",
       "    <tr>\n",
       "      <th>342</th>\n",
       "      <td>342</td>\n",
       "      <td>sofitel</td>\n",
       "      <td>Me alojé en Sofitel con mi marido durante un f...</td>\n",
       "      <td>NEUTRAL</td>\n",
       "      <td>POSITIVO</td>\n",
       "      <td>Calidad de las instalaciones</td>\n",
       "    </tr>\n",
       "    <tr>\n",
       "      <th>343</th>\n",
       "      <td>343</td>\n",
       "      <td>sofitel</td>\n",
       "      <td>Mi marido y yo nos alojamos en el Sofitel Chic...</td>\n",
       "      <td>NEUTRAL</td>\n",
       "      <td>POSITIVO</td>\n",
       "      <td>Precios y valor</td>\n",
       "    </tr>\n",
       "    <tr>\n",
       "      <th>344</th>\n",
       "      <td>344</td>\n",
       "      <td>sofitel</td>\n",
       "      <td>Alojarme en el Sofitel fue una de las experien...</td>\n",
       "      <td>NEUTRAL</td>\n",
       "      <td>POSITIVO</td>\n",
       "      <td>Calidad del servicio</td>\n",
       "    </tr>\n",
       "    <tr>\n",
       "      <th>345</th>\n",
       "      <td>345</td>\n",
       "      <td>sofitel</td>\n",
       "      <td>Después de llegar al hotel Sofitel Chicago Wat...</td>\n",
       "      <td>NEUTRAL</td>\n",
       "      <td>POSITIVO</td>\n",
       "      <td>No clasificado</td>\n",
       "    </tr>\n",
       "    <tr>\n",
       "      <th>347</th>\n",
       "      <td>347</td>\n",
       "      <td>sofitel</td>\n",
       "      <td>El Sofitel Chicago Water Tower, aunque en teor...</td>\n",
       "      <td>POSITIVO</td>\n",
       "      <td>POSITIVO</td>\n",
       "      <td>Calidad del servicio</td>\n",
       "    </tr>\n",
       "    <tr>\n",
       "      <th>350</th>\n",
       "      <td>350</td>\n",
       "      <td>sofitel</td>\n",
       "      <td>Me alojé en este hotel por 2 noches. Tenía gra...</td>\n",
       "      <td>NEUTRAL</td>\n",
       "      <td>POSITIVO</td>\n",
       "      <td>Precios y valor</td>\n",
       "    </tr>\n",
       "    <tr>\n",
       "      <th>355</th>\n",
       "      <td>355</td>\n",
       "      <td>sofitel</td>\n",
       "      <td>Hace poco me alojé en el hotel Sofitel (Chicag...</td>\n",
       "      <td>POSITIVO</td>\n",
       "      <td>POSITIVO</td>\n",
       "      <td>Precios y valor</td>\n",
       "    </tr>\n",
       "    <tr>\n",
       "      <th>359</th>\n",
       "      <td>359</td>\n",
       "      <td>sofitel</td>\n",
       "      <td>Estaba aquí por negocios, así que necesitaba d...</td>\n",
       "      <td>NEUTRAL</td>\n",
       "      <td>POSITIVO</td>\n",
       "      <td>Calidad del servicio</td>\n",
       "    </tr>\n",
       "    <tr>\n",
       "      <th>380</th>\n",
       "      <td>380</td>\n",
       "      <td>talbott</td>\n",
       "      <td>Recientemente me alojé en el Hotel Talbott en ...</td>\n",
       "      <td>NEUTRAL</td>\n",
       "      <td>POSITIVO</td>\n",
       "      <td>Calidad del servicio</td>\n",
       "    </tr>\n",
       "    <tr>\n",
       "      <th>381</th>\n",
       "      <td>381</td>\n",
       "      <td>talbott</td>\n",
       "      <td>\"Con clase\", \"Decente\" y \"Serena\". Estas palab...</td>\n",
       "      <td>NEUTRAL</td>\n",
       "      <td>POSITIVO</td>\n",
       "      <td>Calidad del servicio</td>\n",
       "    </tr>\n",
       "    <tr>\n",
       "      <th>382</th>\n",
       "      <td>382</td>\n",
       "      <td>talbott</td>\n",
       "      <td>¡El Hotel Talbott es fantástico! Me quedé allí...</td>\n",
       "      <td>NEUTRAL</td>\n",
       "      <td>POSITIVO</td>\n",
       "      <td>Calidad de las instalaciones</td>\n",
       "    </tr>\n",
       "    <tr>\n",
       "      <th>383</th>\n",
       "      <td>383</td>\n",
       "      <td>talbott</td>\n",
       "      <td>Este hotel era todo lo que estábamos buscando....</td>\n",
       "      <td>NEUTRAL</td>\n",
       "      <td>POSITIVO</td>\n",
       "      <td>Calidad del servicio</td>\n",
       "    </tr>\n",
       "    <tr>\n",
       "      <th>384</th>\n",
       "      <td>384</td>\n",
       "      <td>talbott</td>\n",
       "      <td>Mi marido y yo decidimos planear una escapada ...</td>\n",
       "      <td>NEUTRAL</td>\n",
       "      <td>POSITIVO</td>\n",
       "      <td>Calidad del servicio</td>\n",
       "    </tr>\n",
       "    <tr>\n",
       "      <th>385</th>\n",
       "      <td>385</td>\n",
       "      <td>talbott</td>\n",
       "      <td>Este es el mejor hotel para alojarse cuando vi...</td>\n",
       "      <td>NEUTRAL</td>\n",
       "      <td>POSITIVO</td>\n",
       "      <td>Calidad del servicio</td>\n",
       "    </tr>\n",
       "    <tr>\n",
       "      <th>386</th>\n",
       "      <td>386</td>\n",
       "      <td>talbott</td>\n",
       "      <td>Mi estadía en el Talbott fue una experiencia m...</td>\n",
       "      <td>NEUTRAL</td>\n",
       "      <td>POSITIVO</td>\n",
       "      <td>Calidad del servicio</td>\n",
       "    </tr>\n",
       "    <tr>\n",
       "      <th>387</th>\n",
       "      <td>387</td>\n",
       "      <td>talbott</td>\n",
       "      <td>¡Gran hotel! El personal es amable, cortés y p...</td>\n",
       "      <td>NEUTRAL</td>\n",
       "      <td>POSITIVO</td>\n",
       "      <td>Calidad del servicio</td>\n",
       "    </tr>\n",
       "    <tr>\n",
       "      <th>388</th>\n",
       "      <td>388</td>\n",
       "      <td>talbott</td>\n",
       "      <td>Realmente me encantó mi estancia en el Talbott...</td>\n",
       "      <td>NEUTRAL</td>\n",
       "      <td>POSITIVO</td>\n",
       "      <td>Calidad del servicio</td>\n",
       "    </tr>\n",
       "    <tr>\n",
       "      <th>389</th>\n",
       "      <td>389</td>\n",
       "      <td>talbott</td>\n",
       "      <td>Este hotel fue un auténtico sueño en el que al...</td>\n",
       "      <td>NEUTRAL</td>\n",
       "      <td>POSITIVO</td>\n",
       "      <td>Precios y valor</td>\n",
       "    </tr>\n",
       "    <tr>\n",
       "      <th>390</th>\n",
       "      <td>390</td>\n",
       "      <td>talbott</td>\n",
       "      <td>Muy lujoso y vale la pena el dinero. Si busca ...</td>\n",
       "      <td>NEUTRAL</td>\n",
       "      <td>POSITIVO</td>\n",
       "      <td>Calidad del servicio</td>\n",
       "    </tr>\n",
       "    <tr>\n",
       "      <th>391</th>\n",
       "      <td>391</td>\n",
       "      <td>talbott</td>\n",
       "      <td>Estaba visitando a unos familiares en Chicago ...</td>\n",
       "      <td>POSITIVO</td>\n",
       "      <td>POSITIVO</td>\n",
       "      <td>Calidad del servicio</td>\n",
       "    </tr>\n",
       "    <tr>\n",
       "      <th>392</th>\n",
       "      <td>392</td>\n",
       "      <td>talbott</td>\n",
       "      <td>El hotel Talbot es un lugar elegante para llev...</td>\n",
       "      <td>NEUTRAL</td>\n",
       "      <td>POSITIVO</td>\n",
       "      <td>No clasificado</td>\n",
       "    </tr>\n",
       "    <tr>\n",
       "      <th>393</th>\n",
       "      <td>393</td>\n",
       "      <td>talbott</td>\n",
       "      <td>El ambiente en el Talbott Hotel es muy acogedo...</td>\n",
       "      <td>POSITIVO</td>\n",
       "      <td>POSITIVO</td>\n",
       "      <td>Calidad del servicio</td>\n",
       "    </tr>\n",
       "    <tr>\n",
       "      <th>394</th>\n",
       "      <td>394</td>\n",
       "      <td>talbott</td>\n",
       "      <td>Al principio, mi esposo y yo estábamos muy emo...</td>\n",
       "      <td>POSITIVO</td>\n",
       "      <td>POSITIVO</td>\n",
       "      <td>Calidad de las instalaciones</td>\n",
       "    </tr>\n",
       "    <tr>\n",
       "      <th>395</th>\n",
       "      <td>395</td>\n",
       "      <td>talbott</td>\n",
       "      <td>Las tarifas en The Talbott Hotel eran más bara...</td>\n",
       "      <td>POSITIVO</td>\n",
       "      <td>POSITIVO</td>\n",
       "      <td>Calidad del servicio</td>\n",
       "    </tr>\n",
       "    <tr>\n",
       "      <th>397</th>\n",
       "      <td>397</td>\n",
       "      <td>talbott</td>\n",
       "      <td>Personal agradable y servicio de limpieza. Des...</td>\n",
       "      <td>NEUTRAL</td>\n",
       "      <td>POSITIVO</td>\n",
       "      <td>Calidad del servicio</td>\n",
       "    </tr>\n",
       "    <tr>\n",
       "      <th>399</th>\n",
       "      <td>399</td>\n",
       "      <td>talbott</td>\n",
       "      <td>Excelente personal y servicio al cliente, muy ...</td>\n",
       "      <td>NEUTRAL</td>\n",
       "      <td>POSITIVO</td>\n",
       "      <td>Calidad del servicio</td>\n",
       "    </tr>\n",
       "    <tr>\n",
       "      <th>741</th>\n",
       "      <td>741</td>\n",
       "      <td>sofitel</td>\n",
       "      <td>Retiré mi Lexus y me lo devolvieron con el esp...</td>\n",
       "      <td>NEUTRAL</td>\n",
       "      <td>POSITIVO</td>\n",
       "      <td>No clasificado</td>\n",
       "    </tr>\n",
       "    <tr>\n",
       "      <th>742</th>\n",
       "      <td>742</td>\n",
       "      <td>sofitel</td>\n",
       "      <td>Tuve la ceremonia de mi boda y la recepción en...</td>\n",
       "      <td>POSITIVO</td>\n",
       "      <td>POSITIVO</td>\n",
       "      <td>Calidad del servicio</td>\n",
       "    </tr>\n",
       "    <tr>\n",
       "      <th>743</th>\n",
       "      <td>743</td>\n",
       "      <td>sofitel</td>\n",
       "      <td>Leí las críticas en Trip Advisor sobre esta pr...</td>\n",
       "      <td>NEUTRAL</td>\n",
       "      <td>POSITIVO</td>\n",
       "      <td>Calidad del servicio</td>\n",
       "    </tr>\n",
       "    <tr>\n",
       "      <th>745</th>\n",
       "      <td>745</td>\n",
       "      <td>sofitel</td>\n",
       "      <td>Acabo de regresar de una visita de 10 días a C...</td>\n",
       "      <td>NEUTRAL</td>\n",
       "      <td>POSITIVO</td>\n",
       "      <td>Precios y valor</td>\n",
       "    </tr>\n",
       "    <tr>\n",
       "      <th>747</th>\n",
       "      <td>747</td>\n",
       "      <td>sofitel</td>\n",
       "      <td>Este fue uno de los mejores hoteles en los que...</td>\n",
       "      <td>NEUTRAL</td>\n",
       "      <td>POSITIVO</td>\n",
       "      <td>Calidad del servicio</td>\n",
       "    </tr>\n",
       "    <tr>\n",
       "      <th>748</th>\n",
       "      <td>748</td>\n",
       "      <td>sofitel</td>\n",
       "      <td>Me alojé aquí como un regalo para mí mientras ...</td>\n",
       "      <td>NEUTRAL</td>\n",
       "      <td>POSITIVO</td>\n",
       "      <td>Calidad del servicio</td>\n",
       "    </tr>\n",
       "    <tr>\n",
       "      <th>749</th>\n",
       "      <td>749</td>\n",
       "      <td>sofitel</td>\n",
       "      <td>nuestra estancia fue absolutamente perfecta. E...</td>\n",
       "      <td>NEUTRAL</td>\n",
       "      <td>POSITIVO</td>\n",
       "      <td>Calidad del servicio</td>\n",
       "    </tr>\n",
       "    <tr>\n",
       "      <th>750</th>\n",
       "      <td>750</td>\n",
       "      <td>sofitel</td>\n",
       "      <td>Una arquitectura sorprendente es sólo el comie...</td>\n",
       "      <td>POSITIVO</td>\n",
       "      <td>POSITIVO</td>\n",
       "      <td>Calidad del servicio</td>\n",
       "    </tr>\n",
       "    <tr>\n",
       "      <th>751</th>\n",
       "      <td>751</td>\n",
       "      <td>sofitel</td>\n",
       "      <td>¡Excelente servicio! Habitaciones limpias y es...</td>\n",
       "      <td>NEUTRAL</td>\n",
       "      <td>POSITIVO</td>\n",
       "      <td>Calidad del servicio</td>\n",
       "    </tr>\n",
       "    <tr>\n",
       "      <th>753</th>\n",
       "      <td>753</td>\n",
       "      <td>sofitel</td>\n",
       "      <td>Llegué al Sofitel por motivos de ocio y negoci...</td>\n",
       "      <td>POSITIVO</td>\n",
       "      <td>POSITIVO</td>\n",
       "      <td>Calidad del servicio</td>\n",
       "    </tr>\n",
       "    <tr>\n",
       "      <th>754</th>\n",
       "      <td>754</td>\n",
       "      <td>sofitel</td>\n",
       "      <td>Me alojé cuatro noches para asistir a una conf...</td>\n",
       "      <td>NEUTRAL</td>\n",
       "      <td>POSITIVO</td>\n",
       "      <td>No clasificado</td>\n",
       "    </tr>\n",
       "    <tr>\n",
       "      <th>755</th>\n",
       "      <td>755</td>\n",
       "      <td>sofitel</td>\n",
       "      <td>Después de deliberar un poco, reservé el Sofit...</td>\n",
       "      <td>NEUTRAL</td>\n",
       "      <td>POSITIVO</td>\n",
       "      <td>Calidad de las instalaciones</td>\n",
       "    </tr>\n",
       "    <tr>\n",
       "      <th>756</th>\n",
       "      <td>756</td>\n",
       "      <td>sofitel</td>\n",
       "      <td>No conseguimos la habitación que nos prometier...</td>\n",
       "      <td>NEUTRAL</td>\n",
       "      <td>POSITIVO</td>\n",
       "      <td>No clasificado</td>\n",
       "    </tr>\n",
       "    <tr>\n",
       "      <th>757</th>\n",
       "      <td>757</td>\n",
       "      <td>sofitel</td>\n",
       "      <td>Acabamos de regresar de pasar 3 noches en el S...</td>\n",
       "      <td>POSITIVO</td>\n",
       "      <td>POSITIVO</td>\n",
       "      <td>Calidad del servicio</td>\n",
       "    </tr>\n",
       "    <tr>\n",
       "      <th>758</th>\n",
       "      <td>758</td>\n",
       "      <td>sofitel</td>\n",
       "      <td>Hermosamente decorado, con personal profesiona...</td>\n",
       "      <td>NEUTRAL</td>\n",
       "      <td>POSITIVO</td>\n",
       "      <td>Calidad del servicio</td>\n",
       "    </tr>\n",
       "    <tr>\n",
       "      <th>759</th>\n",
       "      <td>759</td>\n",
       "      <td>sofitel</td>\n",
       "      <td>Excelentes camas, habitaciones limpias, baño e...</td>\n",
       "      <td>NEUTRAL</td>\n",
       "      <td>POSITIVO</td>\n",
       "      <td>Calidad del servicio</td>\n",
       "    </tr>\n",
       "    <tr>\n",
       "      <th>780</th>\n",
       "      <td>780</td>\n",
       "      <td>talbott</td>\n",
       "      <td>Muy pintoresco y romántico, pero masculino. Me...</td>\n",
       "      <td>NEUTRAL</td>\n",
       "      <td>POSITIVO</td>\n",
       "      <td>No clasificado</td>\n",
       "    </tr>\n",
       "    <tr>\n",
       "      <th>783</th>\n",
       "      <td>783</td>\n",
       "      <td>talbott</td>\n",
       "      <td>Mientras nos alejábamos en un taxi rumbo al ae...</td>\n",
       "      <td>NEUTRAL</td>\n",
       "      <td>POSITIVO</td>\n",
       "      <td>Calidad del servicio</td>\n",
       "    </tr>\n",
       "    <tr>\n",
       "      <th>785</th>\n",
       "      <td>785</td>\n",
       "      <td>talbott</td>\n",
       "      <td>Nos encantó nuestra estancia en el Talbott. Es...</td>\n",
       "      <td>NEGATIVO</td>\n",
       "      <td>POSITIVO</td>\n",
       "      <td>Calidad del servicio</td>\n",
       "    </tr>\n",
       "    <tr>\n",
       "      <th>786</th>\n",
       "      <td>786</td>\n",
       "      <td>talbott</td>\n",
       "      <td>Este es un gran hotel, pero de ninguna manera ...</td>\n",
       "      <td>POSITIVO</td>\n",
       "      <td>POSITIVO</td>\n",
       "      <td>Calidad de las instalaciones</td>\n",
       "    </tr>\n",
       "    <tr>\n",
       "      <th>788</th>\n",
       "      <td>788</td>\n",
       "      <td>talbott</td>\n",
       "      <td>Nos alojamos aquí por todas las excelentes crí...</td>\n",
       "      <td>NEUTRAL</td>\n",
       "      <td>POSITIVO</td>\n",
       "      <td>Precios y valor</td>\n",
       "    </tr>\n",
       "    <tr>\n",
       "      <th>790</th>\n",
       "      <td>790</td>\n",
       "      <td>talbott</td>\n",
       "      <td>Si la ubicación es lo único que importa, quéda...</td>\n",
       "      <td>NEUTRAL</td>\n",
       "      <td>POSITIVO</td>\n",
       "      <td>Precios y valor</td>\n",
       "    </tr>\n",
       "    <tr>\n",
       "      <th>791</th>\n",
       "      <td>791</td>\n",
       "      <td>talbott</td>\n",
       "      <td>Estoy sentado en el hotel mientras corrijo est...</td>\n",
       "      <td>NEUTRAL</td>\n",
       "      <td>POSITIVO</td>\n",
       "      <td>Calidad de las instalaciones</td>\n",
       "    </tr>\n",
       "    <tr>\n",
       "      <th>792</th>\n",
       "      <td>792</td>\n",
       "      <td>talbott</td>\n",
       "      <td>Cualquier viajero fiel a su hotel favorito ha ...</td>\n",
       "      <td>NEUTRAL</td>\n",
       "      <td>POSITIVO</td>\n",
       "      <td>Precios y valor</td>\n",
       "    </tr>\n",
       "    <tr>\n",
       "      <th>795</th>\n",
       "      <td>795</td>\n",
       "      <td>talbott</td>\n",
       "      <td>Me alojé en The Talbott por 3 noches por negoc...</td>\n",
       "      <td>NEUTRAL</td>\n",
       "      <td>POSITIVO</td>\n",
       "      <td>Calidad del servicio</td>\n",
       "    </tr>\n",
       "    <tr>\n",
       "      <th>796</th>\n",
       "      <td>796</td>\n",
       "      <td>talbott</td>\n",
       "      <td>Nos encantó el Talbott. La ubicación era fabul...</td>\n",
       "      <td>NEUTRAL</td>\n",
       "      <td>POSITIVO</td>\n",
       "      <td>No clasificado</td>\n",
       "    </tr>\n",
       "    <tr>\n",
       "      <th>797</th>\n",
       "      <td>797</td>\n",
       "      <td>talbott</td>\n",
       "      <td>Puedo decir fácilmente que este es uno de los ...</td>\n",
       "      <td>NEGATIVO</td>\n",
       "      <td>POSITIVO</td>\n",
       "      <td>Calidad del servicio</td>\n",
       "    </tr>\n",
       "    <tr>\n",
       "      <th>798</th>\n",
       "      <td>798</td>\n",
       "      <td>talbott</td>\n",
       "      <td>Este es un gran hallazgo para el centro de Chi...</td>\n",
       "      <td>POSITIVO</td>\n",
       "      <td>POSITIVO</td>\n",
       "      <td>Precios y valor</td>\n",
       "    </tr>\n",
       "  </tbody>\n",
       "</table>\n",
       "</div>"
      ],
      "text/plain": [
       "     Unnamed: 0 Nombre Hotel   \n",
       "340         340      sofitel  \\\n",
       "342         342      sofitel   \n",
       "343         343      sofitel   \n",
       "344         344      sofitel   \n",
       "345         345      sofitel   \n",
       "347         347      sofitel   \n",
       "350         350      sofitel   \n",
       "355         355      sofitel   \n",
       "359         359      sofitel   \n",
       "380         380      talbott   \n",
       "381         381      talbott   \n",
       "382         382      talbott   \n",
       "383         383      talbott   \n",
       "384         384      talbott   \n",
       "385         385      talbott   \n",
       "386         386      talbott   \n",
       "387         387      talbott   \n",
       "388         388      talbott   \n",
       "389         389      talbott   \n",
       "390         390      talbott   \n",
       "391         391      talbott   \n",
       "392         392      talbott   \n",
       "393         393      talbott   \n",
       "394         394      talbott   \n",
       "395         395      talbott   \n",
       "397         397      talbott   \n",
       "399         399      talbott   \n",
       "741         741      sofitel   \n",
       "742         742      sofitel   \n",
       "743         743      sofitel   \n",
       "745         745      sofitel   \n",
       "747         747      sofitel   \n",
       "748         748      sofitel   \n",
       "749         749      sofitel   \n",
       "750         750      sofitel   \n",
       "751         751      sofitel   \n",
       "753         753      sofitel   \n",
       "754         754      sofitel   \n",
       "755         755      sofitel   \n",
       "756         756      sofitel   \n",
       "757         757      sofitel   \n",
       "758         758      sofitel   \n",
       "759         759      sofitel   \n",
       "780         780      talbott   \n",
       "783         783      talbott   \n",
       "785         785      talbott   \n",
       "786         786      talbott   \n",
       "788         788      talbott   \n",
       "790         790      talbott   \n",
       "791         791      talbott   \n",
       "792         792      talbott   \n",
       "795         795      talbott   \n",
       "796         796      talbott   \n",
       "797         797      talbott   \n",
       "798         798      talbott   \n",
       "\n",
       "                                            Comentario Sentimiento   \n",
       "340  Necesitaba un lugar donde quedarme para una co...    NEGATIVO  \\\n",
       "342  Me alojé en Sofitel con mi marido durante un f...     NEUTRAL   \n",
       "343  Mi marido y yo nos alojamos en el Sofitel Chic...     NEUTRAL   \n",
       "344  Alojarme en el Sofitel fue una de las experien...     NEUTRAL   \n",
       "345  Después de llegar al hotel Sofitel Chicago Wat...     NEUTRAL   \n",
       "347  El Sofitel Chicago Water Tower, aunque en teor...    POSITIVO   \n",
       "350  Me alojé en este hotel por 2 noches. Tenía gra...     NEUTRAL   \n",
       "355  Hace poco me alojé en el hotel Sofitel (Chicag...    POSITIVO   \n",
       "359  Estaba aquí por negocios, así que necesitaba d...     NEUTRAL   \n",
       "380  Recientemente me alojé en el Hotel Talbott en ...     NEUTRAL   \n",
       "381  \"Con clase\", \"Decente\" y \"Serena\". Estas palab...     NEUTRAL   \n",
       "382  ¡El Hotel Talbott es fantástico! Me quedé allí...     NEUTRAL   \n",
       "383  Este hotel era todo lo que estábamos buscando....     NEUTRAL   \n",
       "384  Mi marido y yo decidimos planear una escapada ...     NEUTRAL   \n",
       "385  Este es el mejor hotel para alojarse cuando vi...     NEUTRAL   \n",
       "386  Mi estadía en el Talbott fue una experiencia m...     NEUTRAL   \n",
       "387  ¡Gran hotel! El personal es amable, cortés y p...     NEUTRAL   \n",
       "388  Realmente me encantó mi estancia en el Talbott...     NEUTRAL   \n",
       "389  Este hotel fue un auténtico sueño en el que al...     NEUTRAL   \n",
       "390  Muy lujoso y vale la pena el dinero. Si busca ...     NEUTRAL   \n",
       "391  Estaba visitando a unos familiares en Chicago ...    POSITIVO   \n",
       "392  El hotel Talbot es un lugar elegante para llev...     NEUTRAL   \n",
       "393  El ambiente en el Talbott Hotel es muy acogedo...    POSITIVO   \n",
       "394  Al principio, mi esposo y yo estábamos muy emo...    POSITIVO   \n",
       "395  Las tarifas en The Talbott Hotel eran más bara...    POSITIVO   \n",
       "397  Personal agradable y servicio de limpieza. Des...     NEUTRAL   \n",
       "399  Excelente personal y servicio al cliente, muy ...     NEUTRAL   \n",
       "741  Retiré mi Lexus y me lo devolvieron con el esp...     NEUTRAL   \n",
       "742  Tuve la ceremonia de mi boda y la recepción en...    POSITIVO   \n",
       "743  Leí las críticas en Trip Advisor sobre esta pr...     NEUTRAL   \n",
       "745  Acabo de regresar de una visita de 10 días a C...     NEUTRAL   \n",
       "747  Este fue uno de los mejores hoteles en los que...     NEUTRAL   \n",
       "748  Me alojé aquí como un regalo para mí mientras ...     NEUTRAL   \n",
       "749  nuestra estancia fue absolutamente perfecta. E...     NEUTRAL   \n",
       "750  Una arquitectura sorprendente es sólo el comie...    POSITIVO   \n",
       "751  ¡Excelente servicio! Habitaciones limpias y es...     NEUTRAL   \n",
       "753  Llegué al Sofitel por motivos de ocio y negoci...    POSITIVO   \n",
       "754  Me alojé cuatro noches para asistir a una conf...     NEUTRAL   \n",
       "755  Después de deliberar un poco, reservé el Sofit...     NEUTRAL   \n",
       "756  No conseguimos la habitación que nos prometier...     NEUTRAL   \n",
       "757  Acabamos de regresar de pasar 3 noches en el S...    POSITIVO   \n",
       "758  Hermosamente decorado, con personal profesiona...     NEUTRAL   \n",
       "759  Excelentes camas, habitaciones limpias, baño e...     NEUTRAL   \n",
       "780  Muy pintoresco y romántico, pero masculino. Me...     NEUTRAL   \n",
       "783  Mientras nos alejábamos en un taxi rumbo al ae...     NEUTRAL   \n",
       "785  Nos encantó nuestra estancia en el Talbott. Es...    NEGATIVO   \n",
       "786  Este es un gran hotel, pero de ninguna manera ...    POSITIVO   \n",
       "788  Nos alojamos aquí por todas las excelentes crí...     NEUTRAL   \n",
       "790  Si la ubicación es lo único que importa, quéda...     NEUTRAL   \n",
       "791  Estoy sentado en el hotel mientras corrijo est...     NEUTRAL   \n",
       "792  Cualquier viajero fiel a su hotel favorito ha ...     NEUTRAL   \n",
       "795  Me alojé en The Talbott por 3 noches por negoc...     NEUTRAL   \n",
       "796  Nos encantó el Talbott. La ubicación era fabul...     NEUTRAL   \n",
       "797  Puedo decir fácilmente que este es uno de los ...    NEGATIVO   \n",
       "798  Este es un gran hallazgo para el centro de Chi...    POSITIVO   \n",
       "\n",
       "    Sentimiento_VADER        Categoria_Satisfaccion  \n",
       "340          POSITIVO               Precios y valor  \n",
       "342          POSITIVO  Calidad de las instalaciones  \n",
       "343          POSITIVO               Precios y valor  \n",
       "344          POSITIVO          Calidad del servicio  \n",
       "345          POSITIVO                No clasificado  \n",
       "347          POSITIVO          Calidad del servicio  \n",
       "350          POSITIVO               Precios y valor  \n",
       "355          POSITIVO               Precios y valor  \n",
       "359          POSITIVO          Calidad del servicio  \n",
       "380          POSITIVO          Calidad del servicio  \n",
       "381          POSITIVO          Calidad del servicio  \n",
       "382          POSITIVO  Calidad de las instalaciones  \n",
       "383          POSITIVO          Calidad del servicio  \n",
       "384          POSITIVO          Calidad del servicio  \n",
       "385          POSITIVO          Calidad del servicio  \n",
       "386          POSITIVO          Calidad del servicio  \n",
       "387          POSITIVO          Calidad del servicio  \n",
       "388          POSITIVO          Calidad del servicio  \n",
       "389          POSITIVO               Precios y valor  \n",
       "390          POSITIVO          Calidad del servicio  \n",
       "391          POSITIVO          Calidad del servicio  \n",
       "392          POSITIVO                No clasificado  \n",
       "393          POSITIVO          Calidad del servicio  \n",
       "394          POSITIVO  Calidad de las instalaciones  \n",
       "395          POSITIVO          Calidad del servicio  \n",
       "397          POSITIVO          Calidad del servicio  \n",
       "399          POSITIVO          Calidad del servicio  \n",
       "741          POSITIVO                No clasificado  \n",
       "742          POSITIVO          Calidad del servicio  \n",
       "743          POSITIVO          Calidad del servicio  \n",
       "745          POSITIVO               Precios y valor  \n",
       "747          POSITIVO          Calidad del servicio  \n",
       "748          POSITIVO          Calidad del servicio  \n",
       "749          POSITIVO          Calidad del servicio  \n",
       "750          POSITIVO          Calidad del servicio  \n",
       "751          POSITIVO          Calidad del servicio  \n",
       "753          POSITIVO          Calidad del servicio  \n",
       "754          POSITIVO                No clasificado  \n",
       "755          POSITIVO  Calidad de las instalaciones  \n",
       "756          POSITIVO                No clasificado  \n",
       "757          POSITIVO          Calidad del servicio  \n",
       "758          POSITIVO          Calidad del servicio  \n",
       "759          POSITIVO          Calidad del servicio  \n",
       "780          POSITIVO                No clasificado  \n",
       "783          POSITIVO          Calidad del servicio  \n",
       "785          POSITIVO          Calidad del servicio  \n",
       "786          POSITIVO  Calidad de las instalaciones  \n",
       "788          POSITIVO               Precios y valor  \n",
       "790          POSITIVO               Precios y valor  \n",
       "791          POSITIVO  Calidad de las instalaciones  \n",
       "792          POSITIVO               Precios y valor  \n",
       "795          POSITIVO          Calidad del servicio  \n",
       "796          POSITIVO                No clasificado  \n",
       "797          POSITIVO          Calidad del servicio  \n",
       "798          POSITIVO               Precios y valor  "
      ]
     },
     "execution_count": 98,
     "metadata": {},
     "output_type": "execute_result"
    }
   ],
   "source": [
    "\n",
    "\n",
    "df_sentimientos_competencia_positivostop['Categoria_Satisfaccion'] = df_sentimientos_competencia_positivostop['Comentario'].apply(etiquetar_satisfaccion_nltk)\n",
    "df_sentimientos_competencia_positivostop"
   ]
  },
  {
   "cell_type": "code",
   "execution_count": 73,
   "id": "b66f36a3",
   "metadata": {},
   "outputs": [
    {
     "data": {
      "application/vnd.plotly.v1+json": {
       "config": {
        "plotlyServerURL": "https://plot.ly"
       },
       "data": [
        {
         "domain": {
          "x": [
           0,
           1
          ],
          "y": [
           0,
           1
          ]
         },
         "hovertemplate": "Categoria_Satisfaccion=%{label}<br>Count=%{value}<extra></extra>",
         "labels": [
          "Calidad del servicio",
          "Precios y valor",
          "Calidad de las instalaciones",
          "No clasificado",
          "Experiencia general"
         ],
         "legendgroup": "",
         "name": "",
         "showlegend": true,
         "type": "pie",
         "values": [
          3526,
          2018,
          910,
          798,
          165
         ]
        }
       ],
       "layout": {
        "legend": {
         "tracegroupgap": 0
        },
        "piecolorway": [
         "rgb(141,211,199)",
         "rgb(255,255,179)",
         "rgb(190,186,218)",
         "rgb(251,128,114)",
         "rgb(128,177,211)",
         "rgb(253,180,98)",
         "rgb(179,222,105)",
         "rgb(252,205,229)",
         "rgb(217,217,217)",
         "rgb(188,128,189)",
         "rgb(204,235,197)",
         "rgb(255,237,111)"
        ],
        "template": {
         "data": {
          "bar": [
           {
            "error_x": {
             "color": "#2a3f5f"
            },
            "error_y": {
             "color": "#2a3f5f"
            },
            "marker": {
             "line": {
              "color": "#E5ECF6",
              "width": 0.5
             },
             "pattern": {
              "fillmode": "overlay",
              "size": 10,
              "solidity": 0.2
             }
            },
            "type": "bar"
           }
          ],
          "barpolar": [
           {
            "marker": {
             "line": {
              "color": "#E5ECF6",
              "width": 0.5
             },
             "pattern": {
              "fillmode": "overlay",
              "size": 10,
              "solidity": 0.2
             }
            },
            "type": "barpolar"
           }
          ],
          "carpet": [
           {
            "aaxis": {
             "endlinecolor": "#2a3f5f",
             "gridcolor": "white",
             "linecolor": "white",
             "minorgridcolor": "white",
             "startlinecolor": "#2a3f5f"
            },
            "baxis": {
             "endlinecolor": "#2a3f5f",
             "gridcolor": "white",
             "linecolor": "white",
             "minorgridcolor": "white",
             "startlinecolor": "#2a3f5f"
            },
            "type": "carpet"
           }
          ],
          "choropleth": [
           {
            "colorbar": {
             "outlinewidth": 0,
             "ticks": ""
            },
            "type": "choropleth"
           }
          ],
          "contour": [
           {
            "colorbar": {
             "outlinewidth": 0,
             "ticks": ""
            },
            "colorscale": [
             [
              0,
              "#0d0887"
             ],
             [
              0.1111111111111111,
              "#46039f"
             ],
             [
              0.2222222222222222,
              "#7201a8"
             ],
             [
              0.3333333333333333,
              "#9c179e"
             ],
             [
              0.4444444444444444,
              "#bd3786"
             ],
             [
              0.5555555555555556,
              "#d8576b"
             ],
             [
              0.6666666666666666,
              "#ed7953"
             ],
             [
              0.7777777777777778,
              "#fb9f3a"
             ],
             [
              0.8888888888888888,
              "#fdca26"
             ],
             [
              1,
              "#f0f921"
             ]
            ],
            "type": "contour"
           }
          ],
          "contourcarpet": [
           {
            "colorbar": {
             "outlinewidth": 0,
             "ticks": ""
            },
            "type": "contourcarpet"
           }
          ],
          "heatmap": [
           {
            "colorbar": {
             "outlinewidth": 0,
             "ticks": ""
            },
            "colorscale": [
             [
              0,
              "#0d0887"
             ],
             [
              0.1111111111111111,
              "#46039f"
             ],
             [
              0.2222222222222222,
              "#7201a8"
             ],
             [
              0.3333333333333333,
              "#9c179e"
             ],
             [
              0.4444444444444444,
              "#bd3786"
             ],
             [
              0.5555555555555556,
              "#d8576b"
             ],
             [
              0.6666666666666666,
              "#ed7953"
             ],
             [
              0.7777777777777778,
              "#fb9f3a"
             ],
             [
              0.8888888888888888,
              "#fdca26"
             ],
             [
              1,
              "#f0f921"
             ]
            ],
            "type": "heatmap"
           }
          ],
          "heatmapgl": [
           {
            "colorbar": {
             "outlinewidth": 0,
             "ticks": ""
            },
            "colorscale": [
             [
              0,
              "#0d0887"
             ],
             [
              0.1111111111111111,
              "#46039f"
             ],
             [
              0.2222222222222222,
              "#7201a8"
             ],
             [
              0.3333333333333333,
              "#9c179e"
             ],
             [
              0.4444444444444444,
              "#bd3786"
             ],
             [
              0.5555555555555556,
              "#d8576b"
             ],
             [
              0.6666666666666666,
              "#ed7953"
             ],
             [
              0.7777777777777778,
              "#fb9f3a"
             ],
             [
              0.8888888888888888,
              "#fdca26"
             ],
             [
              1,
              "#f0f921"
             ]
            ],
            "type": "heatmapgl"
           }
          ],
          "histogram": [
           {
            "marker": {
             "pattern": {
              "fillmode": "overlay",
              "size": 10,
              "solidity": 0.2
             }
            },
            "type": "histogram"
           }
          ],
          "histogram2d": [
           {
            "colorbar": {
             "outlinewidth": 0,
             "ticks": ""
            },
            "colorscale": [
             [
              0,
              "#0d0887"
             ],
             [
              0.1111111111111111,
              "#46039f"
             ],
             [
              0.2222222222222222,
              "#7201a8"
             ],
             [
              0.3333333333333333,
              "#9c179e"
             ],
             [
              0.4444444444444444,
              "#bd3786"
             ],
             [
              0.5555555555555556,
              "#d8576b"
             ],
             [
              0.6666666666666666,
              "#ed7953"
             ],
             [
              0.7777777777777778,
              "#fb9f3a"
             ],
             [
              0.8888888888888888,
              "#fdca26"
             ],
             [
              1,
              "#f0f921"
             ]
            ],
            "type": "histogram2d"
           }
          ],
          "histogram2dcontour": [
           {
            "colorbar": {
             "outlinewidth": 0,
             "ticks": ""
            },
            "colorscale": [
             [
              0,
              "#0d0887"
             ],
             [
              0.1111111111111111,
              "#46039f"
             ],
             [
              0.2222222222222222,
              "#7201a8"
             ],
             [
              0.3333333333333333,
              "#9c179e"
             ],
             [
              0.4444444444444444,
              "#bd3786"
             ],
             [
              0.5555555555555556,
              "#d8576b"
             ],
             [
              0.6666666666666666,
              "#ed7953"
             ],
             [
              0.7777777777777778,
              "#fb9f3a"
             ],
             [
              0.8888888888888888,
              "#fdca26"
             ],
             [
              1,
              "#f0f921"
             ]
            ],
            "type": "histogram2dcontour"
           }
          ],
          "mesh3d": [
           {
            "colorbar": {
             "outlinewidth": 0,
             "ticks": ""
            },
            "type": "mesh3d"
           }
          ],
          "parcoords": [
           {
            "line": {
             "colorbar": {
              "outlinewidth": 0,
              "ticks": ""
             }
            },
            "type": "parcoords"
           }
          ],
          "pie": [
           {
            "automargin": true,
            "type": "pie"
           }
          ],
          "scatter": [
           {
            "fillpattern": {
             "fillmode": "overlay",
             "size": 10,
             "solidity": 0.2
            },
            "type": "scatter"
           }
          ],
          "scatter3d": [
           {
            "line": {
             "colorbar": {
              "outlinewidth": 0,
              "ticks": ""
             }
            },
            "marker": {
             "colorbar": {
              "outlinewidth": 0,
              "ticks": ""
             }
            },
            "type": "scatter3d"
           }
          ],
          "scattercarpet": [
           {
            "marker": {
             "colorbar": {
              "outlinewidth": 0,
              "ticks": ""
             }
            },
            "type": "scattercarpet"
           }
          ],
          "scattergeo": [
           {
            "marker": {
             "colorbar": {
              "outlinewidth": 0,
              "ticks": ""
             }
            },
            "type": "scattergeo"
           }
          ],
          "scattergl": [
           {
            "marker": {
             "colorbar": {
              "outlinewidth": 0,
              "ticks": ""
             }
            },
            "type": "scattergl"
           }
          ],
          "scattermapbox": [
           {
            "marker": {
             "colorbar": {
              "outlinewidth": 0,
              "ticks": ""
             }
            },
            "type": "scattermapbox"
           }
          ],
          "scatterpolar": [
           {
            "marker": {
             "colorbar": {
              "outlinewidth": 0,
              "ticks": ""
             }
            },
            "type": "scatterpolar"
           }
          ],
          "scatterpolargl": [
           {
            "marker": {
             "colorbar": {
              "outlinewidth": 0,
              "ticks": ""
             }
            },
            "type": "scatterpolargl"
           }
          ],
          "scatterternary": [
           {
            "marker": {
             "colorbar": {
              "outlinewidth": 0,
              "ticks": ""
             }
            },
            "type": "scatterternary"
           }
          ],
          "surface": [
           {
            "colorbar": {
             "outlinewidth": 0,
             "ticks": ""
            },
            "colorscale": [
             [
              0,
              "#0d0887"
             ],
             [
              0.1111111111111111,
              "#46039f"
             ],
             [
              0.2222222222222222,
              "#7201a8"
             ],
             [
              0.3333333333333333,
              "#9c179e"
             ],
             [
              0.4444444444444444,
              "#bd3786"
             ],
             [
              0.5555555555555556,
              "#d8576b"
             ],
             [
              0.6666666666666666,
              "#ed7953"
             ],
             [
              0.7777777777777778,
              "#fb9f3a"
             ],
             [
              0.8888888888888888,
              "#fdca26"
             ],
             [
              1,
              "#f0f921"
             ]
            ],
            "type": "surface"
           }
          ],
          "table": [
           {
            "cells": {
             "fill": {
              "color": "#EBF0F8"
             },
             "line": {
              "color": "white"
             }
            },
            "header": {
             "fill": {
              "color": "#C8D4E3"
             },
             "line": {
              "color": "white"
             }
            },
            "type": "table"
           }
          ]
         },
         "layout": {
          "annotationdefaults": {
           "arrowcolor": "#2a3f5f",
           "arrowhead": 0,
           "arrowwidth": 1
          },
          "autotypenumbers": "strict",
          "coloraxis": {
           "colorbar": {
            "outlinewidth": 0,
            "ticks": ""
           }
          },
          "colorscale": {
           "diverging": [
            [
             0,
             "#8e0152"
            ],
            [
             0.1,
             "#c51b7d"
            ],
            [
             0.2,
             "#de77ae"
            ],
            [
             0.3,
             "#f1b6da"
            ],
            [
             0.4,
             "#fde0ef"
            ],
            [
             0.5,
             "#f7f7f7"
            ],
            [
             0.6,
             "#e6f5d0"
            ],
            [
             0.7,
             "#b8e186"
            ],
            [
             0.8,
             "#7fbc41"
            ],
            [
             0.9,
             "#4d9221"
            ],
            [
             1,
             "#276419"
            ]
           ],
           "sequential": [
            [
             0,
             "#0d0887"
            ],
            [
             0.1111111111111111,
             "#46039f"
            ],
            [
             0.2222222222222222,
             "#7201a8"
            ],
            [
             0.3333333333333333,
             "#9c179e"
            ],
            [
             0.4444444444444444,
             "#bd3786"
            ],
            [
             0.5555555555555556,
             "#d8576b"
            ],
            [
             0.6666666666666666,
             "#ed7953"
            ],
            [
             0.7777777777777778,
             "#fb9f3a"
            ],
            [
             0.8888888888888888,
             "#fdca26"
            ],
            [
             1,
             "#f0f921"
            ]
           ],
           "sequentialminus": [
            [
             0,
             "#0d0887"
            ],
            [
             0.1111111111111111,
             "#46039f"
            ],
            [
             0.2222222222222222,
             "#7201a8"
            ],
            [
             0.3333333333333333,
             "#9c179e"
            ],
            [
             0.4444444444444444,
             "#bd3786"
            ],
            [
             0.5555555555555556,
             "#d8576b"
            ],
            [
             0.6666666666666666,
             "#ed7953"
            ],
            [
             0.7777777777777778,
             "#fb9f3a"
            ],
            [
             0.8888888888888888,
             "#fdca26"
            ],
            [
             1,
             "#f0f921"
            ]
           ]
          },
          "colorway": [
           "#636efa",
           "#EF553B",
           "#00cc96",
           "#ab63fa",
           "#FFA15A",
           "#19d3f3",
           "#FF6692",
           "#B6E880",
           "#FF97FF",
           "#FECB52"
          ],
          "font": {
           "color": "#2a3f5f"
          },
          "geo": {
           "bgcolor": "white",
           "lakecolor": "white",
           "landcolor": "#E5ECF6",
           "showlakes": true,
           "showland": true,
           "subunitcolor": "white"
          },
          "hoverlabel": {
           "align": "left"
          },
          "hovermode": "closest",
          "mapbox": {
           "style": "light"
          },
          "paper_bgcolor": "white",
          "plot_bgcolor": "#E5ECF6",
          "polar": {
           "angularaxis": {
            "gridcolor": "white",
            "linecolor": "white",
            "ticks": ""
           },
           "bgcolor": "#E5ECF6",
           "radialaxis": {
            "gridcolor": "white",
            "linecolor": "white",
            "ticks": ""
           }
          },
          "scene": {
           "xaxis": {
            "backgroundcolor": "#E5ECF6",
            "gridcolor": "white",
            "gridwidth": 2,
            "linecolor": "white",
            "showbackground": true,
            "ticks": "",
            "zerolinecolor": "white"
           },
           "yaxis": {
            "backgroundcolor": "#E5ECF6",
            "gridcolor": "white",
            "gridwidth": 2,
            "linecolor": "white",
            "showbackground": true,
            "ticks": "",
            "zerolinecolor": "white"
           },
           "zaxis": {
            "backgroundcolor": "#E5ECF6",
            "gridcolor": "white",
            "gridwidth": 2,
            "linecolor": "white",
            "showbackground": true,
            "ticks": "",
            "zerolinecolor": "white"
           }
          },
          "shapedefaults": {
           "line": {
            "color": "#2a3f5f"
           }
          },
          "ternary": {
           "aaxis": {
            "gridcolor": "white",
            "linecolor": "white",
            "ticks": ""
           },
           "baxis": {
            "gridcolor": "white",
            "linecolor": "white",
            "ticks": ""
           },
           "bgcolor": "#E5ECF6",
           "caxis": {
            "gridcolor": "white",
            "linecolor": "white",
            "ticks": ""
           }
          },
          "title": {
           "x": 0.05
          },
          "xaxis": {
           "automargin": true,
           "gridcolor": "white",
           "linecolor": "white",
           "ticks": "",
           "title": {
            "standoff": 15
           },
           "zerolinecolor": "white",
           "zerolinewidth": 2
          },
          "yaxis": {
           "automargin": true,
           "gridcolor": "white",
           "linecolor": "white",
           "ticks": "",
           "title": {
            "standoff": 15
           },
           "zerolinecolor": "white",
           "zerolinewidth": 2
          }
         }
        },
        "title": {
         "text": "Distribución de categorías de satisfacción del cliente"
        }
       }
      },
      "text/html": [
       "<div>                            <div id=\"065ab41b-a4cf-4ef6-b15c-feaf6e1af9a0\" class=\"plotly-graph-div\" style=\"height:525px; width:100%;\"></div>            <script type=\"text/javascript\">                require([\"plotly\"], function(Plotly) {                    window.PLOTLYENV=window.PLOTLYENV || {};                                    if (document.getElementById(\"065ab41b-a4cf-4ef6-b15c-feaf6e1af9a0\")) {                    Plotly.newPlot(                        \"065ab41b-a4cf-4ef6-b15c-feaf6e1af9a0\",                        [{\"domain\":{\"x\":[0.0,1.0],\"y\":[0.0,1.0]},\"hovertemplate\":\"Categoria_Satisfaccion=%{label}\\u003cbr\\u003eCount=%{value}\\u003cextra\\u003e\\u003c\\u002fextra\\u003e\",\"labels\":[\"Calidad del servicio\",\"Precios y valor\",\"Calidad de las instalaciones\",\"No clasificado\",\"Experiencia general\"],\"legendgroup\":\"\",\"name\":\"\",\"showlegend\":true,\"values\":[3526,2018,910,798,165],\"type\":\"pie\"}],                        {\"template\":{\"data\":{\"histogram2dcontour\":[{\"type\":\"histogram2dcontour\",\"colorbar\":{\"outlinewidth\":0,\"ticks\":\"\"},\"colorscale\":[[0.0,\"#0d0887\"],[0.1111111111111111,\"#46039f\"],[0.2222222222222222,\"#7201a8\"],[0.3333333333333333,\"#9c179e\"],[0.4444444444444444,\"#bd3786\"],[0.5555555555555556,\"#d8576b\"],[0.6666666666666666,\"#ed7953\"],[0.7777777777777778,\"#fb9f3a\"],[0.8888888888888888,\"#fdca26\"],[1.0,\"#f0f921\"]]}],\"choropleth\":[{\"type\":\"choropleth\",\"colorbar\":{\"outlinewidth\":0,\"ticks\":\"\"}}],\"histogram2d\":[{\"type\":\"histogram2d\",\"colorbar\":{\"outlinewidth\":0,\"ticks\":\"\"},\"colorscale\":[[0.0,\"#0d0887\"],[0.1111111111111111,\"#46039f\"],[0.2222222222222222,\"#7201a8\"],[0.3333333333333333,\"#9c179e\"],[0.4444444444444444,\"#bd3786\"],[0.5555555555555556,\"#d8576b\"],[0.6666666666666666,\"#ed7953\"],[0.7777777777777778,\"#fb9f3a\"],[0.8888888888888888,\"#fdca26\"],[1.0,\"#f0f921\"]]}],\"heatmap\":[{\"type\":\"heatmap\",\"colorbar\":{\"outlinewidth\":0,\"ticks\":\"\"},\"colorscale\":[[0.0,\"#0d0887\"],[0.1111111111111111,\"#46039f\"],[0.2222222222222222,\"#7201a8\"],[0.3333333333333333,\"#9c179e\"],[0.4444444444444444,\"#bd3786\"],[0.5555555555555556,\"#d8576b\"],[0.6666666666666666,\"#ed7953\"],[0.7777777777777778,\"#fb9f3a\"],[0.8888888888888888,\"#fdca26\"],[1.0,\"#f0f921\"]]}],\"heatmapgl\":[{\"type\":\"heatmapgl\",\"colorbar\":{\"outlinewidth\":0,\"ticks\":\"\"},\"colorscale\":[[0.0,\"#0d0887\"],[0.1111111111111111,\"#46039f\"],[0.2222222222222222,\"#7201a8\"],[0.3333333333333333,\"#9c179e\"],[0.4444444444444444,\"#bd3786\"],[0.5555555555555556,\"#d8576b\"],[0.6666666666666666,\"#ed7953\"],[0.7777777777777778,\"#fb9f3a\"],[0.8888888888888888,\"#fdca26\"],[1.0,\"#f0f921\"]]}],\"contourcarpet\":[{\"type\":\"contourcarpet\",\"colorbar\":{\"outlinewidth\":0,\"ticks\":\"\"}}],\"contour\":[{\"type\":\"contour\",\"colorbar\":{\"outlinewidth\":0,\"ticks\":\"\"},\"colorscale\":[[0.0,\"#0d0887\"],[0.1111111111111111,\"#46039f\"],[0.2222222222222222,\"#7201a8\"],[0.3333333333333333,\"#9c179e\"],[0.4444444444444444,\"#bd3786\"],[0.5555555555555556,\"#d8576b\"],[0.6666666666666666,\"#ed7953\"],[0.7777777777777778,\"#fb9f3a\"],[0.8888888888888888,\"#fdca26\"],[1.0,\"#f0f921\"]]}],\"surface\":[{\"type\":\"surface\",\"colorbar\":{\"outlinewidth\":0,\"ticks\":\"\"},\"colorscale\":[[0.0,\"#0d0887\"],[0.1111111111111111,\"#46039f\"],[0.2222222222222222,\"#7201a8\"],[0.3333333333333333,\"#9c179e\"],[0.4444444444444444,\"#bd3786\"],[0.5555555555555556,\"#d8576b\"],[0.6666666666666666,\"#ed7953\"],[0.7777777777777778,\"#fb9f3a\"],[0.8888888888888888,\"#fdca26\"],[1.0,\"#f0f921\"]]}],\"mesh3d\":[{\"type\":\"mesh3d\",\"colorbar\":{\"outlinewidth\":0,\"ticks\":\"\"}}],\"scatter\":[{\"fillpattern\":{\"fillmode\":\"overlay\",\"size\":10,\"solidity\":0.2},\"type\":\"scatter\"}],\"parcoords\":[{\"type\":\"parcoords\",\"line\":{\"colorbar\":{\"outlinewidth\":0,\"ticks\":\"\"}}}],\"scatterpolargl\":[{\"type\":\"scatterpolargl\",\"marker\":{\"colorbar\":{\"outlinewidth\":0,\"ticks\":\"\"}}}],\"bar\":[{\"error_x\":{\"color\":\"#2a3f5f\"},\"error_y\":{\"color\":\"#2a3f5f\"},\"marker\":{\"line\":{\"color\":\"#E5ECF6\",\"width\":0.5},\"pattern\":{\"fillmode\":\"overlay\",\"size\":10,\"solidity\":0.2}},\"type\":\"bar\"}],\"scattergeo\":[{\"type\":\"scattergeo\",\"marker\":{\"colorbar\":{\"outlinewidth\":0,\"ticks\":\"\"}}}],\"scatterpolar\":[{\"type\":\"scatterpolar\",\"marker\":{\"colorbar\":{\"outlinewidth\":0,\"ticks\":\"\"}}}],\"histogram\":[{\"marker\":{\"pattern\":{\"fillmode\":\"overlay\",\"size\":10,\"solidity\":0.2}},\"type\":\"histogram\"}],\"scattergl\":[{\"type\":\"scattergl\",\"marker\":{\"colorbar\":{\"outlinewidth\":0,\"ticks\":\"\"}}}],\"scatter3d\":[{\"type\":\"scatter3d\",\"line\":{\"colorbar\":{\"outlinewidth\":0,\"ticks\":\"\"}},\"marker\":{\"colorbar\":{\"outlinewidth\":0,\"ticks\":\"\"}}}],\"scattermapbox\":[{\"type\":\"scattermapbox\",\"marker\":{\"colorbar\":{\"outlinewidth\":0,\"ticks\":\"\"}}}],\"scatterternary\":[{\"type\":\"scatterternary\",\"marker\":{\"colorbar\":{\"outlinewidth\":0,\"ticks\":\"\"}}}],\"scattercarpet\":[{\"type\":\"scattercarpet\",\"marker\":{\"colorbar\":{\"outlinewidth\":0,\"ticks\":\"\"}}}],\"carpet\":[{\"aaxis\":{\"endlinecolor\":\"#2a3f5f\",\"gridcolor\":\"white\",\"linecolor\":\"white\",\"minorgridcolor\":\"white\",\"startlinecolor\":\"#2a3f5f\"},\"baxis\":{\"endlinecolor\":\"#2a3f5f\",\"gridcolor\":\"white\",\"linecolor\":\"white\",\"minorgridcolor\":\"white\",\"startlinecolor\":\"#2a3f5f\"},\"type\":\"carpet\"}],\"table\":[{\"cells\":{\"fill\":{\"color\":\"#EBF0F8\"},\"line\":{\"color\":\"white\"}},\"header\":{\"fill\":{\"color\":\"#C8D4E3\"},\"line\":{\"color\":\"white\"}},\"type\":\"table\"}],\"barpolar\":[{\"marker\":{\"line\":{\"color\":\"#E5ECF6\",\"width\":0.5},\"pattern\":{\"fillmode\":\"overlay\",\"size\":10,\"solidity\":0.2}},\"type\":\"barpolar\"}],\"pie\":[{\"automargin\":true,\"type\":\"pie\"}]},\"layout\":{\"autotypenumbers\":\"strict\",\"colorway\":[\"#636efa\",\"#EF553B\",\"#00cc96\",\"#ab63fa\",\"#FFA15A\",\"#19d3f3\",\"#FF6692\",\"#B6E880\",\"#FF97FF\",\"#FECB52\"],\"font\":{\"color\":\"#2a3f5f\"},\"hovermode\":\"closest\",\"hoverlabel\":{\"align\":\"left\"},\"paper_bgcolor\":\"white\",\"plot_bgcolor\":\"#E5ECF6\",\"polar\":{\"bgcolor\":\"#E5ECF6\",\"angularaxis\":{\"gridcolor\":\"white\",\"linecolor\":\"white\",\"ticks\":\"\"},\"radialaxis\":{\"gridcolor\":\"white\",\"linecolor\":\"white\",\"ticks\":\"\"}},\"ternary\":{\"bgcolor\":\"#E5ECF6\",\"aaxis\":{\"gridcolor\":\"white\",\"linecolor\":\"white\",\"ticks\":\"\"},\"baxis\":{\"gridcolor\":\"white\",\"linecolor\":\"white\",\"ticks\":\"\"},\"caxis\":{\"gridcolor\":\"white\",\"linecolor\":\"white\",\"ticks\":\"\"}},\"coloraxis\":{\"colorbar\":{\"outlinewidth\":0,\"ticks\":\"\"}},\"colorscale\":{\"sequential\":[[0.0,\"#0d0887\"],[0.1111111111111111,\"#46039f\"],[0.2222222222222222,\"#7201a8\"],[0.3333333333333333,\"#9c179e\"],[0.4444444444444444,\"#bd3786\"],[0.5555555555555556,\"#d8576b\"],[0.6666666666666666,\"#ed7953\"],[0.7777777777777778,\"#fb9f3a\"],[0.8888888888888888,\"#fdca26\"],[1.0,\"#f0f921\"]],\"sequentialminus\":[[0.0,\"#0d0887\"],[0.1111111111111111,\"#46039f\"],[0.2222222222222222,\"#7201a8\"],[0.3333333333333333,\"#9c179e\"],[0.4444444444444444,\"#bd3786\"],[0.5555555555555556,\"#d8576b\"],[0.6666666666666666,\"#ed7953\"],[0.7777777777777778,\"#fb9f3a\"],[0.8888888888888888,\"#fdca26\"],[1.0,\"#f0f921\"]],\"diverging\":[[0,\"#8e0152\"],[0.1,\"#c51b7d\"],[0.2,\"#de77ae\"],[0.3,\"#f1b6da\"],[0.4,\"#fde0ef\"],[0.5,\"#f7f7f7\"],[0.6,\"#e6f5d0\"],[0.7,\"#b8e186\"],[0.8,\"#7fbc41\"],[0.9,\"#4d9221\"],[1,\"#276419\"]]},\"xaxis\":{\"gridcolor\":\"white\",\"linecolor\":\"white\",\"ticks\":\"\",\"title\":{\"standoff\":15},\"zerolinecolor\":\"white\",\"automargin\":true,\"zerolinewidth\":2},\"yaxis\":{\"gridcolor\":\"white\",\"linecolor\":\"white\",\"ticks\":\"\",\"title\":{\"standoff\":15},\"zerolinecolor\":\"white\",\"automargin\":true,\"zerolinewidth\":2},\"scene\":{\"xaxis\":{\"backgroundcolor\":\"#E5ECF6\",\"gridcolor\":\"white\",\"linecolor\":\"white\",\"showbackground\":true,\"ticks\":\"\",\"zerolinecolor\":\"white\",\"gridwidth\":2},\"yaxis\":{\"backgroundcolor\":\"#E5ECF6\",\"gridcolor\":\"white\",\"linecolor\":\"white\",\"showbackground\":true,\"ticks\":\"\",\"zerolinecolor\":\"white\",\"gridwidth\":2},\"zaxis\":{\"backgroundcolor\":\"#E5ECF6\",\"gridcolor\":\"white\",\"linecolor\":\"white\",\"showbackground\":true,\"ticks\":\"\",\"zerolinecolor\":\"white\",\"gridwidth\":2}},\"shapedefaults\":{\"line\":{\"color\":\"#2a3f5f\"}},\"annotationdefaults\":{\"arrowcolor\":\"#2a3f5f\",\"arrowhead\":0,\"arrowwidth\":1},\"geo\":{\"bgcolor\":\"white\",\"landcolor\":\"#E5ECF6\",\"subunitcolor\":\"white\",\"showland\":true,\"showlakes\":true,\"lakecolor\":\"white\"},\"title\":{\"x\":0.05},\"mapbox\":{\"style\":\"light\"}}},\"legend\":{\"tracegroupgap\":0},\"title\":{\"text\":\"Distribuci\\u00f3n de categor\\u00edas de satisfacci\\u00f3n del cliente\"},\"piecolorway\":[\"rgb(141,211,199)\",\"rgb(255,255,179)\",\"rgb(190,186,218)\",\"rgb(251,128,114)\",\"rgb(128,177,211)\",\"rgb(253,180,98)\",\"rgb(179,222,105)\",\"rgb(252,205,229)\",\"rgb(217,217,217)\",\"rgb(188,128,189)\",\"rgb(204,235,197)\",\"rgb(255,237,111)\"]},                        {\"responsive\": true}                    ).then(function(){\n",
       "                            \n",
       "var gd = document.getElementById('065ab41b-a4cf-4ef6-b15c-feaf6e1af9a0');\n",
       "var x = new MutationObserver(function (mutations, observer) {{\n",
       "        var display = window.getComputedStyle(gd).display;\n",
       "        if (!display || display === 'none') {{\n",
       "            console.log([gd, 'removed!']);\n",
       "            Plotly.purge(gd);\n",
       "            observer.disconnect();\n",
       "        }}\n",
       "}});\n",
       "\n",
       "// Listen for the removal of the full notebook cells\n",
       "var notebookContainer = gd.closest('#notebook-container');\n",
       "if (notebookContainer) {{\n",
       "    x.observe(notebookContainer, {childList: true});\n",
       "}}\n",
       "\n",
       "// Listen for the clearing of the current output cell\n",
       "var outputEl = gd.closest('.output');\n",
       "if (outputEl) {{\n",
       "    x.observe(outputEl, {childList: true});\n",
       "}}\n",
       "\n",
       "                        })                };                });            </script>        </div>"
      ]
     },
     "metadata": {},
     "output_type": "display_data"
    }
   ],
   "source": [
    "import plotly.express as px\n",
    "import pandas as pd\n",
    "\n",
    "# Supongamos que ya tienes df_comentarios_negativos con la columna Categoria_Problema\n",
    "\n",
    "# Contar la cantidad de ocurrencias de cada categoría\n",
    "categoria_counts = df_comentarios_positivos['Categoria_Satisfaccion'].value_counts().reset_index()\n",
    "categoria_counts.columns = ['Categoria_Satisfaccion', 'Count']\n",
    "\n",
    "# Ordenar por cuenta descendente (opcional)\n",
    "categoria_counts = categoria_counts.sort_values(by='Count', ascending=False)\n",
    "\n",
    "# Crear el gráfico de pastel interactivo con plotly\n",
    "fig = px.pie(categoria_counts, values='Count', names='Categoria_Satisfaccion',\n",
    "             title='Distribución de categorías de satisfacción del cliente',\n",
    "             color_discrete_sequence=px.colors.qualitative.Set3)\n",
    "\n",
    "# Mostrar el gráfico\n",
    "fig.show()\n"
   ]
  },
  {
   "cell_type": "code",
   "execution_count": 99,
   "id": "910fa786",
   "metadata": {},
   "outputs": [
    {
     "data": {
      "application/vnd.plotly.v1+json": {
       "config": {
        "plotlyServerURL": "https://plot.ly"
       },
       "data": [
        {
         "domain": {
          "x": [
           0,
           1
          ],
          "y": [
           0,
           1
          ]
         },
         "hovertemplate": "Categoria_Satisfaccion=%{label}<br>Count=%{value}<extra></extra>",
         "labels": [
          "Calidad del servicio",
          "Precios y valor",
          "No clasificado",
          "Calidad de las instalaciones"
         ],
         "legendgroup": "",
         "name": "",
         "showlegend": true,
         "type": "pie",
         "values": [
          32,
          10,
          7,
          6
         ]
        }
       ],
       "layout": {
        "legend": {
         "tracegroupgap": 0
        },
        "piecolorway": [
         "rgb(141,211,199)",
         "rgb(255,255,179)",
         "rgb(190,186,218)",
         "rgb(251,128,114)",
         "rgb(128,177,211)",
         "rgb(253,180,98)",
         "rgb(179,222,105)",
         "rgb(252,205,229)",
         "rgb(217,217,217)",
         "rgb(188,128,189)",
         "rgb(204,235,197)",
         "rgb(255,237,111)"
        ],
        "template": {
         "data": {
          "bar": [
           {
            "error_x": {
             "color": "#2a3f5f"
            },
            "error_y": {
             "color": "#2a3f5f"
            },
            "marker": {
             "line": {
              "color": "#E5ECF6",
              "width": 0.5
             },
             "pattern": {
              "fillmode": "overlay",
              "size": 10,
              "solidity": 0.2
             }
            },
            "type": "bar"
           }
          ],
          "barpolar": [
           {
            "marker": {
             "line": {
              "color": "#E5ECF6",
              "width": 0.5
             },
             "pattern": {
              "fillmode": "overlay",
              "size": 10,
              "solidity": 0.2
             }
            },
            "type": "barpolar"
           }
          ],
          "carpet": [
           {
            "aaxis": {
             "endlinecolor": "#2a3f5f",
             "gridcolor": "white",
             "linecolor": "white",
             "minorgridcolor": "white",
             "startlinecolor": "#2a3f5f"
            },
            "baxis": {
             "endlinecolor": "#2a3f5f",
             "gridcolor": "white",
             "linecolor": "white",
             "minorgridcolor": "white",
             "startlinecolor": "#2a3f5f"
            },
            "type": "carpet"
           }
          ],
          "choropleth": [
           {
            "colorbar": {
             "outlinewidth": 0,
             "ticks": ""
            },
            "type": "choropleth"
           }
          ],
          "contour": [
           {
            "colorbar": {
             "outlinewidth": 0,
             "ticks": ""
            },
            "colorscale": [
             [
              0,
              "#0d0887"
             ],
             [
              0.1111111111111111,
              "#46039f"
             ],
             [
              0.2222222222222222,
              "#7201a8"
             ],
             [
              0.3333333333333333,
              "#9c179e"
             ],
             [
              0.4444444444444444,
              "#bd3786"
             ],
             [
              0.5555555555555556,
              "#d8576b"
             ],
             [
              0.6666666666666666,
              "#ed7953"
             ],
             [
              0.7777777777777778,
              "#fb9f3a"
             ],
             [
              0.8888888888888888,
              "#fdca26"
             ],
             [
              1,
              "#f0f921"
             ]
            ],
            "type": "contour"
           }
          ],
          "contourcarpet": [
           {
            "colorbar": {
             "outlinewidth": 0,
             "ticks": ""
            },
            "type": "contourcarpet"
           }
          ],
          "heatmap": [
           {
            "colorbar": {
             "outlinewidth": 0,
             "ticks": ""
            },
            "colorscale": [
             [
              0,
              "#0d0887"
             ],
             [
              0.1111111111111111,
              "#46039f"
             ],
             [
              0.2222222222222222,
              "#7201a8"
             ],
             [
              0.3333333333333333,
              "#9c179e"
             ],
             [
              0.4444444444444444,
              "#bd3786"
             ],
             [
              0.5555555555555556,
              "#d8576b"
             ],
             [
              0.6666666666666666,
              "#ed7953"
             ],
             [
              0.7777777777777778,
              "#fb9f3a"
             ],
             [
              0.8888888888888888,
              "#fdca26"
             ],
             [
              1,
              "#f0f921"
             ]
            ],
            "type": "heatmap"
           }
          ],
          "heatmapgl": [
           {
            "colorbar": {
             "outlinewidth": 0,
             "ticks": ""
            },
            "colorscale": [
             [
              0,
              "#0d0887"
             ],
             [
              0.1111111111111111,
              "#46039f"
             ],
             [
              0.2222222222222222,
              "#7201a8"
             ],
             [
              0.3333333333333333,
              "#9c179e"
             ],
             [
              0.4444444444444444,
              "#bd3786"
             ],
             [
              0.5555555555555556,
              "#d8576b"
             ],
             [
              0.6666666666666666,
              "#ed7953"
             ],
             [
              0.7777777777777778,
              "#fb9f3a"
             ],
             [
              0.8888888888888888,
              "#fdca26"
             ],
             [
              1,
              "#f0f921"
             ]
            ],
            "type": "heatmapgl"
           }
          ],
          "histogram": [
           {
            "marker": {
             "pattern": {
              "fillmode": "overlay",
              "size": 10,
              "solidity": 0.2
             }
            },
            "type": "histogram"
           }
          ],
          "histogram2d": [
           {
            "colorbar": {
             "outlinewidth": 0,
             "ticks": ""
            },
            "colorscale": [
             [
              0,
              "#0d0887"
             ],
             [
              0.1111111111111111,
              "#46039f"
             ],
             [
              0.2222222222222222,
              "#7201a8"
             ],
             [
              0.3333333333333333,
              "#9c179e"
             ],
             [
              0.4444444444444444,
              "#bd3786"
             ],
             [
              0.5555555555555556,
              "#d8576b"
             ],
             [
              0.6666666666666666,
              "#ed7953"
             ],
             [
              0.7777777777777778,
              "#fb9f3a"
             ],
             [
              0.8888888888888888,
              "#fdca26"
             ],
             [
              1,
              "#f0f921"
             ]
            ],
            "type": "histogram2d"
           }
          ],
          "histogram2dcontour": [
           {
            "colorbar": {
             "outlinewidth": 0,
             "ticks": ""
            },
            "colorscale": [
             [
              0,
              "#0d0887"
             ],
             [
              0.1111111111111111,
              "#46039f"
             ],
             [
              0.2222222222222222,
              "#7201a8"
             ],
             [
              0.3333333333333333,
              "#9c179e"
             ],
             [
              0.4444444444444444,
              "#bd3786"
             ],
             [
              0.5555555555555556,
              "#d8576b"
             ],
             [
              0.6666666666666666,
              "#ed7953"
             ],
             [
              0.7777777777777778,
              "#fb9f3a"
             ],
             [
              0.8888888888888888,
              "#fdca26"
             ],
             [
              1,
              "#f0f921"
             ]
            ],
            "type": "histogram2dcontour"
           }
          ],
          "mesh3d": [
           {
            "colorbar": {
             "outlinewidth": 0,
             "ticks": ""
            },
            "type": "mesh3d"
           }
          ],
          "parcoords": [
           {
            "line": {
             "colorbar": {
              "outlinewidth": 0,
              "ticks": ""
             }
            },
            "type": "parcoords"
           }
          ],
          "pie": [
           {
            "automargin": true,
            "type": "pie"
           }
          ],
          "scatter": [
           {
            "fillpattern": {
             "fillmode": "overlay",
             "size": 10,
             "solidity": 0.2
            },
            "type": "scatter"
           }
          ],
          "scatter3d": [
           {
            "line": {
             "colorbar": {
              "outlinewidth": 0,
              "ticks": ""
             }
            },
            "marker": {
             "colorbar": {
              "outlinewidth": 0,
              "ticks": ""
             }
            },
            "type": "scatter3d"
           }
          ],
          "scattercarpet": [
           {
            "marker": {
             "colorbar": {
              "outlinewidth": 0,
              "ticks": ""
             }
            },
            "type": "scattercarpet"
           }
          ],
          "scattergeo": [
           {
            "marker": {
             "colorbar": {
              "outlinewidth": 0,
              "ticks": ""
             }
            },
            "type": "scattergeo"
           }
          ],
          "scattergl": [
           {
            "marker": {
             "colorbar": {
              "outlinewidth": 0,
              "ticks": ""
             }
            },
            "type": "scattergl"
           }
          ],
          "scattermapbox": [
           {
            "marker": {
             "colorbar": {
              "outlinewidth": 0,
              "ticks": ""
             }
            },
            "type": "scattermapbox"
           }
          ],
          "scatterpolar": [
           {
            "marker": {
             "colorbar": {
              "outlinewidth": 0,
              "ticks": ""
             }
            },
            "type": "scatterpolar"
           }
          ],
          "scatterpolargl": [
           {
            "marker": {
             "colorbar": {
              "outlinewidth": 0,
              "ticks": ""
             }
            },
            "type": "scatterpolargl"
           }
          ],
          "scatterternary": [
           {
            "marker": {
             "colorbar": {
              "outlinewidth": 0,
              "ticks": ""
             }
            },
            "type": "scatterternary"
           }
          ],
          "surface": [
           {
            "colorbar": {
             "outlinewidth": 0,
             "ticks": ""
            },
            "colorscale": [
             [
              0,
              "#0d0887"
             ],
             [
              0.1111111111111111,
              "#46039f"
             ],
             [
              0.2222222222222222,
              "#7201a8"
             ],
             [
              0.3333333333333333,
              "#9c179e"
             ],
             [
              0.4444444444444444,
              "#bd3786"
             ],
             [
              0.5555555555555556,
              "#d8576b"
             ],
             [
              0.6666666666666666,
              "#ed7953"
             ],
             [
              0.7777777777777778,
              "#fb9f3a"
             ],
             [
              0.8888888888888888,
              "#fdca26"
             ],
             [
              1,
              "#f0f921"
             ]
            ],
            "type": "surface"
           }
          ],
          "table": [
           {
            "cells": {
             "fill": {
              "color": "#EBF0F8"
             },
             "line": {
              "color": "white"
             }
            },
            "header": {
             "fill": {
              "color": "#C8D4E3"
             },
             "line": {
              "color": "white"
             }
            },
            "type": "table"
           }
          ]
         },
         "layout": {
          "annotationdefaults": {
           "arrowcolor": "#2a3f5f",
           "arrowhead": 0,
           "arrowwidth": 1
          },
          "autotypenumbers": "strict",
          "coloraxis": {
           "colorbar": {
            "outlinewidth": 0,
            "ticks": ""
           }
          },
          "colorscale": {
           "diverging": [
            [
             0,
             "#8e0152"
            ],
            [
             0.1,
             "#c51b7d"
            ],
            [
             0.2,
             "#de77ae"
            ],
            [
             0.3,
             "#f1b6da"
            ],
            [
             0.4,
             "#fde0ef"
            ],
            [
             0.5,
             "#f7f7f7"
            ],
            [
             0.6,
             "#e6f5d0"
            ],
            [
             0.7,
             "#b8e186"
            ],
            [
             0.8,
             "#7fbc41"
            ],
            [
             0.9,
             "#4d9221"
            ],
            [
             1,
             "#276419"
            ]
           ],
           "sequential": [
            [
             0,
             "#0d0887"
            ],
            [
             0.1111111111111111,
             "#46039f"
            ],
            [
             0.2222222222222222,
             "#7201a8"
            ],
            [
             0.3333333333333333,
             "#9c179e"
            ],
            [
             0.4444444444444444,
             "#bd3786"
            ],
            [
             0.5555555555555556,
             "#d8576b"
            ],
            [
             0.6666666666666666,
             "#ed7953"
            ],
            [
             0.7777777777777778,
             "#fb9f3a"
            ],
            [
             0.8888888888888888,
             "#fdca26"
            ],
            [
             1,
             "#f0f921"
            ]
           ],
           "sequentialminus": [
            [
             0,
             "#0d0887"
            ],
            [
             0.1111111111111111,
             "#46039f"
            ],
            [
             0.2222222222222222,
             "#7201a8"
            ],
            [
             0.3333333333333333,
             "#9c179e"
            ],
            [
             0.4444444444444444,
             "#bd3786"
            ],
            [
             0.5555555555555556,
             "#d8576b"
            ],
            [
             0.6666666666666666,
             "#ed7953"
            ],
            [
             0.7777777777777778,
             "#fb9f3a"
            ],
            [
             0.8888888888888888,
             "#fdca26"
            ],
            [
             1,
             "#f0f921"
            ]
           ]
          },
          "colorway": [
           "#636efa",
           "#EF553B",
           "#00cc96",
           "#ab63fa",
           "#FFA15A",
           "#19d3f3",
           "#FF6692",
           "#B6E880",
           "#FF97FF",
           "#FECB52"
          ],
          "font": {
           "color": "#2a3f5f"
          },
          "geo": {
           "bgcolor": "white",
           "lakecolor": "white",
           "landcolor": "#E5ECF6",
           "showlakes": true,
           "showland": true,
           "subunitcolor": "white"
          },
          "hoverlabel": {
           "align": "left"
          },
          "hovermode": "closest",
          "mapbox": {
           "style": "light"
          },
          "paper_bgcolor": "white",
          "plot_bgcolor": "#E5ECF6",
          "polar": {
           "angularaxis": {
            "gridcolor": "white",
            "linecolor": "white",
            "ticks": ""
           },
           "bgcolor": "#E5ECF6",
           "radialaxis": {
            "gridcolor": "white",
            "linecolor": "white",
            "ticks": ""
           }
          },
          "scene": {
           "xaxis": {
            "backgroundcolor": "#E5ECF6",
            "gridcolor": "white",
            "gridwidth": 2,
            "linecolor": "white",
            "showbackground": true,
            "ticks": "",
            "zerolinecolor": "white"
           },
           "yaxis": {
            "backgroundcolor": "#E5ECF6",
            "gridcolor": "white",
            "gridwidth": 2,
            "linecolor": "white",
            "showbackground": true,
            "ticks": "",
            "zerolinecolor": "white"
           },
           "zaxis": {
            "backgroundcolor": "#E5ECF6",
            "gridcolor": "white",
            "gridwidth": 2,
            "linecolor": "white",
            "showbackground": true,
            "ticks": "",
            "zerolinecolor": "white"
           }
          },
          "shapedefaults": {
           "line": {
            "color": "#2a3f5f"
           }
          },
          "ternary": {
           "aaxis": {
            "gridcolor": "white",
            "linecolor": "white",
            "ticks": ""
           },
           "baxis": {
            "gridcolor": "white",
            "linecolor": "white",
            "ticks": ""
           },
           "bgcolor": "#E5ECF6",
           "caxis": {
            "gridcolor": "white",
            "linecolor": "white",
            "ticks": ""
           }
          },
          "title": {
           "x": 0.05
          },
          "xaxis": {
           "automargin": true,
           "gridcolor": "white",
           "linecolor": "white",
           "ticks": "",
           "title": {
            "standoff": 15
           },
           "zerolinecolor": "white",
           "zerolinewidth": 2
          },
          "yaxis": {
           "automargin": true,
           "gridcolor": "white",
           "linecolor": "white",
           "ticks": "",
           "title": {
            "standoff": 15
           },
           "zerolinecolor": "white",
           "zerolinewidth": 2
          }
         }
        },
        "title": {
         "text": "Distribución de categorías de satisfacción del cliente"
        }
       }
      },
      "text/html": [
       "<div>                            <div id=\"623fd673-4669-46d4-9437-6bf39f597cf5\" class=\"plotly-graph-div\" style=\"height:525px; width:100%;\"></div>            <script type=\"text/javascript\">                require([\"plotly\"], function(Plotly) {                    window.PLOTLYENV=window.PLOTLYENV || {};                                    if (document.getElementById(\"623fd673-4669-46d4-9437-6bf39f597cf5\")) {                    Plotly.newPlot(                        \"623fd673-4669-46d4-9437-6bf39f597cf5\",                        [{\"domain\":{\"x\":[0.0,1.0],\"y\":[0.0,1.0]},\"hovertemplate\":\"Categoria_Satisfaccion=%{label}\\u003cbr\\u003eCount=%{value}\\u003cextra\\u003e\\u003c\\u002fextra\\u003e\",\"labels\":[\"Calidad del servicio\",\"Precios y valor\",\"No clasificado\",\"Calidad de las instalaciones\"],\"legendgroup\":\"\",\"name\":\"\",\"showlegend\":true,\"values\":[32,10,7,6],\"type\":\"pie\"}],                        {\"template\":{\"data\":{\"histogram2dcontour\":[{\"type\":\"histogram2dcontour\",\"colorbar\":{\"outlinewidth\":0,\"ticks\":\"\"},\"colorscale\":[[0.0,\"#0d0887\"],[0.1111111111111111,\"#46039f\"],[0.2222222222222222,\"#7201a8\"],[0.3333333333333333,\"#9c179e\"],[0.4444444444444444,\"#bd3786\"],[0.5555555555555556,\"#d8576b\"],[0.6666666666666666,\"#ed7953\"],[0.7777777777777778,\"#fb9f3a\"],[0.8888888888888888,\"#fdca26\"],[1.0,\"#f0f921\"]]}],\"choropleth\":[{\"type\":\"choropleth\",\"colorbar\":{\"outlinewidth\":0,\"ticks\":\"\"}}],\"histogram2d\":[{\"type\":\"histogram2d\",\"colorbar\":{\"outlinewidth\":0,\"ticks\":\"\"},\"colorscale\":[[0.0,\"#0d0887\"],[0.1111111111111111,\"#46039f\"],[0.2222222222222222,\"#7201a8\"],[0.3333333333333333,\"#9c179e\"],[0.4444444444444444,\"#bd3786\"],[0.5555555555555556,\"#d8576b\"],[0.6666666666666666,\"#ed7953\"],[0.7777777777777778,\"#fb9f3a\"],[0.8888888888888888,\"#fdca26\"],[1.0,\"#f0f921\"]]}],\"heatmap\":[{\"type\":\"heatmap\",\"colorbar\":{\"outlinewidth\":0,\"ticks\":\"\"},\"colorscale\":[[0.0,\"#0d0887\"],[0.1111111111111111,\"#46039f\"],[0.2222222222222222,\"#7201a8\"],[0.3333333333333333,\"#9c179e\"],[0.4444444444444444,\"#bd3786\"],[0.5555555555555556,\"#d8576b\"],[0.6666666666666666,\"#ed7953\"],[0.7777777777777778,\"#fb9f3a\"],[0.8888888888888888,\"#fdca26\"],[1.0,\"#f0f921\"]]}],\"heatmapgl\":[{\"type\":\"heatmapgl\",\"colorbar\":{\"outlinewidth\":0,\"ticks\":\"\"},\"colorscale\":[[0.0,\"#0d0887\"],[0.1111111111111111,\"#46039f\"],[0.2222222222222222,\"#7201a8\"],[0.3333333333333333,\"#9c179e\"],[0.4444444444444444,\"#bd3786\"],[0.5555555555555556,\"#d8576b\"],[0.6666666666666666,\"#ed7953\"],[0.7777777777777778,\"#fb9f3a\"],[0.8888888888888888,\"#fdca26\"],[1.0,\"#f0f921\"]]}],\"contourcarpet\":[{\"type\":\"contourcarpet\",\"colorbar\":{\"outlinewidth\":0,\"ticks\":\"\"}}],\"contour\":[{\"type\":\"contour\",\"colorbar\":{\"outlinewidth\":0,\"ticks\":\"\"},\"colorscale\":[[0.0,\"#0d0887\"],[0.1111111111111111,\"#46039f\"],[0.2222222222222222,\"#7201a8\"],[0.3333333333333333,\"#9c179e\"],[0.4444444444444444,\"#bd3786\"],[0.5555555555555556,\"#d8576b\"],[0.6666666666666666,\"#ed7953\"],[0.7777777777777778,\"#fb9f3a\"],[0.8888888888888888,\"#fdca26\"],[1.0,\"#f0f921\"]]}],\"surface\":[{\"type\":\"surface\",\"colorbar\":{\"outlinewidth\":0,\"ticks\":\"\"},\"colorscale\":[[0.0,\"#0d0887\"],[0.1111111111111111,\"#46039f\"],[0.2222222222222222,\"#7201a8\"],[0.3333333333333333,\"#9c179e\"],[0.4444444444444444,\"#bd3786\"],[0.5555555555555556,\"#d8576b\"],[0.6666666666666666,\"#ed7953\"],[0.7777777777777778,\"#fb9f3a\"],[0.8888888888888888,\"#fdca26\"],[1.0,\"#f0f921\"]]}],\"mesh3d\":[{\"type\":\"mesh3d\",\"colorbar\":{\"outlinewidth\":0,\"ticks\":\"\"}}],\"scatter\":[{\"fillpattern\":{\"fillmode\":\"overlay\",\"size\":10,\"solidity\":0.2},\"type\":\"scatter\"}],\"parcoords\":[{\"type\":\"parcoords\",\"line\":{\"colorbar\":{\"outlinewidth\":0,\"ticks\":\"\"}}}],\"scatterpolargl\":[{\"type\":\"scatterpolargl\",\"marker\":{\"colorbar\":{\"outlinewidth\":0,\"ticks\":\"\"}}}],\"bar\":[{\"error_x\":{\"color\":\"#2a3f5f\"},\"error_y\":{\"color\":\"#2a3f5f\"},\"marker\":{\"line\":{\"color\":\"#E5ECF6\",\"width\":0.5},\"pattern\":{\"fillmode\":\"overlay\",\"size\":10,\"solidity\":0.2}},\"type\":\"bar\"}],\"scattergeo\":[{\"type\":\"scattergeo\",\"marker\":{\"colorbar\":{\"outlinewidth\":0,\"ticks\":\"\"}}}],\"scatterpolar\":[{\"type\":\"scatterpolar\",\"marker\":{\"colorbar\":{\"outlinewidth\":0,\"ticks\":\"\"}}}],\"histogram\":[{\"marker\":{\"pattern\":{\"fillmode\":\"overlay\",\"size\":10,\"solidity\":0.2}},\"type\":\"histogram\"}],\"scattergl\":[{\"type\":\"scattergl\",\"marker\":{\"colorbar\":{\"outlinewidth\":0,\"ticks\":\"\"}}}],\"scatter3d\":[{\"type\":\"scatter3d\",\"line\":{\"colorbar\":{\"outlinewidth\":0,\"ticks\":\"\"}},\"marker\":{\"colorbar\":{\"outlinewidth\":0,\"ticks\":\"\"}}}],\"scattermapbox\":[{\"type\":\"scattermapbox\",\"marker\":{\"colorbar\":{\"outlinewidth\":0,\"ticks\":\"\"}}}],\"scatterternary\":[{\"type\":\"scatterternary\",\"marker\":{\"colorbar\":{\"outlinewidth\":0,\"ticks\":\"\"}}}],\"scattercarpet\":[{\"type\":\"scattercarpet\",\"marker\":{\"colorbar\":{\"outlinewidth\":0,\"ticks\":\"\"}}}],\"carpet\":[{\"aaxis\":{\"endlinecolor\":\"#2a3f5f\",\"gridcolor\":\"white\",\"linecolor\":\"white\",\"minorgridcolor\":\"white\",\"startlinecolor\":\"#2a3f5f\"},\"baxis\":{\"endlinecolor\":\"#2a3f5f\",\"gridcolor\":\"white\",\"linecolor\":\"white\",\"minorgridcolor\":\"white\",\"startlinecolor\":\"#2a3f5f\"},\"type\":\"carpet\"}],\"table\":[{\"cells\":{\"fill\":{\"color\":\"#EBF0F8\"},\"line\":{\"color\":\"white\"}},\"header\":{\"fill\":{\"color\":\"#C8D4E3\"},\"line\":{\"color\":\"white\"}},\"type\":\"table\"}],\"barpolar\":[{\"marker\":{\"line\":{\"color\":\"#E5ECF6\",\"width\":0.5},\"pattern\":{\"fillmode\":\"overlay\",\"size\":10,\"solidity\":0.2}},\"type\":\"barpolar\"}],\"pie\":[{\"automargin\":true,\"type\":\"pie\"}]},\"layout\":{\"autotypenumbers\":\"strict\",\"colorway\":[\"#636efa\",\"#EF553B\",\"#00cc96\",\"#ab63fa\",\"#FFA15A\",\"#19d3f3\",\"#FF6692\",\"#B6E880\",\"#FF97FF\",\"#FECB52\"],\"font\":{\"color\":\"#2a3f5f\"},\"hovermode\":\"closest\",\"hoverlabel\":{\"align\":\"left\"},\"paper_bgcolor\":\"white\",\"plot_bgcolor\":\"#E5ECF6\",\"polar\":{\"bgcolor\":\"#E5ECF6\",\"angularaxis\":{\"gridcolor\":\"white\",\"linecolor\":\"white\",\"ticks\":\"\"},\"radialaxis\":{\"gridcolor\":\"white\",\"linecolor\":\"white\",\"ticks\":\"\"}},\"ternary\":{\"bgcolor\":\"#E5ECF6\",\"aaxis\":{\"gridcolor\":\"white\",\"linecolor\":\"white\",\"ticks\":\"\"},\"baxis\":{\"gridcolor\":\"white\",\"linecolor\":\"white\",\"ticks\":\"\"},\"caxis\":{\"gridcolor\":\"white\",\"linecolor\":\"white\",\"ticks\":\"\"}},\"coloraxis\":{\"colorbar\":{\"outlinewidth\":0,\"ticks\":\"\"}},\"colorscale\":{\"sequential\":[[0.0,\"#0d0887\"],[0.1111111111111111,\"#46039f\"],[0.2222222222222222,\"#7201a8\"],[0.3333333333333333,\"#9c179e\"],[0.4444444444444444,\"#bd3786\"],[0.5555555555555556,\"#d8576b\"],[0.6666666666666666,\"#ed7953\"],[0.7777777777777778,\"#fb9f3a\"],[0.8888888888888888,\"#fdca26\"],[1.0,\"#f0f921\"]],\"sequentialminus\":[[0.0,\"#0d0887\"],[0.1111111111111111,\"#46039f\"],[0.2222222222222222,\"#7201a8\"],[0.3333333333333333,\"#9c179e\"],[0.4444444444444444,\"#bd3786\"],[0.5555555555555556,\"#d8576b\"],[0.6666666666666666,\"#ed7953\"],[0.7777777777777778,\"#fb9f3a\"],[0.8888888888888888,\"#fdca26\"],[1.0,\"#f0f921\"]],\"diverging\":[[0,\"#8e0152\"],[0.1,\"#c51b7d\"],[0.2,\"#de77ae\"],[0.3,\"#f1b6da\"],[0.4,\"#fde0ef\"],[0.5,\"#f7f7f7\"],[0.6,\"#e6f5d0\"],[0.7,\"#b8e186\"],[0.8,\"#7fbc41\"],[0.9,\"#4d9221\"],[1,\"#276419\"]]},\"xaxis\":{\"gridcolor\":\"white\",\"linecolor\":\"white\",\"ticks\":\"\",\"title\":{\"standoff\":15},\"zerolinecolor\":\"white\",\"automargin\":true,\"zerolinewidth\":2},\"yaxis\":{\"gridcolor\":\"white\",\"linecolor\":\"white\",\"ticks\":\"\",\"title\":{\"standoff\":15},\"zerolinecolor\":\"white\",\"automargin\":true,\"zerolinewidth\":2},\"scene\":{\"xaxis\":{\"backgroundcolor\":\"#E5ECF6\",\"gridcolor\":\"white\",\"linecolor\":\"white\",\"showbackground\":true,\"ticks\":\"\",\"zerolinecolor\":\"white\",\"gridwidth\":2},\"yaxis\":{\"backgroundcolor\":\"#E5ECF6\",\"gridcolor\":\"white\",\"linecolor\":\"white\",\"showbackground\":true,\"ticks\":\"\",\"zerolinecolor\":\"white\",\"gridwidth\":2},\"zaxis\":{\"backgroundcolor\":\"#E5ECF6\",\"gridcolor\":\"white\",\"linecolor\":\"white\",\"showbackground\":true,\"ticks\":\"\",\"zerolinecolor\":\"white\",\"gridwidth\":2}},\"shapedefaults\":{\"line\":{\"color\":\"#2a3f5f\"}},\"annotationdefaults\":{\"arrowcolor\":\"#2a3f5f\",\"arrowhead\":0,\"arrowwidth\":1},\"geo\":{\"bgcolor\":\"white\",\"landcolor\":\"#E5ECF6\",\"subunitcolor\":\"white\",\"showland\":true,\"showlakes\":true,\"lakecolor\":\"white\"},\"title\":{\"x\":0.05},\"mapbox\":{\"style\":\"light\"}}},\"legend\":{\"tracegroupgap\":0},\"title\":{\"text\":\"Distribuci\\u00f3n de categor\\u00edas de satisfacci\\u00f3n del cliente\"},\"piecolorway\":[\"rgb(141,211,199)\",\"rgb(255,255,179)\",\"rgb(190,186,218)\",\"rgb(251,128,114)\",\"rgb(128,177,211)\",\"rgb(253,180,98)\",\"rgb(179,222,105)\",\"rgb(252,205,229)\",\"rgb(217,217,217)\",\"rgb(188,128,189)\",\"rgb(204,235,197)\",\"rgb(255,237,111)\"]},                        {\"responsive\": true}                    ).then(function(){\n",
       "                            \n",
       "var gd = document.getElementById('623fd673-4669-46d4-9437-6bf39f597cf5');\n",
       "var x = new MutationObserver(function (mutations, observer) {{\n",
       "        var display = window.getComputedStyle(gd).display;\n",
       "        if (!display || display === 'none') {{\n",
       "            console.log([gd, 'removed!']);\n",
       "            Plotly.purge(gd);\n",
       "            observer.disconnect();\n",
       "        }}\n",
       "}});\n",
       "\n",
       "// Listen for the removal of the full notebook cells\n",
       "var notebookContainer = gd.closest('#notebook-container');\n",
       "if (notebookContainer) {{\n",
       "    x.observe(notebookContainer, {childList: true});\n",
       "}}\n",
       "\n",
       "// Listen for the clearing of the current output cell\n",
       "var outputEl = gd.closest('.output');\n",
       "if (outputEl) {{\n",
       "    x.observe(outputEl, {childList: true});\n",
       "}}\n",
       "\n",
       "                        })                };                });            </script>        </div>"
      ]
     },
     "metadata": {},
     "output_type": "display_data"
    }
   ],
   "source": [
    "import plotly.express as px\n",
    "import pandas as pd\n",
    "\n",
    "categoria_counts = df_sentimientos_competencia_positivostop['Categoria_Satisfaccion'].value_counts().reset_index()\n",
    "categoria_counts.columns = ['Categoria_Satisfaccion', 'Count']\n",
    "\n",
    "# Ordenar por cuenta descendente (opcional)\n",
    "categoria_counts = categoria_counts.sort_values(by='Count', ascending=False)\n",
    "\n",
    "# Crear el gráfico de pastel interactivo con plotly\n",
    "fig = px.pie(categoria_counts, values='Count', names='Categoria_Satisfaccion',\n",
    "             title='Distribución de categorías de satisfacción del cliente',\n",
    "             color_discrete_sequence=px.colors.qualitative.Set3)\n",
    "\n",
    "# Mostrar el gráfico\n",
    "fig.show()\n",
    "\n"
   ]
  },
  {
   "cell_type": "code",
   "execution_count": 106,
   "id": "fbdfaf46",
   "metadata": {},
   "outputs": [
    {
     "data": {
      "text/html": [
       "<div>\n",
       "<style scoped>\n",
       "    .dataframe tbody tr th:only-of-type {\n",
       "        vertical-align: middle;\n",
       "    }\n",
       "\n",
       "    .dataframe tbody tr th {\n",
       "        vertical-align: top;\n",
       "    }\n",
       "\n",
       "    .dataframe thead th {\n",
       "        text-align: right;\n",
       "    }\n",
       "</style>\n",
       "<table border=\"1\" class=\"dataframe\">\n",
       "  <thead>\n",
       "    <tr style=\"text-align: right;\">\n",
       "      <th></th>\n",
       "      <th>Unnamed: 0.1</th>\n",
       "      <th>Unnamed: 0</th>\n",
       "      <th>Translated_Review</th>\n",
       "      <th>Rating</th>\n",
       "      <th>Sentimiento</th>\n",
       "      <th>Sentimiento_VADER</th>\n",
       "      <th>SENTIMIENTO_CALCULADO</th>\n",
       "    </tr>\n",
       "  </thead>\n",
       "  <tbody>\n",
       "    <tr>\n",
       "      <th>0</th>\n",
       "      <td>0</td>\n",
       "      <td>0</td>\n",
       "      <td>bonito hotel, aparcamiento caro, consiguió una...</td>\n",
       "      <td>4</td>\n",
       "      <td>POSITIVO</td>\n",
       "      <td>NEGATIVO</td>\n",
       "      <td>POSITIVO</td>\n",
       "    </tr>\n",
       "    <tr>\n",
       "      <th>1</th>\n",
       "      <td>1</td>\n",
       "      <td>1</td>\n",
       "      <td>ok, nada de cargo especial, miembro diamante h...</td>\n",
       "      <td>2</td>\n",
       "      <td>POSITIVO</td>\n",
       "      <td>NEGATIVO</td>\n",
       "      <td>NEUTRAL</td>\n",
       "    </tr>\n",
       "    <tr>\n",
       "      <th>2</th>\n",
       "      <td>2</td>\n",
       "      <td>2</td>\n",
       "      <td>Bonitas habitaciones, no un hotel de 4* con ex...</td>\n",
       "      <td>3</td>\n",
       "      <td>NEGATIVO</td>\n",
       "      <td>NEGATIVO</td>\n",
       "      <td>NEGATIVO</td>\n",
       "    </tr>\n",
       "    <tr>\n",
       "      <th>3</th>\n",
       "      <td>3</td>\n",
       "      <td>3</td>\n",
       "      <td>Único, estancia estupenda, tiempo maravilloso ...</td>\n",
       "      <td>5</td>\n",
       "      <td>NEUTRAL</td>\n",
       "      <td>NEGATIVO</td>\n",
       "      <td>POSITIVO</td>\n",
       "    </tr>\n",
       "    <tr>\n",
       "      <th>4</th>\n",
       "      <td>4</td>\n",
       "      <td>4</td>\n",
       "      <td>estancia estupenda estancia estupenda, fue inc...</td>\n",
       "      <td>5</td>\n",
       "      <td>NEUTRAL</td>\n",
       "      <td>NEGATIVO</td>\n",
       "      <td>POSITIVO</td>\n",
       "    </tr>\n",
       "    <tr>\n",
       "      <th>...</th>\n",
       "      <td>...</td>\n",
       "      <td>...</td>\n",
       "      <td>...</td>\n",
       "      <td>...</td>\n",
       "      <td>...</td>\n",
       "      <td>...</td>\n",
       "      <td>...</td>\n",
       "    </tr>\n",
       "    <tr>\n",
       "      <th>13127</th>\n",
       "      <td>13127</td>\n",
       "      <td>13127</td>\n",
       "      <td>Los viajeros caribeños más agradables y experi...</td>\n",
       "      <td>5</td>\n",
       "      <td>POSITIVO</td>\n",
       "      <td>NEGATIVO</td>\n",
       "      <td>POSITIVO</td>\n",
       "    </tr>\n",
       "    <tr>\n",
       "      <th>13128</th>\n",
       "      <td>13128</td>\n",
       "      <td>13128</td>\n",
       "      <td>maravilloso club de vacaciones diamante bahia ...</td>\n",
       "      <td>5</td>\n",
       "      <td>POSITIVO</td>\n",
       "      <td>NEGATIVO</td>\n",
       "      <td>POSITIVO</td>\n",
       "    </tr>\n",
       "    <tr>\n",
       "      <th>13129</th>\n",
       "      <td>13129</td>\n",
       "      <td>13129</td>\n",
       "      <td>No me molesté en quedarme en la puerta, me que...</td>\n",
       "      <td>1</td>\n",
       "      <td>NEGATIVO</td>\n",
       "      <td>NEGATIVO</td>\n",
       "      <td>NEGATIVO</td>\n",
       "    </tr>\n",
       "    <tr>\n",
       "      <th>13130</th>\n",
       "      <td>13130</td>\n",
       "      <td>13130</td>\n",
       "      <td>escribió el encabezado, breve. comida repugnan...</td>\n",
       "      <td>1</td>\n",
       "      <td>NEUTRAL</td>\n",
       "      <td>NEUTRAL</td>\n",
       "      <td>NEGATIVO</td>\n",
       "    </tr>\n",
       "    <tr>\n",
       "      <th>13131</th>\n",
       "      <td>13131</td>\n",
       "      <td>13131</td>\n",
       "      <td>excelente piscina, clima increíble, estadía fa...</td>\n",
       "      <td>3</td>\n",
       "      <td>POSITIVO</td>\n",
       "      <td>POSITIVO</td>\n",
       "      <td>POSITIVO</td>\n",
       "    </tr>\n",
       "  </tbody>\n",
       "</table>\n",
       "<p>13132 rows × 7 columns</p>\n",
       "</div>"
      ],
      "text/plain": [
       "       Unnamed: 0.1  Unnamed: 0   \n",
       "0                 0           0  \\\n",
       "1                 1           1   \n",
       "2                 2           2   \n",
       "3                 3           3   \n",
       "4                 4           4   \n",
       "...             ...         ...   \n",
       "13127         13127       13127   \n",
       "13128         13128       13128   \n",
       "13129         13129       13129   \n",
       "13130         13130       13130   \n",
       "13131         13131       13131   \n",
       "\n",
       "                                       Translated_Review  Rating Sentimiento   \n",
       "0      bonito hotel, aparcamiento caro, consiguió una...       4    POSITIVO  \\\n",
       "1      ok, nada de cargo especial, miembro diamante h...       2    POSITIVO   \n",
       "2      Bonitas habitaciones, no un hotel de 4* con ex...       3    NEGATIVO   \n",
       "3      Único, estancia estupenda, tiempo maravilloso ...       5     NEUTRAL   \n",
       "4      estancia estupenda estancia estupenda, fue inc...       5     NEUTRAL   \n",
       "...                                                  ...     ...         ...   \n",
       "13127  Los viajeros caribeños más agradables y experi...       5    POSITIVO   \n",
       "13128  maravilloso club de vacaciones diamante bahia ...       5    POSITIVO   \n",
       "13129  No me molesté en quedarme en la puerta, me que...       1    NEGATIVO   \n",
       "13130  escribió el encabezado, breve. comida repugnan...       1     NEUTRAL   \n",
       "13131  excelente piscina, clima increíble, estadía fa...       3    POSITIVO   \n",
       "\n",
       "      Sentimiento_VADER SENTIMIENTO_CALCULADO  \n",
       "0              NEGATIVO              POSITIVO  \n",
       "1              NEGATIVO               NEUTRAL  \n",
       "2              NEGATIVO              NEGATIVO  \n",
       "3              NEGATIVO              POSITIVO  \n",
       "4              NEGATIVO              POSITIVO  \n",
       "...                 ...                   ...  \n",
       "13127          NEGATIVO              POSITIVO  \n",
       "13128          NEGATIVO              POSITIVO  \n",
       "13129          NEGATIVO              NEGATIVO  \n",
       "13130           NEUTRAL              NEGATIVO  \n",
       "13131          POSITIVO              POSITIVO  \n",
       "\n",
       "[13132 rows x 7 columns]"
      ]
     },
     "execution_count": 106,
     "metadata": {},
     "output_type": "execute_result"
    }
   ],
   "source": [
    "df_sentimientos_hotel"
   ]
  },
  {
   "cell_type": "code",
   "execution_count": 119,
   "id": "39809b79",
   "metadata": {},
   "outputs": [
    {
     "data": {
      "text/html": [
       "<div>\n",
       "<style scoped>\n",
       "    .dataframe tbody tr th:only-of-type {\n",
       "        vertical-align: middle;\n",
       "    }\n",
       "\n",
       "    .dataframe tbody tr th {\n",
       "        vertical-align: top;\n",
       "    }\n",
       "\n",
       "    .dataframe thead th {\n",
       "        text-align: right;\n",
       "    }\n",
       "</style>\n",
       "<table border=\"1\" class=\"dataframe\">\n",
       "  <thead>\n",
       "    <tr style=\"text-align: right;\">\n",
       "      <th></th>\n",
       "      <th>Unnamed: 0.1</th>\n",
       "      <th>Unnamed: 0</th>\n",
       "      <th>Translated_Review</th>\n",
       "      <th>Rating</th>\n",
       "      <th>Sentimiento</th>\n",
       "      <th>Sentimiento_VADER</th>\n",
       "      <th>SENTIMIENTO_CALCULADO</th>\n",
       "      <th>Categoria_Problema</th>\n",
       "    </tr>\n",
       "  </thead>\n",
       "  <tbody>\n",
       "    <tr>\n",
       "      <th>0</th>\n",
       "      <td>0</td>\n",
       "      <td>0</td>\n",
       "      <td>bonito hotel, aparcamiento caro, consiguió una...</td>\n",
       "      <td>4</td>\n",
       "      <td>POSITIVO</td>\n",
       "      <td>NEGATIVO</td>\n",
       "      <td>POSITIVO</td>\n",
       "      <td>Calidad de las instalaciones</td>\n",
       "    </tr>\n",
       "    <tr>\n",
       "      <th>1</th>\n",
       "      <td>1</td>\n",
       "      <td>1</td>\n",
       "      <td>ok, nada de cargo especial, miembro diamante h...</td>\n",
       "      <td>2</td>\n",
       "      <td>POSITIVO</td>\n",
       "      <td>NEGATIVO</td>\n",
       "      <td>NEUTRAL</td>\n",
       "      <td>Calidad de las instalaciones</td>\n",
       "    </tr>\n",
       "    <tr>\n",
       "      <th>2</th>\n",
       "      <td>2</td>\n",
       "      <td>2</td>\n",
       "      <td>Bonitas habitaciones, no un hotel de 4* con ex...</td>\n",
       "      <td>3</td>\n",
       "      <td>NEGATIVO</td>\n",
       "      <td>NEGATIVO</td>\n",
       "      <td>NEGATIVO</td>\n",
       "      <td>Precio y costos adicionales</td>\n",
       "    </tr>\n",
       "    <tr>\n",
       "      <th>3</th>\n",
       "      <td>3</td>\n",
       "      <td>3</td>\n",
       "      <td>Único, estancia estupenda, tiempo maravilloso ...</td>\n",
       "      <td>5</td>\n",
       "      <td>NEUTRAL</td>\n",
       "      <td>NEGATIVO</td>\n",
       "      <td>POSITIVO</td>\n",
       "      <td>Servicio al cliente</td>\n",
       "    </tr>\n",
       "    <tr>\n",
       "      <th>4</th>\n",
       "      <td>4</td>\n",
       "      <td>4</td>\n",
       "      <td>estancia estupenda estancia estupenda, fue inc...</td>\n",
       "      <td>5</td>\n",
       "      <td>NEUTRAL</td>\n",
       "      <td>NEGATIVO</td>\n",
       "      <td>POSITIVO</td>\n",
       "      <td>Calidad de las instalaciones</td>\n",
       "    </tr>\n",
       "    <tr>\n",
       "      <th>...</th>\n",
       "      <td>...</td>\n",
       "      <td>...</td>\n",
       "      <td>...</td>\n",
       "      <td>...</td>\n",
       "      <td>...</td>\n",
       "      <td>...</td>\n",
       "      <td>...</td>\n",
       "      <td>...</td>\n",
       "    </tr>\n",
       "    <tr>\n",
       "      <th>13127</th>\n",
       "      <td>13127</td>\n",
       "      <td>13127</td>\n",
       "      <td>Los viajeros caribeños más agradables y experi...</td>\n",
       "      <td>5</td>\n",
       "      <td>POSITIVO</td>\n",
       "      <td>NEGATIVO</td>\n",
       "      <td>POSITIVO</td>\n",
       "      <td>Servicio al cliente</td>\n",
       "    </tr>\n",
       "    <tr>\n",
       "      <th>13128</th>\n",
       "      <td>13128</td>\n",
       "      <td>13128</td>\n",
       "      <td>maravilloso club de vacaciones diamante bahia ...</td>\n",
       "      <td>5</td>\n",
       "      <td>POSITIVO</td>\n",
       "      <td>NEGATIVO</td>\n",
       "      <td>POSITIVO</td>\n",
       "      <td>Calidad de las instalaciones</td>\n",
       "    </tr>\n",
       "    <tr>\n",
       "      <th>13129</th>\n",
       "      <td>13129</td>\n",
       "      <td>13129</td>\n",
       "      <td>No me molesté en quedarme en la puerta, me que...</td>\n",
       "      <td>1</td>\n",
       "      <td>NEGATIVO</td>\n",
       "      <td>NEGATIVO</td>\n",
       "      <td>NEGATIVO</td>\n",
       "      <td>Servicio al cliente</td>\n",
       "    </tr>\n",
       "    <tr>\n",
       "      <th>13130</th>\n",
       "      <td>13130</td>\n",
       "      <td>13130</td>\n",
       "      <td>escribió el encabezado, breve. comida repugnan...</td>\n",
       "      <td>1</td>\n",
       "      <td>NEUTRAL</td>\n",
       "      <td>NEUTRAL</td>\n",
       "      <td>NEGATIVO</td>\n",
       "      <td>Calidad de las instalaciones</td>\n",
       "    </tr>\n",
       "    <tr>\n",
       "      <th>13131</th>\n",
       "      <td>13131</td>\n",
       "      <td>13131</td>\n",
       "      <td>excelente piscina, clima increíble, estadía fa...</td>\n",
       "      <td>3</td>\n",
       "      <td>POSITIVO</td>\n",
       "      <td>POSITIVO</td>\n",
       "      <td>POSITIVO</td>\n",
       "      <td>Precio y costos adicionales</td>\n",
       "    </tr>\n",
       "  </tbody>\n",
       "</table>\n",
       "<p>13132 rows × 8 columns</p>\n",
       "</div>"
      ],
      "text/plain": [
       "       Unnamed: 0.1  Unnamed: 0   \n",
       "0                 0           0  \\\n",
       "1                 1           1   \n",
       "2                 2           2   \n",
       "3                 3           3   \n",
       "4                 4           4   \n",
       "...             ...         ...   \n",
       "13127         13127       13127   \n",
       "13128         13128       13128   \n",
       "13129         13129       13129   \n",
       "13130         13130       13130   \n",
       "13131         13131       13131   \n",
       "\n",
       "                                       Translated_Review  Rating Sentimiento   \n",
       "0      bonito hotel, aparcamiento caro, consiguió una...       4    POSITIVO  \\\n",
       "1      ok, nada de cargo especial, miembro diamante h...       2    POSITIVO   \n",
       "2      Bonitas habitaciones, no un hotel de 4* con ex...       3    NEGATIVO   \n",
       "3      Único, estancia estupenda, tiempo maravilloso ...       5     NEUTRAL   \n",
       "4      estancia estupenda estancia estupenda, fue inc...       5     NEUTRAL   \n",
       "...                                                  ...     ...         ...   \n",
       "13127  Los viajeros caribeños más agradables y experi...       5    POSITIVO   \n",
       "13128  maravilloso club de vacaciones diamante bahia ...       5    POSITIVO   \n",
       "13129  No me molesté en quedarme en la puerta, me que...       1    NEGATIVO   \n",
       "13130  escribió el encabezado, breve. comida repugnan...       1     NEUTRAL   \n",
       "13131  excelente piscina, clima increíble, estadía fa...       3    POSITIVO   \n",
       "\n",
       "      Sentimiento_VADER SENTIMIENTO_CALCULADO            Categoria_Problema  \n",
       "0              NEGATIVO              POSITIVO  Calidad de las instalaciones  \n",
       "1              NEGATIVO               NEUTRAL  Calidad de las instalaciones  \n",
       "2              NEGATIVO              NEGATIVO   Precio y costos adicionales  \n",
       "3              NEGATIVO              POSITIVO           Servicio al cliente  \n",
       "4              NEGATIVO              POSITIVO  Calidad de las instalaciones  \n",
       "...                 ...                   ...                           ...  \n",
       "13127          NEGATIVO              POSITIVO           Servicio al cliente  \n",
       "13128          NEGATIVO              POSITIVO  Calidad de las instalaciones  \n",
       "13129          NEGATIVO              NEGATIVO           Servicio al cliente  \n",
       "13130           NEUTRAL              NEGATIVO  Calidad de las instalaciones  \n",
       "13131          POSITIVO              POSITIVO   Precio y costos adicionales  \n",
       "\n",
       "[13132 rows x 8 columns]"
      ]
     },
     "execution_count": 119,
     "metadata": {},
     "output_type": "execute_result"
    }
   ],
   "source": [
    "df_sentimientos_hotel"
   ]
  },
  {
   "cell_type": "code",
   "execution_count": 120,
   "id": "0390c11c",
   "metadata": {},
   "outputs": [
    {
     "name": "stderr",
     "output_type": "stream",
     "text": [
      "e:\\Users\\1077730\\AppData\\Local\\Temp\\ipykernel_24372\\353272050.py:3: SettingWithCopyWarning:\n",
      "\n",
      "\n",
      "A value is trying to be set on a copy of a slice from a DataFrame.\n",
      "Try using .loc[row_indexer,col_indexer] = value instead\n",
      "\n",
      "See the caveats in the documentation: https://pandas.pydata.org/pandas-docs/stable/user_guide/indexing.html#returning-a-view-versus-a-copy\n",
      "\n"
     ]
    },
    {
     "data": {
      "text/html": [
       "<div>\n",
       "<style scoped>\n",
       "    .dataframe tbody tr th:only-of-type {\n",
       "        vertical-align: middle;\n",
       "    }\n",
       "\n",
       "    .dataframe tbody tr th {\n",
       "        vertical-align: top;\n",
       "    }\n",
       "\n",
       "    .dataframe thead th {\n",
       "        text-align: right;\n",
       "    }\n",
       "</style>\n",
       "<table border=\"1\" class=\"dataframe\">\n",
       "  <thead>\n",
       "    <tr style=\"text-align: right;\">\n",
       "      <th></th>\n",
       "      <th>Translated_Review</th>\n",
       "      <th>SENTIMIENTO_CALCULADO</th>\n",
       "      <th>Categoria_Problema</th>\n",
       "      <th>Hotel</th>\n",
       "    </tr>\n",
       "  </thead>\n",
       "  <tbody>\n",
       "    <tr>\n",
       "      <th>0</th>\n",
       "      <td>bonito hotel, aparcamiento caro, consiguió una...</td>\n",
       "      <td>POSITIVO</td>\n",
       "      <td>Calidad de las instalaciones</td>\n",
       "      <td>Hotel cliente</td>\n",
       "    </tr>\n",
       "    <tr>\n",
       "      <th>1</th>\n",
       "      <td>ok, nada de cargo especial, miembro diamante h...</td>\n",
       "      <td>NEUTRAL</td>\n",
       "      <td>Calidad de las instalaciones</td>\n",
       "      <td>Hotel cliente</td>\n",
       "    </tr>\n",
       "    <tr>\n",
       "      <th>2</th>\n",
       "      <td>Bonitas habitaciones, no un hotel de 4* con ex...</td>\n",
       "      <td>NEGATIVO</td>\n",
       "      <td>Precio y costos adicionales</td>\n",
       "      <td>Hotel cliente</td>\n",
       "    </tr>\n",
       "    <tr>\n",
       "      <th>3</th>\n",
       "      <td>Único, estancia estupenda, tiempo maravilloso ...</td>\n",
       "      <td>POSITIVO</td>\n",
       "      <td>Servicio al cliente</td>\n",
       "      <td>Hotel cliente</td>\n",
       "    </tr>\n",
       "    <tr>\n",
       "      <th>4</th>\n",
       "      <td>estancia estupenda estancia estupenda, fue inc...</td>\n",
       "      <td>POSITIVO</td>\n",
       "      <td>Calidad de las instalaciones</td>\n",
       "      <td>Hotel cliente</td>\n",
       "    </tr>\n",
       "    <tr>\n",
       "      <th>...</th>\n",
       "      <td>...</td>\n",
       "      <td>...</td>\n",
       "      <td>...</td>\n",
       "      <td>...</td>\n",
       "    </tr>\n",
       "    <tr>\n",
       "      <th>13127</th>\n",
       "      <td>Los viajeros caribeños más agradables y experi...</td>\n",
       "      <td>POSITIVO</td>\n",
       "      <td>Servicio al cliente</td>\n",
       "      <td>Hotel cliente</td>\n",
       "    </tr>\n",
       "    <tr>\n",
       "      <th>13128</th>\n",
       "      <td>maravilloso club de vacaciones diamante bahia ...</td>\n",
       "      <td>POSITIVO</td>\n",
       "      <td>Calidad de las instalaciones</td>\n",
       "      <td>Hotel cliente</td>\n",
       "    </tr>\n",
       "    <tr>\n",
       "      <th>13129</th>\n",
       "      <td>No me molesté en quedarme en la puerta, me que...</td>\n",
       "      <td>NEGATIVO</td>\n",
       "      <td>Servicio al cliente</td>\n",
       "      <td>Hotel cliente</td>\n",
       "    </tr>\n",
       "    <tr>\n",
       "      <th>13130</th>\n",
       "      <td>escribió el encabezado, breve. comida repugnan...</td>\n",
       "      <td>NEGATIVO</td>\n",
       "      <td>Calidad de las instalaciones</td>\n",
       "      <td>Hotel cliente</td>\n",
       "    </tr>\n",
       "    <tr>\n",
       "      <th>13131</th>\n",
       "      <td>excelente piscina, clima increíble, estadía fa...</td>\n",
       "      <td>POSITIVO</td>\n",
       "      <td>Precio y costos adicionales</td>\n",
       "      <td>Hotel cliente</td>\n",
       "    </tr>\n",
       "  </tbody>\n",
       "</table>\n",
       "<p>13132 rows × 4 columns</p>\n",
       "</div>"
      ],
      "text/plain": [
       "                                       Translated_Review   \n",
       "0      bonito hotel, aparcamiento caro, consiguió una...  \\\n",
       "1      ok, nada de cargo especial, miembro diamante h...   \n",
       "2      Bonitas habitaciones, no un hotel de 4* con ex...   \n",
       "3      Único, estancia estupenda, tiempo maravilloso ...   \n",
       "4      estancia estupenda estancia estupenda, fue inc...   \n",
       "...                                                  ...   \n",
       "13127  Los viajeros caribeños más agradables y experi...   \n",
       "13128  maravilloso club de vacaciones diamante bahia ...   \n",
       "13129  No me molesté en quedarme en la puerta, me que...   \n",
       "13130  escribió el encabezado, breve. comida repugnan...   \n",
       "13131  excelente piscina, clima increíble, estadía fa...   \n",
       "\n",
       "      SENTIMIENTO_CALCULADO            Categoria_Problema          Hotel  \n",
       "0                  POSITIVO  Calidad de las instalaciones  Hotel cliente  \n",
       "1                   NEUTRAL  Calidad de las instalaciones  Hotel cliente  \n",
       "2                  NEGATIVO   Precio y costos adicionales  Hotel cliente  \n",
       "3                  POSITIVO           Servicio al cliente  Hotel cliente  \n",
       "4                  POSITIVO  Calidad de las instalaciones  Hotel cliente  \n",
       "...                     ...                           ...            ...  \n",
       "13127              POSITIVO           Servicio al cliente  Hotel cliente  \n",
       "13128              POSITIVO  Calidad de las instalaciones  Hotel cliente  \n",
       "13129              NEGATIVO           Servicio al cliente  Hotel cliente  \n",
       "13130              NEGATIVO  Calidad de las instalaciones  Hotel cliente  \n",
       "13131              POSITIVO   Precio y costos adicionales  Hotel cliente  \n",
       "\n",
       "[13132 rows x 4 columns]"
      ]
     },
     "execution_count": 120,
     "metadata": {},
     "output_type": "execute_result"
    }
   ],
   "source": [
    "#MODELO\n",
    "df_sentimientos_hotel_filt=df_sentimientos_hotel[['Translated_Review','SENTIMIENTO_CALCULADO','Categoria_Problema']]\n",
    "df_sentimientos_hotel_filt['Hotel'] = 'Hotel cliente'\n",
    "df_sentimientos_hotel_filt"
   ]
  },
  {
   "cell_type": "code",
   "execution_count": 121,
   "id": "54688035",
   "metadata": {},
   "outputs": [
    {
     "data": {
      "text/html": [
       "<div>\n",
       "<style scoped>\n",
       "    .dataframe tbody tr th:only-of-type {\n",
       "        vertical-align: middle;\n",
       "    }\n",
       "\n",
       "    .dataframe tbody tr th {\n",
       "        vertical-align: top;\n",
       "    }\n",
       "\n",
       "    .dataframe thead th {\n",
       "        text-align: right;\n",
       "    }\n",
       "</style>\n",
       "<table border=\"1\" class=\"dataframe\">\n",
       "  <thead>\n",
       "    <tr style=\"text-align: right;\">\n",
       "      <th></th>\n",
       "      <th>Comentario</th>\n",
       "      <th>Sentimiento_VADER</th>\n",
       "      <th>Categoria_Problema</th>\n",
       "      <th>Nombre Hotel</th>\n",
       "    </tr>\n",
       "  </thead>\n",
       "  <tbody>\n",
       "    <tr>\n",
       "      <th>0</th>\n",
       "      <td>Después de una estancia de una semana reciente...</td>\n",
       "      <td>POSITIVO</td>\n",
       "      <td>Calidad de las instalaciones</td>\n",
       "      <td>affinia</td>\n",
       "    </tr>\n",
       "    <tr>\n",
       "      <th>1</th>\n",
       "      <td>Aunque demasiado caro en mi opinión, el hotel ...</td>\n",
       "      <td>POSITIVO</td>\n",
       "      <td>Servicio al cliente</td>\n",
       "      <td>affinia</td>\n",
       "    </tr>\n",
       "    <tr>\n",
       "      <th>2</th>\n",
       "      <td>Me alojé en el Affina Chicago para celebrar mi...</td>\n",
       "      <td>POSITIVO</td>\n",
       "      <td>Servicio al cliente</td>\n",
       "      <td>affinia</td>\n",
       "    </tr>\n",
       "    <tr>\n",
       "      <th>3</th>\n",
       "      <td>ESTE HOTEL ES FANTÁSTICO. Me alojé allí en mi ...</td>\n",
       "      <td>POSITIVO</td>\n",
       "      <td>Servicio al cliente</td>\n",
       "      <td>affinia</td>\n",
       "    </tr>\n",
       "    <tr>\n",
       "      <th>4</th>\n",
       "      <td>El Affinia Chicago es un lugar maravilloso don...</td>\n",
       "      <td>POSITIVO</td>\n",
       "      <td>Calidad de las instalaciones</td>\n",
       "      <td>affinia</td>\n",
       "    </tr>\n",
       "    <tr>\n",
       "      <th>...</th>\n",
       "      <td>...</td>\n",
       "      <td>...</td>\n",
       "      <td>...</td>\n",
       "      <td>...</td>\n",
       "    </tr>\n",
       "    <tr>\n",
       "      <th>795</th>\n",
       "      <td>Me alojé en The Talbott por 3 noches por negoc...</td>\n",
       "      <td>POSITIVO</td>\n",
       "      <td>Calidad de las instalaciones</td>\n",
       "      <td>talbott</td>\n",
       "    </tr>\n",
       "    <tr>\n",
       "      <th>796</th>\n",
       "      <td>Nos encantó el Talbott. La ubicación era fabul...</td>\n",
       "      <td>POSITIVO</td>\n",
       "      <td>Calidad de las instalaciones</td>\n",
       "      <td>talbott</td>\n",
       "    </tr>\n",
       "    <tr>\n",
       "      <th>797</th>\n",
       "      <td>Puedo decir fácilmente que este es uno de los ...</td>\n",
       "      <td>POSITIVO</td>\n",
       "      <td>Calidad de las instalaciones</td>\n",
       "      <td>talbott</td>\n",
       "    </tr>\n",
       "    <tr>\n",
       "      <th>798</th>\n",
       "      <td>Este es un gran hallazgo para el centro de Chi...</td>\n",
       "      <td>POSITIVO</td>\n",
       "      <td>Precio y costos adicionales</td>\n",
       "      <td>talbott</td>\n",
       "    </tr>\n",
       "    <tr>\n",
       "      <th>799</th>\n",
       "      <td>Chicago es una de nuestras ciudades favoritas ...</td>\n",
       "      <td>NEUTRAL</td>\n",
       "      <td>Servicio al cliente</td>\n",
       "      <td>talbott</td>\n",
       "    </tr>\n",
       "  </tbody>\n",
       "</table>\n",
       "<p>800 rows × 4 columns</p>\n",
       "</div>"
      ],
      "text/plain": [
       "                                            Comentario Sentimiento_VADER   \n",
       "0    Después de una estancia de una semana reciente...          POSITIVO  \\\n",
       "1    Aunque demasiado caro en mi opinión, el hotel ...          POSITIVO   \n",
       "2    Me alojé en el Affina Chicago para celebrar mi...          POSITIVO   \n",
       "3    ESTE HOTEL ES FANTÁSTICO. Me alojé allí en mi ...          POSITIVO   \n",
       "4    El Affinia Chicago es un lugar maravilloso don...          POSITIVO   \n",
       "..                                                 ...               ...   \n",
       "795  Me alojé en The Talbott por 3 noches por negoc...          POSITIVO   \n",
       "796  Nos encantó el Talbott. La ubicación era fabul...          POSITIVO   \n",
       "797  Puedo decir fácilmente que este es uno de los ...          POSITIVO   \n",
       "798  Este es un gran hallazgo para el centro de Chi...          POSITIVO   \n",
       "799  Chicago es una de nuestras ciudades favoritas ...           NEUTRAL   \n",
       "\n",
       "               Categoria_Problema Nombre Hotel  \n",
       "0    Calidad de las instalaciones      affinia  \n",
       "1             Servicio al cliente      affinia  \n",
       "2             Servicio al cliente      affinia  \n",
       "3             Servicio al cliente      affinia  \n",
       "4    Calidad de las instalaciones      affinia  \n",
       "..                            ...          ...  \n",
       "795  Calidad de las instalaciones      talbott  \n",
       "796  Calidad de las instalaciones      talbott  \n",
       "797  Calidad de las instalaciones      talbott  \n",
       "798   Precio y costos adicionales      talbott  \n",
       "799           Servicio al cliente      talbott  \n",
       "\n",
       "[800 rows x 4 columns]"
      ]
     },
     "execution_count": 121,
     "metadata": {},
     "output_type": "execute_result"
    }
   ],
   "source": [
    "df_sentimientos_competencia_filt=df_sentimientos_competencia[['Comentario','Sentimiento_VADER','Categoria_Problema','Nombre Hotel']]\n",
    "df_sentimientos_competencia_filt"
   ]
  },
  {
   "cell_type": "code",
   "execution_count": 122,
   "id": "19ae548b",
   "metadata": {},
   "outputs": [
    {
     "name": "stderr",
     "output_type": "stream",
     "text": [
      "e:\\Users\\1077730\\AppData\\Local\\Temp\\ipykernel_24372\\607195323.py:2: SettingWithCopyWarning:\n",
      "\n",
      "\n",
      "A value is trying to be set on a copy of a slice from a DataFrame\n",
      "\n",
      "See the caveats in the documentation: https://pandas.pydata.org/pandas-docs/stable/user_guide/indexing.html#returning-a-view-versus-a-copy\n",
      "\n"
     ]
    }
   ],
   "source": [
    "# Renombrar columnas en df_sentimientos_competencia_filt para que coincidan con df_sentimientos_hotel_filt\n",
    "df_sentimientos_competencia_filt.rename(columns={'Comentario': 'Translated_Review',\n",
    "                                                'Sentimiento_VADER': 'SENTIMIENTO_CALCULADO',\n",
    "                                                'Nombre Hotel': 'Hotel'}, inplace=True)\n"
   ]
  },
  {
   "cell_type": "code",
   "execution_count": 123,
   "id": "ca00bd07",
   "metadata": {},
   "outputs": [
    {
     "data": {
      "text/html": [
       "<div>\n",
       "<style scoped>\n",
       "    .dataframe tbody tr th:only-of-type {\n",
       "        vertical-align: middle;\n",
       "    }\n",
       "\n",
       "    .dataframe tbody tr th {\n",
       "        vertical-align: top;\n",
       "    }\n",
       "\n",
       "    .dataframe thead th {\n",
       "        text-align: right;\n",
       "    }\n",
       "</style>\n",
       "<table border=\"1\" class=\"dataframe\">\n",
       "  <thead>\n",
       "    <tr style=\"text-align: right;\">\n",
       "      <th></th>\n",
       "      <th>Translated_Review</th>\n",
       "      <th>SENTIMIENTO_CALCULADO</th>\n",
       "      <th>Categoria_Problema</th>\n",
       "      <th>Hotel</th>\n",
       "    </tr>\n",
       "  </thead>\n",
       "  <tbody>\n",
       "    <tr>\n",
       "      <th>0</th>\n",
       "      <td>bonito hotel, aparcamiento caro, consiguió una...</td>\n",
       "      <td>POSITIVO</td>\n",
       "      <td>Calidad de las instalaciones</td>\n",
       "      <td>Hotel cliente</td>\n",
       "    </tr>\n",
       "    <tr>\n",
       "      <th>1</th>\n",
       "      <td>ok, nada de cargo especial, miembro diamante h...</td>\n",
       "      <td>NEUTRAL</td>\n",
       "      <td>Calidad de las instalaciones</td>\n",
       "      <td>Hotel cliente</td>\n",
       "    </tr>\n",
       "    <tr>\n",
       "      <th>2</th>\n",
       "      <td>Bonitas habitaciones, no un hotel de 4* con ex...</td>\n",
       "      <td>NEGATIVO</td>\n",
       "      <td>Precio y costos adicionales</td>\n",
       "      <td>Hotel cliente</td>\n",
       "    </tr>\n",
       "    <tr>\n",
       "      <th>3</th>\n",
       "      <td>Único, estancia estupenda, tiempo maravilloso ...</td>\n",
       "      <td>POSITIVO</td>\n",
       "      <td>Servicio al cliente</td>\n",
       "      <td>Hotel cliente</td>\n",
       "    </tr>\n",
       "    <tr>\n",
       "      <th>4</th>\n",
       "      <td>estancia estupenda estancia estupenda, fue inc...</td>\n",
       "      <td>POSITIVO</td>\n",
       "      <td>Calidad de las instalaciones</td>\n",
       "      <td>Hotel cliente</td>\n",
       "    </tr>\n",
       "    <tr>\n",
       "      <th>...</th>\n",
       "      <td>...</td>\n",
       "      <td>...</td>\n",
       "      <td>...</td>\n",
       "      <td>...</td>\n",
       "    </tr>\n",
       "    <tr>\n",
       "      <th>13927</th>\n",
       "      <td>Me alojé en The Talbott por 3 noches por negoc...</td>\n",
       "      <td>POSITIVO</td>\n",
       "      <td>Calidad de las instalaciones</td>\n",
       "      <td>talbott</td>\n",
       "    </tr>\n",
       "    <tr>\n",
       "      <th>13928</th>\n",
       "      <td>Nos encantó el Talbott. La ubicación era fabul...</td>\n",
       "      <td>POSITIVO</td>\n",
       "      <td>Calidad de las instalaciones</td>\n",
       "      <td>talbott</td>\n",
       "    </tr>\n",
       "    <tr>\n",
       "      <th>13929</th>\n",
       "      <td>Puedo decir fácilmente que este es uno de los ...</td>\n",
       "      <td>POSITIVO</td>\n",
       "      <td>Calidad de las instalaciones</td>\n",
       "      <td>talbott</td>\n",
       "    </tr>\n",
       "    <tr>\n",
       "      <th>13930</th>\n",
       "      <td>Este es un gran hallazgo para el centro de Chi...</td>\n",
       "      <td>POSITIVO</td>\n",
       "      <td>Precio y costos adicionales</td>\n",
       "      <td>talbott</td>\n",
       "    </tr>\n",
       "    <tr>\n",
       "      <th>13931</th>\n",
       "      <td>Chicago es una de nuestras ciudades favoritas ...</td>\n",
       "      <td>NEUTRAL</td>\n",
       "      <td>Servicio al cliente</td>\n",
       "      <td>talbott</td>\n",
       "    </tr>\n",
       "  </tbody>\n",
       "</table>\n",
       "<p>13932 rows × 4 columns</p>\n",
       "</div>"
      ],
      "text/plain": [
       "                                       Translated_Review   \n",
       "0      bonito hotel, aparcamiento caro, consiguió una...  \\\n",
       "1      ok, nada de cargo especial, miembro diamante h...   \n",
       "2      Bonitas habitaciones, no un hotel de 4* con ex...   \n",
       "3      Único, estancia estupenda, tiempo maravilloso ...   \n",
       "4      estancia estupenda estancia estupenda, fue inc...   \n",
       "...                                                  ...   \n",
       "13927  Me alojé en The Talbott por 3 noches por negoc...   \n",
       "13928  Nos encantó el Talbott. La ubicación era fabul...   \n",
       "13929  Puedo decir fácilmente que este es uno de los ...   \n",
       "13930  Este es un gran hallazgo para el centro de Chi...   \n",
       "13931  Chicago es una de nuestras ciudades favoritas ...   \n",
       "\n",
       "      SENTIMIENTO_CALCULADO            Categoria_Problema          Hotel  \n",
       "0                  POSITIVO  Calidad de las instalaciones  Hotel cliente  \n",
       "1                   NEUTRAL  Calidad de las instalaciones  Hotel cliente  \n",
       "2                  NEGATIVO   Precio y costos adicionales  Hotel cliente  \n",
       "3                  POSITIVO           Servicio al cliente  Hotel cliente  \n",
       "4                  POSITIVO  Calidad de las instalaciones  Hotel cliente  \n",
       "...                     ...                           ...            ...  \n",
       "13927              POSITIVO  Calidad de las instalaciones        talbott  \n",
       "13928              POSITIVO  Calidad de las instalaciones        talbott  \n",
       "13929              POSITIVO  Calidad de las instalaciones        talbott  \n",
       "13930              POSITIVO   Precio y costos adicionales        talbott  \n",
       "13931               NEUTRAL           Servicio al cliente        talbott  \n",
       "\n",
       "[13932 rows x 4 columns]"
      ]
     },
     "execution_count": 123,
     "metadata": {},
     "output_type": "execute_result"
    }
   ],
   "source": [
    "import pandas as pd\n",
    "\n",
    "# Concatenar los dos DataFrames\n",
    "df_concatenado = pd.concat([df_sentimientos_hotel_filt, df_sentimientos_competencia_filt], ignore_index=True)\n",
    "\n",
    "df_concatenado"
   ]
  },
  {
   "cell_type": "code",
   "execution_count": 128,
   "id": "00d6d169",
   "metadata": {},
   "outputs": [],
   "source": [
    "# Codificar la columna Sentimiento como variables numéricas (ejemplo)\n",
    "df_concatenado['Sentimiento_numerico'] = df_concatenado['SENTIMIENTO_CALCULADO'].map({'POSITIVO': 1, 'NEGATIVO': -1, 'NEUTRAL': 0})\n",
    "\n",
    "# Codificar la columna Categoria_Satisfaccion como variables numéricas (ejemplo)\n",
    "from sklearn.preprocessing import LabelEncoder\n",
    "encoder = LabelEncoder()\n",
    "df_concatenado['Categoria_Problema_numerica'] = encoder.fit_transform(df_concatenado['Categoria_Problema'])\n"
   ]
  },
  {
   "cell_type": "code",
   "execution_count": 129,
   "id": "bf411aa4",
   "metadata": {},
   "outputs": [
    {
     "data": {
      "text/html": [
       "<div>\n",
       "<style scoped>\n",
       "    .dataframe tbody tr th:only-of-type {\n",
       "        vertical-align: middle;\n",
       "    }\n",
       "\n",
       "    .dataframe tbody tr th {\n",
       "        vertical-align: top;\n",
       "    }\n",
       "\n",
       "    .dataframe thead th {\n",
       "        text-align: right;\n",
       "    }\n",
       "</style>\n",
       "<table border=\"1\" class=\"dataframe\">\n",
       "  <thead>\n",
       "    <tr style=\"text-align: right;\">\n",
       "      <th></th>\n",
       "      <th>Translated_Review</th>\n",
       "      <th>SENTIMIENTO_CALCULADO</th>\n",
       "      <th>Categoria_Problema</th>\n",
       "      <th>Hotel</th>\n",
       "      <th>Sentimiento_numerico</th>\n",
       "      <th>Categoria_Problema_numerica</th>\n",
       "    </tr>\n",
       "  </thead>\n",
       "  <tbody>\n",
       "    <tr>\n",
       "      <th>0</th>\n",
       "      <td>bonito hotel, aparcamiento caro, consiguió una...</td>\n",
       "      <td>POSITIVO</td>\n",
       "      <td>Calidad de las instalaciones</td>\n",
       "      <td>Hotel cliente</td>\n",
       "      <td>1</td>\n",
       "      <td>0</td>\n",
       "    </tr>\n",
       "    <tr>\n",
       "      <th>1</th>\n",
       "      <td>ok, nada de cargo especial, miembro diamante h...</td>\n",
       "      <td>NEUTRAL</td>\n",
       "      <td>Calidad de las instalaciones</td>\n",
       "      <td>Hotel cliente</td>\n",
       "      <td>0</td>\n",
       "      <td>0</td>\n",
       "    </tr>\n",
       "    <tr>\n",
       "      <th>2</th>\n",
       "      <td>Bonitas habitaciones, no un hotel de 4* con ex...</td>\n",
       "      <td>NEGATIVO</td>\n",
       "      <td>Precio y costos adicionales</td>\n",
       "      <td>Hotel cliente</td>\n",
       "      <td>-1</td>\n",
       "      <td>2</td>\n",
       "    </tr>\n",
       "    <tr>\n",
       "      <th>3</th>\n",
       "      <td>Único, estancia estupenda, tiempo maravilloso ...</td>\n",
       "      <td>POSITIVO</td>\n",
       "      <td>Servicio al cliente</td>\n",
       "      <td>Hotel cliente</td>\n",
       "      <td>1</td>\n",
       "      <td>3</td>\n",
       "    </tr>\n",
       "    <tr>\n",
       "      <th>4</th>\n",
       "      <td>estancia estupenda estancia estupenda, fue inc...</td>\n",
       "      <td>POSITIVO</td>\n",
       "      <td>Calidad de las instalaciones</td>\n",
       "      <td>Hotel cliente</td>\n",
       "      <td>1</td>\n",
       "      <td>0</td>\n",
       "    </tr>\n",
       "    <tr>\n",
       "      <th>...</th>\n",
       "      <td>...</td>\n",
       "      <td>...</td>\n",
       "      <td>...</td>\n",
       "      <td>...</td>\n",
       "      <td>...</td>\n",
       "      <td>...</td>\n",
       "    </tr>\n",
       "    <tr>\n",
       "      <th>13927</th>\n",
       "      <td>Me alojé en The Talbott por 3 noches por negoc...</td>\n",
       "      <td>POSITIVO</td>\n",
       "      <td>Calidad de las instalaciones</td>\n",
       "      <td>talbott</td>\n",
       "      <td>1</td>\n",
       "      <td>0</td>\n",
       "    </tr>\n",
       "    <tr>\n",
       "      <th>13928</th>\n",
       "      <td>Nos encantó el Talbott. La ubicación era fabul...</td>\n",
       "      <td>POSITIVO</td>\n",
       "      <td>Calidad de las instalaciones</td>\n",
       "      <td>talbott</td>\n",
       "      <td>1</td>\n",
       "      <td>0</td>\n",
       "    </tr>\n",
       "    <tr>\n",
       "      <th>13929</th>\n",
       "      <td>Puedo decir fácilmente que este es uno de los ...</td>\n",
       "      <td>POSITIVO</td>\n",
       "      <td>Calidad de las instalaciones</td>\n",
       "      <td>talbott</td>\n",
       "      <td>1</td>\n",
       "      <td>0</td>\n",
       "    </tr>\n",
       "    <tr>\n",
       "      <th>13930</th>\n",
       "      <td>Este es un gran hallazgo para el centro de Chi...</td>\n",
       "      <td>POSITIVO</td>\n",
       "      <td>Precio y costos adicionales</td>\n",
       "      <td>talbott</td>\n",
       "      <td>1</td>\n",
       "      <td>2</td>\n",
       "    </tr>\n",
       "    <tr>\n",
       "      <th>13931</th>\n",
       "      <td>Chicago es una de nuestras ciudades favoritas ...</td>\n",
       "      <td>NEUTRAL</td>\n",
       "      <td>Servicio al cliente</td>\n",
       "      <td>talbott</td>\n",
       "      <td>0</td>\n",
       "      <td>3</td>\n",
       "    </tr>\n",
       "  </tbody>\n",
       "</table>\n",
       "<p>13932 rows × 6 columns</p>\n",
       "</div>"
      ],
      "text/plain": [
       "                                       Translated_Review   \n",
       "0      bonito hotel, aparcamiento caro, consiguió una...  \\\n",
       "1      ok, nada de cargo especial, miembro diamante h...   \n",
       "2      Bonitas habitaciones, no un hotel de 4* con ex...   \n",
       "3      Único, estancia estupenda, tiempo maravilloso ...   \n",
       "4      estancia estupenda estancia estupenda, fue inc...   \n",
       "...                                                  ...   \n",
       "13927  Me alojé en The Talbott por 3 noches por negoc...   \n",
       "13928  Nos encantó el Talbott. La ubicación era fabul...   \n",
       "13929  Puedo decir fácilmente que este es uno de los ...   \n",
       "13930  Este es un gran hallazgo para el centro de Chi...   \n",
       "13931  Chicago es una de nuestras ciudades favoritas ...   \n",
       "\n",
       "      SENTIMIENTO_CALCULADO            Categoria_Problema          Hotel   \n",
       "0                  POSITIVO  Calidad de las instalaciones  Hotel cliente  \\\n",
       "1                   NEUTRAL  Calidad de las instalaciones  Hotel cliente   \n",
       "2                  NEGATIVO   Precio y costos adicionales  Hotel cliente   \n",
       "3                  POSITIVO           Servicio al cliente  Hotel cliente   \n",
       "4                  POSITIVO  Calidad de las instalaciones  Hotel cliente   \n",
       "...                     ...                           ...            ...   \n",
       "13927              POSITIVO  Calidad de las instalaciones        talbott   \n",
       "13928              POSITIVO  Calidad de las instalaciones        talbott   \n",
       "13929              POSITIVO  Calidad de las instalaciones        talbott   \n",
       "13930              POSITIVO   Precio y costos adicionales        talbott   \n",
       "13931               NEUTRAL           Servicio al cliente        talbott   \n",
       "\n",
       "       Sentimiento_numerico  Categoria_Problema_numerica  \n",
       "0                         1                            0  \n",
       "1                         0                            0  \n",
       "2                        -1                            2  \n",
       "3                         1                            3  \n",
       "4                         1                            0  \n",
       "...                     ...                          ...  \n",
       "13927                     1                            0  \n",
       "13928                     1                            0  \n",
       "13929                     1                            0  \n",
       "13930                     1                            2  \n",
       "13931                     0                            3  \n",
       "\n",
       "[13932 rows x 6 columns]"
      ]
     },
     "execution_count": 129,
     "metadata": {},
     "output_type": "execute_result"
    }
   ],
   "source": [
    "df_concatenado"
   ]
  },
  {
   "cell_type": "code",
   "execution_count": 142,
   "id": "254c1edf",
   "metadata": {},
   "outputs": [],
   "source": [
    "# Seleccionar características\n",
    "X = df_concatenado[['Translated_Review', 'SENTIMIENTO_CALCULADO', 'Sentimiento_numerico', 'Categoria_Problema_numerica']]\n",
    "\n",
    "# Definir la variable objetivo\n",
    "y = df_concatenado['Categoria_Problema_numerica']  \n"
   ]
  },
  {
   "cell_type": "code",
   "execution_count": 147,
   "id": "c345bfc8",
   "metadata": {},
   "outputs": [
    {
     "name": "stderr",
     "output_type": "stream",
     "text": [
      "e:\\Desarrollos\\lib\\site-packages\\sklearn\\linear_model\\_logistic.py:460: ConvergenceWarning:\n",
      "\n",
      "lbfgs failed to converge (status=1):\n",
      "STOP: TOTAL NO. of ITERATIONS REACHED LIMIT.\n",
      "\n",
      "Increase the number of iterations (max_iter) or scale the data as shown in:\n",
      "    https://scikit-learn.org/stable/modules/preprocessing.html\n",
      "Please also refer to the documentation for alternative solver options:\n",
      "    https://scikit-learn.org/stable/modules/linear_model.html#logistic-regression\n",
      "\n"
     ]
    },
    {
     "name": "stdout",
     "output_type": "stream",
     "text": [
      "Exactitud del modelo: 0.7527807678507356\n"
     ]
    }
   ],
   "source": [
    "from sklearn.model_selection import train_test_split\n",
    "from sklearn.feature_extraction.text import TfidfVectorizer\n",
    "from sklearn.linear_model import LogisticRegression\n",
    "from sklearn.pipeline import Pipeline\n",
    "\n",
    "# Ejemplo de datos de entrada (asegúrate de usar tus propios datos aquí)\n",
    "X_train = df_concatenado['Translated_Review']  # Aquí debes usar la columna que contiene los comentarios\n",
    "y_train = df_concatenado['Categoria_Problema']\n",
    "\n",
    "# Dividir datos en entrenamiento y prueba\n",
    "X_train, X_test, y_train, y_test = train_test_split(X_train, y_train, test_size=0.2, random_state=42)\n",
    "\n",
    "# Definir un pipeline para procesamiento de texto y clasificación\n",
    "pipeline = Pipeline([\n",
    "    ('tfidf', TfidfVectorizer()),  # Vectorización de texto\n",
    "    ('clf', LogisticRegression()),  # Clasificador (puedes usar otro modelo aquí)\n",
    "])\n",
    "\n",
    "# Ajustar el pipeline al conjunto de entrenamiento\n",
    "pipeline.fit(X_train, y_train)\n",
    "\n",
    "# Evaluar el pipeline en el conjunto de prueba\n",
    "accuracy = pipeline.score(X_test, y_test)\n",
    "print(f'Exactitud del modelo: {accuracy}')\n"
   ]
  },
  {
   "cell_type": "code",
   "execution_count": 150,
   "id": "d0d5276c",
   "metadata": {
    "scrolled": false
   },
   "outputs": [
    {
     "name": "stdout",
     "output_type": "stream",
     "text": [
      "Exactitud: 0.7527807678507356\n",
      "                              precision    recall  f1-score   support\n",
      "\n",
      "Calidad de las instalaciones       0.73      0.87      0.80      1237\n",
      "         Experiencia general       0.00      0.00      0.00        77\n",
      " Precio y costos adicionales       0.87      0.50      0.63       504\n",
      "         Servicio al cliente       0.75      0.80      0.77       969\n",
      "\n",
      "                    accuracy                           0.75      2787\n",
      "                   macro avg       0.59      0.54      0.55      2787\n",
      "                weighted avg       0.74      0.75      0.74      2787\n",
      "\n"
     ]
    },
    {
     "name": "stderr",
     "output_type": "stream",
     "text": [
      "e:\\Desarrollos\\lib\\site-packages\\sklearn\\metrics\\_classification.py:1471: UndefinedMetricWarning:\n",
      "\n",
      "Precision and F-score are ill-defined and being set to 0.0 in labels with no predicted samples. Use `zero_division` parameter to control this behavior.\n",
      "\n",
      "e:\\Desarrollos\\lib\\site-packages\\sklearn\\metrics\\_classification.py:1471: UndefinedMetricWarning:\n",
      "\n",
      "Precision and F-score are ill-defined and being set to 0.0 in labels with no predicted samples. Use `zero_division` parameter to control this behavior.\n",
      "\n",
      "e:\\Desarrollos\\lib\\site-packages\\sklearn\\metrics\\_classification.py:1471: UndefinedMetricWarning:\n",
      "\n",
      "Precision and F-score are ill-defined and being set to 0.0 in labels with no predicted samples. Use `zero_division` parameter to control this behavior.\n",
      "\n"
     ]
    }
   ],
   "source": [
    "# Predicción\n",
    "y_pred = pipeline.predict(X_test)\n",
    "\n",
    "# Evaluación del modelo\n",
    "from sklearn.metrics import classification_report, accuracy_score\n",
    "\n",
    "print('Exactitud:', accuracy_score(y_test, y_pred))\n",
    "print(classification_report(y_test, y_pred))\n"
   ]
  },
  {
   "cell_type": "markdown",
   "id": "1c09db1b",
   "metadata": {},
   "source": [
    "Exactitud\n",
    "\n",
    "La exactitud del modelo es del 75.28%, lo que indica que en general, el 75.28% de las predicciones hechas por el modelo son correctas en el conjunto de datos de prueba.\n",
    "Informe de clasificación\n",
    "\n",
    "El informe de clasificación proporciona precision, recall (también conocido como sensibilidad) y f1-score para cada clase del problema:\n",
    "\n",
    "    Calidad de las instalaciones:\n",
    "        Precision: 0.73\n",
    "        Recall: 0.87\n",
    "        F1-score: 0.80\n",
    "        Support: 1237\n",
    "\n",
    "    Esto indica que el modelo predijo correctamente el 73% de las instancias etiquetadas como \"Calidad de las instalaciones\". Además, el recall es alto (87%), lo que sugiere que el modelo identifica la mayoría de las instancias relevantes para esta clase.\n",
    "\n",
    "    Experiencia general:\n",
    "        Precision: 0.00\n",
    "        Recall: 0.00\n",
    "        F1-score: 0.00\n",
    "        Support: 77\n",
    "\n",
    "    Para la clase \"Experiencia general\", el modelo no predijo correctamente ninguna instancia. Esto podría indicar un desequilibrio de clases o dificultades específicas con esta categoría.\n",
    "\n",
    "    Precio y costos adicionales:\n",
    "        Precision: 0.87\n",
    "        Recall: 0.50\n",
    "        F1-score: 0.63\n",
    "        Support: 504\n",
    "\n",
    "    El modelo tiene una alta precision (87%) para predecir la categoría \"Precio y costos adicionales\", pero el recall es menor (50%), lo que sugiere que no identifica todas las instancias relevantes para esta clase.\n",
    "\n",
    "    Servicio al cliente:\n",
    "        Precision: 0.75\n",
    "        Recall: 0.80\n",
    "        F1-score: 0.77\n",
    "        Support: 969\n",
    "\n",
    "    Para la clase \"Servicio al cliente\", el modelo tiene un buen balance entre precision (75%) y recall (80%), lo que indica que predice correctamente la mayoría de las instancias positivas y no predice demasiados falsos positivos.\n",
    "\n",
    "Análisis\n",
    "\n",
    "    General: La precisión y el recall varían significativamente entre las diferentes categorías, lo que sugiere que el modelo puede tener un desempeño desigual dependiendo de la clase.\n",
    "    Experiencia general: La falta de predicciones correctas para esta clase específica indica que podría ser beneficioso explorar por qué el modelo tiene dificultades con esta categoría en particular.\n",
    "    Precio y costos adicionales: Aunque la precisión es alta, el recall es bajo, lo que sugiere que el modelo podría beneficiarse de ajustes para capturar más instancias de esta categoría."
   ]
  },
  {
   "cell_type": "markdown",
   "id": "815cfa37",
   "metadata": {},
   "source": [
    "Aumento de datos: Si hay clases con pocos datos (como \"Experiencia general\"), recopilar más datos o utilizar técnicas de aumento de datos podría ayudar.\n",
    "Ajuste de hiperparámetros: Experimentar con diferentes configuraciones de hiperparámetros para el vectorizador TF-IDF y el clasificador (por ejemplo, regularización en la regresión logística) podría mejorar el rendimiento.\n",
    "Exploración de características: Revisar las características más importantes o la importancia de las palabras/claves podría proporcionar información sobre cómo el modelo toma decisiones."
   ]
  },
  {
   "cell_type": "code",
   "execution_count": null,
   "id": "fd4dd567",
   "metadata": {},
   "outputs": [],
   "source": []
  },
  {
   "cell_type": "code",
   "execution_count": null,
   "id": "e6a1462b",
   "metadata": {},
   "outputs": [],
   "source": [
    "# Supongamos que tienes un nuevo conjunto de datos de comentarios a predecir en df_nuevos_comentarios\n",
    "X_nuevos = df_nuevos_comentarios['Translated_Review']\n",
    "\n",
    "# Aplica el mismo preprocesamiento que hiciste en X_train\n",
    "X_nuevos_procesados = pipeline.named_steps['tfidf'].transform(X_nuevos)\n"
   ]
  },
  {
   "cell_type": "code",
   "execution_count": null,
   "id": "54a622c8",
   "metadata": {},
   "outputs": [],
   "source": [
    "# Predicciones\n",
    "y_pred_nuevos = pipeline.predict(X_nuevos_procesados)\n",
    "\n",
    "# Añadir las predicciones al DataFrame original\n",
    "df_nuevos_comentarios['Categoria_Predicha'] = y_pred_nuevos\n"
   ]
  },
  {
   "cell_type": "markdown",
   "id": "cfe4516a",
   "metadata": {},
   "source": [
    "Exactitud general del modelo: El modelo logra una exactitud global del 75.28%, lo cual indica que es capaz de predecir correctamente las categorías de satisfacción o problemas en aproximadamente tres cuartas partes de los casos."
   ]
  },
  {
   "cell_type": "markdown",
   "id": "df5f7453",
   "metadata": {},
   "source": [
    "Precisión por categoría:\n",
    "\n",
    "    La categoría Calidad de las instalaciones tiene una precisión del 73%, lo cual sugiere que el modelo es relativamente bueno identificando comentarios relacionados con la calidad de las instalaciones.\n",
    "    La categoría Servicio al cliente presenta una precisión del 75%, indicando que también es acertado en clasificar comentarios que mencionan aspectos del servicio al cliente.\n",
    "    La categoría Precio y costos adicionales tiene una precisión del 87%, lo que sugiere una buena capacidad del modelo para identificar comentarios sobre aspectos económicos y de costos adicionales.\n",
    "    Sin embargo, la categoría Experiencia general muestra un rendimiento pobre con un f1-score de 0.00, lo cual indica que el modelo no está prediciendo bien esta categoría específica. Esto puede deberse a un desbalance en los datos o a una complejidad en la variabilidad de los comentarios que no está siendo captada adecuadamente por el modelo.\n",
    "\n",
    "Macro avg y weighted avg: El macro avg y weighted avg para precision, recall y f1-score muestran que el modelo tiene un rendimiento moderado en promedio, con ciertas categorías destacando más que otras.\n",
    "\n",
    "Conclusión general: El modelo demuestra ser útil para predecir categorías específicas de satisfacción o problemas en comentarios de clientes de hoteles, especialmente en lo que respecta a la calidad de las instalaciones, servicio al cliente y precios/costos adicionales. Sin embargo, existe margen para mejorar la capacidad del modelo para clasificar correctamente la experiencia general, lo cual es crucial para obtener una visión completa de la satisfacción del cliente.\n",
    "\n",
    "Recomendaciones: Es recomendable realizar análisis adicionales para entender mejor las limitaciones del modelo en la categoría de experiencia general y considerar ajustes en el preprocesamiento de texto, la selección del modelo o la inclusión de más datos para mejorar la precisión general del modelo."
   ]
  },
  {
   "cell_type": "code",
   "execution_count": null,
   "id": "11223b51",
   "metadata": {},
   "outputs": [],
   "source": []
  },
  {
   "cell_type": "code",
   "execution_count": null,
   "id": "082b2909",
   "metadata": {},
   "outputs": [],
   "source": []
  },
  {
   "cell_type": "code",
   "execution_count": null,
   "id": "79bd5c56",
   "metadata": {},
   "outputs": [],
   "source": []
  },
  {
   "cell_type": "code",
   "execution_count": null,
   "id": "18f90a98",
   "metadata": {},
   "outputs": [],
   "source": []
  },
  {
   "cell_type": "code",
   "execution_count": null,
   "id": "f0fc5bc3",
   "metadata": {},
   "outputs": [],
   "source": []
  },
  {
   "cell_type": "code",
   "execution_count": null,
   "id": "ac491f6a",
   "metadata": {},
   "outputs": [],
   "source": []
  },
  {
   "cell_type": "code",
   "execution_count": null,
   "id": "3c1c6bbd",
   "metadata": {},
   "outputs": [],
   "source": []
  }
 ],
 "metadata": {
  "kernelspec": {
   "display_name": "Python 3 (ipykernel)",
   "language": "python",
   "name": "python3"
  },
  "language_info": {
   "codemirror_mode": {
    "name": "ipython",
    "version": 3
   },
   "file_extension": ".py",
   "mimetype": "text/x-python",
   "name": "python",
   "nbconvert_exporter": "python",
   "pygments_lexer": "ipython3",
   "version": "3.10.10"
  }
 },
 "nbformat": 4,
 "nbformat_minor": 5
}
